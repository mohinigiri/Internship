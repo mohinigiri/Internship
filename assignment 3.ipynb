{
 "cells": [
  {
   "cell_type": "markdown",
   "id": "79d7bf0d",
   "metadata": {},
   "source": [
    "# Answer --1 and 2\n"
   ]
  },
  {
   "cell_type": "code",
   "execution_count": 13,
   "id": "62c0eea3",
   "metadata": {},
   "outputs": [],
   "source": [
    "import selenium \n",
    "import pandas as pd\n",
    "from selenium import webdriver\n",
    "import warnings\n",
    "warnings.filterwarnings('ignore')\n",
    "from selenium.webdriver.common.by import By\n",
    "import time\n",
    "from selenium.common.exceptions import StaleElementReferenceException, NoSuchElementException"
   ]
  },
  {
   "cell_type": "code",
   "execution_count": 136,
   "id": "099a2fd1",
   "metadata": {},
   "outputs": [],
   "source": [
    "driver = webdriver.Chrome(r\"chromedriver.exe\")"
   ]
  },
  {
   "cell_type": "code",
   "execution_count": 137,
   "id": "17f49bf2",
   "metadata": {},
   "outputs": [],
   "source": [
    "driver.get(\"https://www.amazon.in/\")"
   ]
  },
  {
   "cell_type": "code",
   "execution_count": 139,
   "id": "666dbead",
   "metadata": {},
   "outputs": [
    {
     "name": "stdout",
     "output_type": "stream",
     "text": [
      "Please search your product: guitar\n"
     ]
    }
   ],
   "source": [
    "search_button = driver.find_element(By.XPATH, \"/html/body/div[1]/header/div/div[1]/div[2]/div/form/div[2]/div[1]/input\")\n",
    "user_input = input(\"Please search your product: \")\n",
    "p_search = user_input+'s' #use concatination to complete the search word \n",
    "search_button.send_keys(p_search)\n",
    "time.sleep(2)\n",
    "\n",
    "submit_button = driver.find_element(By.XPATH, \"/html/body/div[1]/header/div/div[1]/div[2]/div/form/div[3]/div/span/input\")\n",
    "submit_button.click()\n",
    "time.sleep(2)"
   ]
  },
  {
   "cell_type": "code",
   "execution_count": 51,
   "id": "c3d70dd4",
   "metadata": {},
   "outputs": [],
   "source": [
    "search = driver.find_element(By.XPATH,\"/html/body/div[1]/header/div/div[1]/div[2]/div/form/div[3]/div/span/input\")\n",
    "search.click()\n"
   ]
  },
  {
   "cell_type": "code",
   "execution_count": 39,
   "id": "d6ca5438",
   "metadata": {},
   "outputs": [],
   "source": [
    "mi_ = []\n",
    "title_tags = driver.find_elements(By.XPATH,\"//div[@class='sg-col sg-col-4-of-12 sg-col-8-of-16 sg-col-12-of-20 sg-col-12-of-24 s-list-col-right']\")\n",
    "for i in title_tags[0:10]:\n",
    "    title = i.text\n",
    "    mi_.append(title)"
   ]
  },
  {
   "cell_type": "code",
   "execution_count": 40,
   "id": "d4ce30b4",
   "metadata": {},
   "outputs": [
    {
     "data": {
      "text/plain": [
       "['(Renewed) Mi Redmi 8 Phone (Sapphire Blue, 4GB RAM, 64GB Storage)\\n144\\n₹6,659\\n₹13,999 (52% off)\\n10% Off on SBI Credit Cards\\nFREE Delivery by Amazon',\n",
       " '(Renewed) Redmi 6A (Blue, 2GB RAM, 32GB Storage)\\n23\\n₹5,999\\n₹7,499 (20% off)\\nSave ₹200 with coupon\\nGet it by Wednesday, 19 April\\nFREE Delivery by Amazon\\nMore Buying Choices\\n₹5,299(2 new offers)',\n",
       " 'MI Poco M2 (Pitch Black, 6GB RAM, 128GB Storage)\\n86\\n₹11,399\\n₹16,999 (33% off)\\n10% Off on SBI Credit Cards\\nGet it by Wednesday, 19 April\\nFREE Delivery by Amazon',\n",
       " '(Renewed) Xiaomi Redmi 4 (Black, 32GB)\\n153\\n₹3,999\\n₹8,999 (55% off)\\nFREE Delivery by Amazon',\n",
       " '(Renewed) MI Poco M2 Pro (Out of The Blue, 6GB RAM, 128GB Storage)\\n490\\n₹11,999\\n₹13,799 (13% off)\\n10% Off on SBI Credit Cards\\nGet it by Friday, 21 April\\nFREE Delivery by Amazon\\nOnly 1 left in stock.',\n",
       " '(Renewed) Redmi 6A (Black, 2GB RAM, 32GB Storage)\\n61\\n₹5,285\\n₹8,999 (41% off)\\n10% Off on SBI Credit Cards\\nGet it by Wednesday, 19 April\\nFREE Delivery by Amazon',\n",
       " '(Renewed) Mi Redmi 6 (Black, 3GB RAM, 64GB Storage)\\n203\\n₹7,999\\n₹10,499 (23% off)\\n10% Off on SBI Credit Cards\\nGet it by Wednesday, 19 April\\nFREE Delivery by Amazon\\nOnly 1 left in stock.',\n",
       " '(Renewed) Redmi Note 7S (Ruby Red, 32GB, 3GB RAM)\\n369\\n₹6,499\\n₹14,999 (56% off)\\n10% Off on SBI Credit Cards\\nGet it by Saturday, 22 April\\nFREE Delivery by Amazon\\nOnly 1 left in stock.',\n",
       " '(Renewed) REDMI 9i Sport (Coral Green, 64 GB) (4 GB RAM)\\n5',\n",
       " '(Renewed) MI Poco M2 Pro (Two Shades of Black, 4GB RAM, 64GB Internal Storage)\\n490\\n₹9,999\\n₹10,990 (9% off)\\n10% Off on SBI Credit Cards\\nGet it by Friday, 21 April\\nFREE Delivery by Amazon\\nOnly 1 left in stock.']"
      ]
     },
     "execution_count": 40,
     "metadata": {},
     "output_type": "execute_result"
    }
   ],
   "source": [
    "mi_"
   ]
  },
  {
   "cell_type": "code",
   "execution_count": null,
   "id": "2a26016e",
   "metadata": {},
   "outputs": [],
   "source": []
  },
  {
   "cell_type": "markdown",
   "id": "913de4d5",
   "metadata": {},
   "source": [
    "# Answer 2"
   ]
  },
  {
   "cell_type": "code",
   "execution_count": null,
   "id": "e79c908d",
   "metadata": {},
   "outputs": [],
   "source": [
    "driver = webdriver.Chrome(r\"chromedriver.exe\")\n",
    "driver.get(\"https://www.amazon.in/\")\n",
    "catagory = driver.find_element(By.XPATH,\"/html/body/div[1]/header/div/div[1]/div[2]/div/form/div[2]/div[1]/input\")\n",
    "catagory.send_keys(\"mi note 5\")\n",
    "search = driver.find_element(By.XPATH,\"/html/body/div[1]/header/div/div[1]/div[2]/div/form/div[3]/div/span/input\")\n",
    "search.click()"
   ]
  },
  {
   "cell_type": "code",
   "execution_count": null,
   "id": "1b42f29e",
   "metadata": {},
   "outputs": [],
   "source": []
  },
  {
   "cell_type": "code",
   "execution_count": 52,
   "id": "ebd57854",
   "metadata": {},
   "outputs": [],
   "source": [
    "url = []\n",
    "start=0\n",
    "end= 3\n",
    "for page in range(start,end):\n",
    "    titles=driver.find_elements(By.XPATH,\"//a[@class='a-link-normal s-no-outline']\")\n",
    "    for i in titles:\n",
    "        url.append(i.get_attribute('href'))\n",
    "    next_button = driver.find_element(By.XPATH,'//a[@class=\"s-pagination-item s-pagination-next s-pagination-button s-pagination-separator\"]')\n",
    "    next_button.click()\n",
    "    time.sleep(3)"
   ]
  },
  {
   "cell_type": "code",
   "execution_count": 53,
   "id": "3bb46cc6",
   "metadata": {},
   "outputs": [
    {
     "data": {
      "text/plain": [
       "['https://www.amazon.in/Renewed-Redmi-Note-Gold-Storage/dp/B07RPZHJHQ/ref=sr_1_1?keywords=mi+note+5&qid=1681637116&sr=8-1',\n",
       " 'https://www.amazon.in/Certified-REFURBISHED-Mi-Redmi-Blue/dp/B07D7L177S/ref=sr_1_2?keywords=mi+note+5&qid=1681637116&sr=8-2',\n",
       " 'https://www.amazon.in/Renewed-Mi-Redmi-Note-Storage/dp/B07N2RQX7N/ref=sr_1_3?keywords=mi+note+5&qid=1681637116&sr=8-3',\n",
       " 'https://www.amazon.in/Certified-REFURBISHED-Redmi-Note-Pro/dp/B07H8JF9CX/ref=sr_1_4?keywords=mi+note+5&qid=1681637116&sr=8-4',\n",
       " 'https://www.amazon.in/Certified-REFURBISHED-Redmi-Note-Pro/dp/B07H8HDK65/ref=sr_1_5?keywords=mi+note+5&qid=1681637116&sr=8-5',\n",
       " 'https://www.amazon.in/Certified-REFURBISHED-Redmi-Note-Pro/dp/B07H8HZTT3/ref=sr_1_6?keywords=mi+note+5&qid=1681637116&sr=8-6',\n",
       " 'https://www.amazon.in/Test-Exclusive_2020_1120-Multi-3GB-Storage/dp/B089MT2TP1/ref=sr_1_7?keywords=mi+note+5&qid=1681637116&sr=8-7',\n",
       " 'https://www.amazon.in/Certified-REFURBISHED-Mi-Redmi-Gold/dp/B07D7HJDDY/ref=sr_1_8?keywords=mi+note+5&qid=1681637116&sr=8-8',\n",
       " 'https://www.amazon.in/Mi11XPro-Cosmic-Black-128GB-Storage/dp/B085J168WR/ref=sr_1_9?keywords=mi+note+5&qid=1681637116&sr=8-9',\n",
       " 'https://www.amazon.in/Test-Exclusive_2020_1131-Multi-3GB-Storage/dp/B089MTFHZQ/ref=sr_1_10?keywords=mi+note+5&qid=1681637116&sr=8-10',\n",
       " 'https://www.amazon.in/sspa/click?ie=UTF8&spc=MTo2OTMxNjgzMzU3NTg5MTExOjE2ODE2MzcxMTY6c3BfbXRmOjIwMTQxMDA0Nzc5Mzk4OjowOjo&url=%2FItel-6000mAh-Battery-Charging-Memory%2Fdp%2FB0BXLPTD1Z%2Fref%3Dsr_1_11_sspa%3Fkeywords%3Dmi%2Bnote%2B5%26qid%3D1681637116%26sr%3D8-11-spons%26sp_csd%3Dd2lkZ2V0TmFtZT1zcF9tdGY%26psc%3D1',\n",
       " 'https://www.amazon.in/Renewed-Mi-Twilight-128GB-Storage/dp/B08C9K664R/ref=sr_1_12?keywords=mi+note+5&qid=1681637116&sr=8-12',\n",
       " 'https://www.amazon.in/Renewed-Redmi-MCI3B-Grey-Storage/dp/B07JP4LFTW/ref=sr_1_13?keywords=mi+note+5&qid=1681637116&sr=8-13',\n",
       " 'https://www.amazon.in/Redmi-9i-Sport-Metallic-Blue/dp/B09HSMB4DL/ref=sr_1_14?keywords=mi+note+5&qid=1681637116&sr=8-14',\n",
       " 'https://www.amazon.in/Renewed-Cosmic-Black-128GB-Storage/dp/B08R1KGLYM/ref=sr_1_15?keywords=mi+note+5&qid=1681637116&sr=8-15',\n",
       " 'https://www.amazon.in/Renewed-Redmi-Rose-Gold-Storage/dp/B07KMXVQH7/ref=sr_1_16?keywords=mi+note+5&qid=1681637116&sr=8-16',\n",
       " 'https://www.amazon.in/Renewed-Redmi-MZB6386IN-Gold-Storage/dp/B07JP4GLG6/ref=sr_1_17?keywords=mi+note+5&qid=1681637116&sr=8-17',\n",
       " 'https://www.amazon.in/sspa/click?ie=UTF8&spc=MTo3NTM1NjM3Mjg1NjE4MjYwOjE2ODE2MzcxMjI6c3BfYXRmX25leHQ6MjAxNDEwMDQ3Nzk1OTg6OjA6Og&url=%2FItel-6000mAh-Battery-Charging-Memory%2Fdp%2FB0BXLPY5WW%2Fref%3Dsr_1_17_sspa%3Fkeywords%3Dmi%2Bnote%2B5%26qid%3D1681637122%26sr%3D8-17-spons%26sp_csd%3Dd2lkZ2V0TmFtZT1zcF9hdGZfbmV4dA%26psc%3D1',\n",
       " 'https://www.amazon.in/Renewed-MI-Pitch-Black-Storage/dp/B08N18LP23/ref=sr_1_18?keywords=mi+note+5&qid=1681637122&sr=8-18',\n",
       " 'https://www.amazon.in/Renewed-Mi-Coral-Green-Storage/dp/B08C9PFYXH/ref=sr_1_19?keywords=mi+note+5&qid=1681637122&sr=8-19',\n",
       " 'https://www.amazon.in/Certified-REFURBISHED-Mi-Note-Silver/dp/B0744QJMLB/ref=sr_1_20?keywords=mi+note+5&qid=1681637122&sr=8-20',\n",
       " 'https://www.amazon.in/Test-Exclusive_2020_1123-Multi-3GB-Storage/dp/B089MS8NVX/ref=sr_1_21?keywords=mi+note+5&qid=1681637122&sr=8-21',\n",
       " 'https://www.amazon.in/Renewed-Atlantic-Blue-128GB-Storage/dp/B08WK7P16W/ref=sr_1_17?keywords=mi+note+5&qid=1681637122&sr=8-17',\n",
       " 'https://www.amazon.in/CERTIFIED-REFURBISHED-Mi-Blue-64GB/dp/B07J56KFH9/ref=sr_1_18?keywords=mi+note+5&qid=1681637122&sr=8-18',\n",
       " 'https://www.amazon.in/Renewed-Redmi-Note-Gold-64GB/dp/B07NY2CJHM/ref=sr_1_19?keywords=mi+note+5&qid=1681637122&sr=8-19',\n",
       " 'https://www.amazon.in/Renewed-Redmi-Note-Sapphire-Blue/dp/B07V9D1FR8/ref=sr_1_20?keywords=mi+note+5&qid=1681637122&sr=8-20',\n",
       " 'https://www.amazon.in/Renewed-MI-Green-Greener-Storage/dp/B08R1Y2ZN4/ref=sr_1_21?keywords=mi+note+5&qid=1681637122&sr=8-21',\n",
       " 'https://www.amazon.in/Test-Exclusive_2020_1119-Multi-3GB-Storage/dp/B089MTQZVC/ref=sr_1_22?keywords=mi+note+5&qid=1681637122&sr=8-22',\n",
       " 'https://www.amazon.in/Renewed-Redmi-Note-Pro-Black/dp/B07N6DWTKJ/ref=sr_1_23?keywords=mi+note+5&qid=1681637122&sr=8-23',\n",
       " 'https://www.amazon.in/Mi11XPro-Lunar-White-128GB-Storage/dp/B085J1KCGP/ref=sr_1_24?keywords=mi+note+5&qid=1681637122&sr=8-24',\n",
       " 'https://www.amazon.in/Test-A6010-Dummy-Asin_42/dp/B07X4R4F4G/ref=sr_1_25?keywords=mi+note+5&qid=1681637122&sr=8-25',\n",
       " 'https://www.amazon.in/Certified-REFURBISHED-Xiaomi-Redmi-Note/dp/B078HSBNQ7/ref=sr_1_26?keywords=mi+note+5&qid=1681637122&sr=8-26',\n",
       " 'https://www.amazon.in/Renewed-Xiaomi-Redmi-Rose-Gold/dp/B07KS6PSC9/ref=sr_1_27?keywords=mi+note+5&qid=1681637122&sr=8-27',\n",
       " 'https://www.amazon.in/Renewed-Xiaomi-Redmi-Blue-16GB/dp/B07JDS61RN/ref=sr_1_28?keywords=mi+note+5&qid=1681637122&sr=8-28',\n",
       " 'https://www.amazon.in/sspa/click?ie=UTF8&spc=MTo0NzkyOTA4NTYwNTc5NzkzOjE2ODE2MzcxMjY6c3BfYXRmX25leHQ6MjAxNDEwMDQ3Nzk0OTg6OjA6Og&url=%2FItel-6000mAh-Battery-Charging-Memory%2Fdp%2FB0BXLS3L5V%2Fref%3Dsr_1_33_sspa%3Fkeywords%3Dmi%2Bnote%2B5%26qid%3D1681637126%26sr%3D8-33-spons%26sp_csd%3Dd2lkZ2V0TmFtZT1zcF9hdGZfbmV4dA%26psc%3D1',\n",
       " 'https://www.amazon.in/MI-Poco-Blue-64GB-Storage/dp/B08H2CW725/ref=sr_1_34?keywords=mi+note+5&qid=1681637126&sr=8-34',\n",
       " 'https://www.amazon.in/Renewed-Xiome-6-18inch-Display-Rosso/dp/B07N8XQLCF/ref=sr_1_35?keywords=mi+note+5&qid=1681637126&sr=8-35',\n",
       " 'https://www.amazon.in/Certified-REFURBISHED-Xiaomi-Redmi-Gold/dp/B078HR3SSQ/ref=sr_1_36?keywords=mi+note+5&qid=1681637126&sr=8-36',\n",
       " 'https://www.amazon.in/Certified-REFURBISHED-Redmi-MCI3B-Storage/dp/B07JP8JNDB/ref=sr_1_37?keywords=mi+note+5&qid=1681637126&sr=8-37',\n",
       " 'https://www.amazon.in/Certified-REFURBISHED-Mi-3S-Prime/dp/B0744RHZHP/ref=sr_1_38?keywords=mi+note+5&qid=1681637126&sr=8-38',\n",
       " 'https://www.amazon.in/Certified-REFURBISHED-Xiaomi-Redmi-Note/dp/B078HPN9WN/ref=sr_1_39?keywords=mi+note+5&qid=1681637126&sr=8-39',\n",
       " 'https://www.amazon.in/Renewed-Poco-Shadow-128GB-Storage/dp/B08PSJ4M58/ref=sr_1_40?keywords=mi+note+5&qid=1681637126&sr=8-40',\n",
       " 'https://www.amazon.in/11X-Cosmic-Black-128GB-Storage/dp/B085J1QWFV/ref=sr_1_41?keywords=mi+note+5&qid=1681637126&sr=8-41',\n",
       " 'https://www.amazon.in/Renewed-Redmi-Blue-16GB-Storage/dp/B07JJ844WN/ref=sr_1_42?keywords=mi+note+5&qid=1681637126&sr=8-42',\n",
       " 'https://www.amazon.in/Renewed-Redmi-9i-Sport-Metallic/dp/B09RWL69T6/ref=sr_1_43?keywords=mi+note+5&qid=1681637126&sr=8-43',\n",
       " 'https://www.amazon.in/Poco-Shadow-Gray-8GB-Storage/dp/B08K37GR59/ref=sr_1_44?keywords=mi+note+5&qid=1681637126&sr=8-44',\n",
       " 'https://www.amazon.in/Renewed-MI-Pitch-Black-Storage/dp/B08PZBVF2V/ref=sr_1_45?keywords=mi+note+5&qid=1681637126&sr=8-45',\n",
       " 'https://www.amazon.in/MI-Poco-Slate-Blue-Storage/dp/B08JCCFR6M/ref=sr_1_46?keywords=mi+note+5&qid=1681637126&sr=8-46',\n",
       " 'https://www.amazon.in/Mi-Mix-6Gb-128Gb-Black/dp/B0795MQGR2/ref=sr_1_47?keywords=mi+note+5&qid=1681637126&sr=8-47',\n",
       " 'https://www.amazon.in/Certified-REFURBISHED-Xiaomi-Redmi-Gold/dp/B078HT86TM/ref=sr_1_48?keywords=mi+note+5&qid=1681637126&sr=8-48',\n",
       " 'https://www.amazon.in/Renewed-Poco-Cobalt-128GB-Storage/dp/B08PSBXSKB/ref=sr_1_49?keywords=mi+note+5&qid=1681637126&sr=8-49']"
      ]
     },
     "execution_count": 53,
     "metadata": {},
     "output_type": "execute_result"
    }
   ],
   "source": [
    "url"
   ]
  },
  {
   "cell_type": "code",
   "execution_count": 54,
   "id": "a1ebd4eb",
   "metadata": {},
   "outputs": [],
   "source": [
    "Brand = []"
   ]
  },
  {
   "cell_type": "code",
   "execution_count": 58,
   "id": "dd45a5c4",
   "metadata": {},
   "outputs": [],
   "source": [
    "for purl in url[:10]:\n",
    "    driver.get(purl)\n",
    "    time.sleep(3)\n",
    "    \n",
    "    try:\n",
    "        brand = driver.find_element(By.XPATH,'/html/body/div[2]/div[2]/div[5]/div[3]/div[4]/div[43]/div/table/tbody/tr[1]')\n",
    "        Brand.append(brand.text)\n",
    "    except NoSuchElementException:\n",
    "        Brand.append('-')"
   ]
  },
  {
   "cell_type": "code",
   "execution_count": 59,
   "id": "b46c8616",
   "metadata": {},
   "outputs": [
    {
     "data": {
      "text/plain": [
       "['-',\n",
       " '-',\n",
       " '-',\n",
       " '-',\n",
       " '-',\n",
       " '-',\n",
       " '-',\n",
       " '-',\n",
       " '-',\n",
       " '-',\n",
       " 'Brand MI',\n",
       " 'Brand MI',\n",
       " 'Brand MI',\n",
       " 'Brand MI',\n",
       " 'Brand MI',\n",
       " 'Brand MI',\n",
       " 'Brand MI',\n",
       " 'Brand MI',\n",
       " 'Brand MI',\n",
       " 'Brand MI']"
      ]
     },
     "execution_count": 59,
     "metadata": {},
     "output_type": "execute_result"
    }
   ],
   "source": [
    "Brand"
   ]
  },
  {
   "cell_type": "code",
   "execution_count": 28,
   "id": "cf6ae2a8",
   "metadata": {},
   "outputs": [],
   "source": [
    "replcement = []\n",
    "#Return/Exchange"
   ]
  },
  {
   "cell_type": "code",
   "execution_count": 29,
   "id": "ae9b3115",
   "metadata": {},
   "outputs": [],
   "source": [
    "for purl in url[:15]:\n",
    "    driver.get(purl)\n",
    "    time.sleep(3)\n",
    "    \n",
    "    try:\n",
    "        rep = driver.find_element(By.XPATH,'/html/body/div[2]/div[2]/div[5]/div[3]/div[4]/div[21]/div[2]/div/div/div/div[2]/div/ol/li[2]/div/span/div[2]/a')\n",
    "        replcement.append(rep.text)\n",
    "    except NoSuchElementException:\n",
    "        replcement.append('-')"
   ]
  },
  {
   "cell_type": "code",
   "execution_count": 30,
   "id": "1728177f",
   "metadata": {
    "scrolled": false
   },
   "outputs": [
    {
     "data": {
      "text/plain": [
       "['7 days Replacement',\n",
       " '7 days Replacement',\n",
       " '7 days Replacement',\n",
       " '7 days Replacement',\n",
       " '7 days Replacement',\n",
       " '-',\n",
       " '7 days Replacement',\n",
       " '7 days Replacement',\n",
       " '7 days Replacement',\n",
       " '-',\n",
       " '-',\n",
       " '-',\n",
       " '-',\n",
       " '-',\n",
       " '7 days Replacement']"
      ]
     },
     "execution_count": 30,
     "metadata": {},
     "output_type": "execute_result"
    }
   ],
   "source": [
    "replcement"
   ]
  },
  {
   "cell_type": "code",
   "execution_count": 62,
   "id": "2953b69a",
   "metadata": {},
   "outputs": [],
   "source": [
    "price = []"
   ]
  },
  {
   "cell_type": "code",
   "execution_count": 65,
   "id": "cdfb11df",
   "metadata": {},
   "outputs": [],
   "source": [
    "for purl in url[:15]:\n",
    "    driver.get(purl)\n",
    "    time.sleep(3)\n",
    "    \n",
    "    try:\n",
    "        rep = driver.find_element(By.XPATH,'/html/body/div[2]/div[2]/div[5]/div[3]/div[4]/div[10]/div[2]/div/table/tbody/tr[2]/td[2]/span[1]')\n",
    "        price.append(rep.text)\n",
    "    except NoSuchElementException:\n",
    "        price.append('-')"
   ]
  },
  {
   "cell_type": "code",
   "execution_count": 66,
   "id": "a57ff04c",
   "metadata": {},
   "outputs": [
    {
     "data": {
      "text/plain": [
       "['₹7,777',\n",
       " '₹5,999',\n",
       " '₹8,990',\n",
       " '₹7,799',\n",
       " '₹7,349',\n",
       " '₹7,399',\n",
       " '-',\n",
       " '₹5,599',\n",
       " '-',\n",
       " '-',\n",
       " '-',\n",
       " '₹33,249',\n",
       " '₹4,694',\n",
       " '-',\n",
       " '₹20,899']"
      ]
     },
     "execution_count": 66,
     "metadata": {},
     "output_type": "execute_result"
    }
   ],
   "source": [
    "price"
   ]
  },
  {
   "cell_type": "code",
   "execution_count": 67,
   "id": "6dac15e8",
   "metadata": {},
   "outputs": [],
   "source": [
    "name = []"
   ]
  },
  {
   "cell_type": "code",
   "execution_count": 68,
   "id": "cecdfe6f",
   "metadata": {},
   "outputs": [],
   "source": [
    "#Name of the Product\n",
    "for purl in url[:15]:\n",
    "    driver.get(purl)\n",
    "    time.sleep(3)\n",
    "    \n",
    "    try:\n",
    "        rep = driver.find_element(By.XPATH,'/html/body/div[2]/div[2]/div[5]/div[3]/div[4]/div[1]/div/h1')\n",
    "        name.append(rep.text)\n",
    "    except NoSuchElementException:\n",
    "        name.append('-')"
   ]
  },
  {
   "cell_type": "code",
   "execution_count": 69,
   "id": "7759c610",
   "metadata": {},
   "outputs": [
    {
     "data": {
      "text/plain": [
       "['(Renewed) Redmi Note 5 Pro (Gold, 4GB RAM, 64GB Storage)',\n",
       " '(Renewed) Mi Redmi 5 (Blue, 32GB)',\n",
       " '(Renewed) Xiaomi Mi Redmi Note 5 Pro (Gold, 6GB RAM, 64GB Storage)',\n",
       " '(Renewed) Redmi Note 5 Pro (Blue, 64 GB, 4 GB)',\n",
       " '(Renewed) Redmi Note 5 Pro (Black)',\n",
       " '(Renewed) Redmi Note 5 Pro (Black, 64GB)',\n",
       " 'MI 10T Pro 5G (Cosmic Black, 8GB RAM, 128GB Storage) -|Alexa Hands-Free Capable | Additional Exchange/No Cost EMI Offers',\n",
       " '(Renewed) Mi Redmi 5 (Gold, 32GB)',\n",
       " 'MI 11X Pro 5G (Cosmic Black, 8GB RAM, 128GB Storage) | Snapdragon 888 | 108MP Camera | 120Hz E4 AMOLED | 6 Month Free Screen Replacement for Prime',\n",
       " 'Mi 10i 5G (Atlantic Blue, 8GB RAM, 128GB Storage)- 108MP Quad Camera | Snapdragon 750G Processor',\n",
       " 'Itel P40 (6000mAh Battery with Fast Charging | 2GB RAM + 64GB ROM, Up to 4GB RAM with Memory Fusion | 13MP AI Dual Rear Camera) - Dreamy Blue',\n",
       " '(Renewed) Mi 10 (Twilight Grey, 8GB RAM, 128GB Storage) - 108MP Quad Camera, SD 865 Processor, 5G Ready',\n",
       " '(Renewed) Redmi 5A MCI3B (Grey, 2GB RAM, 16GB Storage)',\n",
       " 'MI Redmi 9i Sport (Metallic Blue, 64 GB) (4 GB RAM)',\n",
       " '(Renewed) Mi 10T Pro 5G (Cosmic Black, 8GB RAM, 128GB Storage)']"
      ]
     },
     "execution_count": 69,
     "metadata": {},
     "output_type": "execute_result"
    }
   ],
   "source": [
    "name"
   ]
  },
  {
   "cell_type": "code",
   "execution_count": 77,
   "id": "f1e47be8",
   "metadata": {},
   "outputs": [],
   "source": [
    "exdeliv = [] "
   ]
  },
  {
   "cell_type": "code",
   "execution_count": 78,
   "id": "5639989e",
   "metadata": {},
   "outputs": [],
   "source": [
    "#Expected Delivery\n",
    "for purl in url[:15]:\n",
    "    driver.get(purl)\n",
    "    time.sleep(3)\n",
    "    \n",
    "    try:\n",
    "        rep = driver.find_element(By.XPATH,'/html/body/div[2]/div[2]/div[5]/div[3]/div[1]/div[3]/div/div[1]/div/div/form/div/div/div/div/div[3]/div/div[2]/div[9]/div[1]/div/div/div/span/span[1]')\n",
    "        exdeliv.append(rep.text)\n",
    "    except NoSuchElementException:\n",
    "        exdeliv.append('-')"
   ]
  },
  {
   "cell_type": "code",
   "execution_count": 79,
   "id": "255b838d",
   "metadata": {},
   "outputs": [
    {
     "data": {
      "text/plain": [
       "['Wednesday, 19 April',\n",
       " 'May 2 - 3',\n",
       " 'Thursday, 20 April',\n",
       " 'Thursday, 20 April',\n",
       " '-',\n",
       " 'Thursday, 20 April',\n",
       " '-',\n",
       " '-',\n",
       " '-',\n",
       " '-',\n",
       " '-',\n",
       " 'Friday, 21 April',\n",
       " 'May 2 - 3',\n",
       " '-',\n",
       " 'Saturday, 22 April']"
      ]
     },
     "execution_count": 79,
     "metadata": {},
     "output_type": "execute_result"
    }
   ],
   "source": [
    "exdeliv"
   ]
  },
  {
   "cell_type": "code",
   "execution_count": 80,
   "id": "cbcb9240",
   "metadata": {},
   "outputs": [],
   "source": [
    "Availability = []"
   ]
  },
  {
   "cell_type": "code",
   "execution_count": 81,
   "id": "d2d76e34",
   "metadata": {},
   "outputs": [],
   "source": [
    "for purl in url[:15]:\n",
    "    driver.get(purl)\n",
    "    time.sleep(3)\n",
    "    \n",
    "    try:\n",
    "        rep = driver.find_element(By.XPATH,'/html/body/div[2]/div[2]/div[5]/div[3]/div[1]/div[3]/div/div[1]/div/div/form/div/div/div/div/div[3]/div/div[4]/div/div[1]/span')\n",
    "        Availability.append(rep.text)\n",
    "    except NoSuchElementException:\n",
    "        Availability.append('-')"
   ]
  },
  {
   "cell_type": "code",
   "execution_count": 82,
   "id": "d148b197",
   "metadata": {},
   "outputs": [
    {
     "data": {
      "text/plain": [
       "['In stock.',\n",
       " '-',\n",
       " '-',\n",
       " 'Only 2 left in stock.',\n",
       " 'Only 1 left in stock.',\n",
       " 'Only 1 left in stock.',\n",
       " '-',\n",
       " '',\n",
       " '-',\n",
       " '-',\n",
       " '-',\n",
       " 'In stock.',\n",
       " '',\n",
       " '-',\n",
       " 'Only 2 left in stock.']"
      ]
     },
     "execution_count": 82,
     "metadata": {},
     "output_type": "execute_result"
    }
   ],
   "source": [
    "Availability"
   ]
  },
  {
   "cell_type": "code",
   "execution_count": null,
   "id": "68cbe2b3",
   "metadata": {},
   "outputs": [],
   "source": []
  },
  {
   "cell_type": "code",
   "execution_count": null,
   "id": "9f075ec4",
   "metadata": {},
   "outputs": [],
   "source": []
  },
  {
   "cell_type": "code",
   "execution_count": null,
   "id": "cbe5c17f",
   "metadata": {},
   "outputs": [],
   "source": []
  },
  {
   "cell_type": "code",
   "execution_count": null,
   "id": "64a12370",
   "metadata": {},
   "outputs": [],
   "source": []
  },
  {
   "cell_type": "code",
   "execution_count": null,
   "id": "6970eaa7",
   "metadata": {},
   "outputs": [],
   "source": []
  },
  {
   "cell_type": "markdown",
   "id": "3c362d10",
   "metadata": {},
   "source": [
    "# Answer 3"
   ]
  },
  {
   "cell_type": "code",
   "execution_count": 118,
   "id": "713cf247",
   "metadata": {},
   "outputs": [],
   "source": [
    "import urllib "
   ]
  },
  {
   "cell_type": "code",
   "execution_count": 150,
   "id": "2252d0ae",
   "metadata": {},
   "outputs": [],
   "source": [
    "driver = webdriver.Chrome(r\"chromedriver.exe\")"
   ]
  },
  {
   "cell_type": "code",
   "execution_count": 151,
   "id": "fa640b39",
   "metadata": {},
   "outputs": [],
   "source": [
    "driver.get(\"https://images.google.com/\")"
   ]
  },
  {
   "cell_type": "code",
   "execution_count": 152,
   "id": "5947aabd",
   "metadata": {},
   "outputs": [],
   "source": [
    "catagory = driver.find_element(By.XPATH,\"/html/body/div[1]/div[3]/form/div[1]/div[1]/div[1]/div/div[2]/textarea\")\n",
    "catagory.send_keys(\"Cakes\")\n"
   ]
  },
  {
   "cell_type": "code",
   "execution_count": 153,
   "id": "8dd4d892",
   "metadata": {},
   "outputs": [],
   "source": [
    "search = driver.find_element(By.XPATH,\"/html/body/div[1]/div[3]/form/div[1]/div[1]/div[1]/button\")\n",
    "search.click()"
   ]
  },
  {
   "cell_type": "code",
   "execution_count": 154,
   "id": "4a516f3b",
   "metadata": {},
   "outputs": [],
   "source": [
    "driver.maximize_window()\n"
   ]
  },
  {
   "cell_type": "code",
   "execution_count": 132,
   "id": "ea6d3a6c",
   "metadata": {},
   "outputs": [
    {
     "name": "stdout",
     "output_type": "stream",
     "text": [
      "10\n"
     ]
    }
   ],
   "source": [
    "Fruits = []\n",
    "f_img = driver.find_elements(By.XPATH, \"//img[contains(@class, 'rg_i Q4LuWd')]\")\n",
    "for i in f_img[0:10]:\n",
    "    Fruits.append(i.get_attribute('src'))\n",
    "    if len(Fruits) == 10:\n",
    "        break\n",
    "print(len(Fruits))\n",
    "\n",
    "for i in range(10):\n",
    "    urllib.request.urlretrieve(str(Fruits[i]),\"Music.jpg\".format(i))\n",
    "    \n",
    "        \n"
   ]
  },
  {
   "cell_type": "code",
   "execution_count": 122,
   "id": "87526623",
   "metadata": {},
   "outputs": [
    {
     "data": {
      "text/plain": [
       "['data:image/jpeg;base64,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',\n",
       " 'data:image/jpeg;base64,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',\n",
       " 'data:image/jpeg;base64,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',\n",
       " 'data:image/jpeg;base64,/9j/4AAQSkZJRgABAQAAAQABAAD/2wCEAAoHCBYWFRgVFRYYGRgYGRwZHBwaGRkcHBgaGhkcHBocGBwcIS4lHB4rHxgaJjgnKy8xNTY4HCU7QDszPy40NTEBDAwMEA8QHBISHDQrISQ0NDQ0NDQ0NDQ0NDQ0NDQ0NDQ0NDQ0NDQ0NDQ0NDQ0NDQ0NDQxNDQ0NDQ0NDQ0NDQ0NP/AABEIAQcAvwMBIgACEQEDEQH/xAAcAAABBQEBAQAAAAAAAAAAAAAEAAIDBQYBBwj/xAA+EAACAQIEAwUGBAUDBAMBAAABAhEAAwQSITEFQVEGImFxgRMykaGx8BRCwdEHUmLh8RVygiMzkrMkssIW/8QAGAEBAQEBAQAAAAAAAAAAAAAAAAECAwT/xAAiEQEBAAIDAQEAAQUAAAAAAAAAAQIREiExA0FREyIyQmH/2gAMAwEAAhEDEQA/APWc1MelTglaVGtOJp+WuFaIjBpMlOiuxVEapTstPiuRQR+yp3sxTqVAwpTDbqalQRhKRSpK5UEWWpUFdFOBopxWuAV2aVAqUUprs0DclcKU+aU00iGKQFS1yKohDU72lPiuRUDTcppuU8rXIqhmeue0PSpIpRQNz0z2vhUprlA0XK6LldroFQczUs1OiuRVHC1ML1LTLlBxXqv4x2gw+FQPiHCA6DcsxG+VVBJozMa8X/imly5xDIqu+WyuVVBYgHMWIA8dz4CmM3Ut1Hq13tVhkwoxjOwssJUlSGaSQAF3kxRo4xayI7sEV1VhnhTDAET46186Y7jVy4tm3dg2sOoRUBKjQQSx1Oc7Ty5Vv7/YQYnApct4cWMSQHCvcuPKawrFycpKkHbQwKtx16S7b7iXa3CWELvftkDkjBmY9FVdSam4fxpbtlL+RkV0Dw0d1SJGYgwNKoOAdkLH4a0uJwlgXUQI8ojFiumYsBqSBPrWf7V/w9c3Lf4MMtm4ypeRHIVBmEuEZoKxMjqBprU6Vbt/FXBi77OLmWY9rC5POJzFfGK2lvFZlDLBBAII1BB1BBr52xXDLWFxrYfFZ3t2myt7OFZgVDKRmOgIYTrPSvWeyfbHB3CmFwyumVIRGUjuoJMNJ5dTVs14ku2yW8elTBzQ6XfCpDdFZ20mrk1BkbrXe9RE00qgLEUz29NgquRQ5v05b002uk0VyKjN2urdmm0SRSrgeuzVHZpTXKVB2aVcpE0GT7dcevYU4YYdFd71xreRvzynd21EMVM1XcK7B30xS4y7jXa5mDOETLm2JTMWPc0iI2HKg24XjMdxG3jVIt4W22W22YZmtoxDFV1jOZ1/lI6V6PevKil3IVVBJJ2AFXxAz8Iw7P7Q2bZcfnNtC3xiaMyiq3Acdw95nS3cBZBmZSGUqp2JDAaeNF4XFpcRXturo2qspkETEg+lSqnyUx0PI13NSDVFee9vewD4y4MRYdFuZQrq5IVwvusGAMMBptrA2jULBWhwi5h2v+yX8SPZ3lSSEZNryMVBVDIzrtLSNq9PNwDcis32m7L28XiMNduQ1uyXDoZh1ddNujKvpVl/KmmkEeldNsV5/wAB7Q3sNim4bdtvcS2QLN1FZmS2+tsXYnugd3N/Tr1rfq1SzS7PilFKaVENZajNgVLSoIGw4rotVNXJoITapCzU1Kiolt1IBXaRFEdrlKk1AprCfxTV2wwvYe6yvhrnfyNBCuuUzB0jMp15E1uYr567X3sRbx2Ltl3QXrhLLJCuhaUJHNYjXwNXGdpW8/hf2he/fv2yMtpLdrIu4QIMkT4gT5zW74txIWVWFzu7hEXMFDNBbvMdFUKrMT0HM6VmOw/CbGEw9wpdS46n/wCQ4Oisq5sgPIKG+Zoq3jsPjilm9YYh09sguro6rALDXQjON496pb30s8Zn2uJxLZ29micQvrhgFzs3sLAYsbbGAUcK+sa560fF+0bWlvHDpaW3h2Flc4Ym9fIEWbSqRAGZQW11J00q4uYXDX7ad1HRDKFdkKyvcZYyxqNKq8Zw/AWxkNlWe9qqKWLuVKsSpJ7pkKS0jYSavKGjcVxrELea2GtD2OFFy+7SES4+oETmOiNCz+aSdpaeP4h7llUREb8KcRiBcPdslwuQOfegQ5gQTA1FV/Z3gmCue29vaRry33DnPcbLJDIquTLlUy67gzXTwDBWkxGJxqAy7tJe45W1ottS2aWJAB56tFTcNVaYTtLcb8KHRLZuWnxF8tmC27KaBhMEFmZYnlNWvZ3HtibAvugUOzFBrJt5iLbNPMrB9axGPwCYooMPg7wRxkfEYh7mlk6sER3LMdO6SIBII61usG6WUW2isEQBVzMWMDaSxnwpbCSvOMJ2v9nxW7fxAa3hnDYVWymJsuIJjfvFpI2zjpXq2Fvo6rcQq6MJUqQQQeYIrxr+JuKfGYxbFhC5w9tiyrBOZiGfSdYGXxk1p/4PXWTBNmJg3mKDouVQ0eGcN861da2k3vT0OlTc1LNWWnaU0pphNEPmlNRF6aLtBMTVBxztAbClkQOEYB5aN9IXqRRHHOKCymnvtIX9T868y7UY9oS1PeBzvB908kPjzPpXPLLV1G8cd916pwfjFvEpnttPVfzKehFWM14Rw/HujB7T5HHTQNXonBO29q4uW93LijXo0fy+PhVmUplj/DZzQmM4pZtf926lvwZ1B+BNYDjnaLEXZFtjZtnQEaO3+5t1noOtYe4GIZ3JLA899Rv5+dS/Sfiz5/y9oParBAx+Jtf+VCcctYDHWWVrlhzlOR86ZkaNGUzI1rxgAc/UdKcBtU/qWHCLfhWKw4wBwxuBczD2okgm475Wcgb27dtAZ2JYdKv8Fxy3bTFNZum5cTJYw9y4ZZbbqgmIACK5ktGuUTsKy2ExTol5LbZM6gMQFzEAyIMSDpXq/Be0uGuYcOzAOiqtxCAGzaAkD8yk66VuZys3Gxm+IcTvI+GNoqLaMLAJI9ndLAG4WO2ioYbqSOtL/V1/EYnFXLqBMOnskTud7Modsh94y2QAjeIrbYDiGHxC9xkcAwVgSCOqnairlq3uUQx1UftVmkseY8NvXcKS15wgTDNir1sEBmuXGJtjM0lnJVpA2gDWnLeu4m/atYnEK1sJ+JvIoX2ShCCltW3cgkFteQr0a5YRzmZEYjQFlUkDpJFNfh9khQ1q2QnugohCzvlEaelNw0xC8fxN04cW7yI2JfMqKiuLWHUFs1xmPvsoELpv4TQt3tNiSXFp0d3utZw6QATkkPcbXRZDHXTSt+eHYYqENq0VU5guRMoY7sBEA+NZDtTwdEZ2CWS10ezw1lEVf+q6w91yPeYDnsAD1qzVO4xfZC3dGPt3ravcQ3DZu3IlWuOpZ9RsM0R4Dxr2a1hFUQAqiSYAAEkyTA6k0L2X4KmDwyYdTJUS7fzu2rN8dvACrelu6TpGLgNJrldyCuMgrKkt0VxropC2Ka6iiG4i+qqWOwE6b+lAYPjFm4hdGnLuv5wemXeoeM43IhAIzMDHgOtYlbqWVd2j2rq+UDQjunaNjz8q4f1bbZPHSYddi+0/EmTNcf8A7rCLSTPs1P528eY8awNxpmWk6kk6yaZ/p+IU7GOhOu5G3/E/Cob9txupFJO92qktp41t+y3CwVN24dEEjaTt3RPOdprCcOGZ1Xx+leqcJYJYII0EEgxqQRH+a5/W2RvFScWxGYlEGiSSd5kxGn71nbzCAPGT5H9aNxNwy8nQ6+fnVTebXl00j9OVTGLUJfXTadPKpAaad9Ounj5VI0f28a6bZhti5lbeJ3/arXDcNXEI6CC+uUQZMdIGh/WqR0q74JdKsxMzkMkakbQQOe3zpbqbixnLGLuYd5zsjo0SCQa9N7Gdq3vlrWJ/lLI2p0GpzHoOtYf+IHDst/Muxgyf6hM6eMn1oPD3sfw9EvgZFuqURmVWld4AOqzvXbGcpLHHK8eq91wrpdTPYuI6fzKwYab6isniP4g4Jbhtl3YA5S6oSk84I1I8QKw/ZzG8Qw2FuX7VlbmGvs2cFS0EEqxKqQVB26aUuzvZJsb7TE3QMPh1DN3FyhsokhAZhRG9dOM/XPlWl7Q9orqYiymD9niBeXuBXLMWn8wB7ojr0PSrzgnZnFLi/wAViXR2a0QFWctpiwlFk66DfnrXn/8ACzhrvj0uoh9nazszkaaoyqJ2zHNt4GveppZJ1Fl33QyWzT1Q1LmruappQquOtdUg86S2RVJ2k7SWsGACM9x9VQGNP5mP5VnSi62t8XfS2he46oo3ZiAB6msrxTt3hEOVLntCCZyjuiP6jofSsH2r7QXMXGchUUyqLsOUk8213rLpaUtGkbnyFc8rymm5jpsuOdplc50JJcc5Gn7VnW4q7SdATGupJgRM7k6D4eJoFGLvGnWJgaAkA+Gn6VKl9lBmCTz0g6beUEj4ViYzGahytHWWcgHMdpGoGkRp6E/OiUvON1zI5HvwNZ67HYHlPrVQjlFBVjBXpMcmA58z8qJNwsioYlgI10gGYIO3WpcWpR9jCor+1Qe7o6ayo5mN9I+U86KxHHyGyOsAjrrlOseE0EzhSrhyWRASGmSoaDJG+4IPQkchWf4vC3sy+6wDDw5EehqTHl6XLS+uYwEmBHIx9aFROm/PyNV9q7IiiEcgyJ/t4U46XacNBA3g1MOZ+HiaGMZi2tG25IzaRIPj8OlSkRuseFG4AnMpBggjmdddpg/YoXEGW0onCAknL06xr18Naz+Kv7HDRi8TZtMYSCzdSqEE/HQUR/GeyFw2GAJIFwgAxoAh20qHsvxizYxLvdJA9nkXKsySVJ0HgtL+LnEbd7DYdrbT/wBVpBBBHcO4Nej46mp+uX120X8Kbc8Ntf77n/sate1gERGm0co8qy38LBHDbPnc/wDY9a+a65euc8Q28OFEKAB0AgU4oakmlNRUWQ9aWTxp7PTBcFBDfxGVSdzyHU8hXmnaQqjNcuAm+8Sx/IuumU7aDQb/ADrW8XxoF5bZJyqhuPlmSOQ0kjb4GvPOO33xF45DOswoBnYk66toK8+eW8tfkdscdTbO47F5m02geXj9KBw7Tn6x+omj8fwi9baHQruRmgb7a7VW2bbI/fGh0O3Pn9N63jrXTOWxC2yy5ZiCTr1NSNbMNmIlYjfUMCZ8AAK4LmhU6QZU7RpDbeh9KKyZ4yAs5JUrObOsgggjYqecfrUuWvSQG9qFKkgHcDx1j/6nzjxroxEI6wTEFZJMNpoCf+Q000HWrG7wG6hEkZidBMkeRK+m/KqvEgoSpUgA94EREEbE7zE+VSZTLwss9FHLBynvENz1IymZ9NfSq7HhnNsCWJBAA1PLpr8abiMUWMiBoVkCNNj56aTW57G27C4a7du63CCE6gbDy6+tMrwmyTldMb+FdIzoV86lGtbrgliy63HugsCrFfMDmOh1+FYS4hDso90MYnkJrOOXK3/jeWPEdYtMxAQEk6BY3otcG4JXTMAe7mEg7nwq17A4e2Xd7xPcHdA5nXX4xRHDcOj4hmfuANoDLA66EgmRXPLL+6z+G8Z0zaI2Yg6b+Yohryosc+XprNaLi3Brly6WtW5UnUjQSJkiTz0oL/8AmIh8SWVeYUTHnvofCt4429s26ZpXl1OaBOp3rVcfKPgmz++gkHkdO75ctPGhX4Zh3uNLuWLquXLlCoNGJ2giIitNb4BbUMgyumw9owMgHQxypO85r8S/43f6f/DS9GBQBjIZ9I0Azk6da1y4hwd5qq4Nw1LKBEAVei5iOpiasmNd/wCXIYmK60mxFBpXa1tNDPag1Gy1xRIpGgwPaPFf/JxB9oqaBNVYyqqJAOwkzVHwh2Vc4nPczEkR3VBgRI7ozTPgtE9vlK4llJOVsrqAOZEST1lTQ6JltKxP5FSBIYAgBmGmu5+EaV5sp33+u0vUF4+8zLleXGgLHUbTow1iDMEaViuK2cjEjYfNZ+o3/wA1prd1j3SxEN5yAIiBoeWvmNedXxi3KwdREacgwJG22/h9TVwnGpl3FKAx7ymRvOmnQ+NajsNjMmJZykkJMKBlnMJjTuAgnT7GEtMQcvQ6edbvsdxL8OHYgMz6ZW1A0jSOpJ5CtfXG8amF7aC7fH4hnygqzHujKSCNdjudqB7SWcLeYuSUhQIGm/Ubkg6VXYDiS2sSrsC4BMgxqDzHLaPlV1j7FjFObmR1QD3p2MbHQySdtq4Y48bK65Xc0oLXZfDsf+4ynOqBN8qmZfNzA00qxTgTJmVLgYh8o2Ctrl08DV9w/h2EUghCW2JZmM+hMDarm1gsPmzC2mbqVBj1rtxyu++nOWRiRwXEwQiASIPfWPQA+NVq9kMUNco9SK9Wt21HuiPIU8qPjrW8cZGbla874f2axaH8o9at8N2fvZgWyA8yDLeI2jrrWwC0mOo+/vapfnjfVmVgCyXRMiosDYnUgdD9aruI8Oe+AHHqIkVoCtNKff8Aata60zvtR4LhAQySWkQZyme/nJOmpmrD2GtFWDmkZWEEiWiDry16a1MqDpTHGTwttR20PTwomPCuoh5DfSiEwvNiP1raIQnhUiWp0qaF2H341Ij+EdaCJ7QVahNTXHmoGNIlNyAmSoJ6kAmvNu0mFZbl0QD32IEad5cwnzBI9DXoy3RWK7TPlxRLHQoHAPOBljTf3fma5fWdbawvbIvcZZTNOoGYHYiBI8d5jr6UDjdMw5DaY89yRrqB6VoMdhkyyswCVgA7nKTII5SB/wAaz2OgBys6eJ5jaflWMcpW8ppmb577Ec+99DWo7NYRL7gM5SecT+orKXz3vQVf8BuFCp8RXe+Oc9bS/wBigSSMRI0gKhzHzZjA+FWZ4TdtYMIjK4ZwzKsZkymRq2/+KssGjFFcjcAz9B/nqKixBkDprI103HrWLjMppuZWULa4qb1yXSCdHOWFC7aAc9Jq/wAIwJMQFEQTAMeI+FUkR4GOXPpTHfQj7+9BVxnGaS9taiDlUV68q6sQB4mscMQwkhiPWiLfF3ACvDAGdZmdpn0FaRo3xySV10306jSa4OIIYIDTJ0jUwSOunL41QPxcnXIPn+hplzHs2mw58h8v1oNJcxqA7/uJ6iojxNOX6D6ms7bc+s/5FFYd9R8PjQXJx20CAJnYz/epbGKMb9OW4jnpuQflVVZbceMeX3NGoQI8Rp9KA0YqWIkTrueUfTQ0SjtrzHLlrH0qutRmmNTp49YNHWTuZ0ifvpRBOfr0+9alVqgnb715VJqaDl1qgZqdiDQxuVdpUAvisT2q4oFxChknQoD/AElQd+RnUHw51s0QVgP4iLlcEaZgB4klSB9CK55zcax9BYi86kOROc+cpHWdII59aqeNuPZBh+cx6AeO+s+kUzh7u727EDM5CqzrsSJ106jxo/jHY7EqA7MhTeQzaDmYK1jHHV21ax+Bwxu3UtqYLuqg9MxifSvU+0fC7WCS1bRiCRJIiX5EnTwHxrC/6W1g2bqnvFs6k6CUIKqekiD5MKvcTxO1dOcls+kqx1RuYAO23lWfrblZrxfnNerV7t5Ed0PcQroWzBpie7+UjeRVjw7iWcQ3vch/T+9Zu3cJt5JcKeuk+XU61JbcggitfPcnZnrfTXEdduZqF/hQ+CxWZR4T8+tTuen39xXRgLcFQGiXXrQzma0EpqVRUS7ipFTWRzPy8KAq3vRNtZ3j49OtCWxy56T5c4+FGWzBkecDnrtQFo+ojX+3Ki7T6CfvnQqOBlGxOwPIxJH1ooMDtoJ9fX4RQTo2vXwoyyPlvrPrQdtun3NF2G0A8N/v6UBKD1iN/rTxTJrobTTaiIsU4G9AtcHWp+IqCBVPdt9KCwzVS3PYm673o7iHJIkBgBEeJkj1NXLV5x2gx0C7JOjxA8Rp9DXL6Tc01h6zl7FlbncYgZtCDEdINbvAccfEYZEdTqWzsfzrPdUdQRqf71g8Dw72rkT3VPfP6A9TWj4FjiLr2X0JYlOkHUKPTbyNZyupqNyd7ojjWE9rbZPzg5l8wNRp1H6VjMRh84LfnT3vEbZvMbH0r0B1nbwPp9n5VR4/h5De0QTHvLyYfm+INYwy101lNpezHElvp+GvRmAGQn8wH5Z/m0+HlR2J4YU2GnUDxrIY7BmzcIU6aMrc4MMrA9f2Na/gHG/bJkc/9VRB198dRXomq5Xo7CoUPhRyvt8DTjbB133jf4/KmXB09f3rSFceTAodqfJ160xqDoNSodvGohUg69P0oCbS7Dpv4bmprTafUeHL9KisrJ8iPlRQHM/4+5oC7ep1+/Hzom2JM+n7ULh2IM/X15UVYB5CPv8AuaAi2vwo22fvrQNtp+/Gi7HlG360BS04j6VGo2mnMd4ogDijkQBVb7TrT8fxNGvNaU95AC3/AC2j0j400KG560BbtG9eUYps5xRPe74OXyLa16jeuFq8tW0fa4xDOYDlpPeJ/Ws5zUXG9rzhuFREVU90gaj83jQ3GcFmbOmjJERvA1+IP60J2a4jINpveUSunL8w9NT8au1E77jnXly3MneasOwL50z6DfN4QCTpyEmaoL2Ke8+RZCZtB/N5/elWmGZWd0VoRlOcr+XoR4nURRmAwCJDoZBEqf6d/nWdyFm2a48MroDMFIGg0gxPqZPkRVNmZGDoYZdiPpWu7R4LOoCjUDMD15R8qyoQka8tPv4GvR88t4sZTtqeE8bFwZW0b6+XjVrdEjca/vXn6SjBl0/Q1reGY8usMdY510cx7N+1NmnjWmtWhw1PZE7bcz0FQJJYKsSxAFH3VVFIzHKuuaNztMetBIjqZEEZTEen01GvgakW4AVUkAsAB4np6afGmGQY6H4a86kQ6jlH6jl8jQF2J/T5UQhMczvy6ROtD4dtIHp8v7UVY22+nlQTYdZiD96UdbMfCqoYkZWdtgSDAJIHLTn6daz3Gu31pEIsjO+coVYFQIJBJ6jTTnqKDeJ1H+fWqztBxRLNpyGXPBgcztsOe4HrVHwjtBdxcBFVAUOcwWKHOFBVswIBDb8stZztljkLFUYGVyjnlQMxET7mYhdOhB5xWbVkR9kr7XMRcckGVJPmW6ehrZisV2AwoLXH5hVUeRkn6CttFbx8Yy9E2xJrNdoOHol9riaPctsGHI5Yg1okeCKynaPFlcUukgoVPhNZz7hj686tXytzMphtTP8AVE/Wttb4kuIw6G0IuOSrgH/t5QMx8joR4VgsUMr9IOo9a0vYXEBWdS0Ak6fzLMn1G/oa5fTHeO566Y3+7TR4LAqEZPymRP8AMWEEn0MDz8ar+zuPNsvhrm6E5PIe8vw1FaD2ZVp5SNfXT61n+0/DnV/xCAgqe9A5D3W9BvXCd9X9dauOKtKTpvHpyj4VksWoBBPM7cyPD41ocXxO2cGt4e9IQp/WJkeI1nyrIs7EyT32+CA/r9K6fPGs5VIqLJEz5frVjh7ioJJrO4fHG1cMjRZ007xHU1bcQuPnlQdIk8lJAOWeu9d/HPe15h+JqfzT8q5c4igOrjXWg8NwtzaNxVlVHeiJH71TYp7UaMGPRSIBO+vpWZd+VbNN1wS6jA3MwMQFg6y3QeU1YK4IkT97V5ImKdD3WMEzE6GNtKuLHaa4xCOFytMwCSBoOum1aZb3EOwKkgHMSJBn/d56g0Qtz/H/ABjn51irfaBLaLbhnyNmWRlIJkkHUyJ1+zVHd4/ed+87BSdQsCAD+XpWh6JxXF3Lai4ghEcDqWBgN3QO9oQFg7+QplntICwkm2A2iwWNxADA1Eg5gBp1rOY/tWzW0W2YhSjAyZMRmzaax9TvVFiLudiohQATJgCRvAGw6COfU1lqDu0PaK9ebJmyW9AEXQDLoNYBO3OqZdqlxSpChJzEAERpty9aiUURoOznGzhc7hM7kZADGXIQS0850WOW9A2le7mZjLHvE/7Yjy5aVBbtt7vURv8AfWjHdEQBYJneDI2qVqRa9lndMSioTBkMBtEc/WvQbgrDdg7LNfd9wEj1JkfSt9eFax8c8vQt1qyvGcKWfPPKIrSu8iRtVZjLc1qzbM6eXcUBzmRz51NhH003Wr7ivDcxJiqzA2DbLSJDVMp0uN7azsxxH2y+xc99BAM6lZGv/HUeRHStXxrHWbWGD3dM4GXqdJgdTXnVi21tkvWz31Mj9QfA6gjxojtTxlGuLfuQ8Ios2N1Q5ZZrvgGnu7sQJgb+XL57yjvy1Ffj8WiKcqZGuMHRCc2ReTkcmbWByGvMVnrtwsZJ5z5nrTGxzm4zv32YksW1zE661cYe/hnJzLl6DrtoTNejHHjHK5bQYbEh7o/EE5CRqFBy5TpodxEiK0mJbNZZ0dSM5LBdASS2VoOsRt51m8XZQklGG8neIIkEE9dqgs4kroGIHPbXwqWbaxumk4bxBkRwXyoV707H7MVkbhAckMDJJ26mfiKJxuJzHQkpOgJ5eOmpoMKs+FXHHRllty5XbZI+tPKjlP7UyIitMHHU/L407LrB6fpUYYg6a/tTxvP2OtAUrkCPU77fZrpuCJ9P2qF70iCdB+uoFNZp2qaa2dbBzCp0+upoc/P9a7LGmiUUl3XxqYgvHIj7k1DZtyBVzgcJmippdtR2Mti2jNJlj9K0jXZqj4ZayqAKtkFbkc7UWJtMhzJqOY5GoM6voND0PPyP6b1pruE67VR4/hwOo+I+9fKngqcRYEkEQfGq+7ggeQqwvG6mkZ1HKNR5An6EeVMw2OtOcrSjTEETy6GGA8galIrV4cOpqi7U2A7k5YgKAFGkAfWt5bwwcShV/wDaRm/8T3vlVZxTh4/MCD4iuf8Attu+PMQhJiKJGEPT4Vf4rhsHSg2tEV19Y3pVPYI5/wBqgKc/v/NWty2TQzYY00bBm2ab7I0U9g061Y5EmaaNgzbIiuAGrJ8DHvMB60kwAOxmrxNgBbpyKY3qxHDvGpk4d51OJtVBPrT0WNhV0nDR0olOHf01eJyUSWWJ50XZwJq9tcPNWGH4cBTibVeE4YN4+NXmDwERR2Gwg6UWzonvsq+BOvwGtXWk27hrMUaiVUvxlAcqKXbl++Uax8K5bF66O+4Vf5QPUSP3mps03Dq3MfOoGs0qVSrAl7Ahtx9KqMZ2e9puqkeMUqVRVVieytwe45XnBIdfg2ooK5hMfbOoDr/S4Gn+xyVrlKmogV3uMe9ZA6+4vme48fKnXuHk6+xaPC4h+sUqVSCH/SZ/Kw8yh+hpf6ETsD8V/eu0q1ENbs25/L81/eoj2duDZNfFl/euUq1EMbs7dPvD4Ff3qbC9mrimYP8A5L+9KlVEFzBXxsvzT9TReDwd86ezH/kg/WlSqCxThlzmkeOZf0NEfhgN/pSpUCBI2tu0eKL/APqh7nEbi+7YEzzcMfqopUqzbWkKfjruwyqTIl1GnTKh+po3Bdl7ra3GJnfKQo8djJ+NKlQjRYDsyqCICjoviNZq9wnDFA0HxpUqQf/Z',\n",
       " 'data:image/jpeg;base64,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',\n",
       " 'data:image/jpeg;base64,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',\n",
       " 'data:image/jpeg;base64,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',\n",
       " 'data:image/jpeg;base64,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',\n",
       " 'data:image/jpeg;base64,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',\n",
       " 'data:image/jpeg;base64,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']"
      ]
     },
     "execution_count": 122,
     "metadata": {},
     "output_type": "execute_result"
    }
   ],
   "source": [
    "Fruits"
   ]
  },
  {
   "cell_type": "code",
   "execution_count": 130,
   "id": "f1277f20",
   "metadata": {},
   "outputs": [
    {
     "name": "stdout",
     "output_type": "stream",
     "text": [
      "10\n"
     ]
    }
   ],
   "source": [
    "Search_bar = driver.find_element(By.XPATH, \"/html/body/c-wiz/c-wiz/div/div[3]/div[2]/div/div[1]/form/div[1]/div[2]/div/div[2]/input\")\n",
    "Search_bar.clear()\n",
    "submit_button = driver.find_element(By.XPATH, \"//span[@class = 'n6h3Rc']\")\n",
    "Search_bar.send_keys('Car')\n",
    "submit_button.click()\n",
    "time.sleep(2)\n",
    "\n",
    "Cars = []\n",
    "\n",
    "c_img = driver.find_elements(By.XPATH, \"//img[contains(@class, 'rg_i Q4LuWd')]\")\n",
    "for i in c_img[0:10]:\n",
    "    Cars.append(i.get_attribute('src'))\n",
    "    if len(Cars) == 10:\n",
    "        break\n",
    "print(len(Cars))\n",
    "for i in range(10):\n",
    "    urllib.request.urlretrieve(str(Cars[i]),\"Music.jpg\".format(i))"
   ]
  },
  {
   "cell_type": "code",
   "execution_count": 133,
   "id": "3a5d0205",
   "metadata": {},
   "outputs": [
    {
     "name": "stdout",
     "output_type": "stream",
     "text": [
      "10\n"
     ]
    }
   ],
   "source": [
    "search_bar = driver.find_element(By.XPATH, \"/html/body/c-wiz/c-wiz/div/div[3]/div[2]/div/div[1]/form/div[1]/div[2]/div/div[2]/input\")\n",
    "search_bar.clear()\n",
    "submit_button = driver.find_element(By.XPATH, \"//span[@class = 'n6h3Rc']\")\n",
    "search_bar.send_keys(\"Machine Learning\")\n",
    "submit_button.click()\n",
    "\n",
    "\n",
    "ML = []\n",
    "\n",
    "machine_learning = driver.find_elements(By.XPATH,\"//img[contains(@class, 'rg_i Q4LuWd')]\")\n",
    "for i in machine_learning[0:10]:\n",
    "    ML.append(i.get_attribute('src'))\n",
    "    if len(ML) == 10:\n",
    "        break\n",
    "print(len(ML))\n",
    "for i in range(0,10):\n",
    "    urllib.request.urlretrieve(str(ML[i]),\"Music.jpg\".format(i))\n",
    "    "
   ]
  },
  {
   "cell_type": "code",
   "execution_count": 155,
   "id": "624f2044",
   "metadata": {},
   "outputs": [
    {
     "name": "stdout",
     "output_type": "stream",
     "text": [
      "10\n"
     ]
    }
   ],
   "source": [
    "search_bar  = driver.find_element(By.XPATH, \"/html/body/c-wiz/c-wiz/div/div[3]/div[2]/div/div[1]/form/div[1]/div[2]/div/div[2]/input\")\n",
    "search_bar.clear()\n",
    "submit_button = driver.find_element(By.XPATH, \"//span[@class = 'n6h3Rc']\")\n",
    "search_bar.send_keys(\"Cake\")\n",
    "submit_button.click()\n",
    "\n",
    "cake = []\n",
    "cakes = driver.find_elements(By.XPATH,\"//img[contains(@class, 'rg_i Q4LuWd')]\")\n",
    "for i in cakes[0:10]:\n",
    "    cake.append(i.get_attribute('src'))\n",
    "print(len(cake))\n",
    "\n",
    "for i in range(0,10):\n",
    "    urllib.request.urlretrieve(str(cake[i]), \"Music.jpg\".format(i))"
   ]
  },
  {
   "cell_type": "code",
   "execution_count": 156,
   "id": "af687abe",
   "metadata": {},
   "outputs": [
    {
     "name": "stdout",
     "output_type": "stream",
     "text": [
      "10\n"
     ]
    }
   ],
   "source": [
    "search_bar  = driver.find_element(By.XPATH, \"/html/body/c-wiz/c-wiz/div/div[3]/div[2]/div/div[1]/form/div[1]/div[2]/div/div[2]/input\")\n",
    "search_bar.clear()\n",
    "submit_button = driver.find_element(By.XPATH, \"//span[@class = 'n6h3Rc']\")\n",
    "search_bar.send_keys(\"Guitar\")\n",
    "submit_button.click()\n",
    "\n",
    "Guitar = []\n",
    "Guitars = driver.find_elements(By.XPATH,\"//img[contains(@class, 'rg_i Q4LuWd')]\")\n",
    "for i in Guitars[0:10]:\n",
    "    Guitar.append(i.get_attribute('src'))\n",
    "print(len(Guitar))\n",
    "\n",
    "for i in range(0,10):\n",
    "    urllib.request.urlretrieve(str(cake[i]), \"Music.jpg\".format(i))"
   ]
  },
  {
   "cell_type": "code",
   "execution_count": null,
   "id": "bc137a97",
   "metadata": {},
   "outputs": [],
   "source": []
  },
  {
   "cell_type": "markdown",
   "id": "6334c5b7",
   "metadata": {},
   "source": [
    "# Answer - 4"
   ]
  },
  {
   "cell_type": "code",
   "execution_count": null,
   "id": "20ae61e8",
   "metadata": {},
   "outputs": [],
   "source": []
  },
  {
   "cell_type": "code",
   "execution_count": 162,
   "id": "52f25c2d",
   "metadata": {},
   "outputs": [],
   "source": [
    "driver = webdriver.Chrome(r\"chromedriver.exe\")\n"
   ]
  },
  {
   "cell_type": "code",
   "execution_count": 163,
   "id": "518867c1",
   "metadata": {},
   "outputs": [],
   "source": [
    "driver.get(\"https://www.flipkart.com/\")"
   ]
  },
  {
   "cell_type": "code",
   "execution_count": 164,
   "id": "8ef427d9",
   "metadata": {},
   "outputs": [],
   "source": [
    "c_click = driver.find_element(By.XPATH,\"/html/body/div[2]/div/div/button\")\n",
    "c_click.click()"
   ]
  },
  {
   "cell_type": "code",
   "execution_count": 165,
   "id": "13f3319d",
   "metadata": {},
   "outputs": [],
   "source": [
    "catagory = driver.find_element(By.CLASS_NAME,\"_3704LK \")\n",
    "catagory.send_keys(\"MOTOROLA G_52\")"
   ]
  },
  {
   "cell_type": "code",
   "execution_count": 166,
   "id": "039d672b",
   "metadata": {},
   "outputs": [],
   "source": [
    "search = driver.find_element(By.CLASS_NAME,\"L0Z3Pu\")\n",
    "search.click()"
   ]
  },
  {
   "cell_type": "code",
   "execution_count": 209,
   "id": "de2b80fb",
   "metadata": {},
   "outputs": [],
   "source": [
    "name = []\n",
    "start=0\n",
    "end=1\n",
    "for page in range(start,end):\n",
    "    titles=driver.find_elements(By.XPATH,'//div[@class=\"col col-7-12\"]')\n",
    "    for i in titles:\n",
    "        name.append(i.text.split('\\n')[0])"
   ]
  },
  {
   "cell_type": "code",
   "execution_count": 259,
   "id": "60e7318d",
   "metadata": {},
   "outputs": [
    {
     "data": {
      "text/plain": [
       "['Moto G5 Plus (Lunar Grey, 32 GB)',\n",
       " 'MOTOROLA g52 (Metallic White, 128 GB)',\n",
       " 'MOTOROLA g52 (Charcoal Grey, 128 GB)',\n",
       " 'MOTOROLA g52 (Charcoal Grey, 64 GB)',\n",
       " 'MOTOROLA g52 (Metallic White, 64 GB)',\n",
       " 'Moto X4 (Sterling Blue, 64 GB)',\n",
       " 'Moto X (2nd Generation) (Black Leather, 16 GB)',\n",
       " 'Moto X4 (Super Black, 32 GB)']"
      ]
     },
     "execution_count": 259,
     "metadata": {},
     "output_type": "execute_result"
    }
   ],
   "source": [
    "name"
   ]
  },
  {
   "cell_type": "code",
   "execution_count": 201,
   "id": "e92aa296",
   "metadata": {},
   "outputs": [],
   "source": [
    "Brand = []\n",
    "start=0\n",
    "end=1\n",
    "for page in range(start,end):\n",
    "    titles=driver.find_elements(By.XPATH,'//div[@class=\"col col-7-12\"]')\n",
    "    for i in titles:\n",
    "        Brand.append(i.text.split('\\n')[0].split(' ')[0])"
   ]
  },
  {
   "cell_type": "code",
   "execution_count": 258,
   "id": "7bfd9c48",
   "metadata": {},
   "outputs": [
    {
     "data": {
      "text/plain": [
       "['Moto',\n",
       " 'MOTOROLA',\n",
       " 'MOTOROLA',\n",
       " 'MOTOROLA',\n",
       " 'MOTOROLA',\n",
       " 'Moto',\n",
       " 'Moto',\n",
       " 'Moto']"
      ]
     },
     "execution_count": 258,
     "metadata": {},
     "output_type": "execute_result"
    }
   ],
   "source": [
    "Brand"
   ]
  },
  {
   "cell_type": "code",
   "execution_count": 242,
   "id": "d3c1d312",
   "metadata": {},
   "outputs": [],
   "source": [
    "ram = []\n",
    "start=0\n",
    "end=1\n",
    "for page in range(start,end):\n",
    "    titles=driver.find_elements(By.XPATH,'//div[@class=\"col col-7-12\"]')\n",
    "    for i in titles:\n",
    "        ram.append(i.text.split('\\n')[2].split('|')[0])"
   ]
  },
  {
   "cell_type": "code",
   "execution_count": 257,
   "id": "6b61b9e0",
   "metadata": {},
   "outputs": [
    {
     "data": {
      "text/plain": [
       "['4 GB RAM ',\n",
       " '6 GB RAM ',\n",
       " '6 GB RAM ',\n",
       " '4 GB RAM ',\n",
       " '4 GB RAM ',\n",
       " '4 GB RAM ',\n",
       " '2 GB RAM ',\n",
       " '3 GB RAM ']"
      ]
     },
     "execution_count": 257,
     "metadata": {},
     "output_type": "execute_result"
    }
   ],
   "source": [
    "ram"
   ]
  },
  {
   "cell_type": "code",
   "execution_count": 238,
   "id": "f14248a7",
   "metadata": {},
   "outputs": [],
   "source": [
    "rom = []\n",
    "start=0\n",
    "end=1\n",
    "for page in range(start,end):\n",
    "    titles=driver.find_elements(By.XPATH,'//div[@class=\"col col-7-12\"]')\n",
    "    for i in titles:\n",
    "        rom.append(i.text.split('\\n')[2].split('|')[1])"
   ]
  },
  {
   "cell_type": "code",
   "execution_count": 256,
   "id": "f557ea4a",
   "metadata": {},
   "outputs": [
    {
     "data": {
      "text/plain": [
       "[' 32 GB ROM ',\n",
       " ' 128 GB ROM',\n",
       " ' 128 GB ROM',\n",
       " ' 64 GB ROM',\n",
       " ' 64 GB ROM',\n",
       " ' 64 GB ROM ',\n",
       " ' 16 GB ROM',\n",
       " ' 32 GB ROM ']"
      ]
     },
     "execution_count": 256,
     "metadata": {},
     "output_type": "execute_result"
    }
   ],
   "source": [
    "rom"
   ]
  },
  {
   "cell_type": "code",
   "execution_count": 181,
   "id": "e9842914",
   "metadata": {},
   "outputs": [],
   "source": [
    "s_cam = []\n",
    "start=0\n",
    "end=1\n",
    "for page in range(start,end):\n",
    "    titles=driver.find_elements(By.XPATH,'//div[@class=\"col col-7-12\"]')\n",
    "    for i in titles:\n",
    "        s_cam.append(i.text.split('\\n')[4].split('|')[0])"
   ]
  },
  {
   "cell_type": "code",
   "execution_count": 255,
   "id": "0d9415be",
   "metadata": {},
   "outputs": [
    {
     "data": {
      "text/plain": [
       "['12MP Rear Camera ',\n",
       " '50MP + 8MP + 2MP ',\n",
       " '50MP + 8MP + 2MP ',\n",
       " '50MP + 8MP + 2MP ',\n",
       " '50MP + 8MP + 2MP ',\n",
       " '12MP + 8MP ',\n",
       " '13MP Rear Camera ',\n",
       " '12MP + 8MP ']"
      ]
     },
     "execution_count": 255,
     "metadata": {},
     "output_type": "execute_result"
    }
   ],
   "source": [
    "p_cam"
   ]
  },
  {
   "cell_type": "code",
   "execution_count": 185,
   "id": "d4ac55d8",
   "metadata": {},
   "outputs": [],
   "source": [
    "p_cam = []\n",
    "start=0\n",
    "end=1\n",
    "for page in range(start,end):\n",
    "    titles=driver.find_elements(By.XPATH,'//div[@class=\"col col-7-12\"]')\n",
    "    for i in titles[:10]:\n",
    "        p_cam.append(i.text.split('\\n')[4].split('|')[1])"
   ]
  },
  {
   "cell_type": "code",
   "execution_count": 254,
   "id": "d0ec2850",
   "metadata": {},
   "outputs": [
    {
     "data": {
      "text/plain": [
       "[' 5MP Front Camera',\n",
       " ' 16MP Front Camera',\n",
       " ' 16MP Front Camera',\n",
       " ' 16MP Front Camera',\n",
       " ' 16MP Front Camera',\n",
       " ' 16MP Front Camera',\n",
       " ' 2MP Front Camera',\n",
       " ' 16MP Front Camera']"
      ]
     },
     "execution_count": 254,
     "metadata": {},
     "output_type": "execute_result"
    }
   ],
   "source": [
    "s_cam "
   ]
  },
  {
   "cell_type": "code",
   "execution_count": 189,
   "id": "8582438a",
   "metadata": {},
   "outputs": [],
   "source": [
    "display = []\n",
    "start=0\n",
    "end=1\n",
    "for page in range(start,end):\n",
    "    titles=driver.find_elements(By.XPATH,'//div[@class=\"col col-7-12\"]')\n",
    "    for i in titles:\n",
    "        display.append(i.text.split('\\n')[3])"
   ]
  },
  {
   "cell_type": "code",
   "execution_count": 253,
   "id": "71a4218a",
   "metadata": {},
   "outputs": [
    {
     "data": {
      "text/plain": [
       "['13.21 cm (5.2 inch) Full HD Display',\n",
       " '16.76 cm (6.6 inch) Full HD+ Display',\n",
       " '16.76 cm (6.6 inch) Full HD+ Display',\n",
       " '16.76 cm (6.6 inch) Full HD+ Display',\n",
       " '16.76 cm (6.6 inch) Full HD+ Display',\n",
       " '13.21 cm (5.2 inch) Full HD Display',\n",
       " '13.21 cm (5.2 inch) Full HD Display',\n",
       " '13.21 cm (5.2 inch) Full HD Display']"
      ]
     },
     "execution_count": 253,
     "metadata": {},
     "output_type": "execute_result"
    }
   ],
   "source": [
    "display"
   ]
  },
  {
   "cell_type": "code",
   "execution_count": 191,
   "id": "3f8e1629",
   "metadata": {},
   "outputs": [],
   "source": [
    "battery = []\n",
    "start=0\n",
    "end=1\n",
    "for page in range(start,end):\n",
    "    titles=driver.find_elements(By.XPATH,'//div[@class=\"col col-7-12\"]')\n",
    "    for i in titles:\n",
    "        battery.append(i.text.split('\\n')[5])"
   ]
  },
  {
   "cell_type": "code",
   "execution_count": 252,
   "id": "2694378a",
   "metadata": {},
   "outputs": [
    {
     "data": {
      "text/plain": [
       "['Moto G5 Plus (Lunar Grey, 32 GB)\\n4.32,18,248 Ratings & 41,308 Reviews\\n4 GB RAM | 32 GB ROM | Expandable Upto 128 GB\\n13.21 cm (5.2 inch) Full HD Display\\n12MP Rear Camera | 5MP Front Camera\\n3000 mAh Battery\\nQualcomm Snapdragon 625 Octa Core 2GHz Processor\\nBrand Warranty of 1 Year Available for Mobile and 6 Months for Accessories',\n",
       " 'MOTOROLA g52 (Metallic White, 128 GB)\\n4.234,608 Ratings & 3,904 Reviews\\n6 GB RAM | 128 GB ROM\\n16.76 cm (6.6 inch) Full HD+ Display\\n50MP + 8MP + 2MP | 16MP Front Camera\\n5000 mAh Lithium Battery\\nQualcomm Snapdragon 680 Processor\\n1 Year on Handset and 6 Months on Accessories',\n",
       " 'MOTOROLA g52 (Charcoal Grey, 128 GB)\\n4.234,608 Ratings & 3,904 Reviews\\n6 GB RAM | 128 GB ROM\\n16.76 cm (6.6 inch) Full HD+ Display\\n50MP + 8MP + 2MP | 16MP Front Camera\\n5000 mAh Lithium Battery\\nQualcomm Snapdragon 680 Processor\\n1 Year on Handset and 6 Months on Accessories',\n",
       " 'MOTOROLA g52 (Charcoal Grey, 64 GB)\\n4.214,847 Ratings & 1,689 Reviews\\n4 GB RAM | 64 GB ROM\\n16.76 cm (6.6 inch) Full HD+ Display\\n50MP + 8MP + 2MP | 16MP Front Camera\\n5000 mAh Lithium Battery\\nQualcomm Snapdragon 680 Processor\\n1 Year on Handset and 6 Months on Accessories',\n",
       " 'MOTOROLA g52 (Metallic White, 64 GB)\\n4.214,847 Ratings & 1,689 Reviews\\n4 GB RAM | 64 GB ROM\\n16.76 cm (6.6 inch) Full HD+ Display\\n50MP + 8MP + 2MP | 16MP Front Camera\\n5000 mAh Lithium Battery\\nQualcomm Snapdragon 680 Processor\\n1 Year on Handset and 6 Months on Accessories',\n",
       " 'Moto X4 (Sterling Blue, 64 GB)\\n4.321,122 Ratings & 3,787 Reviews\\n4 GB RAM | 64 GB ROM | Expandable Upto 2 TB\\n13.21 cm (5.2 inch) Full HD Display\\n12MP + 8MP | 16MP Front Camera\\n3000 mAh Battery\\nQualcomm Snapdragon 630 Processor\\nBrand Warranty of 1 Year Available for Mobile and 6 Months for Accessories',\n",
       " 'Moto X (2nd Generation) (Black Leather, 16 GB)\\n4.26,220 Ratings & 1,177 Reviews\\n2 GB RAM | 16 GB ROM\\n13.21 cm (5.2 inch) Full HD Display\\n13MP Rear Camera | 2MP Front Camera\\n2300 mAh Li-Ion Battery\\nQualcomm Snapdragon 801 MSM8974-AC Processor\\n1 Year Manufacturer Warranty',\n",
       " 'Moto X4 (Super Black, 32 GB)\\n4.34,450 Ratings & 653 Reviews\\n3 GB RAM | 32 GB ROM | Expandable Upto 2 TB\\n13.21 cm (5.2 inch) Full HD Display\\n12MP + 8MP | 16MP Front Camera\\n3000 mAh Battery\\nQualcomm Snapdragon 630 Processor\\nBrand Warranty of 1 Year Available for Mobile and 6 Months for Accessories']"
      ]
     },
     "execution_count": 252,
     "metadata": {},
     "output_type": "execute_result"
    }
   ],
   "source": [
    "battery"
   ]
  },
  {
   "cell_type": "code",
   "execution_count": 226,
   "id": "7029a7fe",
   "metadata": {},
   "outputs": [],
   "source": [
    "price = []\n",
    "start=0\n",
    "end=1\n",
    "for page in range(start,end):\n",
    "    titles=driver.find_elements(By.XPATH,'//div[@class=\"_25b18c\"]')\n",
    "    for i in titles[:8]:\n",
    "        price.append(i.text)"
   ]
  },
  {
   "cell_type": "code",
   "execution_count": 251,
   "id": "e1b98dc6",
   "metadata": {},
   "outputs": [
    {
     "data": {
      "text/plain": [
       "['₹16,999',\n",
       " '₹12,999\\n₹19,99935% off',\n",
       " '₹12,999\\n₹19,99935% off',\n",
       " '₹10,999\\n₹17,99938% off',\n",
       " '₹10,999\\n₹17,99938% off',\n",
       " '₹23,999',\n",
       " '₹23,999',\n",
       " '₹21,999']"
      ]
     },
     "execution_count": 251,
     "metadata": {},
     "output_type": "execute_result"
    }
   ],
   "source": [
    "price"
   ]
  },
  {
   "cell_type": "code",
   "execution_count": 220,
   "id": "39ecaad0",
   "metadata": {},
   "outputs": [],
   "source": [
    "colour = []\n",
    "start=0\n",
    "end=1\n",
    "for page in range(start,end):\n",
    "    titles=driver.find_elements(By.XPATH,'//div[@class=\"col col-7-12\"]')\n",
    "    for i in titles:\n",
    "        colour.append(i.text.split('\\n')[0].split(' ')[3])"
   ]
  },
  {
   "cell_type": "code",
   "execution_count": 250,
   "id": "3c5df17c",
   "metadata": {},
   "outputs": [
    {
     "data": {
      "text/plain": [
       "['(Lunar',\n",
       " 'White,',\n",
       " 'Grey,',\n",
       " 'Grey,',\n",
       " 'White,',\n",
       " 'Blue,',\n",
       " 'Generation)',\n",
       " 'Black,']"
      ]
     },
     "execution_count": 250,
     "metadata": {},
     "output_type": "execute_result"
    }
   ],
   "source": [
    "colour"
   ]
  },
  {
   "cell_type": "code",
   "execution_count": 222,
   "id": "0d960268",
   "metadata": {},
   "outputs": [],
   "source": [
    "url = []\n",
    "start=0\n",
    "end= 1\n",
    "for page in range(start,end):\n",
    "    titles=driver.find_elements(By.XPATH,\"//a[@class='_1fQZEK']\")\n",
    "    for i in titles:\n",
    "        url.append(i.get_attribute('href'))\n",
    "    "
   ]
  },
  {
   "cell_type": "code",
   "execution_count": 249,
   "id": "261a5cec",
   "metadata": {},
   "outputs": [
    {
     "data": {
      "text/plain": [
       "['https://www.flipkart.com/moto-g5-plus-lunar-grey-32-gb/p/itmes2zjvwfncxxr?pid=MOBEQHMGMAUXS5BF&lid=LSTMOBEQHMGMAUXS5BFN9JAPR&marketplace=FLIPKART&q=MOTOROLA+G_52&store=tyy%2F4io&srno=s_1_1&otracker=search&otracker1=search&fm=organic&iid=c074ae24-1aad-4004-b424-389b943e7a70.MOBEQHMGMAUXS5BF.SEARCH&ppt=hp&ppn=homepage&ssid=jbp7wxfgf40000001681649903056&qH=8220c99cffd729e7',\n",
       " 'https://www.flipkart.com/motorola-g52-metallic-white-128-gb/p/itm469efad765b98?pid=MOBGAKFYDDSNZGR8&lid=LSTMOBGAKFYDDSNZGR8W6QBUV&marketplace=FLIPKART&q=MOTOROLA+G_52&store=tyy%2F4io&srno=s_1_2&otracker=search&otracker1=search&fm=organic&iid=c074ae24-1aad-4004-b424-389b943e7a70.MOBGAKFYDDSNZGR8.SEARCH&ppt=hp&ppn=homepage&ssid=jbp7wxfgf40000001681649903056&qH=8220c99cffd729e7',\n",
       " 'https://www.flipkart.com/motorola-g52-charcoal-grey-128-gb/p/itmea9ebe003e26c?pid=MOBGAKFYFCZJ8JVY&lid=LSTMOBGAKFYFCZJ8JVY99JHKD&marketplace=FLIPKART&q=MOTOROLA+G_52&store=tyy%2F4io&spotlightTagId=FkPickId_tyy%2F4io&srno=s_1_3&otracker=search&otracker1=search&fm=Search&iid=c074ae24-1aad-4004-b424-389b943e7a70.MOBGAKFYFCZJ8JVY.SEARCH&ppt=sp&ppn=sp&ssid=jbp7wxfgf40000001681649903056&qH=8220c99cffd729e7',\n",
       " 'https://www.flipkart.com/motorola-g52-charcoal-grey-64-gb/p/itm8a96aeaed01c9?pid=MOBGAKFYTDHBAVV3&lid=LSTMOBGAKFYTDHBAVV3SRNTLS&marketplace=FLIPKART&q=MOTOROLA+G_52&store=tyy%2F4io&srno=s_1_4&otracker=search&otracker1=search&fm=organic&iid=c074ae24-1aad-4004-b424-389b943e7a70.MOBGAKFYTDHBAVV3.SEARCH&ppt=hp&ppn=homepage&ssid=jbp7wxfgf40000001681649903056&qH=8220c99cffd729e7',\n",
       " 'https://www.flipkart.com/motorola-g52-metallic-white-64-gb/p/itm1efa717b16445?pid=MOBGAKFYZGXJRBTK&lid=LSTMOBGAKFYZGXJRBTKURZI6A&marketplace=FLIPKART&q=MOTOROLA+G_52&store=tyy%2F4io&srno=s_1_5&otracker=search&otracker1=search&fm=organic&iid=c074ae24-1aad-4004-b424-389b943e7a70.MOBGAKFYZGXJRBTK.SEARCH&ppt=hp&ppn=homepage&ssid=jbp7wxfgf40000001681649903056&qH=8220c99cffd729e7',\n",
       " 'https://www.flipkart.com/moto-x4-sterling-blue-64-gb/p/itmezjzdhfvzc5jj?pid=MOBEZ9U3KMSV2Z6T&lid=LSTMOBEZ9U3KMSV2Z6TKMJ0H7&marketplace=FLIPKART&q=MOTOROLA+G_52&store=tyy%2F4io&srno=s_1_6&otracker=search&otracker1=search&fm=organic&iid=c074ae24-1aad-4004-b424-389b943e7a70.MOBEZ9U3KMSV2Z6T.SEARCH&ppt=hp&ppn=homepage&ssid=jbp7wxfgf40000001681649903056&qH=8220c99cffd729e7',\n",
       " 'https://www.flipkart.com/moto-x-2nd-generation-black-leather-16-gb/p/itmevt7pswhqcw2y?pid=MOBDZ7WZFXPXWFE8&lid=LSTMOBDZ7WZFXPXWFE86AXC5L&marketplace=FLIPKART&q=MOTOROLA+G_52&store=tyy%2F4io&srno=s_1_7&otracker=search&otracker1=search&fm=organic&iid=c074ae24-1aad-4004-b424-389b943e7a70.MOBDZ7WZFXPXWFE8.SEARCH&ppt=hp&ppn=homepage&ssid=jbp7wxfgf40000001681649903056&qH=8220c99cffd729e7',\n",
       " 'https://www.flipkart.com/moto-x4-super-black-32-gb/p/itmezjxfaefeyrm2?pid=MOBEZ9U3UHPJAHHJ&lid=LSTMOBEZ9U3UHPJAHHJVKY5UR&marketplace=FLIPKART&q=MOTOROLA+G_52&store=tyy%2F4io&srno=s_1_8&otracker=search&otracker1=search&fm=organic&iid=c074ae24-1aad-4004-b424-389b943e7a70.MOBEZ9U3UHPJAHHJ.SEARCH&ppt=hp&ppn=homepage&ssid=jbp7wxfgf40000001681649903056&qH=8220c99cffd729e7']"
      ]
     },
     "execution_count": 249,
     "metadata": {},
     "output_type": "execute_result"
    }
   ],
   "source": [
    "url"
   ]
  },
  {
   "cell_type": "code",
   "execution_count": 247,
   "id": "699c3a33",
   "metadata": {},
   "outputs": [],
   "source": [
    "df = pd.DataFrame({'Brand_name':Brand,'Smartphone_name':name,'Colour':colour,'RAM':ram,'Storage_ROM':rom ,'Primary_Camera':p_cam,'Secondary_Camera':s_cam,'Display Size':display,'Battery Capacity':battery,'Price':price,'“Product URL':url })"
   ]
  },
  {
   "cell_type": "code",
   "execution_count": 248,
   "id": "f1fbb322",
   "metadata": {},
   "outputs": [
    {
     "data": {
      "text/html": [
       "<div>\n",
       "<style scoped>\n",
       "    .dataframe tbody tr th:only-of-type {\n",
       "        vertical-align: middle;\n",
       "    }\n",
       "\n",
       "    .dataframe tbody tr th {\n",
       "        vertical-align: top;\n",
       "    }\n",
       "\n",
       "    .dataframe thead th {\n",
       "        text-align: right;\n",
       "    }\n",
       "</style>\n",
       "<table border=\"1\" class=\"dataframe\">\n",
       "  <thead>\n",
       "    <tr style=\"text-align: right;\">\n",
       "      <th></th>\n",
       "      <th>Brand_name</th>\n",
       "      <th>Smartphone_name</th>\n",
       "      <th>Colour</th>\n",
       "      <th>RAM</th>\n",
       "      <th>Storage_ROM</th>\n",
       "      <th>Primary_Camera</th>\n",
       "      <th>Secondary_Camera</th>\n",
       "      <th>Display Size</th>\n",
       "      <th>Battery Capacity</th>\n",
       "      <th>Price</th>\n",
       "      <th>“Product URL</th>\n",
       "    </tr>\n",
       "  </thead>\n",
       "  <tbody>\n",
       "    <tr>\n",
       "      <th>0</th>\n",
       "      <td>Moto</td>\n",
       "      <td>Moto G5 Plus (Lunar Grey, 32 GB)</td>\n",
       "      <td>(Lunar</td>\n",
       "      <td>4 GB RAM</td>\n",
       "      <td>32 GB ROM</td>\n",
       "      <td>12MP Rear Camera</td>\n",
       "      <td>5MP Front Camera</td>\n",
       "      <td>13.21 cm (5.2 inch) Full HD Display</td>\n",
       "      <td>Moto G5 Plus (Lunar Grey, 32 GB)\\n4.32,18,248 ...</td>\n",
       "      <td>₹16,999</td>\n",
       "      <td>https://www.flipkart.com/moto-g5-plus-lunar-gr...</td>\n",
       "    </tr>\n",
       "    <tr>\n",
       "      <th>1</th>\n",
       "      <td>MOTOROLA</td>\n",
       "      <td>MOTOROLA g52 (Metallic White, 128 GB)</td>\n",
       "      <td>White,</td>\n",
       "      <td>6 GB RAM</td>\n",
       "      <td>128 GB ROM</td>\n",
       "      <td>50MP + 8MP + 2MP</td>\n",
       "      <td>16MP Front Camera</td>\n",
       "      <td>16.76 cm (6.6 inch) Full HD+ Display</td>\n",
       "      <td>MOTOROLA g52 (Metallic White, 128 GB)\\n4.234,6...</td>\n",
       "      <td>₹12,999\\n₹19,99935% off</td>\n",
       "      <td>https://www.flipkart.com/motorola-g52-metallic...</td>\n",
       "    </tr>\n",
       "    <tr>\n",
       "      <th>2</th>\n",
       "      <td>MOTOROLA</td>\n",
       "      <td>MOTOROLA g52 (Charcoal Grey, 128 GB)</td>\n",
       "      <td>Grey,</td>\n",
       "      <td>6 GB RAM</td>\n",
       "      <td>128 GB ROM</td>\n",
       "      <td>50MP + 8MP + 2MP</td>\n",
       "      <td>16MP Front Camera</td>\n",
       "      <td>16.76 cm (6.6 inch) Full HD+ Display</td>\n",
       "      <td>MOTOROLA g52 (Charcoal Grey, 128 GB)\\n4.234,60...</td>\n",
       "      <td>₹12,999\\n₹19,99935% off</td>\n",
       "      <td>https://www.flipkart.com/motorola-g52-charcoal...</td>\n",
       "    </tr>\n",
       "    <tr>\n",
       "      <th>3</th>\n",
       "      <td>MOTOROLA</td>\n",
       "      <td>MOTOROLA g52 (Charcoal Grey, 64 GB)</td>\n",
       "      <td>Grey,</td>\n",
       "      <td>4 GB RAM</td>\n",
       "      <td>64 GB ROM</td>\n",
       "      <td>50MP + 8MP + 2MP</td>\n",
       "      <td>16MP Front Camera</td>\n",
       "      <td>16.76 cm (6.6 inch) Full HD+ Display</td>\n",
       "      <td>MOTOROLA g52 (Charcoal Grey, 64 GB)\\n4.214,847...</td>\n",
       "      <td>₹10,999\\n₹17,99938% off</td>\n",
       "      <td>https://www.flipkart.com/motorola-g52-charcoal...</td>\n",
       "    </tr>\n",
       "    <tr>\n",
       "      <th>4</th>\n",
       "      <td>MOTOROLA</td>\n",
       "      <td>MOTOROLA g52 (Metallic White, 64 GB)</td>\n",
       "      <td>White,</td>\n",
       "      <td>4 GB RAM</td>\n",
       "      <td>64 GB ROM</td>\n",
       "      <td>50MP + 8MP + 2MP</td>\n",
       "      <td>16MP Front Camera</td>\n",
       "      <td>16.76 cm (6.6 inch) Full HD+ Display</td>\n",
       "      <td>MOTOROLA g52 (Metallic White, 64 GB)\\n4.214,84...</td>\n",
       "      <td>₹10,999\\n₹17,99938% off</td>\n",
       "      <td>https://www.flipkart.com/motorola-g52-metallic...</td>\n",
       "    </tr>\n",
       "    <tr>\n",
       "      <th>5</th>\n",
       "      <td>Moto</td>\n",
       "      <td>Moto X4 (Sterling Blue, 64 GB)</td>\n",
       "      <td>Blue,</td>\n",
       "      <td>4 GB RAM</td>\n",
       "      <td>64 GB ROM</td>\n",
       "      <td>12MP + 8MP</td>\n",
       "      <td>16MP Front Camera</td>\n",
       "      <td>13.21 cm (5.2 inch) Full HD Display</td>\n",
       "      <td>Moto X4 (Sterling Blue, 64 GB)\\n4.321,122 Rati...</td>\n",
       "      <td>₹23,999</td>\n",
       "      <td>https://www.flipkart.com/moto-x4-sterling-blue...</td>\n",
       "    </tr>\n",
       "    <tr>\n",
       "      <th>6</th>\n",
       "      <td>Moto</td>\n",
       "      <td>Moto X (2nd Generation) (Black Leather, 16 GB)</td>\n",
       "      <td>Generation)</td>\n",
       "      <td>2 GB RAM</td>\n",
       "      <td>16 GB ROM</td>\n",
       "      <td>13MP Rear Camera</td>\n",
       "      <td>2MP Front Camera</td>\n",
       "      <td>13.21 cm (5.2 inch) Full HD Display</td>\n",
       "      <td>Moto X (2nd Generation) (Black Leather, 16 GB)...</td>\n",
       "      <td>₹23,999</td>\n",
       "      <td>https://www.flipkart.com/moto-x-2nd-generation...</td>\n",
       "    </tr>\n",
       "    <tr>\n",
       "      <th>7</th>\n",
       "      <td>Moto</td>\n",
       "      <td>Moto X4 (Super Black, 32 GB)</td>\n",
       "      <td>Black,</td>\n",
       "      <td>3 GB RAM</td>\n",
       "      <td>32 GB ROM</td>\n",
       "      <td>12MP + 8MP</td>\n",
       "      <td>16MP Front Camera</td>\n",
       "      <td>13.21 cm (5.2 inch) Full HD Display</td>\n",
       "      <td>Moto X4 (Super Black, 32 GB)\\n4.34,450 Ratings...</td>\n",
       "      <td>₹21,999</td>\n",
       "      <td>https://www.flipkart.com/moto-x4-super-black-3...</td>\n",
       "    </tr>\n",
       "  </tbody>\n",
       "</table>\n",
       "</div>"
      ],
      "text/plain": [
       "  Brand_name                                 Smartphone_name       Colour  \\\n",
       "0       Moto                Moto G5 Plus (Lunar Grey, 32 GB)       (Lunar   \n",
       "1   MOTOROLA           MOTOROLA g52 (Metallic White, 128 GB)       White,   \n",
       "2   MOTOROLA            MOTOROLA g52 (Charcoal Grey, 128 GB)        Grey,   \n",
       "3   MOTOROLA             MOTOROLA g52 (Charcoal Grey, 64 GB)        Grey,   \n",
       "4   MOTOROLA            MOTOROLA g52 (Metallic White, 64 GB)       White,   \n",
       "5       Moto                  Moto X4 (Sterling Blue, 64 GB)        Blue,   \n",
       "6       Moto  Moto X (2nd Generation) (Black Leather, 16 GB)  Generation)   \n",
       "7       Moto                    Moto X4 (Super Black, 32 GB)       Black,   \n",
       "\n",
       "         RAM  Storage_ROM     Primary_Camera    Secondary_Camera  \\\n",
       "0  4 GB RAM    32 GB ROM   12MP Rear Camera     5MP Front Camera   \n",
       "1  6 GB RAM    128 GB ROM  50MP + 8MP + 2MP    16MP Front Camera   \n",
       "2  6 GB RAM    128 GB ROM  50MP + 8MP + 2MP    16MP Front Camera   \n",
       "3  4 GB RAM     64 GB ROM  50MP + 8MP + 2MP    16MP Front Camera   \n",
       "4  4 GB RAM     64 GB ROM  50MP + 8MP + 2MP    16MP Front Camera   \n",
       "5  4 GB RAM    64 GB ROM         12MP + 8MP    16MP Front Camera   \n",
       "6  2 GB RAM     16 GB ROM  13MP Rear Camera     2MP Front Camera   \n",
       "7  3 GB RAM    32 GB ROM         12MP + 8MP    16MP Front Camera   \n",
       "\n",
       "                           Display Size  \\\n",
       "0   13.21 cm (5.2 inch) Full HD Display   \n",
       "1  16.76 cm (6.6 inch) Full HD+ Display   \n",
       "2  16.76 cm (6.6 inch) Full HD+ Display   \n",
       "3  16.76 cm (6.6 inch) Full HD+ Display   \n",
       "4  16.76 cm (6.6 inch) Full HD+ Display   \n",
       "5   13.21 cm (5.2 inch) Full HD Display   \n",
       "6   13.21 cm (5.2 inch) Full HD Display   \n",
       "7   13.21 cm (5.2 inch) Full HD Display   \n",
       "\n",
       "                                    Battery Capacity                    Price  \\\n",
       "0  Moto G5 Plus (Lunar Grey, 32 GB)\\n4.32,18,248 ...                  ₹16,999   \n",
       "1  MOTOROLA g52 (Metallic White, 128 GB)\\n4.234,6...  ₹12,999\\n₹19,99935% off   \n",
       "2  MOTOROLA g52 (Charcoal Grey, 128 GB)\\n4.234,60...  ₹12,999\\n₹19,99935% off   \n",
       "3  MOTOROLA g52 (Charcoal Grey, 64 GB)\\n4.214,847...  ₹10,999\\n₹17,99938% off   \n",
       "4  MOTOROLA g52 (Metallic White, 64 GB)\\n4.214,84...  ₹10,999\\n₹17,99938% off   \n",
       "5  Moto X4 (Sterling Blue, 64 GB)\\n4.321,122 Rati...                  ₹23,999   \n",
       "6  Moto X (2nd Generation) (Black Leather, 16 GB)...                  ₹23,999   \n",
       "7  Moto X4 (Super Black, 32 GB)\\n4.34,450 Ratings...                  ₹21,999   \n",
       "\n",
       "                                        “Product URL  \n",
       "0  https://www.flipkart.com/moto-g5-plus-lunar-gr...  \n",
       "1  https://www.flipkart.com/motorola-g52-metallic...  \n",
       "2  https://www.flipkart.com/motorola-g52-charcoal...  \n",
       "3  https://www.flipkart.com/motorola-g52-charcoal...  \n",
       "4  https://www.flipkart.com/motorola-g52-metallic...  \n",
       "5  https://www.flipkart.com/moto-x4-sterling-blue...  \n",
       "6  https://www.flipkart.com/moto-x-2nd-generation...  \n",
       "7  https://www.flipkart.com/moto-x4-super-black-3...  "
      ]
     },
     "execution_count": 248,
     "metadata": {},
     "output_type": "execute_result"
    }
   ],
   "source": [
    "df"
   ]
  },
  {
   "cell_type": "code",
   "execution_count": 260,
   "id": "ca9173f4",
   "metadata": {},
   "outputs": [],
   "source": [
    "df.to_csv('file1.csv')"
   ]
  },
  {
   "cell_type": "code",
   "execution_count": null,
   "id": "ab614632",
   "metadata": {},
   "outputs": [],
   "source": []
  },
  {
   "cell_type": "code",
   "execution_count": null,
   "id": "1e69126c",
   "metadata": {},
   "outputs": [],
   "source": []
  },
  {
   "cell_type": "markdown",
   "id": "25f0b730",
   "metadata": {},
   "source": [
    "# Answer 5"
   ]
  },
  {
   "cell_type": "code",
   "execution_count": null,
   "id": "4f9cd9e0",
   "metadata": {},
   "outputs": [],
   "source": []
  },
  {
   "cell_type": "code",
   "execution_count": 261,
   "id": "e9d18b17",
   "metadata": {},
   "outputs": [],
   "source": [
    "from selenium.webdriver.support.ui import WebDriverWait\n",
    "from selenium.webdriver.common.by import By\n",
    "from selenium.webdriver.support import expected_conditions as EC\n",
    "from time import sleep\n",
    "from selenium.webdriver import ActionChains"
   ]
  },
  {
   "cell_type": "code",
   "execution_count": 262,
   "id": "bfe2c819",
   "metadata": {},
   "outputs": [],
   "source": [
    "driver = webdriver.Chrome(r\"chromedriver.exe\")\n",
    "\n",
    "driver.get(\"https://www.google.com/maps/@22.724205,75.699032,11z?authuser=0\")"
   ]
  },
  {
   "cell_type": "code",
   "execution_count": 263,
   "id": "1f954f21",
   "metadata": {},
   "outputs": [],
   "source": [
    "catagory = driver.find_element(By.XPATH,\"/html/body/div[3]/div[9]/div[3]/div[1]/div[1]/div[1]/div[2]/form/div[2]/div[3]/div/input[1]\")\n",
    "catagory.send_keys(\"indore\")\n"
   ]
  },
  {
   "cell_type": "code",
   "execution_count": 264,
   "id": "c4ad6313",
   "metadata": {},
   "outputs": [],
   "source": [
    "search = driver.find_element(By.XPATH,\"/html/body/div[3]/div[9]/div[3]/div[1]/div[1]/div[1]/div[2]/div[1]/button\")\n",
    "search.click()"
   ]
  },
  {
   "cell_type": "code",
   "execution_count": 265,
   "id": "066f5218",
   "metadata": {},
   "outputs": [
    {
     "data": {
      "text/plain": [
       "['22.724205', '75.699032']"
      ]
     },
     "execution_count": 265,
     "metadata": {},
     "output_type": "execute_result"
    }
   ],
   "source": [
    "webdriver = driver.current_url\n",
    "webdriver.split('/@')[1].split(',')[0:2]"
   ]
  },
  {
   "cell_type": "code",
   "execution_count": null,
   "id": "84cc1ecb",
   "metadata": {},
   "outputs": [],
   "source": []
  },
  {
   "cell_type": "code",
   "execution_count": null,
   "id": "92a4fcbd",
   "metadata": {},
   "outputs": [],
   "source": []
  },
  {
   "cell_type": "markdown",
   "id": "385743c4",
   "metadata": {},
   "source": [
    "# answer 6"
   ]
  },
  {
   "cell_type": "code",
   "execution_count": null,
   "id": "cf7b6a3e",
   "metadata": {},
   "outputs": [],
   "source": []
  },
  {
   "cell_type": "code",
   "execution_count": 269,
   "id": "250ce052",
   "metadata": {},
   "outputs": [],
   "source": [
    "import selenium \n",
    "import pandas as pd\n",
    "from selenium import webdriver\n",
    "import warnings\n",
    "warnings.filterwarnings('ignore')\n",
    "from selenium.webdriver.common.by import By\n",
    "import time\n",
    "from selenium.common.exceptions import StaleElementReferenceException, NoSuchElementException\n",
    "from selenium.webdriver.common.keys import Keys"
   ]
  },
  {
   "cell_type": "code",
   "execution_count": 275,
   "id": "6db7e5ff",
   "metadata": {},
   "outputs": [],
   "source": [
    "driver = webdriver.Chrome(r\"chromedriver.exe\")\n",
    "\n",
    "driver.get(\"https://www.digit.in/\")"
   ]
  },
  {
   "cell_type": "code",
   "execution_count": 279,
   "id": "65423769",
   "metadata": {},
   "outputs": [],
   "source": [
    "catagory = driver.find_element(By.XPATH,\"/html/body/div[1]/div/div[3]/div[2]\")\n",
    "catagory.click()"
   ]
  },
  {
   "cell_type": "code",
   "execution_count": 280,
   "id": "2450319f",
   "metadata": {},
   "outputs": [],
   "source": [
    "catagory1 = driver.find_element(By.XPATH,\"/html/body/div[1]/div/div[3]/div[3]/div/div/input\")\n",
    "catagory1.send_keys(\"best gaming laptops\")"
   ]
  },
  {
   "cell_type": "code",
   "execution_count": 281,
   "id": "9cb99c4a",
   "metadata": {},
   "outputs": [],
   "source": [
    "catagory2 = driver.find_element(By.ID,\"globalPageSearchText\")\n",
    "catagory2.send_keys(Keys.ENTER)"
   ]
  },
  {
   "cell_type": "code",
   "execution_count": 291,
   "id": "7b2d6280",
   "metadata": {},
   "outputs": [],
   "source": [
    "detail1= []\n",
    "start=0\n",
    "end= 10\n",
    "for page in range(start,end):\n",
    "    titles=driver.find_elements(By.XPATH,'//div[@class=\"searchProduct-desc\"]')\n",
    "    for i in titles:\n",
    "        detail1.append(i.text)\n",
    "    next_button = driver.find_element(By.XPATH,'//li[@class=\"page-item\"]')\n",
    "    next_button.click()\n",
    "    time.sleep(3)"
   ]
  },
  {
   "cell_type": "code",
   "execution_count": 292,
   "id": "39597b11",
   "metadata": {},
   "outputs": [
    {
     "data": {
      "text/plain": [
       "['Samsung Series 9 (NP-900X3C)',\n",
       " 'HP Envy dv6-7206tx notebook',\n",
       " 'Lenovo IdeaPad Y570',\n",
       " 'Asus TUF Gaming FX505',\n",
       " 'Cooler Master Storm Devastator',\n",
       " 'Best gaming laptops under Rs 60,000',\n",
       " 'Best gaming laptops under Rs. 40,000',\n",
       " 'Best budget gaming laptops in India',\n",
       " 'Best budget gaming laptops for eSports',\n",
       " 'Digit Zero1 Awards 2019: Best Performing Gaming Laptops',\n",
       " 'Dell Alienware (17-inch)',\n",
       " 'MSI GE60 2PE',\n",
       " 'Best AMD Ryzen powered laptops for AAA gaming',\n",
       " 'Best high-end gaming laptops on Amazon India',\n",
       " '15 Best Affordable Gaming Laptops under Rs. 60,000',\n",
       " 'Best laptops for casual gaming on Amazon India',\n",
       " 'Best Budget Laptops for 1080p Gaming on Amazon India',\n",
       " 'Best gaming laptops for first timers on Amazon India',\n",
       " 'Best gaming laptops with good sound on Amazon India',\n",
       " 'Best gaming laptops with 16GB RAM on Amazon India',\n",
       " 'Samsung Series 9 (NP-900X3C)',\n",
       " 'HP Envy dv6-7206tx notebook',\n",
       " 'Lenovo IdeaPad Y570',\n",
       " 'Asus TUF Gaming FX505',\n",
       " 'Cooler Master Storm Devastator',\n",
       " 'Best gaming laptops under Rs 60,000',\n",
       " 'Best gaming laptops under Rs. 40,000',\n",
       " 'Best budget gaming laptops in India',\n",
       " 'Best budget gaming laptops for eSports',\n",
       " 'Digit Zero1 Awards 2019: Best Performing Gaming Laptops',\n",
       " 'Dell Alienware (17-inch)',\n",
       " 'MSI GE60 2PE',\n",
       " 'Best AMD Ryzen powered laptops for AAA gaming',\n",
       " 'Best high-end gaming laptops on Amazon India',\n",
       " '15 Best Affordable Gaming Laptops under Rs. 60,000',\n",
       " 'Best laptops for casual gaming on Amazon India',\n",
       " 'Best Budget Laptops for 1080p Gaming on Amazon India',\n",
       " 'Best gaming laptops for first timers on Amazon India',\n",
       " 'Best gaming laptops with good sound on Amazon India',\n",
       " 'Best gaming laptops with 16GB RAM on Amazon India',\n",
       " 'Samsung Series 9 (NP-900X3C)',\n",
       " 'HP Envy dv6-7206tx notebook',\n",
       " 'Lenovo IdeaPad Y570',\n",
       " 'Asus TUF Gaming FX505',\n",
       " 'Cooler Master Storm Devastator',\n",
       " 'Best gaming laptops under Rs 60,000',\n",
       " 'Best gaming laptops under Rs. 40,000',\n",
       " 'Best budget gaming laptops in India',\n",
       " 'Best budget gaming laptops for eSports',\n",
       " 'Digit Zero1 Awards 2019: Best Performing Gaming Laptops',\n",
       " 'Dell Alienware (17-inch)',\n",
       " 'MSI GE60 2PE',\n",
       " 'Best AMD Ryzen powered laptops for AAA gaming',\n",
       " 'Best high-end gaming laptops on Amazon India',\n",
       " '15 Best Affordable Gaming Laptops under Rs. 60,000',\n",
       " 'Best laptops for casual gaming on Amazon India',\n",
       " 'Best Budget Laptops for 1080p Gaming on Amazon India',\n",
       " 'Best gaming laptops for first timers on Amazon India',\n",
       " 'Best gaming laptops with good sound on Amazon India',\n",
       " 'Best gaming laptops with 16GB RAM on Amazon India',\n",
       " 'Samsung Series 9 (NP-900X3C)',\n",
       " 'HP Envy dv6-7206tx notebook',\n",
       " 'Lenovo IdeaPad Y570',\n",
       " 'Asus TUF Gaming FX505',\n",
       " 'Cooler Master Storm Devastator',\n",
       " 'Best gaming laptops under Rs 60,000',\n",
       " 'Best gaming laptops under Rs. 40,000',\n",
       " 'Best budget gaming laptops in India',\n",
       " 'Best budget gaming laptops for eSports',\n",
       " 'Digit Zero1 Awards 2019: Best Performing Gaming Laptops',\n",
       " 'Dell Alienware (17-inch)',\n",
       " 'MSI GE60 2PE',\n",
       " 'Best high-end gaming laptops on Amazon India',\n",
       " 'Best AMD Ryzen powered laptops for AAA gaming',\n",
       " '15 Best Affordable Gaming Laptops under Rs. 60,000',\n",
       " 'Best laptops for casual gaming on Amazon India',\n",
       " 'Best Budget Laptops for 1080p Gaming on Amazon India',\n",
       " 'Best gaming laptops for first timers on Amazon India',\n",
       " 'Best gaming laptops with good sound on Amazon India',\n",
       " 'Best gaming laptops with 16GB RAM on Amazon India',\n",
       " 'Samsung Series 9 (NP-900X3C)',\n",
       " 'HP Envy dv6-7206tx notebook',\n",
       " 'Lenovo IdeaPad Y570',\n",
       " 'Asus TUF Gaming FX505',\n",
       " 'Cooler Master Storm Devastator',\n",
       " 'Best gaming laptops under Rs. 40,000',\n",
       " 'Best gaming laptops under Rs 60,000',\n",
       " 'Best budget gaming laptops in India',\n",
       " 'Best budget gaming laptops for eSports',\n",
       " 'Digit Zero1 Awards 2019: Best Performing Gaming Laptops',\n",
       " 'Dell Alienware (17-inch)',\n",
       " 'MSI GE60 2PE',\n",
       " 'Best high-end gaming laptops on Amazon India',\n",
       " 'Best AMD Ryzen powered laptops for AAA gaming',\n",
       " '15 Best Affordable Gaming Laptops under Rs. 60,000',\n",
       " 'Best laptops for casual gaming on Amazon India',\n",
       " 'Best Budget Laptops for 1080p Gaming on Amazon India',\n",
       " 'Best gaming laptops for first timers on Amazon India',\n",
       " 'Best gaming laptops with good sound on Amazon India',\n",
       " 'Best gaming laptops with 16GB RAM on Amazon India']"
      ]
     },
     "execution_count": 292,
     "metadata": {},
     "output_type": "execute_result"
    }
   ],
   "source": [
    "detail1"
   ]
  },
  {
   "cell_type": "code",
   "execution_count": null,
   "id": "d06413bc",
   "metadata": {},
   "outputs": [],
   "source": []
  },
  {
   "cell_type": "code",
   "execution_count": null,
   "id": "11f9ca5b",
   "metadata": {},
   "outputs": [],
   "source": []
  },
  {
   "cell_type": "code",
   "execution_count": null,
   "id": "87a3686e",
   "metadata": {},
   "outputs": [],
   "source": []
  },
  {
   "cell_type": "markdown",
   "id": "b697b55c",
   "metadata": {},
   "source": [
    "# Answer --7"
   ]
  },
  {
   "cell_type": "code",
   "execution_count": 295,
   "id": "c3e7074c",
   "metadata": {},
   "outputs": [],
   "source": [
    "driver = webdriver.Chrome(r\"chromedriver.exe\")\n",
    "\n",
    "driver.get(\"https://www.forbes.com/?sh=3be0d1562254\")"
   ]
  },
  {
   "cell_type": "code",
   "execution_count": 296,
   "id": "37f45b33",
   "metadata": {},
   "outputs": [],
   "source": [
    "catagory = driver.find_element(By.XPATH,\"/html/body/div[1]/header/nav/div[1]/div[1]/div/div\")\n",
    "catagory.click()"
   ]
  },
  {
   "cell_type": "code",
   "execution_count": 297,
   "id": "91df1b8a",
   "metadata": {},
   "outputs": [],
   "source": [
    "catagory = driver.find_element(By.XPATH,\"/html/body/div[1]/header/nav/div[1]/div[1]/div/div[2]/ul/li[2]/div[1]\")\n",
    "catagory.click() "
   ]
  },
  {
   "cell_type": "code",
   "execution_count": 298,
   "id": "ca93862e",
   "metadata": {},
   "outputs": [],
   "source": [
    "catagory = driver.find_element(By.XPATH,\"/html/body/div[1]/header/nav/div[1]/div[1]/div/div[2]/ul/li[2]/div[2]/div[2]/a\")\n",
    "catagory.click()  "
   ]
  },
  {
   "cell_type": "code",
   "execution_count": 299,
   "id": "c294c80d",
   "metadata": {},
   "outputs": [],
   "source": [
    "catagory = driver.find_element(By.XPATH,\"/html/body/div[1]/div[2]/main/section/div/div/div/a[2]\")\n",
    "catagory.click()    "
   ]
  },
  {
   "cell_type": "code",
   "execution_count": 302,
   "id": "87336d89",
   "metadata": {},
   "outputs": [],
   "source": [
    "detail = []\n",
    "start=0\n",
    "end=1\n",
    "for page in range(start,end):\n",
    "    titles=driver.find_elements(By.XPATH,'//div[@class=\"Table_personName__UO41W\"]')\n",
    "    for i in titles:\n",
    "        detail.append(i.text)"
   ]
  },
  {
   "cell_type": "code",
   "execution_count": 301,
   "id": "e5f7d333",
   "metadata": {},
   "outputs": [
    {
     "data": {
      "text/plain": [
       "['Elon Musk',\n",
       " 'Jeff Bezos',\n",
       " 'Bill Gates',\n",
       " 'Larry Ellison',\n",
       " 'Warren Buffett',\n",
       " 'Larry Page',\n",
       " 'Sergey Brin',\n",
       " 'Steve Ballmer',\n",
       " 'Michael Bloomberg',\n",
       " 'Jim Walton',\n",
       " 'Mark Zuckerberg',\n",
       " 'Rob Walton',\n",
       " 'Charles Koch',\n",
       " 'Julia Koch & family',\n",
       " 'Alice Walton',\n",
       " 'Michael Dell',\n",
       " 'Phil Knight & family',\n",
       " 'MacKenzie Scott',\n",
       " 'Jacqueline Mars',\n",
       " 'John Mars',\n",
       " 'Ken Griffin',\n",
       " 'Len Blavatnik',\n",
       " 'Jeff Yass',\n",
       " 'Stephen Schwarzman',\n",
       " 'Jim Simons',\n",
       " 'Miriam Adelson & family',\n",
       " 'Leonard Lauder',\n",
       " 'Harold Hamm & family',\n",
       " 'Abigail Johnson',\n",
       " 'Lukas Walton',\n",
       " 'Thomas Peterffy',\n",
       " 'Ray Dalio',\n",
       " 'David Tepper',\n",
       " 'Eric Schmidt',\n",
       " 'Rupert Murdoch & family',\n",
       " 'Carl Icahn',\n",
       " 'Robert Pera',\n",
       " 'Steve Cohen',\n",
       " 'Donald Bren',\n",
       " 'Daniel Gilbert',\n",
       " 'Sam Bankman-Fried',\n",
       " 'Thomas Frist, Jr. & family',\n",
       " 'John Menard, Jr.',\n",
       " 'Jerry Jones',\n",
       " 'David Green & family',\n",
       " 'George Kaiser',\n",
       " 'Jan Koum',\n",
       " 'Jensen Huang',\n",
       " 'Stanley Kroenke',\n",
       " 'Laurene Powell Jobs & family',\n",
       " 'Diane Hendricks',\n",
       " 'Stephen Ross',\n",
       " 'Donald Newhouse',\n",
       " 'Israel Englander',\n",
       " 'Shahid Khan',\n",
       " 'Philip Anschutz',\n",
       " 'John Doerr',\n",
       " 'Jeffery Hildebrand',\n",
       " 'Robert Kraft',\n",
       " 'Charles Schwab',\n",
       " 'Andrew Beal',\n",
       " 'Michael Rubin',\n",
       " 'Autry Stephens',\n",
       " 'Christy Walton',\n",
       " 'Pierre Omidyar',\n",
       " 'Carl Cook',\n",
       " 'John Malone',\n",
       " 'David Duffield',\n",
       " 'Marijke Mars',\n",
       " 'Pamela Mars',\n",
       " 'Valerie Mars',\n",
       " 'Victoria Mars',\n",
       " 'Eric Smidt',\n",
       " 'Brian Chesky',\n",
       " 'Chase Coleman, III.',\n",
       " 'Patrick Ryan',\n",
       " 'Jim Kennedy',\n",
       " 'Blair Parry-Okeden',\n",
       " 'Jay Chaudhry',\n",
       " 'Ann Walton Kroenke',\n",
       " 'Leon Black',\n",
       " 'Bernard Marcus',\n",
       " 'Tamara Gustavson',\n",
       " 'Dustin Moskovitz',\n",
       " 'George Roberts',\n",
       " 'Robert F. Smith',\n",
       " 'Orlando Bravo',\n",
       " 'Michael Kim',\n",
       " 'Ramzi Musallam',\n",
       " 'Steven Rales',\n",
       " 'David Shaw',\n",
       " 'John Morris',\n",
       " 'Nathan Blecharczyk',\n",
       " 'Rocco Commisso',\n",
       " 'Tilman Fertitta',\n",
       " 'David Geffen',\n",
       " 'Nancy Walton Laurie',\n",
       " 'Harry Stine',\n",
       " 'Arthur Blank',\n",
       " 'Rick Cohen & family',\n",
       " 'Joe Gebbia',\n",
       " 'Leonard Stern',\n",
       " 'Tim Sweeney',\n",
       " 'Charles Butt',\n",
       " 'Arthur Dantchik',\n",
       " 'James Goodnight',\n",
       " 'Paul Tudor Jones, II.',\n",
       " 'Gordon Moore',\n",
       " 'Henry Kravis',\n",
       " 'Pauline MacMillan Keinath',\n",
       " 'Richard Kinder',\n",
       " 'Jeff Greene',\n",
       " 'Don Hankey',\n",
       " 'Leo Koguan',\n",
       " 'Jack Dangermond',\n",
       " 'J. Christopher Reyes',\n",
       " 'Jude Reyes',\n",
       " 'Don Vultaggio & family',\n",
       " 'Dannine Avara',\n",
       " 'Edythe Broad & family',\n",
       " 'Scott Duncan',\n",
       " 'Milane Frantz',\n",
       " 'Philippe Laffont',\n",
       " 'Igor Olenicoff',\n",
       " 'Randa Duncan Williams',\n",
       " 'John Overdeck',\n",
       " 'David Siegel',\n",
       " 'Judy Faulkner',\n",
       " 'Paul Lee',\n",
       " 'Terrence Pegula',\n",
       " 'Henry Samueli',\n",
       " 'George Soros',\n",
       " 'Bubba Cathy',\n",
       " 'Dan Cathy',\n",
       " 'Trudy Cathy White',\n",
       " 'Edward Johnson, IV.',\n",
       " 'Bruce Kovner',\n",
       " 'David Bonderman',\n",
       " 'Ralph Lauren',\n",
       " 'Reinhold Schmieding',\n",
       " 'John A. Sobrato & family',\n",
       " 'John Tu',\n",
       " 'Marc Benioff',\n",
       " 'Stephen Bisciotti',\n",
       " 'Stanley Druckenmiller',\n",
       " 'Melinda French Gates',\n",
       " 'Ted Lerner & family',\n",
       " 'Edward Roski, Jr.',\n",
       " 'David Sun',\n",
       " 'Ken Fisher',\n",
       " 'Dennis Washington',\n",
       " 'Neil Bluhm',\n",
       " 'Tom Gores',\n",
       " 'Li Ge',\n",
       " 'Michael Milken',\n",
       " 'David Steward',\n",
       " 'Les Wexner & family',\n",
       " 'Mitchell Rales',\n",
       " 'Antony Ressler',\n",
       " 'Josh Harris',\n",
       " 'Ray Lee Hunt',\n",
       " 'Ken Langone',\n",
       " 'Douglas Leone',\n",
       " 'Karen Pritzker',\n",
       " 'Patrick Soon-Shiong',\n",
       " 'Daniel Ziff',\n",
       " 'Dirk Ziff',\n",
       " 'Robert Ziff',\n",
       " 'Henry Nicholas, III.',\n",
       " 'Ronda Stryker',\n",
       " 'Micky Arison',\n",
       " 'James Chambers',\n",
       " 'Wesley Edens',\n",
       " 'Archie Aldis Emmerson & family',\n",
       " 'Jonathan Gray',\n",
       " 'Judy Love',\n",
       " 'Tom Love',\n",
       " 'Katharine Rayner',\n",
       " 'Paul Singer',\n",
       " 'Margaretta Taylor',\n",
       " 'Tom Golisano',\n",
       " 'Vinod Khosla',\n",
       " 'George Lucas',\n",
       " 'Todd Boehly',\n",
       " 'Rick Caruso',\n",
       " 'Lynda Resnick',\n",
       " 'Stewart Resnick',\n",
       " 'Charles Simonyi',\n",
       " 'Sam Zell',\n",
       " 'Robert Faith',\n",
       " 'Dan Friedkin',\n",
       " 'Jane Lauder',\n",
       " 'Robert Rich, Jr.',\n",
       " 'Gary Rollins',\n",
       " 'Mark Walter',\n",
       " 'Elizabeth Johnson',\n",
       " 'Sami Mnaymneh',\n",
       " 'Tony Tamer',\n",
       " 'Romesh T. Wadhwani',\n",
       " 'Ken Xie']"
      ]
     },
     "execution_count": 301,
     "metadata": {},
     "output_type": "execute_result"
    }
   ],
   "source": [
    "detail"
   ]
  },
  {
   "cell_type": "code",
   "execution_count": null,
   "id": "d7ad0fd8",
   "metadata": {},
   "outputs": [],
   "source": []
  },
  {
   "cell_type": "code",
   "execution_count": null,
   "id": "895ee98a",
   "metadata": {},
   "outputs": [],
   "source": []
  },
  {
   "cell_type": "code",
   "execution_count": null,
   "id": "3a396fa6",
   "metadata": {},
   "outputs": [],
   "source": []
  },
  {
   "cell_type": "code",
   "execution_count": null,
   "id": "8045abd2",
   "metadata": {},
   "outputs": [],
   "source": []
  },
  {
   "cell_type": "code",
   "execution_count": null,
   "id": "6cadb6d8",
   "metadata": {},
   "outputs": [],
   "source": []
  },
  {
   "cell_type": "markdown",
   "id": "e61df545",
   "metadata": {},
   "source": [
    "# Answer --8"
   ]
  },
  {
   "cell_type": "code",
   "execution_count": null,
   "id": "309ca81f",
   "metadata": {},
   "outputs": [],
   "source": []
  },
  {
   "cell_type": "code",
   "execution_count": 326,
   "id": "9a8ca69d",
   "metadata": {},
   "outputs": [],
   "source": [
    "driver = webdriver.Chrome(r\"chromedriver.exe\")\n",
    "\n",
    "driver.get(\"https://www.youtube.com/\")"
   ]
  },
  {
   "cell_type": "code",
   "execution_count": 328,
   "id": "64f71447",
   "metadata": {},
   "outputs": [],
   "source": [
    "catagory = driver.find_element(By.XPATH,\"/html/body/ytd-app/div[1]/ytd-page-manager/ytd-browse/ytd-two-column-browse-results-renderer/div[1]/ytd-rich-grid-renderer/div[6]/ytd-rich-grid-row[1]/div/ytd-rich-item-renderer/div/ytd-rich-grid-media/div[1]/div[2]/div[1]/h3/a/yt-formatted-string\")\n",
    "catagory.click()"
   ]
  },
  {
   "cell_type": "code",
   "execution_count": 351,
   "id": "3e166f40",
   "metadata": {},
   "outputs": [],
   "source": [
    "detail = []\n",
    "start=0\n",
    "end=1\n",
    "for _ in range(20):\n",
    "    driver.execute_script(\"window.scrollBy(0,1000)\")\n",
    "    titles=driver.find_elements(By.XPATH,'//yt-formatted-string[@class=\"style-scope ytd-comment-renderer\"]')\n",
    "    \n",
    "    for i in titles:\n",
    "        detail.append(i.text) "
   ]
  },
  {
   "cell_type": "code",
   "execution_count": 352,
   "id": "dcec5d8f",
   "metadata": {},
   "outputs": [
    {
     "data": {
      "text/plain": [
       "['Kerala vs Tamil Nadu bonding , Tamil Nadu vs telgu  heros bonding people   \\nReally appreciate it.super',\n",
       " 'Nice song & sweet voice ',\n",
       " 'Nice',\n",
       " 'Nice song',\n",
       " 'Super very nice',\n",
       " '',\n",
       " 'Nice song',\n",
       " 'బాస్ నువ్వు కొంచెం మంచి పాడుతుంటే సాంగ్స్ సూపర్ హిట్ సింగర్ మంగ్లీ పాడింది',\n",
       " 'Nice  song',\n",
       " 'Audio not clear after 2:47 sec onwards.',\n",
       " 'what happened after 2:46 ?',\n",
       " 'Super b',\n",
       " 'Harika',\n",
       " 'Super',\n",
       " 'Hj. Vvv',\n",
       " 'Super.songs.and.singr',\n",
       " 'Ilove song ️ Ilove music ️',\n",
       " 'How to upload videos without copyright',\n",
       " 'Tamil was wxat perpect',\n",
       " 'Io',\n",
       " 'J',\n",
       " 'Lost lyrics dengirra',\n",
       " 'Male voice not sets into song',\n",
       " 'Ppp ki',\n",
       " 'Not nice',\n",
       " 'Nice',\n",
       " 'Ih',\n",
       " 'Kerala vs Tamil Nadu bonding , Tamil Nadu vs telgu  heros bonding people   \\nReally appreciate it.super',\n",
       " 'Nice song & sweet voice ',\n",
       " 'Nice',\n",
       " 'Nice song',\n",
       " 'Super very nice',\n",
       " '',\n",
       " 'Nice song',\n",
       " 'బాస్ నువ్వు కొంచెం మంచి పాడుతుంటే సాంగ్స్ సూపర్ హిట్ సింగర్ మంగ్లీ పాడింది',\n",
       " 'Nice  song',\n",
       " 'Audio not clear after 2:47 sec onwards.',\n",
       " 'what happened after 2:46 ?',\n",
       " 'Super b',\n",
       " 'Harika',\n",
       " 'Super',\n",
       " 'Hj. Vvv',\n",
       " 'Super.songs.and.singr',\n",
       " 'Ilove song ️ Ilove music ️',\n",
       " 'How to upload videos without copyright',\n",
       " 'Tamil was wxat perpect',\n",
       " 'Io',\n",
       " 'J',\n",
       " 'Lost lyrics dengirra',\n",
       " 'Male voice not sets into song',\n",
       " 'Ppp ki',\n",
       " 'Not nice',\n",
       " 'Nice',\n",
       " 'Ih',\n",
       " 'Kerala vs Tamil Nadu bonding , Tamil Nadu vs telgu  heros bonding people   \\nReally appreciate it.super',\n",
       " 'Nice song & sweet voice ',\n",
       " 'Nice',\n",
       " 'Nice song',\n",
       " 'Super very nice',\n",
       " '',\n",
       " 'Nice song',\n",
       " 'బాస్ నువ్వు కొంచెం మంచి పాడుతుంటే సాంగ్స్ సూపర్ హిట్ సింగర్ మంగ్లీ పాడింది',\n",
       " 'Nice  song',\n",
       " 'Audio not clear after 2:47 sec onwards.',\n",
       " 'what happened after 2:46 ?',\n",
       " 'Super b',\n",
       " 'Harika',\n",
       " 'Super',\n",
       " 'Hj. Vvv',\n",
       " 'Super.songs.and.singr',\n",
       " 'Ilove song ️ Ilove music ️',\n",
       " 'How to upload videos without copyright',\n",
       " 'Tamil was wxat perpect',\n",
       " 'Io',\n",
       " 'J',\n",
       " 'Lost lyrics dengirra',\n",
       " 'Male voice not sets into song',\n",
       " 'Ppp ki',\n",
       " 'Not nice',\n",
       " 'Nice',\n",
       " 'Ih',\n",
       " 'Kerala vs Tamil Nadu bonding , Tamil Nadu vs telgu  heros bonding people   \\nReally appreciate it.super',\n",
       " 'Nice song & sweet voice ',\n",
       " 'Nice',\n",
       " 'Nice song',\n",
       " 'Super very nice',\n",
       " '',\n",
       " 'Nice song',\n",
       " 'బాస్ నువ్వు కొంచెం మంచి పాడుతుంటే సాంగ్స్ సూపర్ హిట్ సింగర్ మంగ్లీ పాడింది',\n",
       " 'Nice  song',\n",
       " 'Audio not clear after 2:47 sec onwards.',\n",
       " 'what happened after 2:46 ?',\n",
       " 'Super b',\n",
       " 'Harika',\n",
       " 'Super',\n",
       " 'Hj. Vvv',\n",
       " 'Super.songs.and.singr',\n",
       " 'Ilove song ️ Ilove music ️',\n",
       " 'How to upload videos without copyright',\n",
       " 'Tamil was wxat perpect',\n",
       " 'Io',\n",
       " 'J',\n",
       " 'Lost lyrics dengirra',\n",
       " 'Male voice not sets into song',\n",
       " 'Ppp ki',\n",
       " 'Not nice',\n",
       " 'Nice',\n",
       " 'Ih',\n",
       " 'Kerala vs Tamil Nadu bonding , Tamil Nadu vs telgu  heros bonding people   \\nReally appreciate it.super',\n",
       " 'Nice song & sweet voice ',\n",
       " 'Nice',\n",
       " 'Nice song',\n",
       " 'Super very nice',\n",
       " '',\n",
       " 'Nice song',\n",
       " 'బాస్ నువ్వు కొంచెం మంచి పాడుతుంటే సాంగ్స్ సూపర్ హిట్ సింగర్ మంగ్లీ పాడింది',\n",
       " 'Nice  song',\n",
       " 'Audio not clear after 2:47 sec onwards.',\n",
       " 'what happened after 2:46 ?',\n",
       " 'Super b',\n",
       " 'Harika',\n",
       " 'Super',\n",
       " 'Hj. Vvv',\n",
       " 'Super.songs.and.singr',\n",
       " 'Ilove song ️ Ilove music ️',\n",
       " 'How to upload videos without copyright',\n",
       " 'Tamil was wxat perpect',\n",
       " 'Io',\n",
       " 'J',\n",
       " 'Lost lyrics dengirra',\n",
       " 'Male voice not sets into song',\n",
       " 'Ppp ki',\n",
       " 'Not nice',\n",
       " 'Nice',\n",
       " 'Ih',\n",
       " 'Kerala vs Tamil Nadu bonding , Tamil Nadu vs telgu  heros bonding people   \\nReally appreciate it.super',\n",
       " 'Nice song & sweet voice ',\n",
       " 'Nice',\n",
       " 'Nice song',\n",
       " 'Super very nice',\n",
       " '',\n",
       " 'Nice song',\n",
       " 'బాస్ నువ్వు కొంచెం మంచి పాడుతుంటే సాంగ్స్ సూపర్ హిట్ సింగర్ మంగ్లీ పాడింది',\n",
       " 'Nice  song',\n",
       " 'Audio not clear after 2:47 sec onwards.',\n",
       " 'what happened after 2:46 ?',\n",
       " 'Super b',\n",
       " 'Harika',\n",
       " 'Super',\n",
       " 'Hj. Vvv',\n",
       " 'Super.songs.and.singr',\n",
       " 'Ilove song ️ Ilove music ️',\n",
       " 'How to upload videos without copyright',\n",
       " 'Tamil was wxat perpect',\n",
       " 'Io',\n",
       " 'J',\n",
       " 'Lost lyrics dengirra',\n",
       " 'Male voice not sets into song',\n",
       " 'Ppp ki',\n",
       " 'Not nice',\n",
       " 'Nice',\n",
       " 'Ih',\n",
       " 'Kerala vs Tamil Nadu bonding , Tamil Nadu vs telgu  heros bonding people   \\nReally appreciate it.super',\n",
       " 'Nice song & sweet voice ',\n",
       " 'Nice',\n",
       " 'Nice song',\n",
       " 'Super very nice',\n",
       " '',\n",
       " 'Nice song',\n",
       " 'బాస్ నువ్వు కొంచెం మంచి పాడుతుంటే సాంగ్స్ సూపర్ హిట్ సింగర్ మంగ్లీ పాడింది',\n",
       " 'Nice  song',\n",
       " 'Audio not clear after 2:47 sec onwards.',\n",
       " 'what happened after 2:46 ?',\n",
       " 'Super b',\n",
       " 'Harika',\n",
       " 'Super',\n",
       " 'Hj. Vvv',\n",
       " 'Super.songs.and.singr',\n",
       " 'Ilove song ️ Ilove music ️',\n",
       " 'How to upload videos without copyright',\n",
       " 'Tamil was wxat perpect',\n",
       " 'Io',\n",
       " 'J',\n",
       " 'Lost lyrics dengirra',\n",
       " 'Male voice not sets into song',\n",
       " 'Ppp ki',\n",
       " 'Not nice',\n",
       " 'Nice',\n",
       " 'Ih',\n",
       " 'Kerala vs Tamil Nadu bonding , Tamil Nadu vs telgu  heros bonding people   \\nReally appreciate it.super',\n",
       " 'Nice song & sweet voice ',\n",
       " 'Nice',\n",
       " 'Nice song',\n",
       " 'Super very nice',\n",
       " '',\n",
       " 'Nice song',\n",
       " 'బాస్ నువ్వు కొంచెం మంచి పాడుతుంటే సాంగ్స్ సూపర్ హిట్ సింగర్ మంగ్లీ పాడింది',\n",
       " 'Nice  song',\n",
       " 'Audio not clear after 2:47 sec onwards.',\n",
       " 'what happened after 2:46 ?',\n",
       " 'Super b',\n",
       " 'Harika',\n",
       " 'Super',\n",
       " 'Hj. Vvv',\n",
       " 'Super.songs.and.singr',\n",
       " 'Ilove song ️ Ilove music ️',\n",
       " 'How to upload videos without copyright',\n",
       " 'Tamil was wxat perpect',\n",
       " 'Io',\n",
       " 'J',\n",
       " 'Lost lyrics dengirra',\n",
       " 'Male voice not sets into song',\n",
       " 'Ppp ki',\n",
       " 'Not nice',\n",
       " 'Nice',\n",
       " 'Ih',\n",
       " 'Kerala vs Tamil Nadu bonding , Tamil Nadu vs telgu  heros bonding people   \\nReally appreciate it.super',\n",
       " 'Nice song & sweet voice ',\n",
       " 'Nice',\n",
       " 'Nice song',\n",
       " 'Super very nice',\n",
       " '',\n",
       " 'Nice song',\n",
       " 'బాస్ నువ్వు కొంచెం మంచి పాడుతుంటే సాంగ్స్ సూపర్ హిట్ సింగర్ మంగ్లీ పాడింది',\n",
       " 'Nice  song',\n",
       " 'Audio not clear after 2:47 sec onwards.',\n",
       " 'what happened after 2:46 ?',\n",
       " 'Super b',\n",
       " 'Harika',\n",
       " 'Super',\n",
       " 'Hj. Vvv',\n",
       " 'Super.songs.and.singr',\n",
       " 'Ilove song ️ Ilove music ️',\n",
       " 'How to upload videos without copyright',\n",
       " 'Tamil was wxat perpect',\n",
       " 'Io',\n",
       " 'J',\n",
       " 'Lost lyrics dengirra',\n",
       " 'Male voice not sets into song',\n",
       " 'Ppp ki',\n",
       " 'Not nice',\n",
       " 'Nice',\n",
       " 'Ih',\n",
       " 'Kerala vs Tamil Nadu bonding , Tamil Nadu vs telgu  heros bonding people   \\nReally appreciate it.super',\n",
       " 'Nice song & sweet voice ',\n",
       " 'Nice',\n",
       " 'Nice song',\n",
       " 'Super very nice',\n",
       " '',\n",
       " 'Nice song',\n",
       " 'బాస్ నువ్వు కొంచెం మంచి పాడుతుంటే సాంగ్స్ సూపర్ హిట్ సింగర్ మంగ్లీ పాడింది',\n",
       " 'Nice  song',\n",
       " 'Audio not clear after 2:47 sec onwards.',\n",
       " 'what happened after 2:46 ?',\n",
       " 'Super b',\n",
       " 'Harika',\n",
       " 'Super',\n",
       " 'Hj. Vvv',\n",
       " 'Super.songs.and.singr',\n",
       " 'Ilove song ️ Ilove music ️',\n",
       " 'How to upload videos without copyright',\n",
       " 'Tamil was wxat perpect',\n",
       " 'Io',\n",
       " 'J',\n",
       " 'Lost lyrics dengirra',\n",
       " 'Male voice not sets into song',\n",
       " 'Ppp ki',\n",
       " 'Not nice',\n",
       " 'Nice',\n",
       " 'Ih',\n",
       " 'Kerala vs Tamil Nadu bonding , Tamil Nadu vs telgu  heros bonding people   \\nReally appreciate it.super',\n",
       " 'Nice song & sweet voice ',\n",
       " 'Nice',\n",
       " 'Nice song',\n",
       " 'Super very nice',\n",
       " '',\n",
       " 'Nice song',\n",
       " 'బాస్ నువ్వు కొంచెం మంచి పాడుతుంటే సాంగ్స్ సూపర్ హిట్ సింగర్ మంగ్లీ పాడింది',\n",
       " 'Nice  song',\n",
       " 'Audio not clear after 2:47 sec onwards.',\n",
       " 'what happened after 2:46 ?',\n",
       " 'Super b',\n",
       " 'Harika',\n",
       " 'Super',\n",
       " 'Hj. Vvv',\n",
       " 'Super.songs.and.singr',\n",
       " 'Ilove song ️ Ilove music ️',\n",
       " 'How to upload videos without copyright',\n",
       " 'Tamil was wxat perpect',\n",
       " 'Io',\n",
       " 'J',\n",
       " 'Lost lyrics dengirra',\n",
       " 'Male voice not sets into song',\n",
       " 'Ppp ki',\n",
       " 'Not nice',\n",
       " 'Nice',\n",
       " 'Ih',\n",
       " 'Kerala vs Tamil Nadu bonding , Tamil Nadu vs telgu  heros bonding people   \\nReally appreciate it.super',\n",
       " 'Nice song & sweet voice ',\n",
       " 'Nice',\n",
       " 'Nice song',\n",
       " 'Super very nice',\n",
       " '',\n",
       " 'Nice song',\n",
       " 'బాస్ నువ్వు కొంచెం మంచి పాడుతుంటే సాంగ్స్ సూపర్ హిట్ సింగర్ మంగ్లీ పాడింది',\n",
       " 'Nice  song',\n",
       " 'Audio not clear after 2:47 sec onwards.',\n",
       " 'what happened after 2:46 ?',\n",
       " 'Super b',\n",
       " 'Harika',\n",
       " 'Super',\n",
       " 'Hj. Vvv',\n",
       " 'Super.songs.and.singr',\n",
       " 'Ilove song ️ Ilove music ️',\n",
       " 'How to upload videos without copyright',\n",
       " 'Tamil was wxat perpect',\n",
       " 'Io',\n",
       " 'J',\n",
       " 'Lost lyrics dengirra',\n",
       " 'Male voice not sets into song',\n",
       " 'Ppp ki',\n",
       " 'Not nice',\n",
       " 'Nice',\n",
       " 'Ih',\n",
       " 'Kerala vs Tamil Nadu bonding , Tamil Nadu vs telgu  heros bonding people   \\nReally appreciate it.super',\n",
       " 'Nice song & sweet voice ',\n",
       " 'Nice',\n",
       " 'Nice song',\n",
       " 'Super very nice',\n",
       " '',\n",
       " 'Nice song',\n",
       " 'బాస్ నువ్వు కొంచెం మంచి పాడుతుంటే సాంగ్స్ సూపర్ హిట్ సింగర్ మంగ్లీ పాడింది',\n",
       " 'Nice  song',\n",
       " 'Audio not clear after 2:47 sec onwards.',\n",
       " 'what happened after 2:46 ?',\n",
       " 'Super b',\n",
       " 'Harika',\n",
       " 'Super',\n",
       " 'Hj. Vvv',\n",
       " 'Super.songs.and.singr',\n",
       " 'Ilove song ️ Ilove music ️',\n",
       " 'How to upload videos without copyright',\n",
       " 'Tamil was wxat perpect',\n",
       " 'Io',\n",
       " 'J',\n",
       " 'Lost lyrics dengirra',\n",
       " 'Male voice not sets into song',\n",
       " 'Ppp ki',\n",
       " 'Not nice',\n",
       " 'Nice',\n",
       " 'Ih',\n",
       " 'Kerala vs Tamil Nadu bonding , Tamil Nadu vs telgu  heros bonding people   \\nReally appreciate it.super',\n",
       " 'Nice song & sweet voice ',\n",
       " 'Nice',\n",
       " 'Nice song',\n",
       " 'Super very nice',\n",
       " '',\n",
       " 'Nice song',\n",
       " 'బాస్ నువ్వు కొంచెం మంచి పాడుతుంటే సాంగ్స్ సూపర్ హిట్ సింగర్ మంగ్లీ పాడింది',\n",
       " 'Nice  song',\n",
       " 'Audio not clear after 2:47 sec onwards.',\n",
       " 'what happened after 2:46 ?',\n",
       " 'Super b',\n",
       " 'Harika',\n",
       " 'Super',\n",
       " 'Hj. Vvv',\n",
       " 'Super.songs.and.singr',\n",
       " 'Ilove song ️ Ilove music ️',\n",
       " 'How to upload videos without copyright',\n",
       " 'Tamil was wxat perpect',\n",
       " 'Io',\n",
       " 'J',\n",
       " 'Lost lyrics dengirra',\n",
       " 'Male voice not sets into song',\n",
       " 'Ppp ki',\n",
       " 'Not nice',\n",
       " 'Nice',\n",
       " 'Ih',\n",
       " 'Kerala vs Tamil Nadu bonding , Tamil Nadu vs telgu  heros bonding people   \\nReally appreciate it.super',\n",
       " 'Nice song & sweet voice ',\n",
       " 'Nice',\n",
       " 'Nice song',\n",
       " 'Super very nice',\n",
       " '',\n",
       " 'Nice song',\n",
       " 'బాస్ నువ్వు కొంచెం మంచి పాడుతుంటే సాంగ్స్ సూపర్ హిట్ సింగర్ మంగ్లీ పాడింది',\n",
       " 'Nice  song',\n",
       " 'Audio not clear after 2:47 sec onwards.',\n",
       " 'what happened after 2:46 ?',\n",
       " 'Super b',\n",
       " 'Harika',\n",
       " 'Super',\n",
       " 'Hj. Vvv',\n",
       " 'Super.songs.and.singr',\n",
       " 'Ilove song ️ Ilove music ️',\n",
       " 'How to upload videos without copyright',\n",
       " 'Tamil was wxat perpect',\n",
       " 'Io',\n",
       " 'J',\n",
       " 'Lost lyrics dengirra',\n",
       " 'Male voice not sets into song',\n",
       " 'Ppp ki',\n",
       " 'Not nice',\n",
       " 'Nice',\n",
       " 'Ih',\n",
       " 'Kerala vs Tamil Nadu bonding , Tamil Nadu vs telgu  heros bonding people   \\nReally appreciate it.super',\n",
       " 'Nice song & sweet voice ',\n",
       " 'Nice',\n",
       " 'Nice song',\n",
       " 'Super very nice',\n",
       " '',\n",
       " 'Nice song',\n",
       " 'బాస్ నువ్వు కొంచెం మంచి పాడుతుంటే సాంగ్స్ సూపర్ హిట్ సింగర్ మంగ్లీ పాడింది',\n",
       " 'Nice  song',\n",
       " 'Audio not clear after 2:47 sec onwards.',\n",
       " 'what happened after 2:46 ?',\n",
       " 'Super b',\n",
       " 'Harika',\n",
       " 'Super',\n",
       " 'Hj. Vvv',\n",
       " 'Super.songs.and.singr',\n",
       " 'Ilove song ️ Ilove music ️',\n",
       " 'How to upload videos without copyright',\n",
       " 'Tamil was wxat perpect',\n",
       " 'Io',\n",
       " 'J',\n",
       " 'Lost lyrics dengirra',\n",
       " 'Male voice not sets into song',\n",
       " 'Ppp ki',\n",
       " 'Not nice',\n",
       " 'Nice',\n",
       " 'Ih',\n",
       " 'Kerala vs Tamil Nadu bonding , Tamil Nadu vs telgu  heros bonding people   \\nReally appreciate it.super',\n",
       " 'Nice song & sweet voice ',\n",
       " 'Nice',\n",
       " 'Nice song',\n",
       " 'Super very nice',\n",
       " '',\n",
       " 'Nice song',\n",
       " 'బాస్ నువ్వు కొంచెం మంచి పాడుతుంటే సాంగ్స్ సూపర్ హిట్ సింగర్ మంగ్లీ పాడింది',\n",
       " 'Nice  song',\n",
       " 'Audio not clear after 2:47 sec onwards.',\n",
       " 'what happened after 2:46 ?',\n",
       " 'Super b',\n",
       " 'Harika',\n",
       " 'Super',\n",
       " 'Hj. Vvv',\n",
       " 'Super.songs.and.singr',\n",
       " 'Ilove song ️ Ilove music ️',\n",
       " 'How to upload videos without copyright',\n",
       " 'Tamil was wxat perpect',\n",
       " 'Io',\n",
       " 'J',\n",
       " 'Lost lyrics dengirra',\n",
       " 'Male voice not sets into song',\n",
       " 'Ppp ki',\n",
       " 'Not nice',\n",
       " 'Nice',\n",
       " 'Ih',\n",
       " 'Kerala vs Tamil Nadu bonding , Tamil Nadu vs telgu  heros bonding people   \\nReally appreciate it.super',\n",
       " 'Nice song & sweet voice ',\n",
       " 'Nice',\n",
       " 'Nice song',\n",
       " 'Super very nice',\n",
       " '',\n",
       " 'Nice song',\n",
       " 'బాస్ నువ్వు కొంచెం మంచి పాడుతుంటే సాంగ్స్ సూపర్ హిట్ సింగర్ మంగ్లీ పాడింది',\n",
       " 'Nice  song',\n",
       " 'Audio not clear after 2:47 sec onwards.',\n",
       " 'what happened after 2:46 ?',\n",
       " 'Super b',\n",
       " 'Harika',\n",
       " 'Super',\n",
       " 'Hj. Vvv',\n",
       " 'Super.songs.and.singr',\n",
       " 'Ilove song ️ Ilove music ️',\n",
       " 'How to upload videos without copyright',\n",
       " 'Tamil was wxat perpect',\n",
       " 'Io',\n",
       " 'J',\n",
       " 'Lost lyrics dengirra',\n",
       " 'Male voice not sets into song',\n",
       " 'Ppp ki',\n",
       " 'Not nice',\n",
       " 'Nice',\n",
       " 'Ih',\n",
       " 'Kerala vs Tamil Nadu bonding , Tamil Nadu vs telgu  heros bonding people   \\nReally appreciate it.super',\n",
       " 'Nice song & sweet voice ',\n",
       " 'Nice',\n",
       " 'Nice song',\n",
       " 'Super very nice',\n",
       " '',\n",
       " 'Nice song',\n",
       " 'బాస్ నువ్వు కొంచెం మంచి పాడుతుంటే సాంగ్స్ సూపర్ హిట్ సింగర్ మంగ్లీ పాడింది',\n",
       " 'Nice  song',\n",
       " 'Audio not clear after 2:47 sec onwards.',\n",
       " 'what happened after 2:46 ?',\n",
       " 'Super b',\n",
       " 'Harika',\n",
       " 'Super',\n",
       " 'Hj. Vvv',\n",
       " 'Super.songs.and.singr',\n",
       " 'Ilove song ️ Ilove music ️',\n",
       " 'How to upload videos without copyright',\n",
       " 'Tamil was wxat perpect',\n",
       " 'Io',\n",
       " 'J',\n",
       " 'Lost lyrics dengirra',\n",
       " 'Male voice not sets into song',\n",
       " 'Ppp ki',\n",
       " 'Not nice',\n",
       " 'Nice',\n",
       " 'Ih',\n",
       " 'Kerala vs Tamil Nadu bonding , Tamil Nadu vs telgu  heros bonding people   \\nReally appreciate it.super',\n",
       " 'Nice song & sweet voice ',\n",
       " 'Nice',\n",
       " 'Nice song',\n",
       " 'Super very nice',\n",
       " '',\n",
       " 'Nice song',\n",
       " 'బాస్ నువ్వు కొంచెం మంచి పాడుతుంటే సాంగ్స్ సూపర్ హిట్ సింగర్ మంగ్లీ పాడింది',\n",
       " 'Nice  song',\n",
       " 'Audio not clear after 2:47 sec onwards.',\n",
       " 'what happened after 2:46 ?',\n",
       " 'Super b',\n",
       " 'Harika',\n",
       " 'Super',\n",
       " 'Hj. Vvv',\n",
       " 'Super.songs.and.singr',\n",
       " 'Ilove song ️ Ilove music ️',\n",
       " 'How to upload videos without copyright',\n",
       " 'Tamil was wxat perpect',\n",
       " 'Io',\n",
       " 'J',\n",
       " 'Lost lyrics dengirra',\n",
       " 'Male voice not sets into song',\n",
       " 'Ppp ki',\n",
       " 'Not nice',\n",
       " 'Nice',\n",
       " 'Ih']"
      ]
     },
     "execution_count": 352,
     "metadata": {},
     "output_type": "execute_result"
    }
   ],
   "source": [
    "detail"
   ]
  },
  {
   "cell_type": "code",
   "execution_count": null,
   "id": "4013c5b4",
   "metadata": {},
   "outputs": [],
   "source": []
  },
  {
   "cell_type": "code",
   "execution_count": null,
   "id": "7aeb0011",
   "metadata": {},
   "outputs": [],
   "source": []
  },
  {
   "cell_type": "code",
   "execution_count": null,
   "id": "07e8ed63",
   "metadata": {},
   "outputs": [],
   "source": []
  },
  {
   "cell_type": "markdown",
   "id": "7fad8e80",
   "metadata": {},
   "source": [
    "# Answe 9"
   ]
  },
  {
   "cell_type": "code",
   "execution_count": null,
   "id": "fd859285",
   "metadata": {},
   "outputs": [],
   "source": []
  },
  {
   "cell_type": "code",
   "execution_count": 353,
   "id": "90e70816",
   "metadata": {},
   "outputs": [],
   "source": [
    "from selenium import webdriver\n",
    "from selenium.webdriver.chrome.options import Options\n",
    "from selenium.webdriver.common.keys import Keys\n",
    "import time\n",
    "import selenium\n",
    "from PIL import Image\n",
    "import pandas as pd\n",
    "import urllib\n",
    "from selenium import webdriver"
   ]
  },
  {
   "cell_type": "code",
   "execution_count": 354,
   "id": "6bd84c19",
   "metadata": {},
   "outputs": [],
   "source": [
    "driver = webdriver.Chrome(r\"chromedriver.exe\")\n",
    "\n",
    "driver.get(\"https://www.hostelworld.com/\")"
   ]
  },
  {
   "cell_type": "code",
   "execution_count": 355,
   "id": "612ac05d",
   "metadata": {},
   "outputs": [],
   "source": [
    "catagory = driver.find_element(By.XPATH,'/html/body/div[3]/div/div/div[2]/div[2]/div/div/div[4]/div/div[2]/div/div[1]/div/div/div/input')\n",
    "time.sleep(5)\n",
    "catagory.send_keys('london')"
   ]
  },
  {
   "cell_type": "code",
   "execution_count": 356,
   "id": "d95495d0",
   "metadata": {},
   "outputs": [],
   "source": [
    "catagory = driver.find_element(By.XPATH,'/html/body/div[3]/div/div/div[2]/div[2]/div/div/div[4]/div/div[2]/div/div[1]/div/div/ul/li[2]')\n",
    "catagory.click()"
   ]
  },
  {
   "cell_type": "code",
   "execution_count": 360,
   "id": "ce190974",
   "metadata": {},
   "outputs": [],
   "source": [
    "catagory = driver.find_element(By.XPATH,'/html/body/div[3]/div/div/div[2]/div[2]/div/div/div[4]/div/div[2]/div/div[5]/button')\n",
    "catagory.click()"
   ]
  },
  {
   "cell_type": "code",
   "execution_count": 380,
   "id": "be0e4204",
   "metadata": {},
   "outputs": [],
   "source": [
    "name = []\n",
    "start=0\n",
    "end= 1\n",
    "for page in range(start,end):\n",
    "    titles=driver.find_elements(By.XPATH,\"//h2[@class='title title-6']\")\n",
    "    for i in titles:\n",
    "        name.append(i.text)"
   ]
  },
  {
   "cell_type": "code",
   "execution_count": 382,
   "id": "1be471b6",
   "metadata": {},
   "outputs": [
    {
     "data": {
      "text/plain": [
       "['PubLove @ The Rose & Crown',\n",
       " 'London Waterloo Hostel',\n",
       " 'Elmwood Hotel',\n",
       " 'Hostelle London',\n",
       " 'PubLove @ The Exmouth Arms, Euston',\n",
       " 'PubLove @ The Green Man, Paddington',\n",
       " \"Tony's House Hotel\",\n",
       " 'YHA London St Pancras',\n",
       " 'Chester Hotel Victoria',\n",
       " 'City Hotel Carlton',\n",
       " 'Enrico Hotel',\n",
       " 'Kip Hotel',\n",
       " 'Colliers Hotel',\n",
       " 'Belgrave Hotel London',\n",
       " 'TLK Apartments & Hotel',\n",
       " 'Beaconsfield',\n",
       " 'Hyde Park Court Hotel',\n",
       " 'Europa House Hotel',\n",
       " 'Hotel Shepherds Bush London',\n",
       " \"Litsa's Central Studios\",\n",
       " 'Budget London Apartments',\n",
       " 'The London Home Hostel']"
      ]
     },
     "execution_count": 382,
     "metadata": {},
     "output_type": "execute_result"
    }
   ],
   "source": [
    "name"
   ]
  },
  {
   "cell_type": "code",
   "execution_count": 404,
   "id": "cb4e893a",
   "metadata": {},
   "outputs": [],
   "source": [
    "#detail23 = []\n"
   ]
  },
  {
   "cell_type": "code",
   "execution_count": 416,
   "id": "c4af4324",
   "metadata": {},
   "outputs": [],
   "source": [
    "distance = []\n",
    "start=0\n",
    "end=1\n",
    "for page in range(start,end):\n",
    "    titles=driver.find_elements(By.XPATH,'//span[@class=\"description\"]')\n",
    "    for i in titles:\n",
    "        distance.append(i.text) "
   ]
  },
  {
   "cell_type": "code",
   "execution_count": 417,
   "id": "eefb4769",
   "metadata": {},
   "outputs": [
    {
     "data": {
      "text/plain": [
       "['Hostel - 1.6km from city centre',\n",
       " 'Hostel - 0.7km from city centre',\n",
       " 'Hotel - 3.2km from city centre',\n",
       " 'Hostel - 5.1km from city centre',\n",
       " 'Hostel - 3.4km from city centre',\n",
       " 'Hostel - 4.3km from city centre',\n",
       " 'Hotel - 4.3km from city centre',\n",
       " 'Hostel - 3.3km from city centre',\n",
       " 'Hotel - 1.9km from city centre',\n",
       " 'Hotel - 1.8km from city centre',\n",
       " 'Hotel - 2km from city centre',\n",
       " 'Hotel - 6.8km from city centre',\n",
       " 'Hotel - 2.1km from city centre',\n",
       " 'Hotel - 2.2km from city centre',\n",
       " 'Hotel - 19.9km from city centre',\n",
       " 'Hotel - 8.6km from city centre',\n",
       " 'Hotel - 4.3km from city centre',\n",
       " 'Hotel - 4.2km from city centre',\n",
       " 'Hotel - 7.6km from city centre',\n",
       " 'Hostel - 4.3km from city centre',\n",
       " 'Apartment - 8.2km from city centre',\n",
       " 'Hostel - 8.2km from city centre']"
      ]
     },
     "execution_count": 417,
     "metadata": {},
     "output_type": "execute_result"
    }
   ],
   "source": [
    "distance"
   ]
  },
  {
   "cell_type": "code",
   "execution_count": 418,
   "id": "2c0fcff3",
   "metadata": {},
   "outputs": [],
   "source": [
    "ratings = []\n",
    "start=0\n",
    "end=1\n",
    "for page in range(start,end):\n",
    "    titles=driver.find_elements(By.XPATH,'//div[@class=\"score orange big\"]')\n",
    "    for i in titles:\n",
    "        ratings.append(i.text) "
   ]
  },
  {
   "cell_type": "code",
   "execution_count": 419,
   "id": "7f5dd96c",
   "metadata": {},
   "outputs": [
    {
     "data": {
      "text/plain": [
       "['6.9',\n",
       " '7.7',\n",
       " '8.6',\n",
       " '6.6',\n",
       " '6.7',\n",
       " '8.0',\n",
       " '8.3',\n",
       " '6.1',\n",
       " '6.6',\n",
       " '7.0',\n",
       " '8.3',\n",
       " '8.6']"
      ]
     },
     "execution_count": 419,
     "metadata": {},
     "output_type": "execute_result"
    }
   ],
   "source": [
    "ratings"
   ]
  },
  {
   "cell_type": "code",
   "execution_count": 420,
   "id": "80cc0ea0",
   "metadata": {},
   "outputs": [],
   "source": [
    "reviews = []\n",
    "start=0\n",
    "end=1\n",
    "for page in range(start,end):\n",
    "    titles=driver.find_elements(By.XPATH,'//div[@class=\"reviews\"]')\n",
    "    for i in titles:\n",
    "        reviews.append(i.text) "
   ]
  },
  {
   "cell_type": "code",
   "execution_count": 421,
   "id": "e56ea4e2",
   "metadata": {},
   "outputs": [
    {
     "data": {
      "text/plain": [
       "['178 Total Reviews',\n",
       " '2528 Total Reviews',\n",
       " '126 Total Reviews',\n",
       " '7 Total Reviews',\n",
       " '1072 Total Reviews',\n",
       " '442 Total Reviews',\n",
       " '419 Total Reviews',\n",
       " '2866 Total Reviews',\n",
       " '170 Total Reviews',\n",
       " '48 Total Reviews',\n",
       " '166 Total Reviews',\n",
       " '55 Total Reviews',\n",
       " '9 Total Reviews',\n",
       " '11 Total Reviews',\n",
       " '0 Total Reviews',\n",
       " '29 Total Reviews',\n",
       " '139 Total Reviews',\n",
       " '0 Total Reviews',\n",
       " '1 Total Review',\n",
       " '0 Total Reviews',\n",
       " '357 Total Reviews',\n",
       " '262 Total Reviews']"
      ]
     },
     "execution_count": 421,
     "metadata": {},
     "output_type": "execute_result"
    }
   ],
   "source": [
    "reviews"
   ]
  },
  {
   "cell_type": "code",
   "execution_count": 422,
   "id": "291f8ef3",
   "metadata": {},
   "outputs": [],
   "source": [
    "overall_reviews = []\n",
    "start=0\n",
    "end=1\n",
    "for page in range(start,end):\n",
    "    titles=driver.find_elements(By.XPATH,'//div[@class=\"keyword\"]')\n",
    "    for i in titles:\n",
    "        overall_reviews.append(i.text) "
   ]
  },
  {
   "cell_type": "code",
   "execution_count": 423,
   "id": "147dd27c",
   "metadata": {},
   "outputs": [
    {
     "data": {
      "text/plain": [
       "['Good',\n",
       " 'Rating',\n",
       " 'Very Good',\n",
       " 'Fabulous',\n",
       " 'Good',\n",
       " 'Good',\n",
       " 'Fabulous',\n",
       " 'Fabulous',\n",
       " 'Good',\n",
       " 'Good',\n",
       " 'No Rating',\n",
       " 'Very Good',\n",
       " 'Rating',\n",
       " 'Fabulous',\n",
       " 'No Rating',\n",
       " 'Fabulous',\n",
       " 'Rating',\n",
       " 'NEW',\n",
       " 'Rating',\n",
       " 'NEW',\n",
       " 'Rating',\n",
       " 'Rating']"
      ]
     },
     "execution_count": 423,
     "metadata": {},
     "output_type": "execute_result"
    }
   ],
   "source": [
    "overall_reviews"
   ]
  },
  {
   "cell_type": "code",
   "execution_count": 437,
   "id": "c0c1f6cb",
   "metadata": {},
   "outputs": [],
   "source": [
    "#privates from price\n",
    "p_price = []\n",
    "start=0\n",
    "end=1\n",
    "for page in range(start,end):\n",
    "    titles=driver.find_elements(By.XPATH,'//a[@class=\"prices\"]')\n",
    "    for i in titles:\n",
    "        p_price.append(i.text.split('\\n')[0]) "
   ]
  },
  {
   "cell_type": "code",
   "execution_count": 438,
   "id": "47ec13a3",
   "metadata": {},
   "outputs": [
    {
     "data": {
      "text/plain": [
       "['No Privates Available',\n",
       " 'No Privates Available',\n",
       " 'Privates From',\n",
       " 'No Privates Available',\n",
       " 'No Privates Available',\n",
       " 'No Privates Available',\n",
       " 'Privates From',\n",
       " 'Privates From',\n",
       " 'Privates From',\n",
       " 'Privates From',\n",
       " 'Privates From',\n",
       " 'Privates From',\n",
       " 'Privates From',\n",
       " 'Privates From',\n",
       " 'Privates From',\n",
       " 'Privates From',\n",
       " 'Privates From',\n",
       " 'Privates From',\n",
       " 'Privates From',\n",
       " 'Privates From',\n",
       " 'No Privates Available',\n",
       " 'No Privates Available']"
      ]
     },
     "execution_count": 438,
     "metadata": {},
     "output_type": "execute_result"
    }
   ],
   "source": [
    "p_price"
   ]
  },
  {
   "cell_type": "code",
   "execution_count": 439,
   "id": "f9a04b14",
   "metadata": {},
   "outputs": [],
   "source": [
    "#dorms from price\n",
    "d_price = []\n",
    "start=0\n",
    "end=1\n",
    "for page in range(start,end):\n",
    "    titles=driver.find_elements(By.XPATH,'//a[@class=\"prices\"]')\n",
    "    for i in titles:\n",
    "        d_price.append(i.text.split('\\n')[1]) "
   ]
  },
  {
   "cell_type": "code",
   "execution_count": 440,
   "id": "7fc67858",
   "metadata": {},
   "outputs": [
    {
     "data": {
      "text/plain": [
       "['Dorms From',\n",
       " 'Dorms From',\n",
       " 'Rs12877',\n",
       " 'Dorms From',\n",
       " 'Dorms From',\n",
       " 'Dorms From',\n",
       " 'Rs13520',\n",
       " 'Rs21348',\n",
       " 'Rs18347',\n",
       " 'Rs19653',\n",
       " 'Rs8641',\n",
       " 'Rs9454',\n",
       " 'Rs8675',\n",
       " 'Rs8810',\n",
       " 'Rs9786',\n",
       " 'Rs7353',\n",
       " 'Rs10335',\n",
       " 'Rs9149',\n",
       " 'Rs31776',\n",
       " 'Rs10979',\n",
       " 'Dorms From',\n",
       " 'Dorms From']"
      ]
     },
     "execution_count": 440,
     "metadata": {},
     "output_type": "execute_result"
    }
   ],
   "source": [
    "d_price"
   ]
  },
  {
   "cell_type": "code",
   "execution_count": 443,
   "id": "4a621fec",
   "metadata": {},
   "outputs": [],
   "source": [
    "#facilities and property description\n",
    "fnpd = []\n",
    "start=0\n",
    "end=1\n",
    "for page in range(start,end):\n",
    "    titles=driver.find_elements(By.XPATH,'//div[@class=\"rating-factors prop-card-tablet rating-factors small\"]')\n",
    "    for i in titles:\n",
    "        fnpd.append(i.text) "
   ]
  },
  {
   "cell_type": "code",
   "execution_count": 444,
   "id": "4138d503",
   "metadata": {},
   "outputs": [
    {
     "data": {
      "text/plain": [
       "['Perfect Location\\nMarvellous Staff\\nAwesome Cleanliness',\n",
       " 'Wonderful Location\\nBrilliant Staff',\n",
       " 'Perfect Location\\nMarvellous Staff\\nAwesome Cleanliness',\n",
       " 'Wonderful Location\\nSuperb Staff\\nFantastic Cleanliness',\n",
       " 'Wonderful Location\\nBrilliant Staff\\nAwesome Cleanliness',\n",
       " 'Wonderful Location\\nMarvellous Staff\\nGood Cleanliness',\n",
       " 'Perfect Location\\nSuperb Staff\\nExcellent Cleanliness',\n",
       " 'Perfect Location\\nSuperb Staff\\nExcellent Cleanliness',\n",
       " 'Perfect Location\\nBrilliant Staff',\n",
       " 'Perfect Location\\nMarvellous Staff',\n",
       " '',\n",
       " 'Wonderful Location\\nSuperb Staff\\nAwesome Cleanliness',\n",
       " 'Wonderful Location\\nHelpful Staff',\n",
       " 'Perfect Location\\nMarvellous Staff\\nExcellent Cleanliness',\n",
       " '',\n",
       " 'Perfect Location\\nSuperb Staff\\nExcellent Cleanliness',\n",
       " 'Perfect Location\\nHelpful Staff',\n",
       " '',\n",
       " 'Nice Location\\nSuperb Staff\\nGood Cleanliness',\n",
       " '',\n",
       " 'Nice Location',\n",
       " 'Helpful Staff']"
      ]
     },
     "execution_count": 444,
     "metadata": {},
     "output_type": "execute_result"
    }
   ],
   "source": [
    "fnpd"
   ]
  },
  {
   "cell_type": "code",
   "execution_count": null,
   "id": "0ff3d784",
   "metadata": {},
   "outputs": [],
   "source": []
  }
 ],
 "metadata": {
  "kernelspec": {
   "display_name": "Python 3 (ipykernel)",
   "language": "python",
   "name": "python3"
  },
  "language_info": {
   "codemirror_mode": {
    "name": "ipython",
    "version": 3
   },
   "file_extension": ".py",
   "mimetype": "text/x-python",
   "name": "python",
   "nbconvert_exporter": "python",
   "pygments_lexer": "ipython3",
   "version": "3.9.13"
  }
 },
 "nbformat": 4,
 "nbformat_minor": 5
}
