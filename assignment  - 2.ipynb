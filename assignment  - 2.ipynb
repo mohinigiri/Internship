{
 "cells": [
  {
   "cell_type": "markdown",
   "id": "08636770",
   "metadata": {},
   "source": [
    "# Answer --- 1"
   ]
  },
  {
   "cell_type": "code",
   "execution_count": null,
   "id": "72fd0511",
   "metadata": {},
   "outputs": [],
   "source": []
  },
  {
   "cell_type": "code",
   "execution_count": 2,
   "id": "673268e3",
   "metadata": {},
   "outputs": [
    {
     "name": "stdout",
     "output_type": "stream",
     "text": [
      "Defaulting to user installation because normal site-packages is not writeable\n",
      "Requirement already satisfied: selenium in c:\\users\\admin\\appdata\\roaming\\python\\python39\\site-packages (4.8.3)\n",
      "Requirement already satisfied: urllib3[socks]~=1.26 in c:\\programdata\\anaconda3\\lib\\site-packages (from selenium) (1.26.11)\n",
      "Requirement already satisfied: certifi>=2021.10.8 in c:\\programdata\\anaconda3\\lib\\site-packages (from selenium) (2022.9.14)\n",
      "Requirement already satisfied: trio~=0.17 in c:\\users\\admin\\appdata\\roaming\\python\\python39\\site-packages (from selenium) (0.22.0)\n",
      "Requirement already satisfied: trio-websocket~=0.9 in c:\\users\\admin\\appdata\\roaming\\python\\python39\\site-packages (from selenium) (0.10.2)\n",
      "Requirement already satisfied: sortedcontainers in c:\\programdata\\anaconda3\\lib\\site-packages (from trio~=0.17->selenium) (2.4.0)\n",
      "Requirement already satisfied: outcome in c:\\users\\admin\\appdata\\roaming\\python\\python39\\site-packages (from trio~=0.17->selenium) (1.2.0)\n",
      "Requirement already satisfied: idna in c:\\programdata\\anaconda3\\lib\\site-packages (from trio~=0.17->selenium) (3.3)\n",
      "Requirement already satisfied: exceptiongroup>=1.0.0rc9 in c:\\users\\admin\\appdata\\roaming\\python\\python39\\site-packages (from trio~=0.17->selenium) (1.1.1)\n",
      "Requirement already satisfied: attrs>=19.2.0 in c:\\programdata\\anaconda3\\lib\\site-packages (from trio~=0.17->selenium) (21.4.0)\n",
      "Requirement already satisfied: sniffio in c:\\programdata\\anaconda3\\lib\\site-packages (from trio~=0.17->selenium) (1.2.0)\n",
      "Requirement already satisfied: cffi>=1.14 in c:\\programdata\\anaconda3\\lib\\site-packages (from trio~=0.17->selenium) (1.15.1)\n",
      "Requirement already satisfied: async-generator>=1.9 in c:\\users\\admin\\appdata\\roaming\\python\\python39\\site-packages (from trio~=0.17->selenium) (1.10)\n",
      "Requirement already satisfied: wsproto>=0.14 in c:\\users\\admin\\appdata\\roaming\\python\\python39\\site-packages (from trio-websocket~=0.9->selenium) (1.2.0)\n",
      "Requirement already satisfied: PySocks!=1.5.7,<2.0,>=1.5.6 in c:\\programdata\\anaconda3\\lib\\site-packages (from urllib3[socks]~=1.26->selenium) (1.7.1)\n",
      "Requirement already satisfied: pycparser in c:\\programdata\\anaconda3\\lib\\site-packages (from cffi>=1.14->trio~=0.17->selenium) (2.21)\n",
      "Requirement already satisfied: h11<1,>=0.9.0 in c:\\users\\admin\\appdata\\roaming\\python\\python39\\site-packages (from wsproto>=0.14->trio-websocket~=0.9->selenium) (0.14.0)\n"
     ]
    }
   ],
   "source": [
    "!pip install selenium"
   ]
  },
  {
   "cell_type": "code",
   "execution_count": 3,
   "id": "2b7b0f5d",
   "metadata": {},
   "outputs": [],
   "source": [
    "import selenium \n",
    "import pandas as pd\n",
    "from selenium import webdriver\n",
    "import warnings\n",
    "warnings.filterwarnings('ignore')\n",
    "from selenium.webdriver.common.by import By\n",
    "import time\n",
    "from selenium.common.exceptions import StaleElementReferenceException, NoSuchElementException"
   ]
  },
  {
   "cell_type": "code",
   "execution_count": 41,
   "id": "0fb8bf4e",
   "metadata": {},
   "outputs": [],
   "source": [
    "\n",
    "driver = webdriver.Chrome(r\"chromedriver.exe\")"
   ]
  },
  {
   "cell_type": "code",
   "execution_count": 42,
   "id": "18a4a23c",
   "metadata": {},
   "outputs": [],
   "source": [
    "driver.get(\"https://www.naukri.com/\")"
   ]
  },
  {
   "cell_type": "code",
   "execution_count": 43,
   "id": "addc73d2",
   "metadata": {},
   "outputs": [],
   "source": [
    "designation = driver.find_element(By.CLASS_NAME,\"suggestor-input \")\n",
    "designation.send_keys(\"Data Analyst\")"
   ]
  },
  {
   "cell_type": "code",
   "execution_count": 44,
   "id": "55cbb3cf",
   "metadata": {},
   "outputs": [],
   "source": [
    "Location = driver.find_element(By.XPATH,\"/html/body/div[1]/div[7]/div/div/div[5]/div/div/div/div[1]/div/input \")\n",
    "Location.send_keys(\"Banglore\")"
   ]
  },
  {
   "cell_type": "code",
   "execution_count": 45,
   "id": "87f2280a",
   "metadata": {},
   "outputs": [],
   "source": [
    "search = driver.find_element(By.CLASS_NAME,\"qsbSubmit\")\n",
    "search.click()"
   ]
  },
  {
   "cell_type": "code",
   "execution_count": 46,
   "id": "e1a18b26",
   "metadata": {},
   "outputs": [],
   "source": [
    "job_title = []\n",
    "title_tags = driver.find_elements(By.XPATH,'//a[@class= \"title ellipsis\"]')\n",
    "for i in title_tags[0:10]:\n",
    "    title = i.text\n",
    "    job_title.append(title)\n",
    "    \n",
    "\n",
    "job_location= []\n",
    "location_tags = driver.find_elements(By.XPATH,'//span[@class=\"ellipsis fleft locWdth\"]')\n",
    "for i in location_tags[0:10]:\n",
    "    location = i.text\n",
    "    job_location.append(location)\n",
    "    \n",
    "company_name= []\n",
    "company_tags = driver.find_elements(By.XPATH,'//a[@class=\"subTitle ellipsis fleft\"]')\n",
    "for i in company_tags[0:10]:\n",
    "    company = i.text\n",
    "    company_name.append(company)\n",
    "\n",
    "experience_required = []\n",
    "experience_tags = driver.find_elements(By.XPATH,'//span[@class=\"ellipsis fleft expwdth\"]')\n",
    "for i in experience_tags[0:10]:\n",
    "    experience = i.text\n",
    "    experience_required.append(experience)"
   ]
  },
  {
   "cell_type": "code",
   "execution_count": 47,
   "id": "9c220483",
   "metadata": {},
   "outputs": [
    {
     "name": "stdout",
     "output_type": "stream",
     "text": [
      "0 0 0 0\n"
     ]
    }
   ],
   "source": [
    "print(len(job_title),len(job_location),len(company_name),len(experience_required))"
   ]
  },
  {
   "cell_type": "code",
   "execution_count": 48,
   "id": "f541665c",
   "metadata": {},
   "outputs": [],
   "source": [
    "df=pd.DataFrame({\"title\":job_title,\"job_location\":job_location,\"company_name\":company_name,\"experience_required\":experience_required })"
   ]
  },
  {
   "cell_type": "code",
   "execution_count": 49,
   "id": "91621fa5",
   "metadata": {},
   "outputs": [
    {
     "data": {
      "text/html": [
       "<div>\n",
       "<style scoped>\n",
       "    .dataframe tbody tr th:only-of-type {\n",
       "        vertical-align: middle;\n",
       "    }\n",
       "\n",
       "    .dataframe tbody tr th {\n",
       "        vertical-align: top;\n",
       "    }\n",
       "\n",
       "    .dataframe thead th {\n",
       "        text-align: right;\n",
       "    }\n",
       "</style>\n",
       "<table border=\"1\" class=\"dataframe\">\n",
       "  <thead>\n",
       "    <tr style=\"text-align: right;\">\n",
       "      <th></th>\n",
       "      <th>title</th>\n",
       "      <th>job_location</th>\n",
       "      <th>company_name</th>\n",
       "      <th>experience_required</th>\n",
       "    </tr>\n",
       "  </thead>\n",
       "  <tbody>\n",
       "  </tbody>\n",
       "</table>\n",
       "</div>"
      ],
      "text/plain": [
       "Empty DataFrame\n",
       "Columns: [title, job_location, company_name, experience_required]\n",
       "Index: []"
      ]
     },
     "execution_count": 49,
     "metadata": {},
     "output_type": "execute_result"
    }
   ],
   "source": [
    "df"
   ]
  },
  {
   "cell_type": "code",
   "execution_count": 50,
   "id": "f1c73f29",
   "metadata": {},
   "outputs": [
    {
     "data": {
      "text/plain": [
       "[<selenium.webdriver.remote.webelement.WebElement (session=\"72934c2e35d093de429f0431cb6b7af6\", element=\"4ba9b3ef-4d17-4956-af65-e1a37ae495f3\")>,\n",
       " <selenium.webdriver.remote.webelement.WebElement (session=\"72934c2e35d093de429f0431cb6b7af6\", element=\"364ad62c-1f82-4fa9-991e-579b6b61b633\")>,\n",
       " <selenium.webdriver.remote.webelement.WebElement (session=\"72934c2e35d093de429f0431cb6b7af6\", element=\"9f78cc45-3a3a-44ea-a9ff-e9df7d667eec\")>,\n",
       " <selenium.webdriver.remote.webelement.WebElement (session=\"72934c2e35d093de429f0431cb6b7af6\", element=\"b4932797-e2ec-4246-8183-496b12d08853\")>,\n",
       " <selenium.webdriver.remote.webelement.WebElement (session=\"72934c2e35d093de429f0431cb6b7af6\", element=\"73beb19c-65e3-47f5-ab27-a59858cf18a2\")>,\n",
       " <selenium.webdriver.remote.webelement.WebElement (session=\"72934c2e35d093de429f0431cb6b7af6\", element=\"96e804b2-6f8a-41e6-9cf4-7ef3209026ee\")>,\n",
       " <selenium.webdriver.remote.webelement.WebElement (session=\"72934c2e35d093de429f0431cb6b7af6\", element=\"14d14d69-3bf2-40f3-93c7-cee76c05cbd6\")>]"
      ]
     },
     "execution_count": 50,
     "metadata": {},
     "output_type": "execute_result"
    }
   ],
   "source": [
    "url = driver.find_elements(By.XPATH,'//a[@class=\"title ellipsis\"]')\n",
    "url [0:7]"
   ]
  },
  {
   "cell_type": "code",
   "execution_count": 51,
   "id": "f1d17395",
   "metadata": {},
   "outputs": [
    {
     "name": "stdout",
     "output_type": "stream",
     "text": [
      "https://www.naukri.com/job-listings-data-engineer-data-analyst-tech-mahindra-kolkata-hyderabad-secunderabad-pune-chennai-bangalore-bengaluru-delhi-ncr-mumbai-all-areas-6-to-11-years-130223001593\n",
      "https://www.naukri.com/job-listings-data-analyst-ingersoll-rand-india-ltd-bangalore-bengaluru-3-to-6-years-310323500515\n",
      "https://www.naukri.com/job-listings-data-analyst-edtech-talentstack-bangalore-bengaluru-2-to-6-years-280323908381\n",
      "https://www.naukri.com/job-listings-data-analyst-unusual-hire-bangalore-bengaluru-1-to-4-years-181220500115\n"
     ]
    }
   ],
   "source": [
    "for i in url[0:4]:\n",
    "    print(i.get_attribute('href'))\n",
    "    "
   ]
  },
  {
   "cell_type": "code",
   "execution_count": 52,
   "id": "e6f89f54",
   "metadata": {},
   "outputs": [],
   "source": [
    "job_title = []\n"
   ]
  },
  {
   "cell_type": "code",
   "execution_count": 53,
   "id": "de670f95",
   "metadata": {},
   "outputs": [],
   "source": [
    "start=0\n",
    "end=1\n",
    "for page in range(start,end):\n",
    "    titles=driver.find_elements(By.XPATH,'//a[@class=\"title ellipsis\"]')\n",
    "    for i in titles:\n",
    "        job_title.append(i.text)\n",
    "    next_button = driver.find_element(By.XPATH,'//a[@class=\"fright fs14 btn-secondary br2\"]')\n",
    "    next_button.click()\n",
    "    time.sleep(3)\n",
    "    "
   ]
  },
  {
   "cell_type": "code",
   "execution_count": 54,
   "id": "eda19571",
   "metadata": {},
   "outputs": [
    {
     "data": {
      "text/plain": [
       "20"
      ]
     },
     "execution_count": 54,
     "metadata": {},
     "output_type": "execute_result"
    }
   ],
   "source": [
    "len(job_title)"
   ]
  },
  {
   "cell_type": "code",
   "execution_count": 55,
   "id": "9c435476",
   "metadata": {},
   "outputs": [
    {
     "data": {
      "text/plain": [
       "['Data Engineer/Data Analyst',\n",
       " 'Data Analyst',\n",
       " 'Data Analyst - EdTech',\n",
       " 'Data Analyst',\n",
       " 'Data Analyst - Contractual',\n",
       " 'Data Analyst - Contractual',\n",
       " 'Data Analyst - MySQL',\n",
       " 'ExcelHER-Data Analyst',\n",
       " 'Data Analyst',\n",
       " 'Data Analyst',\n",
       " 'Data Analyst',\n",
       " 'Data Analyst',\n",
       " 'Data Analyst',\n",
       " 'Data Analyst',\n",
       " 'Data Analyst',\n",
       " 'Data Analyst',\n",
       " 'Data Analyst',\n",
       " 'Data Analyst',\n",
       " 'Data Analyst',\n",
       " 'Data Analyst']"
      ]
     },
     "execution_count": 55,
     "metadata": {},
     "output_type": "execute_result"
    }
   ],
   "source": [
    "job_title"
   ]
  },
  {
   "cell_type": "code",
   "execution_count": null,
   "id": "f80ccfb4",
   "metadata": {},
   "outputs": [],
   "source": []
  },
  {
   "cell_type": "code",
   "execution_count": null,
   "id": "620abf50",
   "metadata": {},
   "outputs": [],
   "source": []
  },
  {
   "cell_type": "markdown",
   "id": "a3e80c68",
   "metadata": {},
   "source": [
    "# answer --2"
   ]
  },
  {
   "cell_type": "code",
   "execution_count": null,
   "id": "8e699771",
   "metadata": {},
   "outputs": [],
   "source": []
  },
  {
   "cell_type": "code",
   "execution_count": 57,
   "id": "3bb431dc",
   "metadata": {},
   "outputs": [],
   "source": [
    "import selenium \n",
    "import pandas as pd\n",
    "from selenium import webdriver\n",
    "import warnings\n",
    "warnings.filterwarnings('ignore')\n",
    "from selenium.webdriver.common.by import By\n",
    "import time\n",
    "from selenium.common.exceptions import StaleElementReferenceException, NoSuchElementException"
   ]
  },
  {
   "cell_type": "code",
   "execution_count": 58,
   "id": "5be3c0eb",
   "metadata": {},
   "outputs": [],
   "source": [
    "driver = webdriver.Chrome(r\"chromedriver.exe\")"
   ]
  },
  {
   "cell_type": "code",
   "execution_count": 59,
   "id": "416193e1",
   "metadata": {},
   "outputs": [],
   "source": [
    "driver.get(\"https://www.naukri.com/\")"
   ]
  },
  {
   "cell_type": "code",
   "execution_count": 60,
   "id": "e2a1ee43",
   "metadata": {},
   "outputs": [],
   "source": [
    "designation = driver.find_element(By.CLASS_NAME,\"suggestor-input \")\n",
    "designation.send_keys(\"Data Scientist\")"
   ]
  },
  {
   "cell_type": "code",
   "execution_count": 61,
   "id": "8b58aba9",
   "metadata": {},
   "outputs": [],
   "source": [
    "Location = driver.find_element(By.XPATH,\"/html/body/div[1]/div[7]/div/div/div[5]/div/div/div/div[1]/div/input \")\n",
    "Location.send_keys(\"Banglore\")"
   ]
  },
  {
   "cell_type": "code",
   "execution_count": 62,
   "id": "8ac3793f",
   "metadata": {},
   "outputs": [],
   "source": [
    "search = driver.find_element(By.CLASS_NAME,\"qsbSubmit\")\n",
    "search.click()"
   ]
  },
  {
   "cell_type": "code",
   "execution_count": 63,
   "id": "d762604d",
   "metadata": {},
   "outputs": [],
   "source": [
    "job_title = []\n",
    "title_tags = driver.find_elements(By.XPATH,'//a[@class= \"title ellipsis\"]')\n",
    "for i in title_tags[0:10]:\n",
    "    title = i.text\n",
    "    job_title.append(title)\n",
    "    \n",
    "\n",
    "job_location= []\n",
    "location_tags = driver.find_elements(By.XPATH,'//span[@class=\"ellipsis fleft locWdth\"]')\n",
    "for i in location_tags[0:10]:\n",
    "    location = i.text\n",
    "    job_location.append(location)\n",
    "    \n",
    "company_name= []\n",
    "company_tags = driver.find_elements(By.XPATH,'//a[@class=\"subTitle ellipsis fleft\"]')\n",
    "for i in company_tags[0:10]:\n",
    "    company = i.text\n",
    "    company_name.append(company)\n"
   ]
  },
  {
   "cell_type": "code",
   "execution_count": 64,
   "id": "f001530a",
   "metadata": {},
   "outputs": [
    {
     "name": "stdout",
     "output_type": "stream",
     "text": [
      "10 10 10 0\n"
     ]
    }
   ],
   "source": [
    "print(len(job_title),len(job_location),len(company_name),len(experience_required))"
   ]
  },
  {
   "cell_type": "code",
   "execution_count": 66,
   "id": "6cf31f77",
   "metadata": {},
   "outputs": [],
   "source": [
    "df=pd.DataFrame({\"title\":job_title,\"job_location\":job_location,\"company_name\":company_name})"
   ]
  },
  {
   "cell_type": "code",
   "execution_count": 67,
   "id": "fc7c4620",
   "metadata": {},
   "outputs": [
    {
     "data": {
      "text/html": [
       "<div>\n",
       "<style scoped>\n",
       "    .dataframe tbody tr th:only-of-type {\n",
       "        vertical-align: middle;\n",
       "    }\n",
       "\n",
       "    .dataframe tbody tr th {\n",
       "        vertical-align: top;\n",
       "    }\n",
       "\n",
       "    .dataframe thead th {\n",
       "        text-align: right;\n",
       "    }\n",
       "</style>\n",
       "<table border=\"1\" class=\"dataframe\">\n",
       "  <thead>\n",
       "    <tr style=\"text-align: right;\">\n",
       "      <th></th>\n",
       "      <th>title</th>\n",
       "      <th>job_location</th>\n",
       "      <th>company_name</th>\n",
       "    </tr>\n",
       "  </thead>\n",
       "  <tbody>\n",
       "    <tr>\n",
       "      <th>0</th>\n",
       "      <td>Data Science Professional - IBM SPSS Statistic...</td>\n",
       "      <td>Noida, Mumbai, Pune, Chennai, Bangalore/Bengaluru</td>\n",
       "      <td>Hexaware Technologies</td>\n",
       "    </tr>\n",
       "    <tr>\n",
       "      <th>1</th>\n",
       "      <td>Data Science Specialist</td>\n",
       "      <td>Kolkata, Mumbai, Hyderabad/Secunderabad, Pune,...</td>\n",
       "      <td>Accenture</td>\n",
       "    </tr>\n",
       "    <tr>\n",
       "      <th>2</th>\n",
       "      <td>Analystics &amp; Modeling Specialist</td>\n",
       "      <td>Kolkata, Mumbai, Hyderabad/Secunderabad, Pune,...</td>\n",
       "      <td>Accenture</td>\n",
       "    </tr>\n",
       "    <tr>\n",
       "      <th>3</th>\n",
       "      <td>Senior data scientist</td>\n",
       "      <td>Mumbai, Pune, Chennai, Gurgaon/Gurugram, Banga...</td>\n",
       "      <td>Fractal Analytics</td>\n",
       "    </tr>\n",
       "    <tr>\n",
       "      <th>4</th>\n",
       "      <td>Data Scientist_NLP</td>\n",
       "      <td>Mumbai, Pune, Chennai, Gurgaon/Gurugram, Banga...</td>\n",
       "      <td>Fractal Analytics</td>\n",
       "    </tr>\n",
       "    <tr>\n",
       "      <th>5</th>\n",
       "      <td>Data Scientist</td>\n",
       "      <td>Mumbai, Pune, Chennai, Gurgaon/Gurugram, Banga...</td>\n",
       "      <td>Fractal Analytics</td>\n",
       "    </tr>\n",
       "    <tr>\n",
       "      <th>6</th>\n",
       "      <td>Machine Learning (AI) Architect</td>\n",
       "      <td>Kolkata, Mumbai, New Delhi, Hyderabad/Secunder...</td>\n",
       "      <td>Persistent</td>\n",
       "    </tr>\n",
       "    <tr>\n",
       "      <th>7</th>\n",
       "      <td>Manager - Innovations Hub - Machine Learning</td>\n",
       "      <td>Mumbai, Hyderabad/Secunderabad, Bangalore/Beng...</td>\n",
       "      <td>PwC</td>\n",
       "    </tr>\n",
       "    <tr>\n",
       "      <th>8</th>\n",
       "      <td>Data Scientist</td>\n",
       "      <td>Bangalore/Bengaluru</td>\n",
       "      <td>IBM</td>\n",
       "    </tr>\n",
       "    <tr>\n",
       "      <th>9</th>\n",
       "      <td>Data Scientist</td>\n",
       "      <td>Bangalore/Bengaluru</td>\n",
       "      <td>IBM</td>\n",
       "    </tr>\n",
       "  </tbody>\n",
       "</table>\n",
       "</div>"
      ],
      "text/plain": [
       "                                               title  \\\n",
       "0  Data Science Professional - IBM SPSS Statistic...   \n",
       "1                            Data Science Specialist   \n",
       "2                   Analystics & Modeling Specialist   \n",
       "3                              Senior data scientist   \n",
       "4                                 Data Scientist_NLP   \n",
       "5                                     Data Scientist   \n",
       "6                    Machine Learning (AI) Architect   \n",
       "7       Manager - Innovations Hub - Machine Learning   \n",
       "8                                     Data Scientist   \n",
       "9                                     Data Scientist   \n",
       "\n",
       "                                        job_location           company_name  \n",
       "0  Noida, Mumbai, Pune, Chennai, Bangalore/Bengaluru  Hexaware Technologies  \n",
       "1  Kolkata, Mumbai, Hyderabad/Secunderabad, Pune,...              Accenture  \n",
       "2  Kolkata, Mumbai, Hyderabad/Secunderabad, Pune,...              Accenture  \n",
       "3  Mumbai, Pune, Chennai, Gurgaon/Gurugram, Banga...      Fractal Analytics  \n",
       "4  Mumbai, Pune, Chennai, Gurgaon/Gurugram, Banga...      Fractal Analytics  \n",
       "5  Mumbai, Pune, Chennai, Gurgaon/Gurugram, Banga...      Fractal Analytics  \n",
       "6  Kolkata, Mumbai, New Delhi, Hyderabad/Secunder...             Persistent  \n",
       "7  Mumbai, Hyderabad/Secunderabad, Bangalore/Beng...                    PwC  \n",
       "8                                Bangalore/Bengaluru                    IBM  \n",
       "9                                Bangalore/Bengaluru                    IBM  "
      ]
     },
     "execution_count": 67,
     "metadata": {},
     "output_type": "execute_result"
    }
   ],
   "source": [
    "df"
   ]
  },
  {
   "cell_type": "code",
   "execution_count": null,
   "id": "f8e5977f",
   "metadata": {},
   "outputs": [],
   "source": []
  },
  {
   "cell_type": "code",
   "execution_count": null,
   "id": "39a9770c",
   "metadata": {},
   "outputs": [],
   "source": []
  },
  {
   "cell_type": "code",
   "execution_count": null,
   "id": "387abf49",
   "metadata": {},
   "outputs": [],
   "source": []
  },
  {
   "cell_type": "markdown",
   "id": "f269d0ec",
   "metadata": {},
   "source": [
    "# Answer --- 3"
   ]
  },
  {
   "cell_type": "code",
   "execution_count": null,
   "id": "bc3026a0",
   "metadata": {},
   "outputs": [],
   "source": []
  },
  {
   "cell_type": "code",
   "execution_count": 120,
   "id": "39271ab4",
   "metadata": {},
   "outputs": [],
   "source": [
    "driver = webdriver.Chrome(r\"chromedriver.exe\")"
   ]
  },
  {
   "cell_type": "code",
   "execution_count": 121,
   "id": "fd33eeab",
   "metadata": {},
   "outputs": [],
   "source": [
    "driver.get(\"https://www.naukri.com/\")"
   ]
  },
  {
   "cell_type": "code",
   "execution_count": 122,
   "id": "cf0a2e58",
   "metadata": {},
   "outputs": [],
   "source": [
    "designation = driver.find_element(By.CLASS_NAME,\"suggestor-input \")\n",
    "designation.send_keys(\"Data Scientist\")"
   ]
  },
  {
   "cell_type": "code",
   "execution_count": 123,
   "id": "f5d358cd",
   "metadata": {},
   "outputs": [],
   "source": [
    "search = driver.find_element(By.CLASS_NAME,\"qsbSubmit\")\n",
    "search.click()"
   ]
  },
  {
   "cell_type": "code",
   "execution_count": 124,
   "id": "3d82357c",
   "metadata": {},
   "outputs": [],
   "source": [
    "location = driver.find_element(By.XPATH,\"/html/body/div[1]/div[4]/div/div/section[1]/div[2]/div[5]/div[2]/div[2]/label/i\")\n",
    "\n",
    "location.click()"
   ]
  },
  {
   "cell_type": "code",
   "execution_count": 125,
   "id": "9d17ae6d",
   "metadata": {},
   "outputs": [],
   "source": [
    "year = driver.find_element(By.XPATH,\"/html/body/div[1]/div[4]/div/div/section[1]/div[2]/div[6]/div[2]/div[2]/label/i\")\n",
    "\n",
    "year.click()"
   ]
  },
  {
   "cell_type": "code",
   "execution_count": 126,
   "id": "9e11c4b0",
   "metadata": {},
   "outputs": [],
   "source": [
    "job_title = []\n",
    "title_tags = driver.find_elements(By.XPATH,'//a[@class= \"title ellipsis\"]')\n",
    "for i in title_tags[0:10]:\n",
    "    title = i.text\n",
    "    job_title.append(title)\n",
    "    \n",
    "\n",
    "job_location= []\n",
    "location_tags = driver.find_elements(By.XPATH,'//span[@class=\"ellipsis fleft locWdth\"]')\n",
    "for i in location_tags[0:10]:\n",
    "    location = i.text\n",
    "    job_location.append(location)\n",
    "    \n",
    "company_name= []\n",
    "company_tags = driver.find_elements(By.XPATH,'//a[@class=\"subTitle ellipsis fleft\"]')\n",
    "for i in company_tags[0:10]:\n",
    "    company = i.text\n",
    "    company_name.append(company)\n",
    "\n",
    "experience_required = []\n",
    "experience_tags = driver.find_elements(By.XPATH,'//span[@class=\"ellipsis fleft expwdth\"]')\n",
    "for i in experience_tags[0:10]:\n",
    "    experience = i.text\n",
    "    experience_required.append(experience)\n",
    "\n",
    "    \n"
   ]
  },
  {
   "cell_type": "code",
   "execution_count": 127,
   "id": "24c21342",
   "metadata": {},
   "outputs": [],
   "source": [
    "df=pd.DataFrame({\"title\":job_title,\"job_location\":job_location,\"company_name\":company_name,\"experience_required\":experience_required })"
   ]
  },
  {
   "cell_type": "code",
   "execution_count": 128,
   "id": "68b5a693",
   "metadata": {},
   "outputs": [
    {
     "data": {
      "text/html": [
       "<div>\n",
       "<style scoped>\n",
       "    .dataframe tbody tr th:only-of-type {\n",
       "        vertical-align: middle;\n",
       "    }\n",
       "\n",
       "    .dataframe tbody tr th {\n",
       "        vertical-align: top;\n",
       "    }\n",
       "\n",
       "    .dataframe thead th {\n",
       "        text-align: right;\n",
       "    }\n",
       "</style>\n",
       "<table border=\"1\" class=\"dataframe\">\n",
       "  <thead>\n",
       "    <tr style=\"text-align: right;\">\n",
       "      <th></th>\n",
       "      <th>title</th>\n",
       "      <th>job_location</th>\n",
       "      <th>company_name</th>\n",
       "      <th>experience_required</th>\n",
       "    </tr>\n",
       "  </thead>\n",
       "  <tbody>\n",
       "    <tr>\n",
       "      <th>0</th>\n",
       "      <td>Data Scientist</td>\n",
       "      <td>Temp. WFH - Kochi/Cochin, Kolkata, Hyderabad/S...</td>\n",
       "      <td>Cognizant</td>\n",
       "      <td>6-10 Yrs</td>\n",
       "    </tr>\n",
       "    <tr>\n",
       "      <th>1</th>\n",
       "      <td>Junior Data Scientist</td>\n",
       "      <td>Kolkata, Mumbai, New Delhi, Hyderabad/Secunder...</td>\n",
       "      <td>Analytos</td>\n",
       "      <td>0-2 Yrs</td>\n",
       "    </tr>\n",
       "    <tr>\n",
       "      <th>2</th>\n",
       "      <td>Data Scientist</td>\n",
       "      <td>Gurgaon/Gurugram, Bangalore/Bengaluru</td>\n",
       "      <td>Blackbuck</td>\n",
       "      <td>3-7 Yrs</td>\n",
       "    </tr>\n",
       "    <tr>\n",
       "      <th>3</th>\n",
       "      <td>Data Scientist</td>\n",
       "      <td>Kolkata, Mumbai, New Delhi, Hyderabad/Secunder...</td>\n",
       "      <td>Tabsquare</td>\n",
       "      <td>1-3 Yrs</td>\n",
       "    </tr>\n",
       "    <tr>\n",
       "      <th>4</th>\n",
       "      <td>Data Scientist</td>\n",
       "      <td>Kolkata, Mumbai, New Delhi, Hyderabad/Secunder...</td>\n",
       "      <td>Analytos</td>\n",
       "      <td>2-4 Yrs</td>\n",
       "    </tr>\n",
       "    <tr>\n",
       "      <th>5</th>\n",
       "      <td>Analyst-Data Science</td>\n",
       "      <td>Gurgaon/Gurugram</td>\n",
       "      <td>AMERICAN EXPRESS</td>\n",
       "      <td>0-3 Yrs</td>\n",
       "    </tr>\n",
       "    <tr>\n",
       "      <th>6</th>\n",
       "      <td>Analyst-Data Science</td>\n",
       "      <td>Gurgaon/Gurugram</td>\n",
       "      <td>AMERICAN EXPRESS</td>\n",
       "      <td>0-3 Yrs</td>\n",
       "    </tr>\n",
       "    <tr>\n",
       "      <th>7</th>\n",
       "      <td>Senior Data Scientist</td>\n",
       "      <td>Hyderabad/Secunderabad, Chenani, Gurgaon/Gurug...</td>\n",
       "      <td>RecruitEForU</td>\n",
       "      <td>3-8 Yrs</td>\n",
       "    </tr>\n",
       "    <tr>\n",
       "      <th>8</th>\n",
       "      <td>Assistant Manager/Senior Manager - Data Scientist</td>\n",
       "      <td>Gurgaon/Gurugram, Bangalore/Bengaluru</td>\n",
       "      <td>Huquo Consulting Pvt. Ltd</td>\n",
       "      <td>2-7 Yrs</td>\n",
       "    </tr>\n",
       "    <tr>\n",
       "      <th>9</th>\n",
       "      <td>ASE/SE/SSE-Data Science</td>\n",
       "      <td>Noida</td>\n",
       "      <td>Bold Technology Systems</td>\n",
       "      <td>2-7 Yrs</td>\n",
       "    </tr>\n",
       "  </tbody>\n",
       "</table>\n",
       "</div>"
      ],
      "text/plain": [
       "                                               title  \\\n",
       "0                                     Data Scientist   \n",
       "1                              Junior Data Scientist   \n",
       "2                                     Data Scientist   \n",
       "3                                     Data Scientist   \n",
       "4                                     Data Scientist   \n",
       "5                               Analyst-Data Science   \n",
       "6                               Analyst-Data Science   \n",
       "7                              Senior Data Scientist   \n",
       "8  Assistant Manager/Senior Manager - Data Scientist   \n",
       "9                            ASE/SE/SSE-Data Science   \n",
       "\n",
       "                                        job_location  \\\n",
       "0  Temp. WFH - Kochi/Cochin, Kolkata, Hyderabad/S...   \n",
       "1  Kolkata, Mumbai, New Delhi, Hyderabad/Secunder...   \n",
       "2              Gurgaon/Gurugram, Bangalore/Bengaluru   \n",
       "3  Kolkata, Mumbai, New Delhi, Hyderabad/Secunder...   \n",
       "4  Kolkata, Mumbai, New Delhi, Hyderabad/Secunder...   \n",
       "5                                   Gurgaon/Gurugram   \n",
       "6                                   Gurgaon/Gurugram   \n",
       "7  Hyderabad/Secunderabad, Chenani, Gurgaon/Gurug...   \n",
       "8              Gurgaon/Gurugram, Bangalore/Bengaluru   \n",
       "9                                              Noida   \n",
       "\n",
       "                company_name experience_required  \n",
       "0                  Cognizant            6-10 Yrs  \n",
       "1                   Analytos             0-2 Yrs  \n",
       "2                  Blackbuck             3-7 Yrs  \n",
       "3                  Tabsquare             1-3 Yrs  \n",
       "4                   Analytos             2-4 Yrs  \n",
       "5           AMERICAN EXPRESS             0-3 Yrs  \n",
       "6           AMERICAN EXPRESS             0-3 Yrs  \n",
       "7               RecruitEForU             3-8 Yrs  \n",
       "8  Huquo Consulting Pvt. Ltd             2-7 Yrs  \n",
       "9    Bold Technology Systems             2-7 Yrs  "
      ]
     },
     "execution_count": 128,
     "metadata": {},
     "output_type": "execute_result"
    }
   ],
   "source": [
    "df"
   ]
  },
  {
   "cell_type": "code",
   "execution_count": null,
   "id": "a72a6829",
   "metadata": {},
   "outputs": [],
   "source": []
  },
  {
   "cell_type": "code",
   "execution_count": null,
   "id": "c081b0f6",
   "metadata": {},
   "outputs": [],
   "source": []
  },
  {
   "cell_type": "code",
   "execution_count": null,
   "id": "6f72f636",
   "metadata": {},
   "outputs": [],
   "source": []
  },
  {
   "cell_type": "code",
   "execution_count": null,
   "id": "6840fcab",
   "metadata": {},
   "outputs": [],
   "source": []
  },
  {
   "cell_type": "code",
   "execution_count": null,
   "id": "e7066a26",
   "metadata": {},
   "outputs": [],
   "source": []
  },
  {
   "cell_type": "markdown",
   "id": "440f9e4c",
   "metadata": {},
   "source": [
    "# Answer --- 4"
   ]
  },
  {
   "cell_type": "code",
   "execution_count": 160,
   "id": "70e6e02c",
   "metadata": {},
   "outputs": [],
   "source": [
    "driver = webdriver.Chrome(r\"chromedriver.exe\")"
   ]
  },
  {
   "cell_type": "code",
   "execution_count": 161,
   "id": "7a659f5f",
   "metadata": {},
   "outputs": [],
   "source": [
    "driver.get(\"https://www.flipkart.com/\")"
   ]
  },
  {
   "cell_type": "code",
   "execution_count": 169,
   "id": "31fc3bca",
   "metadata": {},
   "outputs": [],
   "source": [
    "c_click = driver.find_element(By.XPATH,\"/html/body/div[2]/div/div/button\")\n",
    "c_click.click()"
   ]
  },
  {
   "cell_type": "code",
   "execution_count": 170,
   "id": "784ed914",
   "metadata": {},
   "outputs": [],
   "source": [
    "\n",
    "catagory = driver.find_element(By.CLASS_NAME,\"_3704LK \")\n",
    "catagory.send_keys(\"sunglasses\")"
   ]
  },
  {
   "cell_type": "code",
   "execution_count": 171,
   "id": "11c340cd",
   "metadata": {},
   "outputs": [],
   "source": [
    "search = driver.find_element(By.CLASS_NAME,\"L0Z3Pu\")\n",
    "search.click()"
   ]
  },
  {
   "cell_type": "code",
   "execution_count": 172,
   "id": "0927ca72",
   "metadata": {},
   "outputs": [],
   "source": [
    "sunglasses = []\n",
    "start=0\n",
    "end=3\n",
    "for page in range(start,end):\n",
    "    titles=driver.find_elements(By.XPATH,'//div[@class=\"_2WkVRV\"]')\n",
    "    for i in titles:\n",
    "        sunglasses.append(i.text)\n",
    "    next_button = driver.find_element(By.XPATH,'//a[@class=\"_1LKTO3\"]')\n",
    "    next_button.click()\n",
    "    time.sleep(3)"
   ]
  },
  {
   "cell_type": "code",
   "execution_count": null,
   "id": "90405f6f",
   "metadata": {},
   "outputs": [],
   "source": [
    "Product_Description = []\n",
    "start=0\n",
    "end=3\n",
    "for page in range(start,end):\n",
    "    titles=driver.find_elements(By.XPATH,'//a[@class=\"IRpwTa\"]')\n",
    "    for i in titles:\n",
    "        Product_Description.append(i.text)\n",
    "    next_button = driver.find_element(By.XPATH,'//a[@class=\"_1LKTO3\"]')\n",
    "    next_button.click()\n",
    "    time.sleep(3)"
   ]
  },
  {
   "cell_type": "code",
   "execution_count": null,
   "id": "cf210754",
   "metadata": {},
   "outputs": [],
   "source": [
    "Price = []\n",
    "start=0\n",
    "end=3\n",
    "for page in range(start,end):\n",
    "    titles=driver.find_elements(By.XPATH,'//div[@class=\"_25b18c\"]')\n",
    "    for i in titles:\n",
    "        Price.append(i.text)\n",
    "    next_button = driver.find_element(By.XPATH,'//a[@class=\"_1LKTO3\"]')\n",
    "    next_button.click()\n",
    "    time.sleep(3)"
   ]
  },
  {
   "cell_type": "code",
   "execution_count": 176,
   "id": "23f66b18",
   "metadata": {},
   "outputs": [
    {
     "data": {
      "text/plain": [
       "120"
      ]
     },
     "execution_count": 176,
     "metadata": {},
     "output_type": "execute_result"
    }
   ],
   "source": [
    "print(len(sunglasses),len(Product_Description),len(Price))"
   ]
  },
  {
   "cell_type": "code",
   "execution_count": 182,
   "id": "de7a1e0c",
   "metadata": {},
   "outputs": [],
   "source": [
    "df=pd.DataFrame({\"sunglasses\":sunglasses})"
   ]
  },
  {
   "cell_type": "code",
   "execution_count": 185,
   "id": "85ccc506",
   "metadata": {},
   "outputs": [
    {
     "data": {
      "text/html": [
       "<div>\n",
       "<style scoped>\n",
       "    .dataframe tbody tr th:only-of-type {\n",
       "        vertical-align: middle;\n",
       "    }\n",
       "\n",
       "    .dataframe tbody tr th {\n",
       "        vertical-align: top;\n",
       "    }\n",
       "\n",
       "    .dataframe thead th {\n",
       "        text-align: right;\n",
       "    }\n",
       "</style>\n",
       "<table border=\"1\" class=\"dataframe\">\n",
       "  <thead>\n",
       "    <tr style=\"text-align: right;\">\n",
       "      <th></th>\n",
       "      <th>sunglasses</th>\n",
       "    </tr>\n",
       "  </thead>\n",
       "  <tbody>\n",
       "    <tr>\n",
       "      <th>0</th>\n",
       "      <td>VINCENT CHASE</td>\n",
       "    </tr>\n",
       "    <tr>\n",
       "      <th>1</th>\n",
       "      <td>VINCENT CHASE</td>\n",
       "    </tr>\n",
       "    <tr>\n",
       "      <th>2</th>\n",
       "      <td>SRPM</td>\n",
       "    </tr>\n",
       "    <tr>\n",
       "      <th>3</th>\n",
       "      <td>Elligator</td>\n",
       "    </tr>\n",
       "    <tr>\n",
       "      <th>4</th>\n",
       "      <td>PIRASO</td>\n",
       "    </tr>\n",
       "    <tr>\n",
       "      <th>...</th>\n",
       "      <td>...</td>\n",
       "    </tr>\n",
       "    <tr>\n",
       "      <th>95</th>\n",
       "      <td>VINCENT CHASE</td>\n",
       "    </tr>\n",
       "    <tr>\n",
       "      <th>96</th>\n",
       "      <td>SRPM</td>\n",
       "    </tr>\n",
       "    <tr>\n",
       "      <th>97</th>\n",
       "      <td>NuVew</td>\n",
       "    </tr>\n",
       "    <tr>\n",
       "      <th>98</th>\n",
       "      <td>NuVew</td>\n",
       "    </tr>\n",
       "    <tr>\n",
       "      <th>99</th>\n",
       "      <td>Eyewearlabs</td>\n",
       "    </tr>\n",
       "  </tbody>\n",
       "</table>\n",
       "<p>100 rows × 1 columns</p>\n",
       "</div>"
      ],
      "text/plain": [
       "       sunglasses\n",
       "0   VINCENT CHASE\n",
       "1   VINCENT CHASE\n",
       "2            SRPM\n",
       "3       Elligator\n",
       "4          PIRASO\n",
       "..            ...\n",
       "95  VINCENT CHASE\n",
       "96           SRPM\n",
       "97          NuVew\n",
       "98          NuVew\n",
       "99    Eyewearlabs\n",
       "\n",
       "[100 rows x 1 columns]"
      ]
     },
     "execution_count": 185,
     "metadata": {},
     "output_type": "execute_result"
    }
   ],
   "source": [
    "df.head(100)"
   ]
  },
  {
   "cell_type": "code",
   "execution_count": null,
   "id": "bcaea8d6",
   "metadata": {},
   "outputs": [],
   "source": []
  },
  {
   "cell_type": "code",
   "execution_count": null,
   "id": "7335cda6",
   "metadata": {},
   "outputs": [],
   "source": []
  },
  {
   "cell_type": "code",
   "execution_count": null,
   "id": "10b0bd54",
   "metadata": {},
   "outputs": [],
   "source": []
  },
  {
   "cell_type": "code",
   "execution_count": null,
   "id": "4f05ce4a",
   "metadata": {},
   "outputs": [],
   "source": []
  },
  {
   "cell_type": "code",
   "execution_count": null,
   "id": "b8ab57bf",
   "metadata": {},
   "outputs": [],
   "source": []
  },
  {
   "cell_type": "code",
   "execution_count": null,
   "id": "21991b43",
   "metadata": {},
   "outputs": [],
   "source": []
  },
  {
   "cell_type": "markdown",
   "id": "c0342c69",
   "metadata": {},
   "source": [
    "# Answer --- 5"
   ]
  },
  {
   "cell_type": "code",
   "execution_count": null,
   "id": "7e587737",
   "metadata": {},
   "outputs": [],
   "source": []
  },
  {
   "cell_type": "code",
   "execution_count": null,
   "id": "5683ea6a",
   "metadata": {},
   "outputs": [],
   "source": []
  },
  {
   "cell_type": "code",
   "execution_count": null,
   "id": "cdda8277",
   "metadata": {},
   "outputs": [],
   "source": []
  },
  {
   "cell_type": "code",
   "execution_count": 243,
   "id": "dc51a042",
   "metadata": {},
   "outputs": [],
   "source": [
    "driver = webdriver.Chrome(r\"chromedriver.exe\")"
   ]
  },
  {
   "cell_type": "code",
   "execution_count": 244,
   "id": "dc86db87",
   "metadata": {},
   "outputs": [],
   "source": [
    "driver.get(\"https://www.flipkart.com/apple-iphone-11-black-64-gb/product-reviews/itm4e5041ba101fd?pid=MOBFWQ6BXGJCEYNY&lid=LSTMOBFWQ6BXGJCEYNYZXSHRJ&market\")"
   ]
  },
  {
   "cell_type": "code",
   "execution_count": 245,
   "id": "b3f703cd",
   "metadata": {},
   "outputs": [],
   "source": [
    "rating = []\n",
    "start=0\n",
    "end=10\n",
    "for page in range(start,end):\n",
    "    titles=driver.find_elements(By.XPATH,'//div[@class=\"_3LWZlK _1BLPMq\"]')\n",
    "    for i in titles:\n",
    "        rating.append(i.text)\n",
    "    next_button = driver.find_element(By.XPATH,'//a[@class=\"_1LKTO3\"]')\n",
    "    next_button.click()\n",
    "    time.sleep(3)\n",
    "    \n",
    "\n"
   ]
  },
  {
   "cell_type": "code",
   "execution_count": 246,
   "id": "d78e9df7",
   "metadata": {},
   "outputs": [
    {
     "data": {
      "text/plain": [
       "100"
      ]
     },
     "execution_count": 246,
     "metadata": {},
     "output_type": "execute_result"
    }
   ],
   "source": [
    "len(rating)"
   ]
  },
  {
   "cell_type": "code",
   "execution_count": 247,
   "id": "4f129e28",
   "metadata": {},
   "outputs": [],
   "source": [
    "Review_summary = []\n",
    "start=0\n",
    "end=10\n",
    "for page in range(start,end):\n",
    "    titles=driver.find_elements(By.XPATH,'//p[@class=\"_2-N8zT\"]')\n",
    "    for i in titles:\n",
    "        Review_summary.append(i.text)\n",
    "    next_button = driver.find_element(By.XPATH,'//a[@class=\"_1LKTO3\"]')\n",
    "    next_button.click()\n",
    "    time.sleep(3)"
   ]
  },
  {
   "cell_type": "code",
   "execution_count": 248,
   "id": "4d2dbfd3",
   "metadata": {},
   "outputs": [
    {
     "data": {
      "text/plain": [
       "100"
      ]
     },
     "execution_count": 248,
     "metadata": {},
     "output_type": "execute_result"
    }
   ],
   "source": [
    "len(Review_summary)"
   ]
  },
  {
   "cell_type": "code",
   "execution_count": 250,
   "id": "95c678c9",
   "metadata": {},
   "outputs": [],
   "source": [
    "Full_review = []\n",
    "start=0\n",
    "end=10\n",
    "for page in range(start,end):\n",
    "    titles=driver.find_elements(By.XPATH,'//div[@class=\"t-ZTKy\"]')\n",
    "    for i in titles:\n",
    "        Full_review.append(i.text)\n",
    "    next_button = driver.find_element(By.XPATH,'//a[@class=\"_1LKTO3\"]')\n",
    "    next_button.click()\n",
    "    time.sleep(3)"
   ]
  },
  {
   "cell_type": "code",
   "execution_count": 252,
   "id": "4bf2d15f",
   "metadata": {},
   "outputs": [
    {
     "data": {
      "text/plain": [
       "100"
      ]
     },
     "execution_count": 252,
     "metadata": {},
     "output_type": "execute_result"
    }
   ],
   "source": [
    "len(Full_review)"
   ]
  },
  {
   "cell_type": "code",
   "execution_count": 253,
   "id": "e2517721",
   "metadata": {},
   "outputs": [],
   "source": [
    "df = pd.DataFrame({\"rating\":rating,\"Review_summary\":Review_summary,\"Full_review\":Full_review})"
   ]
  },
  {
   "cell_type": "code",
   "execution_count": 254,
   "id": "f5b6686d",
   "metadata": {},
   "outputs": [
    {
     "data": {
      "text/html": [
       "<div>\n",
       "<style scoped>\n",
       "    .dataframe tbody tr th:only-of-type {\n",
       "        vertical-align: middle;\n",
       "    }\n",
       "\n",
       "    .dataframe tbody tr th {\n",
       "        vertical-align: top;\n",
       "    }\n",
       "\n",
       "    .dataframe thead th {\n",
       "        text-align: right;\n",
       "    }\n",
       "</style>\n",
       "<table border=\"1\" class=\"dataframe\">\n",
       "  <thead>\n",
       "    <tr style=\"text-align: right;\">\n",
       "      <th></th>\n",
       "      <th>rating</th>\n",
       "      <th>Review_summary</th>\n",
       "      <th>Full_review</th>\n",
       "    </tr>\n",
       "  </thead>\n",
       "  <tbody>\n",
       "    <tr>\n",
       "      <th>0</th>\n",
       "      <td>5</td>\n",
       "      <td>Fabulous!</td>\n",
       "      <td>This is my first iOS phone. I am very happy wi...</td>\n",
       "    </tr>\n",
       "    <tr>\n",
       "      <th>1</th>\n",
       "      <td>5</td>\n",
       "      <td>Classy product</td>\n",
       "      <td>Best and amazing product.....phone looks so pr...</td>\n",
       "    </tr>\n",
       "    <tr>\n",
       "      <th>2</th>\n",
       "      <td>5</td>\n",
       "      <td>Worth every penny</td>\n",
       "      <td>i11 is worthy to buy, too much happy with the ...</td>\n",
       "    </tr>\n",
       "    <tr>\n",
       "      <th>3</th>\n",
       "      <td>4</td>\n",
       "      <td>Perfect product!</td>\n",
       "      <td>It’s a must buy who is looking for an upgrade ...</td>\n",
       "    </tr>\n",
       "    <tr>\n",
       "      <th>4</th>\n",
       "      <td>5</td>\n",
       "      <td>Good choice</td>\n",
       "      <td>So far it’s been an AMAZING experience coming ...</td>\n",
       "    </tr>\n",
       "    <tr>\n",
       "      <th>...</th>\n",
       "      <td>...</td>\n",
       "      <td>...</td>\n",
       "      <td>...</td>\n",
       "    </tr>\n",
       "    <tr>\n",
       "      <th>95</th>\n",
       "      <td>5</td>\n",
       "      <td>Worth every penny</td>\n",
       "      <td>Previously I was using one plus 3t it was a gr...</td>\n",
       "    </tr>\n",
       "    <tr>\n",
       "      <th>96</th>\n",
       "      <td>4</td>\n",
       "      <td>Pretty good</td>\n",
       "      <td>I was using Iphone 6s and also Oneplus 6t. Bot...</td>\n",
       "    </tr>\n",
       "    <tr>\n",
       "      <th>97</th>\n",
       "      <td>5</td>\n",
       "      <td>Perfect product!</td>\n",
       "      <td>Value for money\\n5 star rating\\nExcellent came...</td>\n",
       "    </tr>\n",
       "    <tr>\n",
       "      <th>98</th>\n",
       "      <td>5</td>\n",
       "      <td>Highly recommended</td>\n",
       "      <td>What a camera .....just awesome ..you can feel...</td>\n",
       "    </tr>\n",
       "    <tr>\n",
       "      <th>99</th>\n",
       "      <td>5</td>\n",
       "      <td>Great product</td>\n",
       "      <td>Amazing Powerful and Durable Gadget.\\n\\nI’m am...</td>\n",
       "    </tr>\n",
       "  </tbody>\n",
       "</table>\n",
       "<p>100 rows × 3 columns</p>\n",
       "</div>"
      ],
      "text/plain": [
       "   rating      Review_summary  \\\n",
       "0       5           Fabulous!   \n",
       "1       5      Classy product   \n",
       "2       5   Worth every penny   \n",
       "3       4    Perfect product!   \n",
       "4       5         Good choice   \n",
       "..    ...                 ...   \n",
       "95      5   Worth every penny   \n",
       "96      4         Pretty good   \n",
       "97      5    Perfect product!   \n",
       "98      5  Highly recommended   \n",
       "99      5       Great product   \n",
       "\n",
       "                                          Full_review  \n",
       "0   This is my first iOS phone. I am very happy wi...  \n",
       "1   Best and amazing product.....phone looks so pr...  \n",
       "2   i11 is worthy to buy, too much happy with the ...  \n",
       "3   It’s a must buy who is looking for an upgrade ...  \n",
       "4   So far it’s been an AMAZING experience coming ...  \n",
       "..                                                ...  \n",
       "95  Previously I was using one plus 3t it was a gr...  \n",
       "96  I was using Iphone 6s and also Oneplus 6t. Bot...  \n",
       "97  Value for money\\n5 star rating\\nExcellent came...  \n",
       "98  What a camera .....just awesome ..you can feel...  \n",
       "99  Amazing Powerful and Durable Gadget.\\n\\nI’m am...  \n",
       "\n",
       "[100 rows x 3 columns]"
      ]
     },
     "execution_count": 254,
     "metadata": {},
     "output_type": "execute_result"
    }
   ],
   "source": [
    "df "
   ]
  },
  {
   "cell_type": "code",
   "execution_count": null,
   "id": "a7529c7f",
   "metadata": {},
   "outputs": [],
   "source": []
  },
  {
   "cell_type": "code",
   "execution_count": null,
   "id": "13d08c9a",
   "metadata": {},
   "outputs": [],
   "source": []
  },
  {
   "cell_type": "code",
   "execution_count": null,
   "id": "5a15caa6",
   "metadata": {},
   "outputs": [],
   "source": []
  },
  {
   "cell_type": "code",
   "execution_count": null,
   "id": "8cac3bba",
   "metadata": {},
   "outputs": [],
   "source": []
  },
  {
   "cell_type": "code",
   "execution_count": null,
   "id": "f21ac117",
   "metadata": {},
   "outputs": [],
   "source": []
  },
  {
   "cell_type": "markdown",
   "id": "2a21ed70",
   "metadata": {},
   "source": [
    "# Answer --- 6"
   ]
  },
  {
   "cell_type": "code",
   "execution_count": null,
   "id": "fffece3f",
   "metadata": {},
   "outputs": [],
   "source": []
  },
  {
   "cell_type": "code",
   "execution_count": 282,
   "id": "46c06d34",
   "metadata": {},
   "outputs": [],
   "source": [
    "driver = webdriver.Chrome(r\"chromedriver.exe\")"
   ]
  },
  {
   "cell_type": "code",
   "execution_count": 283,
   "id": "60fe4aed",
   "metadata": {},
   "outputs": [],
   "source": [
    "driver.get(\"https://www.flipkart.com/\")"
   ]
  },
  {
   "cell_type": "code",
   "execution_count": 284,
   "id": "168efdd1",
   "metadata": {},
   "outputs": [],
   "source": [
    "c_click = driver.find_element(By.XPATH,\"/html/body/div[2]/div/div/button\")\n",
    "c_click.click()"
   ]
  },
  {
   "cell_type": "code",
   "execution_count": 285,
   "id": "7d54d76d",
   "metadata": {},
   "outputs": [],
   "source": [
    "catagory = driver.find_element(By.CLASS_NAME,\"_3704LK \")\n",
    "catagory.send_keys(\"sneakers\")"
   ]
  },
  {
   "cell_type": "code",
   "execution_count": 286,
   "id": "78d9acb8",
   "metadata": {},
   "outputs": [],
   "source": [
    "search = driver.find_element(By.CLASS_NAME,\"L0Z3Pu\")\n",
    "search.click()"
   ]
  },
  {
   "cell_type": "code",
   "execution_count": 287,
   "id": "3bde3f0a",
   "metadata": {},
   "outputs": [],
   "source": [
    "Brand = []\n",
    "start=0\n",
    "end=3\n",
    "for page in range(start,end):\n",
    "    titles=driver.find_elements(By.XPATH,'//div[@class=\"_2WkVRV\"]')\n",
    "    for i in titles:\n",
    "        Brand.append(i.text)\n",
    "    next_button = driver.find_element(By.XPATH,'//a[@class=\"_1LKTO3\"]')\n",
    "    next_button.click()\n",
    "    time.sleep(3)"
   ]
  },
  {
   "cell_type": "code",
   "execution_count": 288,
   "id": "0f58829a",
   "metadata": {},
   "outputs": [
    {
     "data": {
      "text/plain": [
       "120"
      ]
     },
     "execution_count": 288,
     "metadata": {},
     "output_type": "execute_result"
    }
   ],
   "source": [
    "len(Brand)"
   ]
  },
  {
   "cell_type": "code",
   "execution_count": 289,
   "id": "3fe8ec81",
   "metadata": {},
   "outputs": [],
   "source": [
    "Product_Description = []\n",
    "start=0\n",
    "end=3\n",
    "for page in range(start,end):\n",
    "    titles=driver.find_elements(By.XPATH,'//a[@class=\"IRpwTa\"]')\n",
    "    for i in titles:\n",
    "        Product_Description.append(i.text)\n",
    "    next_button = driver.find_element(By.XPATH,'//a[@class=\"_1LKTO3\"]')\n",
    "    next_button.click()\n",
    "    time.sleep(3)"
   ]
  },
  {
   "cell_type": "code",
   "execution_count": 290,
   "id": "c2b86ef6",
   "metadata": {},
   "outputs": [
    {
     "data": {
      "text/plain": [
       "119"
      ]
     },
     "execution_count": 290,
     "metadata": {},
     "output_type": "execute_result"
    }
   ],
   "source": [
    "len(Product_Description)"
   ]
  },
  {
   "cell_type": "code",
   "execution_count": 291,
   "id": "6c96e4dd",
   "metadata": {},
   "outputs": [],
   "source": [
    "Price = []\n",
    "start=0\n",
    "end=3\n",
    "for page in range(start,end):\n",
    "    titles=driver.find_elements(By.XPATH,'//div[@class=\"_25b18c\"]')\n",
    "    for i in titles:\n",
    "        Price.append(i.text)\n",
    "    next_button = driver.find_element(By.XPATH,'//a[@class=\"_1LKTO3\"]')\n",
    "    next_button.click()\n",
    "    time.sleep(3)"
   ]
  },
  {
   "cell_type": "code",
   "execution_count": 297,
   "id": "008a62fa",
   "metadata": {},
   "outputs": [
    {
     "data": {
      "text/plain": [
       "135"
      ]
     },
     "execution_count": 297,
     "metadata": {},
     "output_type": "execute_result"
    }
   ],
   "source": [
    "len(Price)"
   ]
  },
  {
   "cell_type": "code",
   "execution_count": 312,
   "id": "f76c7d06",
   "metadata": {},
   "outputs": [
    {
     "name": "stdout",
     "output_type": "stream",
     "text": [
      "120 119 135\n"
     ]
    }
   ],
   "source": [
    "print(len(Brand),len(Product_Description),len(Price))"
   ]
  },
  {
   "cell_type": "code",
   "execution_count": 324,
   "id": "4f8f5b68",
   "metadata": {},
   "outputs": [
    {
     "data": {
      "text/html": [
       "<div>\n",
       "<style scoped>\n",
       "    .dataframe tbody tr th:only-of-type {\n",
       "        vertical-align: middle;\n",
       "    }\n",
       "\n",
       "    .dataframe tbody tr th {\n",
       "        vertical-align: top;\n",
       "    }\n",
       "\n",
       "    .dataframe thead th {\n",
       "        text-align: right;\n",
       "    }\n",
       "</style>\n",
       "<table border=\"1\" class=\"dataframe\">\n",
       "  <thead>\n",
       "    <tr style=\"text-align: right;\">\n",
       "      <th></th>\n",
       "      <th>Brand</th>\n",
       "    </tr>\n",
       "  </thead>\n",
       "  <tbody>\n",
       "    <tr>\n",
       "      <th>0</th>\n",
       "      <td>New Balance</td>\n",
       "    </tr>\n",
       "    <tr>\n",
       "      <th>1</th>\n",
       "      <td>New Balance</td>\n",
       "    </tr>\n",
       "    <tr>\n",
       "      <th>2</th>\n",
       "      <td>BIRDE</td>\n",
       "    </tr>\n",
       "    <tr>\n",
       "      <th>3</th>\n",
       "      <td>SFR</td>\n",
       "    </tr>\n",
       "    <tr>\n",
       "      <th>4</th>\n",
       "      <td>Labbin</td>\n",
       "    </tr>\n",
       "    <tr>\n",
       "      <th>...</th>\n",
       "      <td>...</td>\n",
       "    </tr>\n",
       "    <tr>\n",
       "      <th>95</th>\n",
       "      <td>New Balance</td>\n",
       "    </tr>\n",
       "    <tr>\n",
       "      <th>96</th>\n",
       "      <td>World Wear Footwear</td>\n",
       "    </tr>\n",
       "    <tr>\n",
       "      <th>97</th>\n",
       "      <td>Magnolia</td>\n",
       "    </tr>\n",
       "    <tr>\n",
       "      <th>98</th>\n",
       "      <td>Magnolia</td>\n",
       "    </tr>\n",
       "    <tr>\n",
       "      <th>99</th>\n",
       "      <td>RapidBox</td>\n",
       "    </tr>\n",
       "  </tbody>\n",
       "</table>\n",
       "<p>100 rows × 1 columns</p>\n",
       "</div>"
      ],
      "text/plain": [
       "                  Brand\n",
       "0           New Balance\n",
       "1           New Balance\n",
       "2                 BIRDE\n",
       "3                   SFR\n",
       "4                Labbin\n",
       "..                  ...\n",
       "95          New Balance\n",
       "96  World Wear Footwear\n",
       "97             Magnolia\n",
       "98             Magnolia\n",
       "99             RapidBox\n",
       "\n",
       "[100 rows x 1 columns]"
      ]
     },
     "execution_count": 324,
     "metadata": {},
     "output_type": "execute_result"
    }
   ],
   "source": [
    "df.head(100)"
   ]
  },
  {
   "cell_type": "code",
   "execution_count": null,
   "id": "ca6294d2",
   "metadata": {},
   "outputs": [],
   "source": []
  },
  {
   "cell_type": "code",
   "execution_count": null,
   "id": "8316b4dd",
   "metadata": {},
   "outputs": [],
   "source": []
  },
  {
   "cell_type": "code",
   "execution_count": null,
   "id": "632a7d71",
   "metadata": {},
   "outputs": [],
   "source": []
  },
  {
   "cell_type": "code",
   "execution_count": null,
   "id": "d7d7e833",
   "metadata": {},
   "outputs": [],
   "source": []
  },
  {
   "cell_type": "markdown",
   "id": "a1bb9e59",
   "metadata": {},
   "source": [
    "# Answer --- 7"
   ]
  },
  {
   "cell_type": "code",
   "execution_count": 390,
   "id": "a261c036",
   "metadata": {},
   "outputs": [],
   "source": [
    "driver = webdriver.Chrome(r\"chromedriver.exe\")"
   ]
  },
  {
   "cell_type": "code",
   "execution_count": 391,
   "id": "d694913e",
   "metadata": {},
   "outputs": [],
   "source": [
    "driver.get(\"https://www.amazon.in/\")"
   ]
  },
  {
   "cell_type": "code",
   "execution_count": 350,
   "id": "3e58608d",
   "metadata": {},
   "outputs": [],
   "source": [
    "catagory = driver.find_element(By.XPATH,\"/html/body/div[1]/header/div/div[1]/div[2]/div/form/div[2]/div[1]/input\")\n",
    "catagory.send_keys(\"Laptop\")"
   ]
  },
  {
   "cell_type": "code",
   "execution_count": 351,
   "id": "0c32e5ff",
   "metadata": {},
   "outputs": [],
   "source": [
    "search = driver.find_element(By.XPATH,\"/html/body/div[1]/header/div/div[1]/div[2]/div/form/div[3]/div/span/input\")\n",
    "search.click()"
   ]
  },
  {
   "cell_type": "code",
   "execution_count": 352,
   "id": "5d7eff5f",
   "metadata": {},
   "outputs": [],
   "source": [
    "cpu = driver.find_element(By.XPATH,\"/html/body/div[1]/div[2]/div[1]/div[2]/div/div[3]/span/div[1]/div/div/div[6]/ul[7]/li[12]/span/a/div/label/i\")\n",
    "\n",
    "cpu.click()"
   ]
  },
  {
   "cell_type": "code",
   "execution_count": 362,
   "id": "0e5b7cad",
   "metadata": {},
   "outputs": [],
   "source": [
    "cpu_title = []\n",
    "title_tags = driver.find_elements(By.XPATH,'//span[@class=\"a-size-medium a-color-base a-text-normal\"]')\n",
    "for i in title_tags[0:10]:\n",
    "    title = i.text\n",
    "    cpu_title.append(title)\n",
    "    \n",
    "\n"
   ]
  },
  {
   "cell_type": "code",
   "execution_count": 366,
   "id": "b2151499",
   "metadata": {},
   "outputs": [
    {
     "data": {
      "text/plain": [
       "10"
      ]
     },
     "execution_count": 366,
     "metadata": {},
     "output_type": "execute_result"
    }
   ],
   "source": [
    "len(cpu_title )"
   ]
  },
  {
   "cell_type": "code",
   "execution_count": 367,
   "id": "c932d01e",
   "metadata": {},
   "outputs": [],
   "source": [
    "cpu_range= []\n",
    "range_tags = driver.find_elements(By.XPATH,'//span[@class=\"a-size-base\"]')\n",
    "for i in range_tags[0:10]:\n",
    "    range1 = i.text\n",
    "    cpu_range.append(range1)\n",
    "    \n"
   ]
  },
  {
   "cell_type": "code",
   "execution_count": 369,
   "id": "bbad802e",
   "metadata": {},
   "outputs": [
    {
     "data": {
      "text/plain": [
       "10"
      ]
     },
     "execution_count": 369,
     "metadata": {},
     "output_type": "execute_result"
    }
   ],
   "source": [
    "len(cpu_range)"
   ]
  },
  {
   "cell_type": "code",
   "execution_count": 371,
   "id": "5adf8e08",
   "metadata": {},
   "outputs": [],
   "source": [
    "cpu_price= []\n",
    "price_tags = driver.find_elements(By.XPATH,'//span[@class=\"a-price-whole\"]')\n",
    "for i in price_tags[0:10]:\n",
    "    price = i.text\n",
    "    cpu_price.append(price)"
   ]
  },
  {
   "cell_type": "code",
   "execution_count": 372,
   "id": "40678da3",
   "metadata": {},
   "outputs": [
    {
     "data": {
      "text/plain": [
       "10"
      ]
     },
     "execution_count": 372,
     "metadata": {},
     "output_type": "execute_result"
    }
   ],
   "source": [
    "len(cpu_price)"
   ]
  },
  {
   "cell_type": "code",
   "execution_count": null,
   "id": "2cd646d6",
   "metadata": {},
   "outputs": [],
   "source": []
  },
  {
   "cell_type": "code",
   "execution_count": null,
   "id": "0bb08b6b",
   "metadata": {},
   "outputs": [],
   "source": []
  },
  {
   "cell_type": "code",
   "execution_count": null,
   "id": "dadda743",
   "metadata": {},
   "outputs": [],
   "source": []
  },
  {
   "cell_type": "code",
   "execution_count": null,
   "id": "a3fd3c26",
   "metadata": {},
   "outputs": [],
   "source": []
  },
  {
   "cell_type": "code",
   "execution_count": null,
   "id": "81a28c81",
   "metadata": {},
   "outputs": [],
   "source": []
  },
  {
   "cell_type": "markdown",
   "id": "78e487b7",
   "metadata": {},
   "source": [
    "# Answer --- 8"
   ]
  },
  {
   "cell_type": "code",
   "execution_count": null,
   "id": "d03d6f95",
   "metadata": {},
   "outputs": [],
   "source": []
  },
  {
   "cell_type": "code",
   "execution_count": 415,
   "id": "14cf4215",
   "metadata": {},
   "outputs": [],
   "source": [
    "driver = webdriver.Chrome(r\"chromedriver.exe\")"
   ]
  },
  {
   "cell_type": "code",
   "execution_count": 416,
   "id": "8200e91f",
   "metadata": {},
   "outputs": [],
   "source": [
    "driver.get(\"https://www.azquotes.com/\")"
   ]
  },
  {
   "cell_type": "code",
   "execution_count": 417,
   "id": "cbfebdb9",
   "metadata": {},
   "outputs": [],
   "source": [
    "c_click = driver.find_element(By.XPATH,\"/html/body/div[1]/div[1]/div[1]/div/div[3]/ul/li[5]/a\")\n",
    "c_click.click()"
   ]
  },
  {
   "cell_type": "code",
   "execution_count": 418,
   "id": "125dcb01",
   "metadata": {},
   "outputs": [],
   "source": [
    "author = []\n",
    "start=0\n",
    "end=9\n",
    "for page in range(start,end):\n",
    "    titles=driver.find_elements(By.XPATH,'//div[@class=\"author\"]')\n",
    "    for i in titles:\n",
    "        author.append(i.text)\n",
    "    next_button = driver.find_element(By.XPATH,'//li[@class=\"next\"]')\n",
    "    next_button.click()\n",
    "    time.sleep(3)"
   ]
  },
  {
   "cell_type": "code",
   "execution_count": 419,
   "id": "41b04166",
   "metadata": {},
   "outputs": [
    {
     "data": {
      "text/plain": [
       "900"
      ]
     },
     "execution_count": 419,
     "metadata": {},
     "output_type": "execute_result"
    }
   ],
   "source": [
    "len(author)"
   ]
  },
  {
   "cell_type": "code",
   "execution_count": 423,
   "id": "9a650b17",
   "metadata": {},
   "outputs": [],
   "source": [
    "Quote = []\n",
    "start=0 \n",
    "end=9\n",
    "for page in range(start,end):\n",
    "    titles=driver.find_elements(By.XPATH,'//a[@class=\"title\"]')\n",
    "    for i in titles:\n",
    "        Quote.append(i.text)\n",
    "    next_button = driver.find_element(By.XPATH,'//li[@class=\"next\"]')\n",
    "    next_button.click()\n",
    "    time.sleep(3)"
   ]
  },
  {
   "cell_type": "code",
   "execution_count": 424,
   "id": "fc688ddb",
   "metadata": {},
   "outputs": [
    {
     "data": {
      "text/plain": [
       "900"
      ]
     },
     "execution_count": 424,
     "metadata": {},
     "output_type": "execute_result"
    }
   ],
   "source": [
    "len(Quote)"
   ]
  },
  {
   "cell_type": "code",
   "execution_count": 425,
   "id": "60885d06",
   "metadata": {},
   "outputs": [],
   "source": [
    "Type = []\n",
    "start=0\n",
    "end=9\n",
    "for page in range(start,end):\n",
    "    titles=driver.find_elements(By.XPATH,'//div[@class=\"tags\"]')\n",
    "    for i in titles:\n",
    "        Type.append(i.text)\n",
    "    next_button = driver.find_element(By.XPATH,'//li[@class=\"next\"]')\n",
    "    next_button.click()\n",
    "    time.sleep(3)"
   ]
  },
  {
   "cell_type": "code",
   "execution_count": 426,
   "id": "c3f50576",
   "metadata": {},
   "outputs": [
    {
     "data": {
      "text/plain": [
       "900"
      ]
     },
     "execution_count": 426,
     "metadata": {},
     "output_type": "execute_result"
    }
   ],
   "source": [
    "len(Type)"
   ]
  },
  {
   "cell_type": "markdown",
   "id": "fdb9f459",
   "metadata": {},
   "source": [
    " # Not able to fetch 10 page all along so fetched 9 "
   ]
  },
  {
   "cell_type": "code",
   "execution_count": null,
   "id": "235621f4",
   "metadata": {},
   "outputs": [],
   "source": []
  },
  {
   "cell_type": "code",
   "execution_count": null,
   "id": "00de350a",
   "metadata": {},
   "outputs": [],
   "source": []
  },
  {
   "cell_type": "code",
   "execution_count": null,
   "id": "6ea92987",
   "metadata": {},
   "outputs": [],
   "source": []
  },
  {
   "cell_type": "markdown",
   "id": "88f3aac4",
   "metadata": {},
   "source": [
    "# Answer --- 9"
   ]
  },
  {
   "cell_type": "code",
   "execution_count": 373,
   "id": "0803cc0e",
   "metadata": {},
   "outputs": [],
   "source": [
    "driver = webdriver.Chrome(r\"chromedriver.exe\")"
   ]
  },
  {
   "cell_type": "code",
   "execution_count": 374,
   "id": "67d8345f",
   "metadata": {},
   "outputs": [],
   "source": [
    "driver.get(\"https://www.jagranjosh.com/\")"
   ]
  },
  {
   "cell_type": "code",
   "execution_count": 375,
   "id": "3477d90a",
   "metadata": {},
   "outputs": [],
   "source": [
    "c_click = driver.find_element(By.XPATH,\"/html/body/div/div[1]/div/div[1]/div/div[5]/div/div[1]/header/div[3]/ul/li[9]/a\")\n",
    "c_click.click()"
   ]
  },
  {
   "cell_type": "code",
   "execution_count": 376,
   "id": "f8983f84",
   "metadata": {},
   "outputs": [],
   "source": [
    "c_click = driver.find_element(By.XPATH,\"/html/body/div[1]/div/div/div[2]/div/div[10]/div/div/ul/li[2]/a\")\n",
    "c_click.click()"
   ]
  },
  {
   "cell_type": "code",
   "execution_count": 242,
   "id": "59259663",
   "metadata": {},
   "outputs": [
    {
     "data": {
      "text/plain": [
       "\"S.N.\\nName\\nBorn-Dead\\nTerm of office\\nRemark\\n1.\\nJawahar Lal Nehru\\n(1889–1964)\\n15 August 1947 to 27 May 1964\\n16 years, 286 days\\nThe first prime minister of India and the longest-serving PM of India, the first to die in office.\\n2.\\nGulzarilal Nanda (Acting)\\n(1898-1998)\\n27 May 1964 to 9 June 1964,\\n13 days\\nFirst acting PM of India\\n3.\\nLal Bahadur Shastri\\n(1904–1966)\\n9 June 1964 to 11 January 1966\\n1 year, 216 days\\nHe has given the slogan of 'Jai Jawan Jai Kisan' during the Indo-Pak war of 1965\\n4. \\nGulzari Lal Nanda  (Acting)\\n(1898-1998)\\n11 January 1966 to 24 January 1966\\n13 days\\n-\\n5.\\nIndira Gandhi\\n(1917–1984)\\n24 January 1966 to 24 March 1977\\n11 years, 59 days\\nFirst female Prime Minister of India\\n6.\\nMorarji Desai\\n(1896–1995)\\n24 March 1977 to  28 July 1979 \\n2 year, 126 days\\nOldest to become PM (81 years old) and first to resign from office\\n7.\\nCharan Singh\\n(1902–1987)\\n28 July 1979 to 14 January 1980\\n170 days\\nOnly PM who did not face the Parliament\\n8.\\nIndira Gandhi\\n(1917–1984)\\n14 January 1980 to 31 October 1984\\n4 years, 291 days\\nThe first lady who served as PM for the second term\\n9.\\nRajiv Gandhi\\n(1944–1991)\\n31 October 1984 to 2 December 1989\\n5 years, 32 days\\nYoungest to become PM (40 years old)\\n10.\\nV. P. Singh\\n(1931–2008)\\n2 December 1989 to 10 November 1990\\n343 days\\nFirst PM to step down after a vote of no confidence\\n11.\\nChandra Shekhar\\n(1927–2007)\\n10 November 1990 to 21 June 1991\\n223 days\\nHe belongs to  Samajwadi Janata Party\\n12.\\nP. V. Narasimha Rao\\n(1921–2004)\\n21 June 1991 to 16 May 1996\\n4 years, 330 days\\nFirst PM from south India\\n13.\\nAtal Bihari Vajpayee\\n(1924- 2018)\\n16 May 1996 to 1 June 1996\\n16 days\\nPM for shortest tenure\\n14.\\nH. D. Deve Gowda\\n(born 1933)\\n1 June 1996 to 21 April 1997\\n324 days\\nHe belongs to  Janata Dal\\n15.\\nInder Kumar Gujral\\n(1919–2012)\\n21 April 1997 to 19 March 1998 \\n332 days\\n------\\n16.\\nAtal Bihari Vajpayee\\n(1924-2018)\\n19 March 1998 to 22 May 2004 \\n6 years, 64 days\\n The first non-congress PM who completed a full term as PM\\n17.\\nManmohan Singh\\n(born 1932)\\n22 May 2004 to 26 May 2014   \\n10 years, 4 days\\n First Sikh PM\\n18.\\nNarendra Modi\\n(born 1950)\\n26 May 2014 - Present\\n4th Prime Minister of India who served two consecutive tenures\""
      ]
     },
     "execution_count": 242,
     "metadata": {},
     "output_type": "execute_result"
    }
   ],
   "source": [
    "t_element = driver.find_element(By.XPATH, \"/html/body/div[1]/div[2]/div/div[2]/div/div[1]/div/div/div/div[5]/span/div[2]/table\")\n",
    "t_element.text"
   ]
  },
  {
   "cell_type": "code",
   "execution_count": 281,
   "id": "41c99204",
   "metadata": {},
   "outputs": [],
   "source": [
    "Name=[]\n",
    "Born_Dead=[]\n",
    "Term_of_office=[]\n",
    "Remarks=[]\n"
   ]
  },
  {
   "cell_type": "code",
   "execution_count": 282,
   "id": "5da0e8e3",
   "metadata": {},
   "outputs": [],
   "source": [
    "for m in driver.find_elements(By.XPATH,\"//div[@class='table-box']/table/tbody/tr/td[2]/p\"):\n",
    "    \n",
    "    Name.append(m.text)\n",
    "    \n",
    "#for scraping the Born-Dead\n",
    "\n",
    "for k in driver.find_elements(By.XPATH,\"//div[@class='table-box']/table/tbody/tr/td[3]/p\"):\n",
    "    \n",
    "    Born_Dead.append(k.text)\n",
    "    \n",
    "#for scraping Term_of_office\n",
    "\n",
    "for p in driver.find_elements(By.XPATH,\"//div[@class='table-box']/table/tbody/tr/td[4]/p[1]\"):\n",
    "    \n",
    "    Term_of_office.append(p.text)\n",
    "    \n",
    "#for scraping the Remarks\n",
    "\n",
    "for l in driver.find_elements(By.XPATH,\"//div[@class='table-box']/table/tbody/tr/td[5]/p\"):\n",
    "    \n",
    "    Remarks.append(l.text)"
   ]
  },
  {
   "cell_type": "code",
   "execution_count": 283,
   "id": "4a3770a2",
   "metadata": {},
   "outputs": [
    {
     "data": {
      "text/html": [
       "<div>\n",
       "<style scoped>\n",
       "    .dataframe tbody tr th:only-of-type {\n",
       "        vertical-align: middle;\n",
       "    }\n",
       "\n",
       "    .dataframe tbody tr th {\n",
       "        vertical-align: top;\n",
       "    }\n",
       "\n",
       "    .dataframe thead th {\n",
       "        text-align: right;\n",
       "    }\n",
       "</style>\n",
       "<table border=\"1\" class=\"dataframe\">\n",
       "  <thead>\n",
       "    <tr style=\"text-align: right;\">\n",
       "      <th></th>\n",
       "      <th>Name</th>\n",
       "      <th>Born_Dead</th>\n",
       "      <th>Term_of_office</th>\n",
       "      <th>Remarks</th>\n",
       "    </tr>\n",
       "  </thead>\n",
       "  <tbody>\n",
       "    <tr>\n",
       "      <th>0</th>\n",
       "      <td>Jawahar Lal Nehru</td>\n",
       "      <td>(1889–1964)</td>\n",
       "      <td>15 August 1947 to 27 May 1964</td>\n",
       "      <td>The first prime minister of India and the long...</td>\n",
       "    </tr>\n",
       "    <tr>\n",
       "      <th>1</th>\n",
       "      <td>Gulzarilal Nanda (Acting)</td>\n",
       "      <td>(1898-1998)</td>\n",
       "      <td>27 May 1964 to 9 June 1964,</td>\n",
       "      <td>First acting PM of India</td>\n",
       "    </tr>\n",
       "    <tr>\n",
       "      <th>2</th>\n",
       "      <td>Lal Bahadur Shastri</td>\n",
       "      <td>(1904–1966)</td>\n",
       "      <td>9 June 1964 to 11 January 1966</td>\n",
       "      <td>He has given the slogan of 'Jai Jawan Jai Kisa...</td>\n",
       "    </tr>\n",
       "    <tr>\n",
       "      <th>3</th>\n",
       "      <td>Gulzari Lal Nanda  (Acting)</td>\n",
       "      <td>(1898-1998)</td>\n",
       "      <td>11 January 1966 to 24 January 1966</td>\n",
       "      <td>-</td>\n",
       "    </tr>\n",
       "    <tr>\n",
       "      <th>4</th>\n",
       "      <td>Indira Gandhi</td>\n",
       "      <td>(1917–1984)</td>\n",
       "      <td>24 January 1966 to 24 March 1977</td>\n",
       "      <td>First female Prime Minister of India</td>\n",
       "    </tr>\n",
       "    <tr>\n",
       "      <th>5</th>\n",
       "      <td>Morarji Desai</td>\n",
       "      <td>(1896–1995)</td>\n",
       "      <td>24 March 1977 to  28 July 1979</td>\n",
       "      <td>Oldest to become PM (81 years old) and first t...</td>\n",
       "    </tr>\n",
       "    <tr>\n",
       "      <th>6</th>\n",
       "      <td>Charan Singh</td>\n",
       "      <td>(1902–1987)</td>\n",
       "      <td>28 July 1979 to 14 January 1980</td>\n",
       "      <td>Only PM who did not face the Parliament</td>\n",
       "    </tr>\n",
       "    <tr>\n",
       "      <th>7</th>\n",
       "      <td>Indira Gandhi</td>\n",
       "      <td>(1917–1984)</td>\n",
       "      <td>14 January 1980 to 31 October 1984</td>\n",
       "      <td>The first lady who served as PM for the second...</td>\n",
       "    </tr>\n",
       "    <tr>\n",
       "      <th>8</th>\n",
       "      <td>Rajiv Gandhi</td>\n",
       "      <td>(1944–1991)</td>\n",
       "      <td>31 October 1984 to 2 December 1989</td>\n",
       "      <td>Youngest to become PM (40 years old)</td>\n",
       "    </tr>\n",
       "    <tr>\n",
       "      <th>9</th>\n",
       "      <td>V. P. Singh</td>\n",
       "      <td>(1931–2008)</td>\n",
       "      <td>2 December 1989 to 10 November 1990</td>\n",
       "      <td>First PM to step down after a vote of no confi...</td>\n",
       "    </tr>\n",
       "    <tr>\n",
       "      <th>10</th>\n",
       "      <td>Chandra Shekhar</td>\n",
       "      <td>(1927–2007)</td>\n",
       "      <td>10 November 1990 to 21 June 1991</td>\n",
       "      <td>He belongs to  Samajwadi Janata Party</td>\n",
       "    </tr>\n",
       "    <tr>\n",
       "      <th>11</th>\n",
       "      <td>P. V. Narasimha Rao</td>\n",
       "      <td>(1921–2004)</td>\n",
       "      <td>21 June 1991 to 16 May 1996</td>\n",
       "      <td>First PM from south India</td>\n",
       "    </tr>\n",
       "    <tr>\n",
       "      <th>12</th>\n",
       "      <td>Atal Bihari Vajpayee</td>\n",
       "      <td>(1924- 2018)</td>\n",
       "      <td>16 May 1996 to 1 June 1996</td>\n",
       "      <td>PM for shortest tenure</td>\n",
       "    </tr>\n",
       "    <tr>\n",
       "      <th>13</th>\n",
       "      <td>H. D. Deve Gowda</td>\n",
       "      <td>(born 1933)</td>\n",
       "      <td>1 June 1996 to 21 April 1997</td>\n",
       "      <td>He belongs to  Janata Dal</td>\n",
       "    </tr>\n",
       "    <tr>\n",
       "      <th>14</th>\n",
       "      <td>Inder Kumar Gujral</td>\n",
       "      <td>(1919–2012)</td>\n",
       "      <td>21 April 1997 to 19 March 1998</td>\n",
       "      <td>------</td>\n",
       "    </tr>\n",
       "    <tr>\n",
       "      <th>15</th>\n",
       "      <td>Atal Bihari Vajpayee</td>\n",
       "      <td>(1924-2018)</td>\n",
       "      <td>19 March 1998 to 22 May 2004</td>\n",
       "      <td>The first non-congress PM who completed a ful...</td>\n",
       "    </tr>\n",
       "    <tr>\n",
       "      <th>16</th>\n",
       "      <td>Manmohan Singh</td>\n",
       "      <td>(born 1932)</td>\n",
       "      <td>22 May 2004 to 26 May 2014</td>\n",
       "      <td>First Sikh PM</td>\n",
       "    </tr>\n",
       "    <tr>\n",
       "      <th>17</th>\n",
       "      <td>Narendra Modi</td>\n",
       "      <td>(born 1950)</td>\n",
       "      <td>26 May 2014 - Present</td>\n",
       "      <td>4th Prime Minister of India who served two con...</td>\n",
       "    </tr>\n",
       "  </tbody>\n",
       "</table>\n",
       "</div>"
      ],
      "text/plain": [
       "                           Name     Born_Dead  \\\n",
       "0             Jawahar Lal Nehru   (1889–1964)   \n",
       "1     Gulzarilal Nanda (Acting)   (1898-1998)   \n",
       "2           Lal Bahadur Shastri   (1904–1966)   \n",
       "3   Gulzari Lal Nanda  (Acting)   (1898-1998)   \n",
       "4                 Indira Gandhi   (1917–1984)   \n",
       "5                 Morarji Desai   (1896–1995)   \n",
       "6                  Charan Singh   (1902–1987)   \n",
       "7                 Indira Gandhi   (1917–1984)   \n",
       "8                  Rajiv Gandhi   (1944–1991)   \n",
       "9                   V. P. Singh   (1931–2008)   \n",
       "10              Chandra Shekhar   (1927–2007)   \n",
       "11          P. V. Narasimha Rao   (1921–2004)   \n",
       "12         Atal Bihari Vajpayee  (1924- 2018)   \n",
       "13             H. D. Deve Gowda   (born 1933)   \n",
       "14           Inder Kumar Gujral   (1919–2012)   \n",
       "15         Atal Bihari Vajpayee   (1924-2018)   \n",
       "16               Manmohan Singh   (born 1932)   \n",
       "17                Narendra Modi   (born 1950)   \n",
       "\n",
       "                         Term_of_office  \\\n",
       "0         15 August 1947 to 27 May 1964   \n",
       "1           27 May 1964 to 9 June 1964,   \n",
       "2        9 June 1964 to 11 January 1966   \n",
       "3    11 January 1966 to 24 January 1966   \n",
       "4      24 January 1966 to 24 March 1977   \n",
       "5       24 March 1977 to  28 July 1979    \n",
       "6       28 July 1979 to 14 January 1980   \n",
       "7    14 January 1980 to 31 October 1984   \n",
       "8    31 October 1984 to 2 December 1989   \n",
       "9   2 December 1989 to 10 November 1990   \n",
       "10     10 November 1990 to 21 June 1991   \n",
       "11          21 June 1991 to 16 May 1996   \n",
       "12           16 May 1996 to 1 June 1996   \n",
       "13         1 June 1996 to 21 April 1997   \n",
       "14      21 April 1997 to 19 March 1998    \n",
       "15        19 March 1998 to 22 May 2004    \n",
       "16        22 May 2004 to 26 May 2014      \n",
       "17                26 May 2014 - Present   \n",
       "\n",
       "                                              Remarks  \n",
       "0   The first prime minister of India and the long...  \n",
       "1                            First acting PM of India  \n",
       "2   He has given the slogan of 'Jai Jawan Jai Kisa...  \n",
       "3                                                   -  \n",
       "4                First female Prime Minister of India  \n",
       "5   Oldest to become PM (81 years old) and first t...  \n",
       "6             Only PM who did not face the Parliament  \n",
       "7   The first lady who served as PM for the second...  \n",
       "8                Youngest to become PM (40 years old)  \n",
       "9   First PM to step down after a vote of no confi...  \n",
       "10              He belongs to  Samajwadi Janata Party  \n",
       "11                          First PM from south India  \n",
       "12                             PM for shortest tenure  \n",
       "13                          He belongs to  Janata Dal  \n",
       "14                                             ------  \n",
       "15   The first non-congress PM who completed a ful...  \n",
       "16                                      First Sikh PM  \n",
       "17  4th Prime Minister of India who served two con...  "
      ]
     },
     "execution_count": 283,
     "metadata": {},
     "output_type": "execute_result"
    }
   ],
   "source": [
    "df=pd.DataFrame({'Name':Name, 'Born_Dead':Born_Dead, 'Term_of_office':Term_of_office, 'Remarks':Remarks})\n",
    "df"
   ]
  },
  {
   "cell_type": "code",
   "execution_count": null,
   "id": "07900343",
   "metadata": {},
   "outputs": [],
   "source": []
  },
  {
   "cell_type": "code",
   "execution_count": null,
   "id": "66971bb9",
   "metadata": {},
   "outputs": [],
   "source": []
  },
  {
   "cell_type": "code",
   "execution_count": null,
   "id": "84453d8a",
   "metadata": {},
   "outputs": [],
   "source": []
  },
  {
   "cell_type": "code",
   "execution_count": null,
   "id": "20e9d615",
   "metadata": {},
   "outputs": [],
   "source": []
  },
  {
   "cell_type": "code",
   "execution_count": null,
   "id": "74ea7f64",
   "metadata": {},
   "outputs": [],
   "source": []
  },
  {
   "cell_type": "code",
   "execution_count": null,
   "id": "b82ad64a",
   "metadata": {},
   "outputs": [],
   "source": []
  },
  {
   "cell_type": "markdown",
   "id": "755cff9c",
   "metadata": {},
   "source": [
    "# Answer --- 10"
   ]
  },
  {
   "cell_type": "code",
   "execution_count": null,
   "id": "9731a41f",
   "metadata": {},
   "outputs": [],
   "source": []
  },
  {
   "cell_type": "code",
   "execution_count": 429,
   "id": "e94fb452",
   "metadata": {},
   "outputs": [],
   "source": [
    "driver=webdriver.Chrome(r\"chromedriver.exe\")\n"
   ]
  },
  {
   "cell_type": "code",
   "execution_count": 430,
   "id": "251d64fa",
   "metadata": {},
   "outputs": [],
   "source": [
    "driver.get(\"https://www.motor1.com/\")"
   ]
  },
  {
   "cell_type": "code",
   "execution_count": 431,
   "id": "da92e4d9",
   "metadata": {},
   "outputs": [],
   "source": [
    "title = driver.find_element(By.XPATH,\"/html/body/div[3]/div[2]/div/div/div[3]/div/div/div/form/input\")\n",
    "title.send_keys('50 most expensive cars in the world')"
   ]
  },
  {
   "cell_type": "code",
   "execution_count": 432,
   "id": "d95a9dff",
   "metadata": {},
   "outputs": [],
   "source": [
    "search = driver.find_element(By.XPATH,\"/html/body/div[3]/div[2]/div/div/div[3]/div/div/div/form/button[1]\")\n",
    "search.click()"
   ]
  },
  {
   "cell_type": "code",
   "execution_count": 434,
   "id": "cd662eee",
   "metadata": {},
   "outputs": [],
   "source": [
    "search = driver.find_element(By.XPATH,\"/html/body/div[3]/div[9]/div/div[1]/div/div/div[1]/div/div[1]\")\n",
    "search.click()"
   ]
  },
  {
   "cell_type": "code",
   "execution_count": 435,
   "id": "398612c5",
   "metadata": {},
   "outputs": [],
   "source": [
    "Car_Name=[]\n",
    "Price_c=[]"
   ]
  },
  {
   "cell_type": "code",
   "execution_count": 436,
   "id": "13f24476",
   "metadata": {},
   "outputs": [],
   "source": [
    "Car_Name = []\n",
    "title_tags = driver.find_elements(By.XPATH,'//h3[@class= \"subheader\"]')\n",
    "for i in title_tags[0:51]:\n",
    "    title = i.text\n",
    "    Car_Name.append(title)"
   ]
  },
  {
   "cell_type": "code",
   "execution_count": 437,
   "id": "dbcdb698",
   "metadata": {},
   "outputs": [
    {
     "data": {
      "text/plain": [
       "['De Tomaso P72',\n",
       " 'Ferrari LaFerrari',\n",
       " 'Pagani Huayra',\n",
       " 'McLaren Elva',\n",
       " 'Czinger 21C',\n",
       " 'Ferrari Monza',\n",
       " 'Gordon Murray T.33',\n",
       " 'Koenigsegg Gemera',\n",
       " 'Zenvo TSR-S',\n",
       " 'Hennessey Venom F5',\n",
       " 'Bentley Bacalar',\n",
       " 'Hispano Suiza Carmen Boulogne',\n",
       " 'Bentley Mulliner Batur',\n",
       " 'Deus Vayanne',\n",
       " 'SSC Tuatara',\n",
       " 'Lotus Evija',\n",
       " 'Aston Martin Vulcan',\n",
       " 'Delage D12',\n",
       " 'McLaren Speedtail',\n",
       " 'Rimac Nevera',\n",
       " 'Pagani Utopia',\n",
       " 'Pininfarina Battista',\n",
       " 'Ferrari FXX K Evo',\n",
       " 'Gordon Murray T.50',\n",
       " 'Lamborghini Countach',\n",
       " 'Mercedes-AMG Project One',\n",
       " 'Aston Martin Victor',\n",
       " 'Hennessey Venom F5 Roadster',\n",
       " 'Koenigsegg Jesko',\n",
       " 'Aston Martin Valkyrie',\n",
       " 'W Motors Lykan Hypersport',\n",
       " 'McLaren Solus',\n",
       " 'Pagani Huayra Roadster BC',\n",
       " 'Bugatti Chiron Pur Sport',\n",
       " 'Lamborghini Sian',\n",
       " 'Koenigsegg CC850',\n",
       " 'Bugatti Chiron Super Sport 300+',\n",
       " 'Lamborghini Veneno',\n",
       " 'Bugatti Bolide',\n",
       " 'Bugatti Mistral',\n",
       " 'Pagani Huayra Imola',\n",
       " 'Bugatti Divo',\n",
       " 'SP Automotive Chaos',\n",
       " 'Pagani Codalunga',\n",
       " 'Mercedes-Maybach Exelero',\n",
       " 'Bugatti Centodieci',\n",
       " 'Bugatti Chiron Profilée',\n",
       " 'Rolls-Royce Sweptail',\n",
       " 'Bugatti La Voiture Noire',\n",
       " 'Rolls-Royce Boat Tail*',\n",
       " 'Most Expensive Cars In The World']"
      ]
     },
     "execution_count": 437,
     "metadata": {},
     "output_type": "execute_result"
    }
   ],
   "source": [
    "Car_Name"
   ]
  },
  {
   "cell_type": "code",
   "execution_count": null,
   "id": "f54d17ec",
   "metadata": {},
   "outputs": [],
   "source": [
    "for i in driver.find_elements(By.XPATH,'/html/body/div[3]/div[7]/div[2]/div[1]/div[2]/div[1]/p[8]'):\n",
    "    Price_c.append(i.text)"
   ]
  },
  {
   "cell_type": "code",
   "execution_count": 370,
   "id": "38eb4bb6",
   "metadata": {},
   "outputs": [],
   "source": [
    "Price_c"
   ]
  },
  {
   "cell_type": "code",
   "execution_count": 410,
   "id": "f0fbf278",
   "metadata": {},
   "outputs": [],
   "source": [
    "from bs4 import BeautifulSoup\n",
    "import requests\n",
    "import pandas as pd"
   ]
  },
  {
   "cell_type": "code",
   "execution_count": 411,
   "id": "d6828bdd",
   "metadata": {},
   "outputs": [],
   "source": [
    "data = requests.get(\"https://www.motor1.com/features/308149/most-expensive-new-cars-ever/\")"
   ]
  },
  {
   "cell_type": "code",
   "execution_count": 412,
   "id": "5ac9b8ed",
   "metadata": {},
   "outputs": [
    {
     "data": {
      "text/plain": [
       "<Response [200]>"
      ]
     },
     "execution_count": 412,
     "metadata": {},
     "output_type": "execute_result"
    }
   ],
   "source": [
    "data"
   ]
  },
  {
   "cell_type": "code",
   "execution_count": 413,
   "id": "f75167f7",
   "metadata": {},
   "outputs": [
    {
     "data": {
      "text/plain": [
       "<!DOCTYPE html>\n",
       "<html lang=\"en\" prefix=\"og: http://ogp.me/ns#\"> <head> <link as=\"script\" href=\"https://m1tm.motor1.com/mstm.js?id=GTM-WF9DGGT&amp;l=gtmDataLayer\" rel=\"preload\"/> <meta charset=\"utf-8\"/> <title>Most Expensive Cars In The World (2023 Update) | Motor1.com</title> <style> :root{--m1-of-main-bg-color:#9f671c;--m1-it-main-bg-color:#262626;--m1-mt-main-bg-color:#e55e00;--main-bg-color:#f5f5f5;--white-bg-color:var(--white-color);--body-types-bg:#efedee;--table-odd-row-bg:#f5f5f5;--table-even-row-bg:#ededed;--table-even-row-mob-bg:#f0f0f0;--side-menu-light-bg:hsla(0,0%,100%,0.98039);--side-menu-dark-bg:var(--black-color);--header-search-form-bg:var(--white-color);--home-top-slider-text-bg:var(--black-color);--home-top-slider-decs-text-bg:rgba(0,0,0,0.7);--white-article-bg:var(--white-color);--trending-color-bg:var(--main-bg-color);--mosaic-widget-bg:var(--main-bg-color);--widget-pdf-bg:var(--main-bg-color);--filmstrip-text-bg:var(--white-color);--dropdown-color-bg:var(--white-color);--contacts-header-bg:var(--table-even-row-bg);--carspecs-item-title-bg:#939393;--carspecs-item-value-bg:var(--table-even-row-bg);--sidebar-items-header-bg:var(--black-color);--sidebar-items-item-bg:var(--thumb-background);--make-item-bg:transparent;--author-wrapper-bg:var(--white-color);--trims-header-bg:#878787;--submodel-main-info-bg:#161616;--select-field-menu-bg:var(--white-color);--select-field-menu-disabled-bg:#eee;--slideshow-photo-bg:#eee;--slideshow-photo-item-bg:var(--white-color);--gallery-bg-color:var(--black-color);--radio-background:#f4f4f4;--it-spec-table-bg:#e8e8e8;--it-spec-spec-table-bg:#e2e2e2;--dropdown-color-social-bg:rgba(var(--white),0.9);--widget-rating-bg:var(--black-color);--photo-count-black-bg:var(--black-color);--gallery-custom-bg:rgba(0,0,0,0.45);--press-release-bg:#e6e6e6;--sliding-ads-bg:#f1f8ff;--popup-form-bottom-bg:#ddd;--popup-form-top-bg:#ededed;--info-team-card-bg:#f4f4f4;--main-text-color:#262626;--main-text-color-special:var(--black-color);--heading-color:#747474;--heading-color-special:#171717;--blockquote-color:var(--heading-color);--widget-rating-title-color:rgba(0,0,0,0.55);--white-text-color:var(--white-color);--table-text-color:grey;--popup-form-text-color:#666;--main-link-color:#1899fb;--main-color-hilight:#004391;--top-header-color-bg:#000;--top-header-color-stiky:var(--black);--top-header-color-cl:var(--white-color);--hamburger-button-cl:var(--white-color);--top-menu-navigation-cl:var(--white-color);--main-headline-cl:var(--m1-block-head-background);--m1-find-vehicle-eu-bg:var(--main-color-hilight);--m1-header-ad:#1c1c1c;--breadcrumbs-color:#4b4b4b;--cmpdialog-color:#666;--admininfocolor:#cecece;--white-color:#fff;--white-color-transparent:hsla(0,0%,100%,0.9);--black-color:#000;--blue-color:#00f;--landing-blue:#1896fa;--share-list-url-color:#b5b5b5;--share-box-color-bg:#1998fc;--data-bubbles-target-color:#d9d9d9;--register-footer-wrapper:#2798f5;--register-form-wrapper:#2597f6;--register-form-wrapper-content:#232323;--m1-block-head-background:#00448f;--register-form-wrapper-body:#efefef;--register-form-wrapper-footer:#ddd;--register-form-wrapper-link:#306096;--m1-block-head-light:#1896fa;--m1-bg-dark-gray:#a8a8a8;--trending-content-link:#262626;--thumb-img-text-color:#343e41;--post-author-info-color:grey;--admin-info-table-tr:#888;--post-date-color:#5b5b5b;--m1-scrollbar:#424242;--filter-list-menu-item:#c1c1c1;--thumb-background:#e2e2e2;--content-navigation-background:#919191;--additional-info-background:#e5e5e5;--additional-slide:#e5e5e5;--duration-count:#eaeaea;--requests-profiler-brief:#019e13;--requests-profiler-brief-average:#e6bc00;--requests-profiler-brief-slow:#d40000;--red-color:red;--select2-selection-arrow-color:#999;--cars-form-submit-disabled-bg:#4f4f4f;--cmp-dialog-open:#f3f3f3;--ss-controll-color:rgba(25,152,252,0.8);--bg-white-title:hsla(0,0%,96.1%,0.95);--rblink-background:255,0,0;--white:255,255,255;--black:0,0,0;--facebook-brand-color:#3b5998;--flipboard-brand-color:#e12828;--twitter-brand-color:#1da1f2;--rss-brand-color:#f26522;--youtube-brand-color:red;--telegram-brand-color:#08c;--vk-brand-color:#2787f5;--gnews-brand-color:#34a853;--instagram-brand-color:#c13584;--pinterest-brand-color:#e60023;--reddit-brand-color:#cee3f8;--spotify-brand-color:#0bcc22;--whatsapp-brand-color:#00e676;--ok-brand-color:#ed812b;--tiktok-brand-color:#69c9d0;--linkedin-brand-color:#0077b5;--nav-search-border-color:transparent;--nav-bar-icon-color:#fff;--m1-block-head-background-wrapper:var(--black-color);--m1-autorisation-bg:url(../_/_/src/img/m1-login-bg.jpg);--m1-registation-bg:url(../_/_/src/img/register/m1-registration-bg.jpg);--m1-welcom-bg:url(../_/_/src/img/register/m1-welcome-bg.jpg);--content-header-bg:#1998fc;--car-reviews-page-divs-bg:#fff;--car-reviews-page-filters-bg:#fff;--car-reviews-page-filters-text-color:#000;--car-reviews-page-mobile-bg:var(--main-bg-color);--car-reviews-selected-bg:var(--main-bg-color);--car-reviews-score-bg:var(--carspecs-item-title-bg);--mosaic-black:var(--black-color);--white-border-color:var(--white-color);--black-border-color:#262626;--arrow-menu-color:var(--white-color);--check-form-bg:transparent;--sign-in-icon-bg:var(--black-color);--gallery-grey-color:#c8c8c8;--color-switcher-bg:var(--white-color);--color-switcher-icon-bg:#dedede;--color-switcher-inactive-button-text:rgba(0,0,0,0.3);--background-absolute:#17181c;--label-primary:#303030;--label-secondary:#424242;--label-tertiary:#494949;--label-quaternary:#696969;--label-quinary:#616161;--label-divider:hsla(0,0%,100%,0.12);--inc-primary:#fff;--inc-secondary:hsla(0,0%,100%,0.7);--inc-tertiary:hsla(0,0%,100%,0.5);--action--active:#3398ff;--action-inactive:rgba(0,0,0,0.3);--primary-default:#007eff;--primary-dark:#246ab3;--primary-light:#3398ff}:root[data-color-scheme=dark]{--m1-it-main-bg-color:var(--background-absolute);--gallery-bg-color:var(--background-absolute);--main-bg-color:var(--label-primary);--additional-slide:var(--label-primary);--popup-form-top-bg:var(--label-primary);--m1-block-head-background-wrapper:var(--label-secondary);--white-bg-color:var(--label-secondary);--popup-form-bottom-bg:var(--label-secondary);--top-header-color-bg:var(--black-color);--white-article-bg:var(--label-primary);--header-search-form-bg:var(--label-secondary);--side-menu-light-bg:var(--black-color);--side-menu-dark-bg:var(--black-color);--submodel-main-info-bg:none;--table-odd-row-bg:var(--label-quaternary);--it-spec-table-bg:var(--label-quaternary);--it-spec-spec-table-bg:var(--label-quaternary);--table-even-row-bg:var(--label-tertiary);--table-even-row-mob-bg:var(--label-tertiary);--carspecs-item-title-bg:var(--label-divider);--carspecs-item-value-bg:var(--label-secondary);--trims-header-bg:var(--label-divider);--sliding-ads-bg:var(--label-divider);--home-top-slider-text-bg:var(--label-secondary);--thumb-background:var(--label-secondary);--trending-color-bg:var(--label-secondary);--mosaic-widget-bg:var(--label-secondary);--additional-info-background:var(--label-secondary);--widget-pdf-bg:var(--label-secondary);--sidebar-items-header-bg:var(--label-secondary);--make-item-bg:var(--label-secondary);--author-wrapper-bg:var(--label-secondary);--filter-list-menu-item:var(--label-secondary);--mosaic-black:var(--label-secondary);--slideshow-photo-bg:var(--label-secondary);--radio-background:var(--label-secondary);--dropdown-color-social-bg:var(--label-secondary);--photo-count-black-bg:var(--label-secondary);--press-release-bg:var(--label-secondary);--filmstrip-text-bg:var(--label-tertiary);--contacts-header-bg:var(--label-tertiary);--dropdown-color-bg:var(--label-tertiary);--body-types-bg:var(--label-tertiary);--sidebar-items-item-bg:var(--label-tertiary);--select-field-menu-bg:var(--label-tertiary);--slideshow-photo-item-bg:var(--label-tertiary);--check-form-bg:var(--label-tertiary);--select-field-menu-disabled-bg:var(--label-quinary);--widget-rating-bg:var(--label-secondary);--main-text-color:var(--inc-primary);--main-text-color-special:var(--inc-primary);--top-menu-navigation-cl:var(--inc-primary);--home-top-slider-text-color:var(--inc-primary);--heading-color:var(--inc-secondary);--heading-color-special:var(--inc-primary);--post-date-color:var(--inc-secondary);--blockquote-color:var(--inc-secondary);--breadcrumbs-color:var(--inc-primary);--table-text-color:var(--inc-primary);--popup-form-text-color:var(--inc-primary);--widget-rating-title-color:var(--inc-secondary);--post-author-info-color:var(--inc-tertiary);--main-link-color:var(--primary-light);--white-text-color:#262626;--mosaic-gradient:linear-gradient(0deg,#000,rgba(0,0,0,0.5));--home-top-slider-decs-text-bg:rgba(66,66,66,0.9);--white-border-color:hsla(0,0%,100%,0.12);--black-border-color:hsla(0,0%,100%,0.12);--gallery-custom-bg:transparent;--sign-in-icon-bg:var(--label-primary);--car-reviews-page-divs-bg:hsla(0,0%,100%,0.07);--car-reviews-page-filters-bg:#494949;--car-reviews-page-filters-text-color:hsla(0,0%,100%,0.7);--car-reviews-page-mobile-bg:#424242;--car-reviews-selected-bg:#565656;--car-reviews-score-bg:#565656;--info-team-card-bg:#555;--color-switcher-bg:var(--label-secondary);--color-switcher-icon-bg:var(--label-primary);--color-switcher-inactive-button-text:rgba(0,0,0,0.3)}a,abbr,acronym,address,applet,b,big,blockquote,body,caption,center,cite,code,dd,del,dfn,div,dl,dt,em,fieldset,font,form,h1,h2,h3,h4,h5,h6,html,i,iframe,img,ins,kbd,label,legend,li,object,ol,p,pre,q,s,samp,small,span,strike,strong,sub,sup,table,tbody,td,tfoot,th,thead,tr,tt,u,ul,var{margin:0;padding:0;border:0;outline:0;vertical-align:baseline;font-size:100%}body{line-height:1}li,ol,ul{list-style:none}blockquote,q{quotes:none}:focus{outline:0}ins{text-decoration:none}del{text-decoration:line-through}table{border-collapse:collapse;border-spacing:0}h1,h2,h3,h4,h5,h6{color:var(--heading-color-special);font-size:var(--main-font-size-content);font-weight:var(--main-font-weight);line-height:1.3;margin-bottom:25px}img{max-width:100%}picture{display:block}:root{--top-menu-font-weight:400;--main-font-family:Helvetica,Arial,Verdana,sans-serif;--main-font-weight:600;--main-font-size-content-headline:21px;--m1-article-title-font-size:24px;--m1-article-title-font-size-phone:21px;--main-font-size-content:19px}:root{--m1-header-transition-speed:0.5s;--m1-header-transition-delay:2s}@media only screen and (max-width:1023px){.m1-home-top-slider--full-width{padding-top:0;background-color:#262626}.msnt-show-skin--pad .m1-home-top-slider--full-width{padding-top:0}}@media only screen{.m1-header-main{width:100%;position:sticky;top:0;z-index:1000;max-width:100%}.m1-header-main .m1-header-main-box{background:var(--top-header-color-bg);color:var(--top-header-color-cl);height:50px;width:100%}.m1-header-main .m1-header-main-box-wrapper{display:flex;align-items:center;justify-content:space-between;min-height:60px;height:60px;position:relative;max-width:1024px;margin:0 auto}.m1-header-main .box-item-center-wrapper-align{flex:0 1 1024px;display:flex;justify-content:space-between}.m1-header-main .m1-header-main-box-wrapper .wrapper-box-item-center{z-index:2;position:absolute;text-align:center;margin:auto calc(50% - 100px);left:0;right:0;top:calc(50% - 20px)}.m1-header-main .m1-navigation-main-part-right{flex-basis:calc(50% - 220px)}body .m1-header-ad{background:var(--m1-it-main-bg-color);padding:0}.m1-header-main .m1-header-logo{display:flex;position:relative;width:200px;height:40px}.m1-header-main .m1-header-logo svg{width:100%;height:100%}.m1-header-main .box-item-left{order:0}.m1-header-main .box-item-center-wrapper-align .m1-search-form-button-wrapper{margin-left:0;margin-right:0;align-items:center}.m1-header-main .box-item-center-wrapper-align .m1-search-form-button-wrapper .m1-search-panel{bottom:auto;right:auto}.m1-header-main .m1-navigation-main-part-right{flex-basis:calc(50% - 240px);display:flex;justify-content:flex-end;align-items:center}.m1-header-main .m1-header-main-box-wrapper .box-item-right{order:5;display:flex}.m1-editions-switcher-m{width:50px;height:50px;line-height:50px;vertical-align:middle;font-size:0;text-align:center;cursor:pointer}.m1-editions-switcher-m .edf{display:inline-block}.m1-editions-switcher{cursor:pointer;font-size:12px;text-transform:uppercase;display:inline-block;width:intrinsic;width:-webkit-fit-content;width:-moz-fit-content;width:fit-content;width:-moz-max-content;width:-webkit-max-content;transition:filter .3s ease}.box-item-right .m1-editions-switcher.active{filter:opacity(0)}.m1-editions-switcher .edf,.m1-editions-switcher .title{display:inline-block;vertical-align:middle}.m1-editions-switcher .title{margin:0 2px 0 5px}.m1-editions-switcher .ico-switcher{vertical-align:middle}.m1-editions-switcher .ico-switcher svg{width:14px;height:14px;fill:var(--arrow-menu-color)}.m1-editions-switcher.active .ico-switcher svg{transform:rotate(180deg)}.m1-right-side .m1-editions-switcher{position:absolute;right:0;left:auto;top:22px}.m1-hamburger-button{display:flex;flex-direction:column;justify-content:space-between;width:36px;height:26px;cursor:pointer;transition:filter .3s ease}.m1-hamburger-button.active{filter:opacity(0)}.m1-hamburger-button>span{width:100%;align-self:flex-end;height:2px;background:var(--hamburger-button-cl);border-radius:30px;display:inline}}@media only screen{.m1-header-ad{width:100%;font-size:0;line-height:0;overflow:hidden;text-align:center}body[data-edtn=de] .m1-header-ad,body[data-edtn=ev_de] .m1-header-ad{line-height:1.1}.m1-header-ad .stroer-ap_top-wrapper{display:flex;align-items:center;justify-content:center}body.hangingHeader:not(.msnt-show-skin--desktop) .m1-header-ad .Adgrid_footboard:not(.Adgrid_footboard.adgrid-ad-target),body:not(.msnt-show-skin--desktop) .m1-header-ad .Adgrid_footboard:not(.Adgrid_footboard.adgrid-ad-target){min-height:130px;display:flex;justify-content:center;align-items:center}body.msnt-show-skin--desktop .m1-header-ad,body.msnt-show-skin--pad .m1-header-ad,body.msnt-show-skin--phone .m1-header-ad{display:none}.headerStick .m1-header-main{top:0}.headerStick.headerStick-hide .m1-header-main{transform:translate3d(0,-100%,0);transition:transform .5s ease;transition:transform var(--m1-header-transition-speed) ease;transition-delay:2s;transition-delay:var(--m1-header-transition-delay)}.headerStick.footerStick .m1-header-main,.headerStick .m1-header-main:hover{transition-delay:0s;transform:translateZ(0)}.m1-header-main-bottom-stick{position:absolute;max-width:100%;width:100%;font-size:0;line-height:0}.headerStick .m1-header-main-bottom-stick{position:absolute;top:100%}.m1-header-alert{position:relative;color:var(--white-color);cursor:default;overflow:hidden;max-height:150px;transition:background .5s ease}.headerStick .m1-header-alert,.m1-header-alert{background:var(--main-link-color)}.m1-header-alert>.pre-center{color:var(--white-color);padding:15px 25px;font-size:12px;line-height:20px;min-height:20px;text-align:center}.m1-header-alert>.pre-center>span{display:inline-block}.m1-header-alert a{color:var(--white-color);text-decoration:underline}.m1-header-alert a:hover{text-decoration:none}.m1-header-alert.appearing{max-height:0;-webkit-transition:max-height .5s ease-out;cursor:default;transition:max-height .5s ease-out}.headerStick .m1-header-alert.appearing{max-height:150px;-webkit-transition:max-height .5s ease-in;transition-delay:.5s;transition:max-height .5s ease-in}.m1-header-alert.hide{max-height:0!important;transition:max-height .3s ease;transition-delay:.1s}.m1-header-alert-accept-button{color:var(--white-color);cursor:pointer;display:inline-block;padding:7px 15px;line-height:12px;border-radius:3px;height:12px;font-size:12px;white-space:nowrap;background:var(--black-color);text-decoration:none}.button.m1-search-form-button-animate:hover,button.m1-search-form-button-animate:hover:not([type=submit]),input[type=button].m1-search-form-button-animate:hover{background:none}.m1-header-main .m1-search-form-button-wrapper{order:4;margin-left:auto;flex-basis:calc(50% - 240px);text-align:right;position:relative;display:flex;align-items:center;justify-content:flex-end}.m1-search-form-button-wrapper .m1-search-form-button-animate{display:inline-block;width:auto;height:auto;margin:0;line-height:1;border:none;color:var(--nav-bar-icon-color);font-size:18px;padding:4px;background-color:transparent}.m1-search-form-button-wrapper>.m1-search-form-button-animate:hover{color:var(--nav-bar-icon-color)}.m1-search-panel{width:0;overflow:hidden;transition:width .2s ease}.m1-mobile-search.active{visibility:hidden}#header_search_form{display:flex;background:var(--header-search-form-bg);max-width:100%;min-width:0;border-radius:25px;height:26px;padding-top:0;transition:background .5s ease;border:1px solid;border-color:var(--nav-search-border-color);z-index:3}.m1-search-form-button-wrapper+.box-item-right{margin-left:15px}#header_search_form input.m1-search-form-text:not([type=submit]):not([type=button]):not([type=reset]):not([type=checkbox]):not([type=radio]){min-width:0;border-radius:25px;border:none;height:26px;line-height:26px;padding:4px 0 4px 15px}.m1-search-panel #header_search_form .m1-search-panel-button,.m1-search-panel #header_search_form input:not([type=submit]):not([type=button]):not([type=reset]):not([type=checkbox]):not([type=radio]).m1-search-panel-input{margin-bottom:0}.m1-search-panel-button.button:hover,button.m1-search-panel-button:hover:not([type=submit]),input[type=button].m1-search-panel-button:hover{background:none}.m1-search-panel{width:220px}.wrapper-plugin-sale+.m1-search-form-button-wrapper .m1-search-form-button-animate.active~.m1-search-panel{width:300px}.m1-search-form-button-wrapper .m1-search-form-button-animate.icon-search-svg svg{width:18px;height:18px;fill:var(--main-text-color)}.m1-search-form-button-wrapper .m1-search-form-button-animate.icon-search-svg.m1-mobile-search svg{fill:var(--nav-bar-icon-color)}body[data-edtn=dp] .m1-search-form-button-wrapper .m1-search-form-button-animate.icon-search-svg.m1-mobile-search svg{fill:var(--main-text-color)}.m1-search-panel .m1-search-panel-button.m1-drawer-close-button{display:none}.m1-search-panel .m1-search-panel-button{background:none;color:var(--main-text-color-special);font-size:18px;position:relative;left:auto;top:auto;border:none;width:25px;height:26px;box-sizing:border-box;padding:0 2px;margin:0 5px}.m1-search-panel-button.m1-drawer-close-button.active:after,.m1-search-panel-button.m1-drawer-close-button.active:before{background:var(--main-text-color-special);width:16px;left:0;height:1px;top:auto}.m1-header-main-box-wrapper .box-item-center{display:flex}.m1-header-alert .accept-button-box{text-align:center;padding-top:10px}.headerStick.hangingHeader .m1-header-main{margin-bottom:0}body[data-edtn=de] .m1-header-ad,body[data-edtn=ev_de] .m1-header-ad .m1-gapb-topside{overflow:visible}.root:not(#page_index_index_index) .partner-logo{display:none}}@media only screen and (min-width:1360px){.m1-header-main .box-item-left{top:50%;left:25px;right:auto;margin-right:20px}.m1-header-main .box-item-center-wrapper-align{margin:0 auto}.m1-header-main .box-item-right{top:50%;right:25px;left:auto;width:auto;margin-left:20px}}@media only screen and (max-width:1359px){.m1-header-main .box-item-right{position:relative;top:0;transform:translateY(0);right:0;justify-content:flex-end;margin-left:20px}.m1-header-main .box-item-left{position:relative;order:0;top:0;transform:translateY(0);left:0;margin-right:20px;flex:0 0 36px}}@media only screen and (min-width:1280px){.m1-header-main .m1-navigation-main-part-right .rewards-container+.m1-search-form-button-wrapper{margin-left:15px}}@media only screen and (max-width:1279px){.m1-header-main .m1-navigation-main-part-right .rewards-container{display:none}}@media only screen and (min-width:1180px){.m1-header-main .box-item-center-wrapper-align .m1-navigation-main{margin-left:0}}@media only screen and (min-width:1025px){.m1-header-main .m1-mobile-search{display:none}.m1-header-main .m1-navigation-main-part-right .m1-search-form-button-wrapper{flex-basis:unset}.m1-header-main .m1-navigation-main-part-right .m1-search-form-button-wrapper .m1-search-panel{position:relative}body[data-edtn=ev_ru].hyundai-bg .m1-header-ad{display:none}}@media only screen and (min-width:1024px) and (max-width:1359px){.m1-header-main .box-item-center-wrapper-align{margin-left:auto;flex:0 1 calc(368px + 50%)}}@media only screen and (min-width:1024px) and (max-width:1359px){body[data-edtn=ac] .m1-header-main .m1-header-main-box-wrapper,body[data-edtn=of] .m1-header-main .m1-header-main-box-wrapper,body[data-edtn=ot] .m1-header-main .m1-header-main-box-wrapper,body[data-edtn=ra_us] .m1-header-main .m1-header-main-box-wrapper{justify-content:flex-start}body[data-edtn=ac] .m1-header-main .box-item-center-wrapper-align,body[data-edtn=of] .m1-header-main .box-item-center-wrapper-align,body[data-edtn=ot] .m1-header-main .box-item-center-wrapper-align,body[data-edtn=ra_us] .m1-header-main .box-item-center-wrapper-align{flex:0 1 1024px}}@media only screen and (min-width:1101px) and (max-width:1359px){body[data-edtn=ac] .m1-header-main .box-item-center-wrapper-align,body[data-edtn=of] .m1-header-main .box-item-center-wrapper-align,body[data-edtn=ot] .m1-header-main .box-item-center-wrapper-align,body[data-edtn=ra_us] .m1-header-main .box-item-center-wrapper-align{margin-right:calc(50% - 512px);margin-left:calc(50% - 532px)}}@media only screen and (min-width:1025px) and (max-width:1100px){body[data-edtn=ac] .m1-header-main .box-item-center-wrapper-align,body[data-edtn=of] .m1-header-main .box-item-center-wrapper-align,body[data-edtn=ot] .m1-header-main .box-item-center-wrapper-align,body[data-edtn=ra_us] .m1-header-main .box-item-center-wrapper-align{margin-right:calc(50% - 512px);margin-left:calc(50% - 515px)}}body[data-edtn=ev_us].hangingHeader:not(.msnt-show-skin--desktop) .m1-header-ad+.m1-header-ad{margin-top:0}@media only screen and (min-width:1024px){.m1-header-main .box-item-center-wrapper-align .m1-navigation-main{display:flex;overflow:hidden;flex-wrap:wrap;height:100%;align-items:center;flex-basis:calc(50% - 120px)}body[data-edtn=ar] .m1-header-main .box-item-center-wrapper-align .m1-navigation-main,body[data-edtn=ev_ru] .m1-header-main .box-item-center-wrapper-align .m1-navigation-main,body[data-edtn=ru] .m1-header-main .box-item-center-wrapper-align .m1-navigation-main{flex-basis:calc(60% - 160px)}.m1-header-main .m1-navigation-main>li{display:flex;margin:0 12px;height:100%;align-items:center}body[data-edtn=fr] .m1-header-main .m1-navigation-main>li{margin:0 13px}body[data-edtn=ev_fr] .m1-header-main .m1-navigation-main>li{margin:0 8px}.m1-header-main .m1-navigation-main>li>a:hover{color:var(--main-link-color);text-decoration:none}.m1-header-main .m1-navigation-main>:not(.top){display:none}body.hangingHeader:not(.msnt-show-skin--desktop) .Adgrid_footboard:not(.Adgrid_footboard.adgrid-ad-target) .adv-ad-wrapper,body.hangingHeader:not(.msnt-show-skin--desktop) .m1-header-ad .ap,body:not(.msnt-show-skin--desktop) .Adgrid_footboard:not(.Adgrid_footboard.adgrid-ad-target) .adv-ad-wrapper,body:not(.msnt-show-skin--desktop) .m1-header-ad .ap{margin:20px auto;text-align:center}.m1-header-ad .stroer-ap_wrapper{min-height:290px;display:flex;align-items:center}.m1-header-ad .stroer-ap_top-wrapper .stroer-ap{margin:20px auto;text-align:center}.m1-header-main .box-item-center-wrapper-align{max-width:1024px;height:100%}.m1-header-main .m1-navigation-main>li>a{color:var(--top-menu-navigation-cl);text-decoration:none;text-transform:uppercase;font-size:13px;transition:color .3s ease;font-weight:var(--top-menu-font-weight)}}@media only screen and (min-width:1024px){body.m1-skin-layout .m1-home-top-slider--full-width,body.msnt-show-skin--desktop .m1-home-top-slider--full-width,body:not(.skinPlaceholder).msnt-show-skin--desktop .m1-home-top-slider--full-width,body:not(.skinPlaceholder).msnt-show-skin--desktop .topPromoSlider{padding-top:0}body[data-edtn=ev_us] .box-item-pre-left .m1-navigation-main .left.top._blank{display:none}body[data-edtn=de]:not(.skinPlaceholder) .m1-home-top-slider--full-width,body[data-edtn=de]:not(.skinPlaceholder) .topPromoSlider,body[data-edtn=fr]:not(.skinPlaceholder) .m1-home-top-slider--full-width,body[data-edtn=fr]:not(.skinPlaceholder) .topPromoSlider{padding-top:0}}@media only screen and (max-width:1024px){.m1-header-main .m1-search-form-button-animate.active~.m1-search-panel{width:240px}.m1-header-main .m1-search-panel .m1-search-panel-button.m1-drawer-close-button{display:inline;display:initial}.m1-header-main .m1-search-form-button-wrapper .m1-search-form-button-animate{border:1px solid var(--header-search-form-bg)}.m1-header-main .m1-search-panel{position:absolute;width:0;bottom:-5px;overflow:hidden;right:-5px;transition:width .2s ease}.m1-header-main .box-item-right{flex:0 0 auto}}@media only screen and (max-width:1023px){.m1-header-main .box-item-center-wrapper-align{align-items:center;justify-content:flex-end}.m1-header-main .m1-search-form-button-animate.active~.m1-search-panel{width:calc(100% + 130px)}}@media only screen and (min-width:768px) and (max-width:1024px){.m1-header-main .m1-navigation-main-part-right{margin-right:15px}}@media only screen and (min-width:768px){.m1-header-main .m1-header-main-box{height:60px}.m1-header-main .m1-header-main-box-wrapper{padding:0 25px}.m1-header-main .m1-editions-switcher-m,.m1-header-main .m1-navigation-main{display:none}body.hangingHeader:not(.msnt-show-skin--desktop) .m1-header-ad .m1_Leaderboard,body:not(.msnt-show-skin--desktop) .m1-header-ad .m1_Leaderboard{min-height:90px;margin:20px auto;display:flex;justify-content:center;align-items:center}.cpre-center .m1_Leaderboard,.pre-center .m1_Leaderboard{display:flex;justify-content:center;align-items:center}.pre-center .m1_Leaderboard{padding:25px 0}.m1-hamburger-button>span.side_menu-button{display:none}}@media only screen and (max-width:768px){.m1-header-ad{margin:0;background:var(--black-color)}body[data-edtn=ra_us] .m1-header-main-box-wrapper .box-item-right{display:none}.m1-header-main .box-item-pre-left .m1-navigation-main li a{display:flex;color:var(--top-header-color-cl);text-decoration:none;text-transform:uppercase;font-size:12px;transition:color .3s ease;white-space:nowrap}.m1-header-main .box-item-pre-left ul.m1-navigation-main li.mobile~li.mobile a{margin-left:10px}body[data-edtn=ra_us] .box-item-pre-left ul.m1-navigation-main li a{color:#000;font-weight:600}.m1-editions-switcher .ico-switcher svg{vertical-align:middle}}@media only screen and (max-width:767px){.m1-header-main .m1-editions-switcher{display:none}.m1-header-main .m1-header-main-box-wrapper{position:relative;min-height:50px;height:50px;padding:0 10px}.m1-hamburger-button>span.side_menu-button-text{height:auto;background:none;font-size:13px;line-height:1;letter-spacing:.5px}body[data-edtn=dp] .m1-header-main .m1-header-main-box-wrapper{min-height:72px;height:72px}body[data-edtn=dp] .m1-header-main .m1-header-main-box{height:72px}body[data-edtn=dp] .m1-header-main .box-item-left .m1-hamburger-button{font-size:13px;width:40px;height:35px}.m1-header-main .box-item-left{order:0;margin-right:0}.m1-header-main .m1-header-main-box-wrapper .wrapper-box-item-center{order:1;position:static;text-align:center;flex:1 1 100px;margin:0 5px;height:30px;display:flex;justify-content:left}body[data-edtn=dp] .m1-header-main .m1-header-main-box-wrapper .wrapper-box-item-center{height:45px;margin:0 10px}body[data-edtn=dp] .m1-hamburger-button>span:not(.side_menu-button){display:none}body[data-edtn=us] .m1-header-main .m1-header-main-box-wrapper .wrapper-box-item-center{flex:1 1 120px}body[data-edtn=ev_us] .m1-header-main .m1-header-main-box-wrapper .wrapper-box-item-center{margin:0 5px 0 8px}body[data-edtn=me] .m1-header-main .m1-header-main-box-wrapper .wrapper-box-item-center{justify-content:right}.m1-header-main .m1-header-logo{width:100px;height:27px}body[data-edtn=dp] .m1-header-main .m1-header-logo{width:116px;height:40px}body[data-edtn=us] .m1-header-main .m1-header-logo{width:100%;max-width:120px;height:30px}body[data-edtn*=ev] .m1-header-main .m1-header-logo{height:29px}.m1-header-main .m1-header-main-box-wrapper .box-item-center{justify-content:center}.m1-header-main .box-item-center-wrapper-align{order:2;flex:0 1 auto}.m1-header-main .box-item-center-wrapper-align .m1-navigation-main{display:flex;justify-content:flex-end;flex-wrap:wrap;overflow:hidden;height:13px;flex-basis:calc(100% - 38px)}body[data-edtn=dp] .m1-header-main .box-item-center-wrapper-align .m1-navigation-main{height:16px}.m1-header-main .box-item-center-wrapper-align .m1-navigation-main li.mobile~li.mobile a{margin-left:10px}.m1-header-main .box-item-center-wrapper-align .m1-navigation-main li a{display:flex;color:var(--top-header-color-cl);text-decoration:none;text-transform:uppercase;font-size:12px;transition:color .3s ease;white-space:nowrap}body[data-edtn=ru] .m1-header-main .box-item-center-wrapper-align .m1-navigation-main li a{font-size:11px}body[data-edtn=dp] .m1-header-main .box-item-center-wrapper-align .m1-navigation-main li a{font-size:16px}.m1-header-main .box-item-center-wrapper-align .m1-navigation-main li:not(.mobile){display:none}.m1-header-main .m1-search-form-button-animate.active~.m1-search-panel{width:calc(100% + 225px)}.m1-search-form-button-wrapper .m1-search-form-button-animate.m1-mobile-search{width:28px;height:28px}.m1-header-main .m1-editions-switcher,body:not([data-edtn=ra_us]) .m1-header-main .box-item-right{display:none}.m1-header-ad .m1_MobileLeaderboard{min-height:100px}.cpre-center .m1_MobileLeaderboard,.m1-header-ad .m1_MobileLeaderboard,.pre-center .m1_MobileLeaderboard{display:flex;align-items:center;justify-content:center}.m1-header-ad .stroer-ap_wrapper{min-height:90px}}@media only screen and (max-width:767px){.m1-header-ad.top-banner-placeholder{display:flex;justify-content:center}body:not(.msnt-show-skin--phone) .m1-header-ad.top-banner-placeholder .m1-gapb-topside{display:flex;align-items:center;height:auto}body:not(.msnt-show-skin--phone) .m1-header-ad.top-banner-placeholderplaceholder .m1-gapb-topside .mleaderboard .ap,body:not(.msnt-show-skin--phone) .m1_Leaderboard.adgrid-ad-container .adv-ad-wrapper{display:flex;justify-content:center;align-items:center}body.hangingHeader:not(.msnt-show-skin--desktop) .m1-header-ad .Adgrid_Mobileleader,body.hangingHeader:not(.msnt-show-skin--desktop) .m1_Leaderboard.adgrid-ad-container .adv-ad-wrapper,body:not(.msnt-show-skin--desktop) .m1-header-ad .Adgrid_Mobileleader,body:not(.msnt-show-skin--desktop) .m1-header-ad .m1_Leaderboard.adgrid-ad-container .adv-ad-wrapper{min-height:100px;display:flex;justify-content:center;align-items:center}body.hangingHeader:not(.msnt-show-skin--desktop) .m1-header-ad .Adgrid_footboard:not(.Adgrid_footboard.adgrid-ad-target),body:not(.msnt-show-skin--desktop) .m1-header-ad .Adgrid_footboard:not(.Adgrid_footboard.adgrid-ad-target){min-height:auto}body[data-edtn=de] .m1-header-ad .m1-gapb-topside .mleaderboard .ap{display:flex;justify-self:center;align-items:center}.m1-search-form-button-wrapper{flex-basis:inherit;padding:0 0 0 10px;order:6;margin-left:inherit}body[data-edtn=it] .m1-search-form-button-wrapper{display:flex}.m1-search-panel{right:-5px}.m1-search-form-button-animate.active~.m1-search-panel{width:calc(100% + 225px)}.m1-home-top-slider--full-width,.msnt-show-skin--phone .m1-home-top-slider--full-width{padding-top:0}.msnt-show-skin--phone.hangingHeader .m1-header-main{margin-bottom:0}}@media only screen and (max-width:480px){.m1-header-main .box-item-left{flex:0 0 20px}body[data-edtn=dp] .m1-header-main .box-item-left{flex:0 0 37px}.m1-header-main .box-item-left .m1-hamburger-button{width:20px;height:16px}}@media only screen and (max-width:380px){.m1-header-main .wrapper-box-item-center{margin:0 27px}.m1-header-main .m1-header-main-box-wrapper{padding:0 10px}.m1-header-main ul.m1-navigation-main li a{font-size:13px}}@media only screen and (min-width:1366px){body[data-edtn=ru] .m1-header-main-box-wrapper-sub,body[data-edtn=ru].showhowAdSkin-desktop .m1-header-main-box-wrapper-sub{max-width:1180px}}@media only screen and (max-width:375px){.m1-header-main .box-item-center-wrapper-align .m1-navigation-main li a{font-size:11px}.m1-header-main .m1-search-form-button-animate.active~.m1-search-panel{width:calc(100% + 175px)}.m1-header-main .box-item-center-wrapper-align .m1-navigation-main li.mobile_lg{display:none}}@media only screen{.top-module{width:100%;height:44px;max-height:44px;background-color:var(--white-color);color:var(--white-color);display:flex;justify-content:space-evenly;position:relative;z-index:1000;text-align:center}.top-module .logo-wrapper{width:132px;display:inline-block}.top-module img{max-height:100%}body[data-edtn=ev_tr] .top-module img{margin-top:1px}.top-module a,.top-module p{color:var(--white-color);display:inline-block;text-transform:uppercase;line-height:44px;transition:all .1s linear;position:relative;padding:0 10px}.top-module a:not(.logo-wrapper):hover{text-decoration:none;background-color:#404040}.top-module .top-module-contacts a:first-of-type{padding-left:40px;margin-right:20px}.top-module div a:first-of-type:before{content:\"\\e820\";font-family:icons;font-size:25px;color:var(--white-color);position:absolute;left:5px;right:auto;top:50%;transform:translateY(-50%)}body[data-edtn=tr] .top-module{background:var(--top-header-color-bg);height:60px;max-height:60px}body[data-edtn=tr] .top-module-wrapper{width:1280px;max-width:1280px;margin:0 auto;padding:0 10px;box-sizing:border-box;display:block;background-color:#009a92;background-image:url(https://cdn.motor1.com/custom/share/tr_banner.png);background-size:contain;background-position:50%;background-repeat:no-repeat}}@media only screen and (max-width:1023px){body[data-edtn=tr] .top-module{display:none}}@media only screen and (min-width:768px) and (max-width:1023px) and (orientation:portrait){.top-module a,.top-module p{font-size:14px}}@media only screen and (max-width:767px){.top-module-contacts,.top-module a:not(.logo-wrapper),.top-module p{display:none}}@media only screen and (max-width:823px) and (orientation:landscape){.top-module-contacts,.top-module a:not(.logo-wrapper),.top-module p{display:none}}.m1-left-side-box .lada-label{position:relative;width:110px}.top-module.top-module-m1-logo{background:var(--top-header-color-bg)}.top-module-content-container{min-width:1024px;max-width:1024px;width:75%;margin-left:auto;margin-right:auto;box-sizing:border-box;position:relative;display:flex;justify-content:flex-end;align-items:center}.top-module.top-module-m1-logo div a:before{display:none}.top-module.top-module-m1-logo a{display:flex;align-items:center;justify-content:flex-end;margin-top:8px}.top-module-m1-logo .top-module-logo-img{width:80%}html[data-color-scheme=dark] .top-module-logo-img_dark{display:none}html[data-color-scheme=light] .top-module-logo-img_light{display:none}body[data-edtn*=ev] .top-module.top-module-m1-logo a{color:#000}@media screen and (max-width:1024px){.top-module.top-module-m1-logo{display:none}}@media screen and (max-width:430px){ul.m1-navigation-main li.mobile_lg{display:none}}button,input,textarea{-webkit-appearance:none}form{min-width:250px;max-width:480px}form label{display:block;margin-bottom:15px}form .label-text,form label>span,form legend{font-size:15px;line-height:1.1}form label>span{display:block;margin-bottom:5px;cursor:default}.captcha-image-box{float:right;margin-top:-20px;margin-left:25px;text-align:center}.captcha-image,.captcha-input-box{overflow:hidden}.captcha-image{width:100px;height:50px;border:1px solid #b5b5b5;background:#fff;box-sizing:border-box}#regenerate_captcha{display:inline-block;color:var(--main-link-color);border-left-color:var(--main-link-color);border-bottom:1px dashed;border-bottom-color:var(--main-link-color);border-right-color:var(--main-link-color);border-top-color:var(--main-link-color);line-height:1.2;font-size:14px;margin-top:5px;cursor:pointer}form #regenerate_captcha.wait{color:#bfbfbf;border-bottom:1px dashed #bfbfbf}fieldset{margin-bottom:10px;padding-top:10px}input::-webkit-input-placeholder{color:var(--main-text-color-special);font-weight:400}input:-moz-placeholder,input::-moz-placeholder{color:var(--main-text-color-special);font-weight:400;opacity:1}input:-ms-input-placeholder{color:var(--main-text-color-special);font-weight:400}label.light input::-webkit-input-placeholder{color:#fff}label.light input:-moz-placeholder,label.light input::-moz-placeholder{color:#fff}label.light input:-ms-input-placeholder{color:#fff}input,select,textarea{font-family:var(--main-font-family);border-radius:0;box-sizing:border-box;border-radius:3px}.aButton.full-width,.button.full-width,button.full-width,input[type=button].full-width,input[type=submit].full-width{width:100%}input:not([type=submit]):not([type=button]):not([type=reset]):not([type=checkbox]):not([type=radio]),textarea{width:100%;padding:0 5px;line-height:28px;color:var(--main-text-color-special)}input:not([type=submit]):not([type=button]):not([type=reset]):not([type=checkbox]):not([type=radio]),select,textarea{font-size:17px;border:1px solid #b5b5b5;background:var(--dropdown-color-bg);margin-bottom:15px}.aButton,.button,button,input[type=button],input[type=submit]{display:inline-block;vertical-align:middle;margin-bottom:15px;margin-right:10px;font-size:14px;line-height:28px;text-align:center;text-decoration:none;white-space:nowrap;padding:0 25px;font-weight:400;outline:none;cursor:pointer;color:var(--main-text-color-special);background:transparent;border:1px solid var(--main-text-color-special);text-transform:uppercase;box-sizing:border-box;border-radius:4px}.aButton,button[type=submit],input[type=submit]{background:var(--main-link-color);border:1px solid var(--main-link-color);color:#fff;font-weight:600}.inPageSearchForm{display:table;width:100%;margin:25px 0}.searchButton{background:none!important;padding:0;border:none!important;width:30px;height:30px;color:var(--main-text-color-special)!important;font-size:16px;line-height:30px;text-align:center;margin:0}.inPageSearchForm>label{display:table-cell;vertical-align:bottom;margin:0}.inPageSearchForm>label+label{width:1%}@media screen and (max-width:435px){.captcha-image-box{margin-top:0}}@media only screen{.m1-search-form input.m1-search-form-text:not([type=submit]):not([type=button]):not([type=reset]):not([type=checkbox]):not([type=radio]){margin:0;line-height:26px;font-size:14px;font-weight:600;padding:0 50px 0 10px;background:transparent;border-color:var(--main-text-color-special);color:var(--main-text-color-special);display:inline-block;vertical-align:middle;height:42px}.m1-search-form-text::-webkit-input-placeholder{font-weight:600}.m1-search-form-text:-moz-placeholder,.m1-search-form-text::-moz-placeholder{font-weight:600}.m1-search-form-text:-ms-input-placeholder{font-weight:600}.m1-social-menu{display:flex;flex-direction:row;justify-content:space-between;align-content:flex-start;align-items:flex-start;flex-wrap:wrap;padding:0 8px 0 18px;margin-bottom:18px;border-bottom:1px solid var(--white-border-color)}.m1-social-menu>li>a{display:block;width:30px;height:30px;margin:0 15px 15px 0}.m1-social-menu>li>a>svg{display:block;fill:var(--white-color);width:22px;height:22px}}@media only screen and (min-width:768px){body .browseBox.browseBox-half .item .info .ins-box .btns-box,body .browseBox.browseBox-half .item .info .ins-box .date{bottom:10px}}@media only screen{.share-box-dropdown{font-size:0;line-height:0}.share-box-dropdown .share-list{z-index:5;overflow:hidden;position:absolute;bottom:21px;right:0;max-height:0;transition:max-height .1s ease}.big-shareBox.share-box-dropdown .share-button .share-empty{display:none}}@media only screen{html.svg-build{--m1-icon-bubble:url([object Module]);--m1-icon-facebook:url([object Module]);--m1-icon-flipboard:url([object Module]);--m1-icon-instagram:url([object Module]);--m1-icon-vk:url([object Module]);--m1-icon-gnews:url([object Module]);--m1-icon-twitter:url([object Module]);--m1-icon-linkedin:url([object Module]);--m1-icon-whatsapp:url([object Module]);--m1-icon-telegram:url([object Module]);--m1-icon-youtube:url([object Module]);--m1-icon-rss:url([object Module]);--m1-icon-reddit:url([object Module]);--m1-icon-tiktok:url([object Module]);--m1-icon-pinterest:url([object Module]);--m1-icon-spotify:url([object Module]);--m1-icon-ok:url([object Module]);--m1-icon-mail:url([object Module]);--m1-icon-podcast:url([object Module]);--m1-icon-photo:url([object Module]);--m1-icon-video:url([object Module]);--m1-icon-search:url([object Module]);--m1-icon-arrow:url([object Module])}body{background:var(--main-bg-color);color:var(--main-text-color);font-family:var(--main-font-family);font-size:16px;line-height:1.1;-webkit-text-size-adjust:100%;min-width:320px;min-height:100vh;direction:ltr}.sr-only_hide{display:block;width:0;height:0;opacity:0;visibility:hidden;overflow:hidden}.pageAdSkin .adSizer,.sr-only_hide{font-size:0;line-height:0}.pageAdSkin .adSizer img{display:none}.hiddenBlock{height:0;overflow:hidden}.mb20{margin-bottom:20px}.p15{padding:10px}.apOverlay{width:0;height:0;position:absolute;top:-100%;left:-100%}.clear,.m1-ap-native,.m1-ap-nativo-placeholder{font-size:0;line-height:0}.clear{width:100%;overflow:hidden;clear:both}.m1-center{background:var(--main-bg-color);position:relative;z-index:2}.m1-center.m1-make-header-outer{padding-bottom:20px}.cpre-center,.dpre-center,.kpre-center,.npre-center,.pre-center{margin:0 auto;box-sizing:border-box}.root{height:auto!important;min-height:100vh;position:relative;z-index:10}body[data-edtn=br] .root,body[data-edtn=ev_br] .root{margin-top:44px}body[data-edtn=br] #barrauol,body[data-edtn=ev_br] #barrauol{margin-bottom:-44px}.root>.cpre-center,.root>.dpre-center,.root>.pre-center{background-color:var(--main-bg-color)}.root>[class*=pre-center].fill{background-color:var(--main-bg-color)}.bgWhite .root>[class*=pre-center].fill{background-color:var(--white-color)}#post_box,.h-entry,.h-item{padding-top:15px!important}strong{font-weight:600}.postDate{font-size:12px;color:var(--post-date-color);cursor:default}@media screen and (min-width:1024px){.postDate{font-size:13px}}.postMeta-Top{display:flex;justify-content:space-between;align-items:center;min-height:25px}.disqus-comment-count_wrapper{order:1}.postMeta-Top .disqus-comment-count_wrapper .disqus-comment-count{font-size:14px;height:20px;line-height:20px;color:var(--main-text-color-special);text-decoration:none;border:1px solid transparent;border-radius:3px;text-transform:uppercase;display:inline-block;min-width:60px;text-align:right;position:relative;padding:0 18px 0 5px}.coral-count-text{display:none}.postMeta-Top .date{text-transform:none}.postTopInfo .shareTrendingBox{display:flex;flex-wrap:wrap;justify-content:flex-end;align-items:center;margin-top:-35px;font-size:0;line-height:0;min-height:32px}.postTopInfo .shareTrendingBox .shareBox,.postTopInfo .shareTrendingBox .trendingBox{display:inline-block;vertical-align:top}.postTopInfo .shareTrendingBox .trendingBox{margin-right:10px}.postTopInfo .shareTrendingBox .shareBox .share-list{left:auto;right:0}.readtime-container{margin-right:auto;padding-left:15px;color:var(--post-date-color);font-size:13px;position:relative}.readtime-container:before{content:\"\";position:absolute;top:5px;left:6px;width:3px;height:3px;border-radius:50%;background:var(--post-date-color)}.ready-center{background:var(--main-bg-color)}.bgWhite .root>.cpre-center,.bgWhite .root>.dpre-center,.bgWhite .root>.pre-center{background:var(--white-article-bg)}.m1-center.tb-padding{padding:15px 0 15px 15px}.msnt-filmstrip-wrapper+.m1-center,.msnt-items-slider+.m1-center{margin-top:15px}.msnt-filmstrip-wrapper+.m1-center.desktop-heycar-search-widget{margin-bottom:15px}.m1-block-head{background:var(--m1-block-head-background-wrapper);display:flex}.m1-block-head h1,.m1-block-head h2,.m1-block-head h3,.m1-block-head h4,.pageAboutPress .m1-block-head h1{background:var(--main-headline-cl);line-height:50px;white-space:nowrap;color:var(--white-color);display:inline-block;padding-left:25px;padding-right:85px;margin:0;font-size:20px;position:relative;font-weight:400;min-width:520px;box-sizing:border-box;max-width:100%;overflow:hidden;text-overflow:ellipsis;text-transform:uppercase}.content-area{position:relative}.content-area .content-area-box{box-sizing:border-box}#main_CR .author{display:none}a{color:var(--main-link-color);text-decoration:none}.date{text-transform:uppercase}.date .small,.date .stime{text-transform:none}.root:not(#page_index_index_shop-for-cars) .widget-wrapper{height:401px;padding:20px 30px;overflow:hidden;contain-intrinsic-size:401px}.root:not(#page_index_index_shop-for-cars) .widget-wrapper .radio-bar{display:none}.root:not(#page_index_index_shop-for-cars) .widget-wrapper .rightrail{display:block;text-align:center;min-height:131px}.root:not(#page_index_index_shop-for-cars) .widget-wrapper section.active-form{min-height:210px}.widget-wrapper section{max-width:100%;padding:0;display:none}.widget-wrapper section.active-form{display:block}.thumb{overflow:hidden;position:relative;background:var(--thumb-background);display:inline-block;vertical-align:middle;font-size:0;line-height:0;text-decoration:none!important}.thumb img{width:100%;height:auto}.browseBox.ntl .item .info{padding-top:15px}.browseBox .item .thumb{position:relative;width:100%}.browseBox .item .photos-count{display:none}.browseBox .item .info{background:var(--white-bg-color);box-sizing:border-box}.browseBox .item .info .text-box{max-height:100px;min-height:25px;overflow:hidden}.browseBox .item .info h3{margin-bottom:0;text-transform:none}.browseBox .item .info h3 a{font-size:18px;line-height:25px}.browseBox .item .info a{color:var(--main-text-color-special);text-decoration:none}.browseBox .item .text{display:none}.browseBox .item .info .ins-box .btns-box{font-size:0;line-height:0;position:absolute}.browseBox .item .info{position:relative}.browseBox .item .info .date{position:absolute;right:auto;left:15px;top:auto;bottom:15px;cursor:default;color:var(--post-date-color);font-size:12px;line-height:1;white-space:nowrap}.category-menu{min-height:50px}.ready-center__m1-find-vehicle{padding-bottom:15px;overflow:hidden}.m1-article-title{font-size:var(--m1-article-title-font-size);margin:25px 0}.disqus-comment-count:after{content:\"\\e81f\";font-family:icons;font-size:15px;margin-left:3px;width:15px;height:15px}.postMeta-Top .disqus-comment-count:after{position:absolute;right:0}.filtersBox{font-size:0;line-height:0;width:100%;overflow:hidden;padding-top:10px;background:var(--main-bg-color)}.filtersBox .filter-dropdown-list{display:flex;flex-direction:row}.filtersBox .filter-dropdown-list .filter-list{max-height:40px;overflow:hidden;flex:1}.filtersBox .filter-box .filter-list>a,.filtersBox .filter-box .filter-list>li{display:inline-block;line-height:40px;height:40px;font-size:16px;color:var(--main-text-color-special);margin:0;white-space:nowrap;text-transform:uppercase;box-sizing:border-box}#dbprofilerDetail,.m1-left-side,.m1-right-side{display:none}.page404{width:100%;margin:0 auto 25px;max-width:755px}.page404 .image{margin-bottom:25px}.page404 .image img{width:100%}.page404 p{font-size:14px;line-height:1.5;max-width:600px;margin:0 auto}.page404 p.small{font-size:13px}.page404 .info .spec{background:var(--main-link-color);color:var(--white-color);display:inline-block;padding:0 5px;text-decoration:none}.page404 h1,.page404 p.message{text-align:center}.page404 p.message{font-size:16px;max-width:450px}.page404 .searchForm{margin-left:auto;margin-right:auto;max-width:600px}#developer{position:fixed}.stroer-ap{text-align:center}#heycar_whitelabel{display:block;margin:0 auto!important;min-height:496px!important}.desktop-heycar-search-widget,.middle-heycar-search-widget,.mobile-heycar-search-widget{display:none;overflow:hidden}.absolute-centered{position:absolute;top:50%;left:50%;transform:translate(-50%,-50%)}}@media only screen{.edf{display:inline-block;vertical-align:middle;width:25px;height:15px;background-size:25px 660px;background-repeat:no-repeat;background-position:0 0;background-image:url(https://cdn.motor1.com/images/static/edition.webp);overflow:hidden;font-size:0;line-height:0}.edf-230{background-position:0 -15px}.edf-38{background-position:0 -30px}.edf-142{background-position:0 -45px}.edf-10{background-position:0 -60px}.edf-47{background-position:0 -75px}.edf-173{background-position:0 -90px}.edf-236{background-position:0 -105px}.edf-43{background-position:0 -120px}.edf-30{background-position:0 -135px}.edf-177{background-position:0 -150px}.edf-229{background-position:0 -165px}.edf-104{background-position:0 -180px}.edf-72{background-position:0 -195px}.edf-21{background-position:0 -210px}.edf-211{background-position:0 -225px}.edf-145{background-position:0 -240px}.edf-128{background-position:0 -255px}.edf-106{background-position:0 -270px}.edf-80{background-position:0 -285px}.edf-14{background-position:0 -300px}.edf-155{background-position:0 -315px}.edf-132{background-position:0 -330px}.edf-182{background-position:0 -345px}.edf-110{background-position:0 -360px}.edf-44{background-position:0 -375px}.edf-96{background-position:0 -390px}.edf-99{background-position:0 -405px}.edf-228-1{background-position:0 -420px}.edf-228{background-position:0 -435px}.edf-17{background-position:0 -450px}.edf-179{background-position:0 -465px}.edf-190{background-position:0 -480px}.edf-122{background-position:0 -495px}.edf-13{background-position:0 -510px}.edf-158{background-position:0 -525px}.edf-38-1{background-position:0 -540px}.edf-000{background-position:0 -555px}.edf-20{background-position:0 -570px}.edf-227{background-position:0 -585px}.edf-112{background-position:0 -600px}.edf-222{background-position:0 -615px}.edf-97{background-position:0 -630px}.edf-101,.edf-176{background-position:0 -645px}.edf-101{transform:rotate(180deg)}}@media only screen and (max-width:1499px){#stroeer_sky2.adv_container,#stroeer_sky2.adv_container .ap,#stroeer_sky.adv_container,#stroeer_sky.adv_container .ap{display:none}}@media only screen and (min-width:1500px){.adv_container{z-index:3;width:300px;transform:translate(calc(172% + 18px));left:50%}.adv_container-left{transform:translate(calc(-184% + 18px));right:50%;left:auto}.adv_container.natural{position:absolute;top:350px}.adv_container.fixed{position:fixed;transition:margin-top .5s ease}.headerStick-hide .adv_container.to-top{transition:margin-top .5s ease;transition-delay:2s}}@media only screen and (min-width:1280px){.browseBox.detailed-box .item .text-box{max-height:105px}.browseBox.detailed-box .item .text-box .text{line-height:17px}}@media only screen and (min-width:1025px){.m1-skin-layout .ready-center{min-width:1024px;max-width:1024px;width:75%;z-index:3;margin-left:auto;margin-right:auto;box-sizing:border-box;position:relative}.ready-center.padg,.ready-center.padg-nb{padding:15px}.m1-skin-layout .ready-center [class*=pre-center]{width:100%!important}.m1-center{min-width:1024px;max-width:1024px;width:75%;background:var(--main-bg-color);position:relative;margin:0 auto;box-sizing:border-box}.m1-skin-layout .root>div[class*=pre-center]{position:relative;z-index:3}body[data-edtn=it] .m1-header-ad .m1-apb.super .ap{height:250px!important;margin:0 auto;display:flex;justify-content:center;align-items:center}body[data-edtn=it] .m1-header-ad .m1-apb.super .ap>div,body[data-edtn=it] .m1-header-ad .m1-apb.super .ap>div>div{width:100%}body[data-edtn=it] .m1-header-ad .m1-apb.super .ap>div>div{display:flex;justify-content:center;align-items:center}.cpre-center,.dpre-center,.kpre-center,.npre-center,.pre-center{width:75%;max-width:1024px;min-width:1024px}.breadcrumbs-box:not(.ntr),.car-specs-box{background:var(--white-article-bg)}#heycar_whitelabel{width:75%!important;max-width:1024px!important;min-width:1024px!important}}@media only screen and (min-width:1024px) and (max-width:1279px){.filtersBox .filter-box .filter-list>a,.filtersBox .filter-box .filter-list>li{font-size:14px}}@media only screen and (min-width:1024px){#main_CR .pre-center{padding:25px;position:relative;background:var(--main-bg-color)}.content-area .content-area-box{float:left;padding-right:325px;width:100%}.content-area .sidebar,.trending-content_mobile .sidebar{display:block;float:right;margin-left:-300px;width:300px;transition:transform .5s ease}.ready-center__m1-find-vehicle{padding-bottom:10px}.browseBox.detailed-box .item .text-box h3 a{font-size:17px;line-height:23px}.browseBox.detailed-box .item .text-box .text{font-size:14px}.page404 h1{font-size:42px}.desktop-heycar-search-widget{display:block;padding:0 25px}.removeTransiction{transform:translateZ(0)!important}.no-transform{transform:none!important}.section-sidebar .stroer-ap_wrapper,.sidebar .stroer-ap_wrapper{min-height:250px}.adv-fixed-wrapper{float:right;margin-left:-300px;width:300px;min-height:250px;opacity:0;pointer-events:none}}@media only screen and (max-width:1023px){.adv-fixed-wrapper,.sidebar .apb,.sidebar .apb .ap{display:none}.readtime-container{font-size:12px}}@media only screen and (min-width:768px) and (max-width:1279px){.browseBox.detailed-box .item .text-box{max-height:105px}}@media only screen and (min-width:768px) and (max-width:1023px){.browseBox.detailed-box .item .text-box h3 a{font-size:20px}.browseBox.detailed-box .item .text-box .text{font-size:16px;line-height:19px}.page404 h1{font-size:32px}.filtersBox .filter-box .filter-list>a,.filtersBox .filter-box .filter-list>li{font-size:13px}.middle-heycar-search-widget{display:block;height:250px;padding-bottom:25px}.middle-heycar-search-widget_news{margin-bottom:10px;padding-bottom:0}.widget-wrapper{contain-intrinsic-size:353px}}@media only screen and (min-width:818px) and (max-width:1023px){.middle-heycar-search-widget{display:block;height:90px;padding-bottom:25px}.middle-heycar-search-widget_news{margin-bottom:10px;padding-bottom:0}}@media only screen and (min-width:768px){body.m1-skin-layout{background-color:var(--m1-it-main-bg-color)}.m1-skin-layout .b-margin{margin-bottom:0}.root>.pre-center{padding:25px}.root>.pre-center .bevel{padding-left:25px}.t-padding-null{padding-top:0!important}.b-padding-null{padding-bottom:0!important}.t-padding{padding-top:25px}.b-padding{padding-bottom:25px}.browseBox.thumb-box{width:calc(100% + 25px);font-size:0;line-height:0}.browseBox.thumb-box .item{width:50%;padding:0 25px 25px 0;display:inline-block;vertical-align:top;box-sizing:border-box}.browseBox.detailed-box .item .thumb{width:320px;height:180px;float:left;z-index:5}.browse-grid .browseBox.detailed-box .item .thumb,.section-centerbar .browseBox.detailed-box .item .thumb{padding-top:0}body .browseBox.detailed-box .item .info{position:relative;height:180px;margin-left:320px;padding:37px 15px 30px;justify-content:flex-start}.browseBox.detailed-box .item .text-box{min-height:25px;overflow:hidden}.browseBox.detailed-box .item .text-box h3{min-height:25px;margin-bottom:0;text-transform:none}.browseBox.detailed-box .item .text-box h3 a{display:block;line-height:20px}.browseBox.detailed-box .item .text-box .text{display:block;margin-top:2px}.browseBox.detailed-box .item{margin-bottom:10px;clear:both}body .m1-items-mosaic.browseBox.detailed-box .item .info{justify-content:center;padding:15px}.browseBox .item .info{padding:60px 25px}.browseBox.thumb-box .item .info{padding:60px 25px 30px;max-height:170px}.browseBox.thumb-box .item .info.m1-submodel-rating_info{padding:15px 15px 37px;max-height:100px}body[data-edtn=it] .browseBox.thumb-box .item .info.m1-submodel-rating_info{padding:25px 25px 60px;max-height:130px}.browseBox.ntl .item .info{padding-top:25px}.browseBox.thumb-box .item .info .text-box{height:80px}.browseBox .item .info .date{left:25px;bottom:25px;top:auto;right:auto}.postDate .time-data{margin-right:15px}.postDate .date-update-data+.date-data{margin-left:15px}#heycar_whitelabel{min-height:431px!important}}@media only screen and (max-width:767px){.pageAdSkin .adSizer{max-height:100px}h1,h2,h3,h4,h5,h6{font-size:15px;margin-bottom:15px}.content-header h1,.content-header h2{padding-left:0;padding-top:0!important;position:relative}.m1-article-title{font-size:20px;font-weight:700;margin:15px 0}.postTopInfo .postMeta-Top .shareTrendingBox{padding-bottom:0}.postTopInfo .shareTrendingBox{min-height:22px}.parent-shareBox-bottom .shareTrendingBox,.postTopInfo .shareTrendingBox{padding-bottom:10px}.parent-shareBox-bottom .disqus-comment-count,.postTopInfo .shareTrendingBox .disqus-comment-count{order:1}.parent-shareBox-bottom .shareBox,.postTopInfo .shareTrendingBox .shareBox{order:0}.shareTrendingBox .disqus-comment-count{margin-top:0}.browseBox.browseBox-half{display:flex;align-items:flex-start;flex-wrap:wrap;padding:7.5px}.browseBox.browseBox-half .item,.browseBox.browseBox-half .item.m1-submodel-rating{width:50%;padding:2px;overflow:hidden;box-sizing:border-box}.browseBox.browseBox-half .item .info{margin:0;height:auto;padding:5px}.m1-ap-native:not(.m1-ap-native-mobile),.m1-ap-native:not(.m1-ap-native-mobile) .ap{display:none}.browseBox.browseBox-half .item.m1-ap-native,.browseBox.browseBox-half .item.m1-ap-nativo-placeholder{width:100%}.browseBox.browseBox-half .item .thumb{width:100%;box-sizing:border-box;height:auto;float:none;margin:0;min-height:70px}.browseBox.browseBox-half .item .info .text-box{height:53px;margin-bottom:4px}body[data-edtn=it] .browseBox.browseBox-half .m1-submodel-rating_info .text-box{position:relative;overflow:visible}.browseBox.browseBox-half .item .info h3{display:block;height:inherit}.browseBox.browseBox-half .item .info h3 a{font-size:14px;font-weight:600;line-height:18px;height:54px;-webkit-line-clamp:3;-webkit-box-orient:vertical;display:-webkit-box;overflow:hidden}.browseBox.browseBox-half .m1-submodel-rating_price{font-size:13px}.browseBox.browseBox-half .item .info .author{display:none}.browseBox.browseBox-half .item .info .date{position:static;font-size:9px}.postDate.postDateUpdated{display:flex;flex-wrap:wrap}.postDate.postDateUpdated .date-update-data{order:0;margin-right:2px;margin-bottom:5px}.postDate.postDateUpdated .small{margin-right:2px}.postDate.postDateUpdated .date{order:2}.postDate.postDateUpdated .date-data:not(.date-update-data){width:100%}.mobile-heycar-search-widget{display:block;padding:0 7.5px}#onetrust-banner-sdk.otCenterRounded{width:100%!important;max-height:100%!important}#onetrust-banner-sdk #onetrust-policy-text,#onetrust-banner-sdk .ot-dpd-desc,#onetrust-banner-sdk .ot-dpd-title,#onetrust-consent-sdk h3#onetrust-policy-title,#onetrust-policy .ot-b-addl-desc,.ot-dpd-desc{font-size:.65em!important}#nativendo-infeed.item{width:100%}}@media only screen{.m1-gapb-topside .m1-apb{display:none}.m1-gapb-topside .m1-apb .ap{display:none;margin:0 auto}}@media only screen and (min-width:1025px){.m1-gapb-topside .m1-apb.super,.m1-gapb-topside .m1-apb.super .ap{display:block}}@media only screen and (min-width:768px) and (max-width:1024px){.m1-gapb-topside .m1-apb.leaderboard,.m1-gapb-topside .m1-apb.leaderboard .ap{display:block}}@media only screen and (max-width:767px){.m1-gapb-topside .m1-apb.mleaderboard,.m1-gapb-topside .m1-apb.mleaderboard .ap{display:flex;justify-content:center;align-items:center}.root>[class*=pre-center].padding{padding:25px 15px}.root>[class*=pre-center].padding .content-header{padding-left:0}}@media only screen and (min-width:480px) and (max-width:767px){.browseBox .item .info .text-box{height:50px}}@media only screen{.apb{font-size:0;line-height:0;overflow:hidden}.apb,.apb .ap{text-align:center}.apb .ap{display:inline-block}.pre-center .hapb.middle .apb{padding:25px 0}}@media only screen{.m1-gapb-topside{font-size:0;line-height:0}body:not([data-edtn=de]) .m1-gapb-topside{overflow:hidden}.m1-gapb-topside .m1-apb{display:none}.m1-gapb-topside .m1-apb .ap{display:none;margin:0 auto}}@media only screen and (min-width:768px) and (max-width:1024px){.hapb .apb.mleaderboard,.hapb .apb.mleaderboard .ap,.hapb .apb.pixel,.hapb .apb.pixel .ap,.hapb .apb.rectangle,.hapb .apb.rectangle .ap,.hapb .apb.super,.hapb .apb.super .ap{display:none}}@media only screen and (min-width:1025px){.hapb .apb.leaderboard,.hapb .apb.leaderboard .ap,.hapb .apb.mleaderboard,.hapb .apb.mleaderboard .ap,.hapb .apb.pixel,.hapb .apb.pixel .ap,.hapb .apb.rectangle,.hapb .apb.rectangle .ap{display:none}}@media only screen and (min-width:768px){.footer-ads-wrapper,.footer-ads-wrapper .ap{display:none}}@media only screen and (max-width:767px){.hapb .apb.leaderboard,.hapb .apb.leaderboard .ap,.hapb .apb.super,.hapb .apb.super-and-leaderboard,.hapb .apb.super-and-leaderboard .ap,.hapb .apb.super .ap,.lg-topside-box .apb.super,.lg-topside-box .apb.super .ap{display:none}body[data-edtn=it] .cpre-center .hapb.middle .apb.rectangle,body[data-edtn=it] .cpre-center .hapb.middle .apb.rectangle .ap,body[data-edtn=it] .pre-center>div:nth-of-type(2) .apb.rectangle,body[data-edtn=it] .pre-center>div:nth-of-type(2) .apb.rectangle .ap{display:none}.hapb .apb.mleaderboard .ap{width:auto!important;min-height:0!important}.footer-ads-wrapper{min-height:50px;position:relative;width:100%;background:var(--home-top-slider-decs-text-bg);z-index:10}}@media only screen and (max-width:1279px){.m1-block-head h1,.m1-block-head h2,.m1-block-head h3,.m1-block-head h4{min-width:395px}}@media only screen and (max-width:767px){.m1-block-head h1,.m1-block-head h2,.m1-block-head h3,.m1-block-head h4{min-width:315px;font-size:17px;line-height:35px;padding:0 65px 0 15px}.browseBox .item{padding:15px}}@media only screen and (max-width:480px){.browseBox .item .info .author{display:none}.browseBox .item .info{padding:15px 15px 50px}}@media only screen and (max-width:479px){.m1-block-head h1,.m1-block-head h2,.m1-block-head h3,.m1-block-head h4{min-width:0}}.browseBox .item.autoshow-item{position:relative;padding:0;margin:0 25px 25px 0;width:calc(50% - 25px)}.overlaying-link{position:absolute;top:0;left:0;right:0;bottom:0;z-index:3}@media only screen and (max-width:768px){.browseBox .item.autoshow-item{margin:2px;width:calc(50% - 4px)}body:not(.sliding-banner) .postBody{overflow:hidden}}#page_index_articles_month-archive .m1-block-head~p{margin-top:15px;margin-bottom:0;font-size:16px;font-weight:400;padding-left:25px}.archive__article,.archive__month{padding:5px 15px}.archive__year{margin-bottom:15px}.archive__article{padding:6px;background-color:var(--white-bg-color);margin-bottom:10px}.archive__article a{color:var(--main-text-color-special)}.archive__container{display:grid;grid-template-columns:repeat(4,1fr)}.archive__container_sidebar{display:block}.archive__blank{display:none}.archive__card{margin-bottom:35px}@media screen and (min-width:1024px){.content-area .archive-area-box:not(.archive-area-box_articles){padding-right:0}.content-area .archive-area-box_articles{padding-right:175px}#page_index_articles_month-archive .content-area div.sidebar{width:150px;margin-left:-150px}}@media screen and (max-width:768px){.archive__container{display:grid;grid-template-columns:repeat(3,1fr)}#page_index_articles_month-archive .m1-block-head~p{font-size:17px;line-height:1.2;padding:0 15px}.content-area .archive-area-box{padding:7.5px}.archive__card{margin-bottom:15px}}@media screen and (max-width:500px){.archive__container{grid-template-columns:repeat(2,1fr)}}.homepage-filmstrip-wrapper-mobile{display:none}@media screen and (max-width:1023px){.homepage-filmstrip-wrapper-desktop{display:none}.homepage-filmstrip-wrapper-mobile{display:block}.section-centerbar .homepage-filmstrip-wrapper-mobile .m1-block-head{margin-bottom:5px}}@media only screen{.pre-center.pre-center-breadcrumbs{padding-top:10px}.breadcrumbs{font-size:13px;line-height:24px;color:var(--breadcrumbs-color)}.breadcrumbs>a{color:var(--main-text-color-special)}.breadcrumbs>a:first-child{display:inline-block;vertical-align:top;text-align:center}.breadcrumbs>.sep{margin:0 5px}.breadcrumbs>.sep svg{fill:var(--breadcrumbs-color);width:8px;height:9px}.breadcrumbs-area+.videoBoxArticle{background-color:var(--white-article-bg)}.breadcrumbs-area+.videoBoxArticle .videoBoxArticle-wrapper{position:relative}.breadcrumbs-area+.videoBoxArticle .videoBoxArticle-wrapper:not(.facebook-video-wrapper){padding-top:56.25%;width:100%;height:auto}@supports (aspect-ratio:16/9){.breadcrumbs-area+.videoBoxArticle .videoBoxArticle-wrapper:not(.facebook-video-wrapper){aspect-ratio:16/9;padding-top:0}}.breadcrumbs-box{box-sizing:border-box;min-height:auto}.breadcrumbs-area .m1-article-title{font-size:var(--m1-article-title-font-size);line-height:1.2em;margin:0}}@media only screen and (min-width:1025px){.breadcrumbs-area+.pre-center{padding-top:0}.breadcrumbs-area+.videoBoxArticle{padding:0 0 25px}}@media only screen and (min-width:768px){.breadcrumbs-area .breadcrumbs{margin-bottom:25px}}@media only screen and (max-width:767px){.breadcrumbs-area{padding:15px}.breadcrumbs-area .breadcrumbs{padding:0;margin-bottom:15px}.newsTitleInTop .breadcrumbs{padding:0 10px}.breadcrumbs,.dpre-center.g-padding.t-padding.breadcrumbs-box.ntr .breadcrumbs{padding:0 15px;margin-left:0}.tb-padding .breadcrumbs{padding:0}.pre-center-breadcrumbs .content-header h1{padding-left:15px;padding-right:15px}.breadcrumbs-area .m1-article-title{font-size:var(--m1-article-title-font-size-phone)}.breadcrumbs-area+.h-entry,.breadcrumbs-area+.h-item{padding-top:0!important}.breadcrumbs-area+.videoBoxArticle{padding:0}}@media only screen{.content-wrapper{font-family:var(--main-font-family);font-size:16px;line-height:1.5}.content-wrapper h1{margin-bottom:10px}.content-wrapper blockquote{font-size:16px}.mce-content-body.content-wrapper>h2,.mce-content-body.content-wrapper>h3,.postContent .postBody .widget_faq_headline,.postContent .postBody>h2,.postContent .postBody>h3,.postContent .postBody>h4,.postContent .postBody>h5,.postContent .postBody>h6{font-size:var(--main-font-size-content-headline);position:relative;line-height:1;font-weight:var(--main-font-weight);color:var(--heading-color);text-transform:none;box-sizing:border-box;padding-bottom:2px;padding-left:20px;margin:30px 0 10px}.postContent .postBody .widget_faq_headline{padding:8px 8px 8px 30px;margin:30px 0 10px}.widget_faq_wrapper{margin:0 5px;font-size:14px;border-top:2px solid #f1f2f1}.widget_faq_wrapper:last-child{border-bottom:2px solid #f1f2f1}.content-wrapper .widget_faq_question{padding:.5rem 3rem .5rem 0;margin-bottom:0}.content-wrapper .widget_faq_answer{padding:.5rem .5rem .5rem 0;margin-bottom:0}.mce-content-body.content-wrapper>h2+*,.mce-content-body.content-wrapper>h3+*,.postContent .postBody>h1+*,.postContent .postBody>h2+*,.postContent .postBody>h3+*,.postContent .postBody>h4+*,.postContent .postBody>h5+*,.postContent .postBody>h6+*{margin-top:0}.mce-content-body.content-wrapper>h2+p,.mce-content-body.content-wrapper>h3+p,.postContent .postBody>h1+p,.postContent .postBody>h2+p,.postContent .postBody>h3+p,.postContent .postBody>h4+p,.postContent .postBody>h5+p,.postContent .postBody>h6+p{margin-top:-6px}.content-wrapper .postBody>h3.subheader:before,.mce-content-body.content-wrapper>h3.subheader:before{content:none}.content-wrapper .postBody>h3.subheader,.mce-content-body.content-wrapper>h3.subheader{font-size:20px;padding-left:0}.breadcrumbs-area .preview,.content-wrapper .preview{padding-top:0;margin-bottom:25px;text-transform:none}.breadcrumbs-area .preview{margin-top:15px;margin-bottom:0;font-size:16px;font-weight:400}.content-wrapper p{margin-bottom:10px;font-size:17px;line-height:1.6}@media screen and (min-width:768px){.content-wrapper p{line-height:1.4}}.content-wrapper p.description{margin-top:10px;margin-bottom:10px}.content-wrapper .table-wrapper{margin:30px 0}.content-wrapper table{font-size:80%}.content-wrapper table p{margin-bottom:0;font-size:14px;line-height:16px}.content-wrapper table td,.content-wrapper table th{padding:5px}.content-wrapper blockquote{margin-bottom:30px;margin-top:30px;padding:0 0 0 50px;position:relative;box-sizing:border-box;display:block;line-height:1.3;color:var(--heading-color)}.content-wrapper .short_quote>p:last-child,.content-wrapper blockquote>p:last-child{margin-bottom:0}.content-wrapper .short_quote:before,.content-wrapper blockquote:before{content:\"\";position:absolute;left:25px;top:0;bottom:0;width:2px;background:var(--main-link-color)}.content-wrapper ol,.content-wrapper ul{margin:10px 0 10px 30px}.content-wrapper ul{list-style:circle outside none}.relatedContent-new{max-width:1065px;margin:15px 0;padding:12px 0 15px;border-top:1px solid var(--black-border-color);border-bottom:1px solid var(--black-border-color);box-sizing:border-box;position:relative}.relatedContent-new p{font-size:var(--main-font-size-content-headline);margin-bottom:10px;line-height:1.3;font-weight:var(--main-font-weight);color:var(--heading-color);text-transform:none;box-sizing:border-box}.relatedContent-new h2,.relatedContent-new p{margin-top:0;line-height:1em;padding-bottom:2px;margin-bottom:10px}.wrapper-related-item{overflow:hidden;width:100%;font-size:0}.wrapper-related-item .related-item{width:calc(50% - 8px);margin:0 15px 0 0;display:inline-block;vertical-align:top}.wrapper-related-item .related-item:nth-child(1n+3){margin:15px 15px 0 0}.wrapper-related-item .related-item:nth-child(2n){margin-right:0}.related-item a{display:inline-block;background:var(--trending-color-bg);width:100%;text-align:left}.relatedContent-new .related-item .related-item-img{display:inline-block;width:calc(50% - 4px);vertical-align:middle;margin:2px;overflow:hidden;position:relative}.relatedContent-new .related-item .related-item-img img{width:100%;height:auto;margin:0}.wrapper-related-item .related-item a img,.wrapper-related-item .related-item a video{height:auto;-o-object-fit:cover;object-fit:cover;width:calc(50% - 4px);vertical-align:middle;margin:2px;overflow:hidden}.title-related-item{display:inline-block;vertical-align:middle;width:calc(50% - 7px);font-size:13px;margin-left:7px;max-height:75px;padding-right:10px;line-height:normal;overflow:hidden;box-sizing:border-box}.content-wrapper .msnt-photo-thumb-gallery.inline{margin:0 0 30px}}@media only screen and (min-width:1024px) and (max-width:1279px){.relatedContent-new .related-item .related-item-img img{max-height:86px}}@media only screen and (min-width:768px) and (max-width:1023px){.relatedContent-new .related-item .related-item-img img{max-height:96px}}@media only screen and (min-width:768px){.content-wrapper .short_quote,.content-wrapper blockquote{padding-left:75px}.content-wrapper .short_quote:before,.content-wrapper blockquote:before{left:30px}}@media only screen and (max-width:767px){.breadcrumbs-area .preview,.content-wrapper .preview{color:var(--heading-color);font-size:16px;font-weight:700;margin-bottom:10px}.breadcrumbs-area .preview{color:var(--heading-color-special);margin-top:10px}.mce-content-body.content-wrapper>h2,.mce-content-body.content-wrapper>h3,.postContent .postBody .widget_faq_headline,.postContent .postBody>h2,.postContent .postBody>h3,.postContent .postBody>h4,.postContent .postBody>h5,.postContent .postBody>h6{font-size:19px;line-height:1.2em;font-weight:700}.content-wrapper .postBody>h3.subheader,.mce-content-body.content-wrapper>h3.subheader{font-size:17px}.content-wrapper blockquote{font-size:15px}#page_index_articles_detail .wrapper-related-item{display:flex;flex-flow:row wrap;justify-content:center}#page_index_articles_detail .wrapper-related-item .related-item a{height:100%}.relatedContent-new h2,.relatedContent-new h3,.relatedContent-new p{padding-top:0;font-weight:700;line-height:1.2em}.relatedContent-new .related-item .related-item-img img{max-height:90px}.content-wrapper table th,.content-wrapper table thead td{text-align:left;font-weight:700}}@media only screen and (max-width:565px){.related-item a .title-related-item{max-width:100%;width:auto;padding:0;margin:8px 10px 10px;line-height:1.4em;max-height:7em;display:-webkit-box;-webkit-box-orient:vertical;-webkit-line-clamp:5;box-sizing:border-box;overflow:hidden;text-overflow:ellipsis}.relatedContent-new .related-item .related-item-img,.wrapper-related-item .related-item a img,.wrapper-related-item .related-item a video{width:calc(100% - 4px);margin:2px}.wrapper-related-item .related-item a .title-related-item{max-height:100%}}.custom-image{height:auto}section[data-widget=special_image] .photo-title{width:100%;padding:10px 4px;margin-bottom:10px;font-size:14px;line-height:normal;text-align:center;box-sizing:border-box}section[data-widget=image] .photo-title p,section[data-widget=mosaic] .photo-title p{margin-bottom:0;font-size:14px;line-height:1.1}@media only screen{.play-button-svg{cursor:pointer}.play-button-svg svg{fill:rgba(var(--white),.75);transition:fill .3s ease}.play-button-svg:hover svg{fill:rgba(var(--white),1)}}@media only screen and (max-width:1023px){.play-button-svg svg{width:40px;height:40px}.play-button-svg.play-button-svg_large svg{width:13vw;height:13vw}}.m1-find-vehicle-us{background:var(--m1-find-vehicle-eu-bg);color:#fff;padding:25px;position:relative;margin-bottom:10px;min-height:96px;box-sizing:border-box}.m1-find-vehicle-us>*{display:none}@media only screen and (max-width:767px){.m1-find-vehicle-us{min-height:52px}}@media only screen{.m1-find-vehicle-eu{contain-intrinsic-size:245px}}@media only screen and (min-width:575px) and (max-width:1023px){.m1-find-vehicle-eu{contain-intrinsic-size:233px}}@media only screen and (max-width:574px){.m1-find-vehicle-eu{contain-intrinsic-size:56px}}.msnt-photo-thumb-gallery{width:100%;max-width:100%;position:relative;content-visibility:auto;contain-intrinsic-size:649px 460px}.msnt-photo-thumb-gallery-photos-list .thumb-img{max-height:120px}.msnt-photo-thumb-gallery-main-photo{background:var(--red-color);width:100%;padding-bottom:56.25%;overflow:hidden;position:relative}.msnt-photo-thumb-gallery-main-photo-box{position:absolute;top:0;left:0;right:0;bottom:0;text-align:center;font-size:0;line-height:0;background:var(--gallery-bg-color)}.msnt-photo-thumb-gallery-main-photo-box>img,.msnt-photo-thumb-gallery-main-photo-box picture>img,.msnt-photo-thumb-gallery-photos-list>img,.msnt-photo-thumb-gallery-photos-list picture>img{width:100%;height:auto}@media only screen{.msnt-photo-thumb-gallery-photos-list{overflow:hidden;white-space:nowrap}.msnt-photo-thumb-gallery-photos-list>div,.msnt-photo-thumb-gallery-photos-list>span{width:106px;height:60px;text-align:center;overflow:hidden;border-top:5px solid transparent;display:inline-block;position:relative;cursor:pointer}}@media only screen and (min-width:768px) and (max-width:1023px){.msnt-photo-thumb-gallery{contain-intrinsic-size:770px 530px}}@media only screen and (min-width:480px){.msnt-photo-thumb-gallery-photos-list>div.lg-custom-content,.msnt-photo-thumb-gallery-photos-list>span{width:133px;height:75px}.msnt-photo-thumb-gallery-photos-list>div.lg-custom-content.custom_size,.msnt-photo-thumb-gallery-photos-list>span.custom_size{width:100px;height:75px}}@media only screen and (min-width:768px){.msnt-photo-thumb-gallery-photos-list>div.lg-custom-content,.msnt-photo-thumb-gallery-photos-list>span{width:160px;height:90px}.msnt-photo-thumb-gallery-photos-list>div.lg-custom-content.custom_size,.msnt-photo-thumb-gallery-photos-list>span.custom_size{width:120px;height:90px}}@media only screen and (min-width:1400px){.msnt-photo-thumb-gallery:not(.inline) .msnt-photo-thumb-gallery-photos-list>div.lg-custom-content.custom_size,.msnt-photo-thumb-gallery:not(.inline) .msnt-photo-thumb-gallery-photos-list>span.custom_size{width:160px;height:120px}}@media only screen and (max-width:767px){.msnt-photo-thumb-gallery{contain-intrinsic-size:auto 260px}}@media only screen{section[data-widget=mosaic]{font-size:0;line-height:0;width:100%;position:relative;border-color:var(--mosaic-widget-bg);margin:30px 0;direction:ltr;display:flex;justify-content:space-between}section[data-widget=mosaic]>[data-widget]{margin:0 3px 6px}section[data-widget=mosaic]>[data-widget]{box-sizing:border-box;position:relative;z-index:3;background:inherit;border-color:inherit;background:var(--mosaic-widget-bg)}section[data-widget=mosaic][data-type=\"2\"]>[data-widget]{display:inline-block;width:49.7%;vertical-align:top}section[data-widget=mosaic][data-type=\"3\"]>[data-widget]{display:inline-block;width:33%;vertical-align:top}section[data-widget=mosaic][data-type=\"4\"]>[data-widget]:first-of-type,section[data-widget=mosaic][data-type=\"4\"]>[data-widget]:nth-of-type(4){width:27.9%}section[data-widget=mosaic][data-type=\"4\"]>[data-widget]:nth-of-type(2),section[data-widget=mosaic][data-type=\"4\"]>[data-widget]:nth-of-type(3){width:44.2%;left:27.9%;z-index:1}section[data-widget=mosaic][data-type=\"4\"]>[data-widget]:nth-of-type(2){position:absolute;top:0;z-index:2}section[data-widget=mosaic][data-type=\"4\"]>[data-widget]:nth-of-type(3){position:absolute;bottom:0}section[data-widget=mosaic][data-type=\"4\"]>[data-widget]:nth-of-type(4){position:absolute;top:0;right:0}section[data-widget=mosaic][data-type=\"5\"]>[data-widget]:first-of-type,section[data-widget=mosaic][data-type=\"5\"]>[data-widget]:nth-of-type(2),section[data-widget=mosaic][data-type=\"5\"]>[data-widget]:nth-of-type(4),section[data-widget=mosaic][data-type=\"5\"]>[data-widget]:nth-of-type(5){width:38%}section[data-widget=mosaic][data-type=\"5\"]>[data-widget]:nth-of-type(3){width:24%;margin:0 auto;z-index:5;border:2px solid;border-width:0 2px}section[data-widget=mosaic][data-type=\"5\"]>[data-widget]:first-of-type{position:absolute;top:0;left:0;z-index:4}section[data-widget=mosaic][data-type=\"5\"]>[data-widget]:nth-of-type(2){position:absolute;bottom:0;left:0}section[data-widget=mosaic][data-type=\"5\"]>[data-widget]:nth-of-type(4){position:absolute;top:0;right:0;z-index:4}section[data-widget=mosaic][data-type=\"5\"]>[data-widget]:nth-of-type(5){position:absolute;bottom:0;right:0}section[data-widget=mosaic][data-type=\"6\"],section[data-widget=mosaic][data-type=\"7\"],section[data-widget=mosaic][data-type=\"8\"],section[data-widget=mosaic][data-type=\"9\"]{flex-wrap:wrap}section[data-widget=mosaic][data-type=\"6\"]>[data-widget]{width:49%}section[data-widget=mosaic][data-type=\"9\"]>[data-widget]{width:calc(50% - 6px)}section[data-widget=mosaic][data-type=\"6\"]>[data-widget]:nth-of-type(3),section[data-widget=mosaic][data-type=\"9\"]>[data-widget]:first-of-type{width:100%}section[data-widget=mosaic]>[data-widget]>img,section[data-widget=mosaic]>[data-widget] picture,section[data-widget=mosaic]>[data-widget] picture>img{width:100%}section[data-widget=mosaic][data-type=\"7\"]>[data-widget]{width:100%}section[data-widget=mosaic][data-type=\"7\"]>[data-widget]:nth-of-type(2),section[data-widget=mosaic][data-type=\"7\"]>[data-widget]:nth-of-type(3){width:49%}section[data-widget=mosaic]+section[data-widget=mosaic]{margin-top:-28px}section[data-widget=mosaic][data-type=\"8\"]>[data-widget]{width:49%}section[data-widget=mosaic][data-type=\"8\"]>[data-widget]:nth-of-type(3){width:100%}}@media only screen and (min-width:768px) and (max-width:1023px){section[data-widget=mosaic]{contain-intrinsic-size:770px 265px}}@media only screen and (max-width:767px){section[data-widget=mosaic]{contain-intrinsic-size:auto 152px}section[data-widget=mosaic]+section[data-widget=mosaic]{margin-top:-26px}section[data-widget=mosaic]>[data-widget]{margin:0 3px 6px}section[data-widget=mosaic][data-type=\"6\"]>[data-widget],section[data-widget=mosaic][data-type=\"7\"]>[data-widget]:nth-of-type(2),section[data-widget=mosaic][data-type=\"7\"]>[data-widget]:nth-of-type(3),section[data-widget=mosaic][data-type=\"8\"]>[data-widget]:not(:nth-of-type(3)),section[data-widget=mosaic][data-type=\"9\"]>[data-widget]{width:calc(50% - 6px)}section[data-widget=mosaic][data-type=\"6\"]>[data-widget]:last-of-type,section[data-widget=mosaic][data-type=\"7\"]>[data-widget]:last-of-type,section[data-widget=mosaic][data-type=\"8\"]>[data-widget]:nth-of-type(3){margin-top:2px}section[data-widget=mosaic][data-type=\"7\"]>[data-widget]:first-of-type,section[data-widget=mosaic][data-type=\"8\"]>[data-widget]:nth-of-type(3){margin-bottom:2px}section[data-widget=mosaic][data-type=\"9\"]>[data-widget]{margin:0 3px 6px}}@media only screen{section[data-widget=image]{position:relative;font-size:0;line-height:0;width:100%;margin:30px 0}section[data-widget=image]>img,section[data-widget=image] picture>img{width:100%;height:auto;position:relative}section[data-widget=image] .svg-search,section[data-widget=mosaic] section[data-widget=image] .svg-search{display:flex!important;position:absolute;top:10px;left:10px;width:20px;height:20px;z-index:999;border-radius:5px;transform:scaleX(-1);opacity:.75;background-color:var(--black-color)}.svg-search svg{margin:auto;width:12px;height:12px;fill:var(--white-color)}}@media only screen{.trending-content{margin-bottom:30px}.trending-content .content-header{font-size:0;line-height:0;background:var(--m1-block-head-background-wrapper);margin-bottom:10px}.trending-content .trending-content_header{background:var(--main-headline-cl);line-height:44px;white-space:nowrap;color:var(--white-color);display:inline-block;padding-left:15px;padding-right:85px;margin:0;font-size:17px;position:relative;font-weight:400;box-sizing:border-box;max-width:100%;overflow:hidden;text-overflow:ellipsis;text-transform:uppercase}.trending-content .trending-content_header:before{content:\"\";width:50px;position:absolute;top:0;left:auto;right:0;bottom:0;background:linear-gradient(120deg,var(--m1-block-head-background),var(--m1-block-head-background) 37%,var(--m1-block-head-light) 39%,var(--m1-block-head-light) 49%,var(--m1-block-head-background-wrapper) 51%,var(--m1-block-head-background-wrapper)) no-repeat}.trending-content .trending-content_header:after{content:\"\";display:inline-block}.trending-content_item{overflow:hidden;display:flex;flex-direction:row;align-items:center}.trending-content_thumb{width:50%}.trending-content_link{display:-webkit-box;-webkit-box-orient:vertical;-webkit-line-clamp:5;box-sizing:border-box;padding:0 10px;overflow:hidden;text-overflow:ellipsis;width:50%;height:intrinsic;height:-webkit-fit-content;height:-moz-fit-content;height:fit-content;font-size:13px;line-height:1.3}.trending-content_mobile{font-size:0;line-height:0}.trending-content .trending-content_item .trending-content_thumb{position:relative}.trending-content .trending-content_item .trending-content_thumb .play{color:rgba(var(--white),.75);position:absolute;top:50%;left:50%;margin-top:-20px;margin-left:-20px;z-index:5;transition:color .3s ease}.trending-content_item.buyer-tools .trending-content_link{margin:0 10px 0 0}.trending-content_item-mobile{display:inline-flex;flex-direction:row;vertical-align:top;width:calc(50% - 10px)}}@media only screen and (min-width:1024px){.trending-content_item+.trending-content_item{margin-top:10px}.trending-content{contain-intrinsic-size:300px 422px}body[data-edtn=it] .trending-content,body[data-edtn=of] .trending-content{contain-intrinsic-size:375px}}@media only screen and (min-width:768px) and (max-width:1023px){.trending-content{contain-intrinsic-size:770px 950px}}@media only screen and (max-width:767px){.trending-content{contain-intrinsic-size:385px 516px}}.m1-ta-cta{margin-bottom:15px;-webkit-user-select:none;-moz-user-select:none;user-select:none}.m1-ta-cta__wrapper{display:inline-flex;align-items:center;justify-content:flex-start;padding:10px;border-radius:3px}.m1-ta-cta__icon-wrapper{display:flex;font-family:icons;font-size:24px;height:24px;width:24px}.m1-ta-cta__icon-wrapper:before{margin:0}.m1-ta-cta__title{margin-left:10px;font-size:14px;font-weight:700}.trinity-iframe:not(.fab-view){margin-bottom:25px;border-radius:3px}@media screen and (max-width:767px){.m1-ta-cta{margin-bottom:15px}.trinity-iframe:not(.fab-view){margin-bottom:15px}}.autoshow{display:block;position:relative;margin:15px 0}.autoshow .autoshow__title{margin:0;font-weight:700;font-size:14px}.autoshow__img{-o-object-fit:cover;object-fit:cover;-o-object-position:center;object-position:center;height:100%;display:block;width:100%;aspect-ratio:16/4}.autoshow__title{position:absolute;width:100%;bottom:0;left:0;margin:0;color:var(--main-text-color);text-align:center;padding:5px 10px;background-color:var(--thumb-background);box-sizing:border-box}@media only screen and (min-width:566px) and (max-width:767px){.autoshow__img{aspect-ratio:16/6}}@media only screen and (max-width:565px){.autoshow{margin:10px 0}.autoshow .autoshow__title{line-height:1.2;font-size:12px}.autoshow__title{padding:5px 3px}.autoshow__img{aspect-ratio:16/6}}.latest__articles{margin:30px 0}.latest__articles .content-header{font-size:0;line-height:0;background:var(--m1-block-head-background-wrapper);margin-bottom:10px}.latest__articles .most-recent__content-header{background:var(--main-headline-cl);line-height:44px;white-space:nowrap;color:var(--white-color);display:inline-block;padding-left:15px;padding-right:85px;margin:0;font-size:17px;position:relative;font-weight:400;box-sizing:border-box;max-width:100%;overflow:hidden;text-overflow:ellipsis;text-transform:uppercase}.latest__articles .most-recent__content-header:before{content:\"\";width:50px;position:absolute;top:0;left:auto;right:0;bottom:0;background:linear-gradient(120deg,var(--m1-block-head-background),var(--m1-block-head-background) 37%,var(--m1-block-head-light) 39%,var(--m1-block-head-light) 49%,var(--m1-block-head-background-wrapper) 51%,var(--m1-block-head-background-wrapper)) no-repeat}.latest__articles .most-recent__content-header:after{content:\"\";display:inline-block}.latest__articles-list-item{padding:5px;overflow:hidden;border-bottom:1px solid #e3e3e3;display:flex;justify-content:flex-start;align-items:center}.latest__articles-list-item:first-child{border-top:1px solid #e3e3e3}.latest__articles-list-item .date{background-color:#8e9490;margin:0;color:#fff;text-align:center;padding:2px 3px;border-radius:2px;font-size:10px;line-height:11px}.latest__articles-list-item-title{display:flex;align-items:center;font-size:15px;margin:0 0 0 12px;overflow:hidden;height:34px;max-height:34px}.latest__articles-list-item-link{font-size:13px;line-height:15px;color:var(--main-link-color);max-height:inherit}@media screen and (max-width:1023px){.latest__articles--desktop{display:none}}@media screen and (min-width:1024px){.latest__articles--mobile{display:none}}@media screen and (max-width:767px){.latest__articles-list-item-link{font-size:14px;line-height:16px}}@media only screen{.articleHeader{position:relative;background:var(--white-article-bg);overflow:hidden}.articleHeader .originalImage{box-sizing:border-box;position:relative;overflow:hidden}.articleHeader .originalImage img,.video-player picture>img{width:100%;height:auto}.carSpecs.list .specs-list .item .title .ico{min-width:28px;width:28px;height:16px}.videoBoxArticle{position:relative;padding-bottom:25px}.videoBoxArticle .sizer{display:block;width:100%}.videoBoxArticle .video-player{position:absolute;top:0;left:0;right:0;bottom:0;z-index:2;background:#000}.videoBoxArticle .videoBoxArticle-wrapper:not(.facebook-video-wrapper) .video-player embed,.videoBoxArticle .videoBoxArticle-wrapper:not(.facebook-video-wrapper) .video-player iframe,.videoBoxArticle .videoBoxArticle-wrapper:not(.facebook-video-wrapper) .video-player object{width:100%!important;height:100%!important}.videoBoxArticle .videoBoxArticle-wrapper.facebook-iframe-sizer .video-player embed,.videoBoxArticle .videoBoxArticle-wrapper.facebook-iframe-sizer .video-player iframe,.videoBoxArticle .videoBoxArticle-wrapper.facebook-iframe-sizer .video-player object{width:100%!important;height:100%!important}.videoBoxArticle .facebook-video-wrapper{text-align:center}body #page_index_articles_detail .m1-article-slideshow{margin:0}.m1-article-slideshow-photos-list{display:none}.m1-article-slideshow-on .m1-article-slideshow-photos-list{display:block}.m1-article-slideshow-photos-list .item{display:none;transition:transform .15s ease-out,opacity .15s ease-out}.m1-article-slideshow-photos-list .item.preHide{transform:translateZ(0);display:block;position:absolute;left:0;top:0;background:#fff;z-index:50;box-shadow:0 0 0 rgba(0,0,0,.15)}.m1-article-slideshow-photos-list .item.preShow{transform:translateZ(0);display:block;position:relative;z-index:10;opacity:0}.m1-article-slideshow-photos-list .item.current{display:block}.m1-article-slideshow-photos-bottom-ad{margin:30px 0}.m1-article-slideshow-photos-list .m1-article-slideshow-photos-bottom-ad{margin-bottom:0}.m1-article-slideshow-photos-bottom-ad .mapb .apb{padding-top:0!important;padding-bottom:0!important}.m1-article-slideshow-photo{font-size:0;line-height:0;position:relative;padding-bottom:56.25%;background:var(--slideshow-photo-bg);overflow:hidden}.m1-article-slideshow-photo.more-photos{height:56.25%;padding-bottom:40px;border-radius:5px}.m1-article-slideshow-photo>img{position:absolute;top:0;left:0;width:100%}.m1-article-slideshow-photo-count{display:flex;align-items:center;justify-content:center;padding:5px;font-size:18px}.m1-article-slideshow-photos-list .item .mapb .apb .ap{display:none}.m1-article-slideshow-photos-list .item.current .mapb .apb .ap{display:inline-block}.slideshow-full-width{background:var(--main-bg-color)}.slideshow-full-width .item.current .relatedContent,.slideshow-full-width .item.current .relatedContent-new{display:none}#post_box .item[data-id=more_photos] .m1-article-slideshow-photo{display:none}.postAuthorBox{overflow:hidden;display:flex;flex-direction:column;align-items:flex-start;width:100%;margin-bottom:10px;margin-top:25px}.author-wrap{display:flex;align-items:center;width:100%}.postAuthorBox:not(.postAuthorBoxTop){padding:8px 0}.postTopInfo.postTopInfo-reviews .postAuthorBox{margin-bottom:15px}.postAuthorInfo{vertical-align:middle;font-size:14px;line-height:1.3}.powered-by{margin-left:auto;margin-top:auto;flex-direction:row}.powered-by,.powered-by a{display:flex;align-items:flex-end}.powered-by a{flex-direction:column}.powered-by a:hover{text-decoration:none}.powered-by p{color:var(--heading-color);font-size:11px;font-weight:700;margin-right:7px}.powered-by img{max-width:48px}body[data-edtn=ev_tr] .powered-by img{max-width:115px}body[data-edtn=de] .powered-by img,body[data-edtn=ev_de] .powered-by img{max-width:108px}.postAuthorThumb{padding-right:15px;display:flex;align-items:center;flex-direction:column}.postAuthorInfo .postAuthor .name{font-weight:600;color:var(--main-text-color-special)}.postAuthorInfo .postAuthor .label{font-weight:400;text-transform:none}.author-js-link{cursor:pointer}.postAuthorInfo .postAuthor .mood{color:var(--post-author-info-color)}.postAuthorInfo .postAuthor a{color:var(--main-text-color-special);text-decoration:none}.postAuthorInfo .postAuthor a:hover{text-decoration:underline}.userRThumb{display:inline-block;position:relative;width:75px;height:75px;background:var(--main-bg-color);border-radius:50px;border:1px solid var(--post-author-info-color);box-sizing:border-box;overflow:hidden;text-decoration:none;font-size:0;line-height:0}.userRThumb:hover{text-decoration:none}.userRThumb img{width:100%;height:auto}.author-socials{display:flex;align-items:center;justify-content:center;width:75px}.author-socials .author-socials-item{display:none;position:relative;margin-top:10px;cursor:pointer}.author-socials .author-socials-item:nth-child(-n+3){display:inline-block}.author-socials .author-socials-item .author-media-icon{fill:grey;display:block;width:16px;height:16px;margin-right:.2em;margin-left:.2em}.author-socials .author-socials-item:hover{text-decoration:none}.bottom__social-container{margin-left:auto;display:flex;flex-direction:column;align-items:center}#div-topcustombanner{max-height:0}#div-bottomcustombanner,#div-topcustombanner{text-align:center;overflow:hidden}#div-bottomcustombanner iframe,#div-topcustombanner iframe{margin:25px 0;max-width:100%}.video-player:not(.stick) .video-player-close{display:none}.ferrari_frame_wrapper #ferrari_frame{width:100%;min-height:335px}.postBody .stroer-ap_wrapper:first-of-type{min-height:270px}.postBody .stroer-ap_wrapper{min-height:250px;margin:20px auto 30px}.lSSlideOuter{overflow:hidden}.msnt-photo-thumb-gallery-count{display:none}.autoshow{margin:15px 0;position:relative}.autoshow__img{aspect-ratio:16/4;-o-object-fit:cover;object-fit:cover;-o-object-position:center;object-position:center}.autoshow .autoshow__title{margin:0;font-weight:700;font-size:14px}.autoshow__title{position:absolute;width:100%;bottom:0;left:0;margin:0;padding:5px 10px;background-color:var(--thumb-background);box-sizing:border-box;text-align:center;color:var(--main-link-color)}.sapb.social-banners{min-height:130px;content-visibility:auto;contain-intrinsic-size:130px}.sapb.social-banners>div{min-height:130px}}@media only screen and (min-width:1024px){.sidebar .stroer-ap_wrapper{min-height:250px}.sidebar .stroer-ap_wrapper:first-of-type{min-height:270px;margin-bottom:30px}.sidebar .apb:first-of-type,.sidebar .m1_largeMPU:first-of-type{min-height:250px;margin-bottom:25px}.mobile-skyscraper-box,.mobile-skyscraper-box .ap{display:none}}@media screen{.latest__articles--mobile+.bottom-ad .ap{margin-bottom:30px}.mobile-skyscraper-box{padding:0!important}}@media only screen and (min-width:768px){.postAuthorInfo{font-size:16px}.m1-article-slideshow-photo picture{position:absolute;top:50%;transform:translateY(-50%)}.custom-topbanner-wrapper .custom-topbanner-wrapper_mobile,.m1-article-slideshow-photos-bottom-ad,.m1-article-slideshow-photos-bottom-ad .mapb,.m1-article-slideshow-photos-bottom-ad .mapb .apb{display:none}.m1-article-slideshow-photos-bottom-ad .mapb .ap{display:none!important}.hidden-lg,.hidden-lg .lazy-load-adv,.hidden-lg .lazy-load-adv .apb{display:none}}@media only screen and (max-width:767px){.userRThumb{width:50px;height:50px;margin-left:10px}.author-socials{width:70px}.powered-by,.powered-by a{flex-direction:column;align-items:center}.powered-by p{margin-right:0;margin-bottom:5px}.m1-article-slideshow-item{width:50%}.content-area-box .slideshow-top .m1-article-slideshow-photo{margin-right:-15px;margin-left:-15px;padding-bottom:0}.slideshow-full-width .slideshow-top .m1-article-slideshow-photo{padding-bottom:0}.custom-topbanner-wrapper{margin-bottom:10px}.custom-topbanner-wrapper .custom-topbanner-wrapper_desktop{display:none}.postAuthorBox{margin-top:15px}#div-topcustombanner iframe,.postAuthorBox{margin-bottom:15px}.postBody .Adgrid_left_rail:first-of-type,.postBody .apInarticleSmallRes:first-of-type,.postBody .m1_MobileMPU:first-of-type{min-height:250px}.postBody>p:first-of-type+.m1_MobileMPU{min-height:250px}.postBody .apInarticleSmallRes .ap,.postBody .m1_MobileMPU .adv-ad-wrapper{min-height:250px;margin:20px auto 30px}body.sliding-banner .postBody .apInarticleSmallRes:not(:first-of-type) .ap:not(:empty){min-height:385px!important;background:var(--sliding-ads-bg);overflow:unset!important}body[data-edtn=ev_it].sliding-banner .postBody .apInarticleSmallRes:not(:first-of-type) .ap:not(:empty),body[data-edtn=it].sliding-banner .postBody .apInarticleSmallRes:not(:first-of-type) .ap:not(:empty){min-height:420px!important}body.sliding-banner .postBody .apInarticleSmallRes:not(:first-of-type) .ap div{position:sticky;top:50px;overflow:hidden}body.sliding-banner .postBody .apInarticleSmallRes:not(:first-of-type) .ap div div{position:sticky!important}.autoshow{margin:10px 0}.autoshow .autoshow__title{line-height:1.2;font-size:12px}.root>[class*=pre-center].padding.about-us-block{padding:25px 15px 75px}body[data-edtn=ru] #article_box>.content-area-box,body[data-edtn=uk] #article_box>.content-area-box{content-visibility:auto;contain-intrinsic-size:auto 3500px}} </style> <style> #trending-308149 {display: none;} [data-most-recent-id=\"308149\"] {display: none;} .latest__articles-list > li:last-child {display: none;} .latest__articles-list > [data-most-recent-id=\"308149\"] ~ li:last-child {display: flex;} </style> <link href=\"https://cdn.motor1.com/images/static/motor1/favicon-32.png\" rel=\"icon\" sizes=\"32x32\" type=\"image/png\"/> <link href=\"https://cdn.motor1.com/images/static/motor1/favicon-96.png\" rel=\"icon\" sizes=\"96x96\" type=\"image/png\"/> <link href=\"https://cdn.motor1.com/images/static/motor1/favicon-128.png\" rel=\"icon\" sizes=\"128x128\" type=\"image/png\"/> <link href=\"https://cdn.motor1.com/images/static/motor1/favicon-195.png\" rel=\"icon\" sizes=\"195x195\" type=\"image/png\"/> <link href=\"https://cdn.motor1.com/images/static/motor1/favicon-196.png\" rel=\"icon\" sizes=\"196x196\" type=\"image/png\"/> <link href=\"https://cdn.motor1.com/images/static/motor1/favicon-228.png\" rel=\"icon\" sizes=\"228x228\" type=\"image/png\"/> <link href=\"https://cdn.motor1.com/images/static/motor1/favicon-57.png\" rel=\"apple-touch-icon-precomposed\"/> <link href=\"https://cdn.motor1.com/images/static/motor1/favicon-114.png\" rel=\"apple-touch-icon\" sizes=\"114x114\"/> <link href=\"https://cdn.motor1.com/images/static/motor1/favicon-72.png\" rel=\"apple-touch-icon\" sizes=\"72x72\"/> <link href=\"https://cdn.motor1.com/images/static/motor1/favicon-144.png\" rel=\"apple-touch-icon\" sizes=\"144x144\"/> <link href=\"https://cdn.motor1.com/images/static/motor1/favicon-60.png\" rel=\"apple-touch-icon\" sizes=\"60x60\"/> <link href=\"https://cdn.motor1.com/images/static/motor1/favicon-120.png\" rel=\"apple-touch-icon\" sizes=\"120x120\"/> <link href=\"https://cdn.motor1.com/images/static/motor1/favicon-76.png\" rel=\"apple-touch-icon\" sizes=\"76x76\"/> <link href=\"https://cdn.motor1.com/images/static/motor1/favicon-152.png\" rel=\"apple-touch-icon\" sizes=\"152x152\"/> <link href=\"https://cdn.motor1.com/images/static/motor1/favicon-180.png\" rel=\"apple-touch-icon\" sizes=\"180x180\"/> <meta content=\"https://cdn.motor1.com/images/static/motor1/smalltile.png\" name=\"msapplication-square128x128logo\"/> <meta content=\"https://cdn.motor1.com/images/static/motor1/mediumtile.png\" name=\"msapplication-square270x270logo\"/> <meta content=\"https://cdn.motor1.com/images/static/motor1/largetile.png\" name=\"msapplication-square580x580logo\"/> <meta content=\"These are the most expensive cars in the world, from options like the Bugatti La Voiture Noire to the Aston Martin Valkyrie, and more.\" name=\"description\"/> <meta content=\"50 Most Expensive Cars In The World\" property=\"og:title\"/> <meta content=\"article\" property=\"og:type\"/> <meta content=\"https://www.motor1.com/features/308149/most-expensive-new-cars-ever/\" property=\"og:url\"/> <meta content=\"https://cdn.motor1.com/images/mgl/mMxknA/s1/most-expensive-cars-in-the-world.jpg\" property=\"og:image\"/> <meta content=\"https://cdn.motor1.com/images/mgl/mMxknA/s1/most-expensive-cars-in-the-world.jpg\" property=\"og:image:url\"/> <meta content=\"https://cdn.motor1.com/images/mgl/mMxknA/s1/most-expensive-cars-in-the-world.jpg\" property=\"og:image:secure_url\"/> <meta content=\"image/jpeg\" property=\"og:image:type\"/> <meta content=\"1920\" property=\"og:image:width\"/> <meta content=\"1080\" property=\"og:image:height\"/> <meta content=\"50 Most Expensive Cars In The World: Aston Martin Valkyrie, Lists\" property=\"og:image:alt\"/> <meta content=\"These are the most expensive cars in the world, from options like the Bugatti La Voiture Noire to the Aston Martin Valkyrie, and more.\" property=\"og:description\"/> <meta content=\"Motor1.com\" property=\"og:site_name\"/> <meta content=\"100001157785488\" property=\"fb:admins\"/> <meta content=\"984245018262500\" property=\"fb:app_id\"/> <meta content=\"64968240897\" property=\"fb:pages\"/> <meta content=\"summary_large_image\" property=\"twitter:card\"/> <meta content=\"Motor1.com\" property=\"twitter:site\"/> <meta content=\"50 Most Expensive Cars In The World\" property=\"twitter:title\"/> <meta content=\"From Aston Martin to Zenvo, these are the most expensive supercars and hypercars ever made.\" property=\"twitter:description\"/> <meta content=\"https://cdn.motor1.com/images/mgl/mMxknA/s3/most-expensive-cars-in-the-world.jpg\" property=\"twitter:image\"/> <meta content=\"max-snippet:500, max-image-preview:large\" property=\"robots\"/> <meta content=\"These are the most expensive cars in the world, from options like the Bugatti La Voiture Noire to the Aston Martin Valkyrie, and more.\" name=\"speakable-description\"/> <meta content=\"width=device-width, initial-scale=1.0\" name=\"viewport\"/> <meta content=\"IE=edge\" http-equiv=\"X-UA-Compatible\"/><link href=\"https://www.motor1.com/features/308149/most-expensive-new-cars-ever/\" hreflang=\"x-default\" rel=\"alternate\"/> <link href=\"https://www.motor1.com/features/308149/most-expensive-new-cars-ever/\" hreflang=\"en\" rel=\"alternate\"/> <link href=\"https://fr.motor1.com/features/407787/voitures-les-plus-cheres-monde/\" hreflang=\"fr\" rel=\"alternate\"/> <link href=\"https://de.motor1.com/features/407339/das-sind-die-15-teuersten-neuwagen-aller-zeiten/\" hreflang=\"de\" rel=\"alternate\"/> <link href=\"https://ru.motor1.com/features/315652/10-samykh-dorogikh-novykh-avtomobilej-na-planete/\" hreflang=\"ru\" rel=\"alternate\"/> <link href=\"https://motor1.uol.com.br/features/546328/lista-carros-mais-caros-mundo/\" hreflang=\"pt-br\" rel=\"alternate\"/> <link href=\"https://uk.motor1.com/features/313656/most-expensive-new-cars-ever/\" hreflang=\"en-gb\" rel=\"alternate\"/> <link href=\"https://ar.motor1.com/features/580814/autos-0km-mas-caros-del-mundo/\" hreflang=\"es-ar\" rel=\"alternate\"/> <link href=\"https://www.motor1.com/features/308149/most-expensive-new-cars-ever/\" rel=\"canonical\"/> <link href=\"https://www.motor1.com/features/308149/most-expensive-new-cars-ever/amp/\" rel=\"amphtml\"/> <link href=\"/favicon.ico\" rel=\"shortcut icon\" type=\"image/x-icon\"/> <script type=\"application/ld+json\"> {\"@context\":\"http:\\/\\/schema.org\",\"@type\":\"NewsArticle\",\"headline\":\"50 Most Expensive Cars In The World\",\"name\":\"50 Most Expensive Cars In The World\",\"description\":\"These are the most expensive cars in the world, from options like the Bugatti La Voiture Noire to the Aston Martin Valkyrie, and more.\",\"author\":{\"@type\":\"Person\",\"name\":\"Jeff Perez\",\"email\":\"jeff.perez@motor1.com\",\"url\":\"https:\\/\\/www.motor1.com\\/info\\/team\\/jeff-perez\\/\",\"jobTitle\":\"Senior Editor\"},\"url\":\"https:\\/\\/www.motor1.com\\/features\\/308149\\/most-expensive-new-cars-ever\\/\",\"datePublished\":\"2021-06-29T18:37:47Z\",\"dateModified\":\"2023-02-06T17:13:16Z\",\"publisher\":{\"@type\":\"Organization\",\"name\":\"Motor1.com\",\"logo\":{\"@type\":\"ImageObject\",\"url\":\"https:\\/\\/www.motor1.com\\/logo.jpg\",\"width\":\"226\",\"height\":\"60\"}},\"image\":[\"https:\\/\\/cdn.motor1.com\\/images\\/mgl\\/mMxknA\\/s1\\/most-expensive-cars-in-the-world.webp\",\"https:\\/\\/cdn.motor1.com\\/images\\/mgl\\/mMxknA\\/361:0:2158:1620\\/most-expensive-cars-in-the-world.webp\",\"https:\\/\\/cdn.motor1.com\\/images\\/mgl\\/mMxknA\\/630:0:1620:1620\\/most-expensive-cars-in-the-world.webp\"],\"thumbnailUrl\":\"https:\\/\\/cdn.motor1.com\\/images\\/mgl\\/mMxknA\\/s3\\/most-expensive-cars-in-the-world.jpg\",\"articleBody\":\"When it comes to high-end hypercars and super-fast supercars, a few companies should come to mind first: Bugatti, Ferrari, Koenigsegg, Rimac, and Pagani, among others. These manufacturers have cemented themselves as the top dogs in the supercar and hypercar space, extending to their wealthiest clientele the fastest, rarest, prettiest \\u2013 and in this case \\u2013 most expensive cars on the planet.\\nBut in order to find out which of these unattainable-to-most vehicles is the priciest, we've scoured the invoice sheets and uncovered 50 cars all worth $1 million or more. The group includes hybrid Ferrari convertibles, an American speed king, a few electric Hypercars, and two a one-of-a-kind Rolls-Royce cars built for royalty.\\nWe should note, though: The prices listed here are the price of the vehicles when new. So we\\u2019re not counting auction cars like the Ferrari 250 GTO, or overpriced secondhand sales. But don\\u2019t worry, there\\u2019s still hundreds of millions worth of cars here to whet your appetite.\\n Other Lists: 20 Cheapest Cars, Trucks, And SUVs In The US For 2023 15 Best Selling Trucks Of 2022 \\nDe Tomaso P72\\n\\n \\n \\n \\n \\n \\n \\n \\n \\n \\n \\n \\n\\nPrice: $1.3 Million\\nThe De Tomaso P72 is basically the definition of beautiful. The shapely supercar debuted at the 2019 Goodwood Festival Of Speed with a supercharged Ford V8 boasting 700 horsepower. The P72 marked the return of the DeTomaso brand after nearly 30 years on hiatus, and if you want one, it will cost you at least $1.3 million.\\nFerrari LaFerrari\\n\\n \\n \\n \\n \\n \\n \\n \\n \\n \\n \\n \\n\\nPrice: $1.4 Million\\nAt $1.4 million new, the Ferrari LaFerrari is actually one of the most affordable supercars on this list. It\\u2019s a bargain compared to the most expensive vehicle here. Debuting in 2013 with 950 hybrid horses (708 kilowatts) and a top speed of around 220 miles per hour (354 kilometers per hour), this is still Ferrari\\u2019s fastest and most powerful production model to date. The company built just 499 examples of the coupe between 2013 and 2016.\\nPagani Huayra\\n\\n \\n \\n \\n \\n \\n \\n \\n \\n \\n \\n \\n\\nPrice: $1.4 Million\\nInarguably one of the prettiest cars on this list, the Pagani Huayra cost a cool $1.4 million when new. Like the LaFerrari, Pagani built the Huayra in extremely limited numbers. The company hand-constructed just 100 units of the coupe between 2012 and 2018, with another 20 versions of the BC model (which makes our list further down) between 2017 and 2019. Powering each and every example was a Mercedes-AMG V12 capable of 720 horsepower (537 kilowatts).\\nMcLaren Elva\\n\\n \\n \\n \\n \\n \\n \\n \\n \\n \\n \\n \\n\\nPrice: $1.7 Million\\nThe McLaren Elva is one of the latest additions to the British supercar maker\\u2019s storied legacy. Even without a proper windshield (though, no option) or roof to rely on, the Elva produces 804 horsepower and 590 pound-feet of torque from its twin-turbocharged 4.0-liter V8. Originally McLaren announced just 399 units, but later the company dropped that to an even more scarce 249 examples. Either way, most of you will never get your hands on one \\u2013 the Elva costs $1.7 million.\\nCzinger 21C\\n\\n \\n \\n \\n \\n \\n \\n \\n \\n \\n \\n \\n\\nPrice: $1.7 Million\\nYou might not know the name Czinger yet, but this California-based boutique automaker is responsible for the $1.7 million 21C supercar. With 1,250 horsepower on tap thanks to a 2.9-liter twin-turbocharged V8, the 21C can rocket to 60 miles per hour in 1.9 seconds and a top speed of around 281 miles per hour.\\nFerrari Monza\\n\\n \\n \\n \\n \\n \\n \\n \\n \\n \\n \\n \\n\\nPrice: $1.7 Million\\nMuch like the roof-less McLaren Elva, the Ferrari Monza SP1 and SP2 are all about al fresco motoring. As the name implies, the SP1 is the single-seater option while the SP2 has just enough room for you to bring along a friend. Both cars come powered by the same naturally aspirated 6.5-liter V12 engine capable of 809 horsepower and 530 pound-feet. Unfortunately for US buyers, neither of these models are street legal in the States. But f you have the funds to afford the car\\u2019s $1.75 million price tag, getting onto a track probably won\\u2019t be an issue anyway.\\nGordon Murray T.33\\n\\n \\n \\n \\n \\n \\n \\n \\n \\n \\n \\n \\n\\nPrice: $1.7 Million\\nThe second and slightly more affordable supercar in the new Gordon Murray lineup is the T.33. With 607 horsepower courtesy of a naturally aspirated 3.9-liter V12, the T.33 revs to a ridiculous 10,500 RPM. With a price tag of around $1.7 million at current conversion rates, Gordon Murray automotive promises to sell this car globally, in both right- and left-hand-drive configurations. Too bad it's already sold out.\\nKoenigsegg Gemera\\n\\n \\n \\n \\n \\n \\n \\n \\n \\n \\n \\n \\n\\nPrice: $1.7 Million\\nOne of two Koenigsegg models on this list, the Gemera is actually the Swedish supercar maker\\u2019s first four-seater. But that doesn\\u2019t mean it\\u2019s some family car. With a twin-turbocharged 2.0-liter engine under the hood and three electric motors, the Gemera has 1,700 horsepower and will hit 60 in just 1.9 seconds. The company only plans to build 300 of them, each one costing at least $1.7 million.\\nZenvo TSR-S\\n\\n \\n \\n \\n \\n \\n \\n \\n \\n \\n \\n \\n\\nPrice: $1.7 Million\\nHailing from Denmark, the Zenvo TSR-S debuted in 2018 at the Geneva Motor Show as the most extreme option in the supercar startup\\u2019s repertoire. Boasting a twin-charged 5.8-liter V8 engine, the TSR-S produces 1,177 horsepower and will hit 62 miles per hour in just 2.8 seconds. Expect to pay at least $1.7 million to get your hands on this powerful and limited supercar.\\nHennessey Venom F5\\n\\n \\n \\n \\n \\n \\n \\n \\n \\n \\n \\n \\n\\nPrice: $1.8 Million\\nThe Hennessey Venom GT was a record-breaker, topping out at 265.7 miles per hour in a world record run. But the new F5 plans to beat its predecessor with an estimated top speed of 311 mph, and with that comes a higher price, too. The Venom F5 starts at $1.8 million, according to the company, which makes it just a bit pricier than its $1.2-million predecessor.\\nBentley Bacalar\\n\\n \\n \\n \\n \\n \\n \\n \\n \\n \\n \\n \\n\\nPrice: $1.9 Million\\nWith just 12 total units produced, the Bentley Bacalar makes some of the \\\"limited\\\" cars on this list look plentiful by comparison. Although the car\\u2019s opulent design may be the first thing to grab your attention, the Bacalar is no slouch in terms of performance either. With Bentley\\u2019s signature turbocharged 6.0-liter W12 turbocharged engine, this car delivers 650 horsepower and 664 pound-feet. If you have a spare $1.9 million lying around and are considering buying one, you\\u2019re already too late \\u2013 Bentley says that every example is now in customer hands.\\nHispano Suiza Carmen Boulogne\\n\\n \\n \\n \\n \\n \\n \\n \\n \\n \\n \\n \\n\\nPrice: $1.9 Million\\nTo call the Hispano Suiza Carmen Boulogne beautiful would be... a stretch. But this interesting-looking supercar made its US debut at this year's Amelia Island Concours d'Elegance boasting a 1,114-horsepower electric powertrain and a 0-60 time of 2.6 seconds. The Boulogne version pictured here \\u2013 the lighter and more powerful of the two \\u2013 costs close to $1.9 million.\\nBentley Mulliner Batur\\n\\n \\n \\n \\n \\n \\n \\n \\n \\n \\n \\n \\n\\nPrice: $2.0 Million\\nThe electric onslaught is coming. Bentley says it will be a fully electric automaker by 2030. But before the luxury brand transitions to battery power fully, the Mulliner Batur helps send the iconic W12 engine off in style. With 710 horsepower from that twin-turbocharged engine, the Batur is the most powerful Bentley ever. And since it's limited to just 18 examples globally, the Batur costs a whopping $2.0 million.\\nDeus Vayanne\\n\\n \\n \\n \\n \\n \\n \\n \\n \\n \\n \\n \\n\\nPrice: $2.0 Million\\nThe Deus Vayanne may not be a household name (yet), but the all-electric hypercar debuted earlier this year with 2,200 horsepower, a 0-60 time of just under 2.0 seconds, and an estimated top speed of 248 miles per hour. Deus plans to build 99 examples of the Vayanne, with the first few examples scheduled to go on sale in 2025.\\nSSC Tuatara\\n\\n \\n \\n \\n \\n \\n \\n \\n \\n \\n \\n \\n\\nPrice: $2.0 Million*\\nAlthough initially cloaked in controversy, SSC did manage to hit 282.9 miles per hour with its Tuatara hypercar, breaking a world record. But not only is the Tuatara one of the fastest vehicles on the planet, it\\u2019s also one of the priciest. The cost for all that speed is estimated to be around $2.0 million for the base Tuatara, limited to just 100 units worldwide.\\nLotus Evija\\n\\n \\n \\n \\n \\n \\n \\n \\n \\n \\n \\n \\n\\nPrice: $2.1 Million\\nWith a new Emira sports car and an Eletre electric SUV, Lotus is on the brink of a comeback. The automaker plans to roll out a number of new products within the next few years, with part of that strategy including the range-topping Evija. This supercar comes in at a cool $2.1 million and produces nearly 2,000 horsepower via four electric motors. Lotus plans to build just 130 road-going examples of the Evija.\\nAston Martin Vulcan\\n\\n \\n \\n \\n \\n \\n \\n \\n \\n \\n \\n \\n\\nPrice: $2.3 Million\\nAs with a few other cars on this list, the Aston Martin Vulcan was a track-only special. The British supercar made its world debut in 2015, powered by a naturally aspirated 7.0-liter V12 that produced 820 horsepower, and limited to just 24 examples worldwide. An even more track-focused AMR Pro model followed, but even the base Vulcan was a pricey commodity, costing about $2.4-million from the factory.\\nDelage D12\\n\\n \\n \\n \\n \\n \\n \\n \\n \\n \\n \\n \\n\\nPrice: $2.3 Million\\nYou may have heard of Delage before. In the early 1900s, this French automaker was competing on the track with Bugatti and Ferrari. Now Delage is back and with a beautiful new hypercar dubbed the D12. Powered by a 7.6-liter V12 engine, the new D12 produces upwards of 1,010 horsepower and costs a cool $2.3 million.\\nMcLaren Speedtail\\n\\n \\n \\n \\n \\n \\n \\n \\n \\n \\n \\n \\n\\nPrice: $2.3 Million\\nWhat would you pay for the fastest production McLaren ever? Well, at least $2.3 million. With 1,035 horsepower courtesy of a gasoline-electric hybrid V8 powertrain, the Speedtail tops out at 250 miles per hour and is able to reach 186 mph in just 12.8 seconds \\u2013 2.7 seconds faster than the P1. Unfortunately, if you didn't get your hands on one new in 2020, you'll have to shell out serious cash on the used market. McLaren only built 106 examples.\\nRimac Nevera\\n\\n \\n \\n \\n \\n \\n \\n \\n \\n \\n \\n \\n\\nPrice: $2.4 Million\\nThe Rimac Nevera takes the title of most expensive EV with its $2.4 million price tag \\u2013 but only by a few hundred thousand dollars over the next priciest electric supercar. Packing 1,914 horsepower and 1,740 pound-feet of torque, the Nevera can hit 60 in under 2.0 seconds and will continue on to a top speed of 258 miles per hour. Those lucky enough to order one should see it in their driveway before the end of 2022.\\nPagani Utopia\\n\\n \\n \\n \\n \\n \\n \\n \\n \\n \\n \\n \\n\\nPrice: $2.5 Million\\nFirst came the Zonda, then the Huayra, and now the Pagani Utopia. With 852 horsepower and an available seven-speed manual gearbox, the Utopia is the most powerful road-going Pagani ever produced and it\\u2019s limited to just 99 examples worldwide. The cost for one is a cool $2.5 million.\\nPininfarina Battista\\n\\n \\n \\n \\n \\n \\n \\n \\n \\n \\n \\n \\n\\nPrice: $2.5 Million\\nAptly named after the company\\u2019s founder, Battista Farina, the Pininfarina Battista delivers the kind of performance (and price!) to make its namesake proud. Revealed at the 2019 Geneva Motor Show, the Battista is completely electric, putting out 1,827 horsepower. If a normal supercar\\u2019s 0 to 60 time sounds too leisurely for you, the company says that the Battista will take you there in under 2.0 seconds. Pininfarina plans on building 150 examples of the Battista, costing $2.5 million each.\\nFerrari FXX K Evo\\n\\n \\n \\n \\n \\n \\n \\n \\n \\n \\n \\n \\n\\nPrice: $2.6 Million\\nSure, you could buy a normal LaFerrari (which also makes the list further down), but why settle for a supercar so mundane when you can take home this track-only version instead? Granted, the Ferrari FXX K Evo came out in 2017, and it's well past the point of being sold out. But when it was new, this 1,036-horsepower Ferrari tore up the track with its naturally aspirated V12 and aggressive aerodynamics.\\nGordon Murray T.50\\n\\n \\n \\n \\n \\n \\n \\n \\n \\n \\n \\n \\n\\nPrice: $2.6 Million\\nIf the name Gordon Murray sounds familiar, it\\u2019s because he's the man behind the design of the iconic McLaren F1. These days, Mr. Murray has his own supercar venture, and the handsome T.50 is the crown jewel of the lineup. At $2.6 million, the T.50 packs a naturally aspirated 4.0-liter V12 that makes 654 horsepower. The car itself weighs a mere 2,174 pounds, and at 392 pounds, the T.50 has the lightest V12 on the road today.\\nLamborghini Countach\\n\\n \\n \\n \\n \\n \\n \\n \\n \\n \\n \\n \\n\\nPrice: $2.6 Million\\nThe name Countach may be iconic, but is it worth $2.6 million? That's what Lamborghini hopes you will spend on its new Aventador-based model. Debuting in August of 2021, the Countach LPI 800-4 has a 6.5-liter V12 with a light hybrid assist that gives it a whopping 803 horsepower, allowing for a 60 time of 2.8 seconds and a top speed of more than 220 miles per hour.\\nMercedes-AMG Project One\\n\\n \\n \\n \\n \\n \\n \\n \\n \\n \\n \\n \\n\\nPrice: $2.7 Million\\nMercedes has promised a production version of the Project One hypercar for quite a while now. The first official announcement was in March of 2017 before the first concept debuted later that same year. But after nearly five years of teasing, it appears as if the Project One will finally hit public roads. And when it does, the hybrid hypercar will have over 1,200 horsepower (895 kilowatts) and a price tag of $2.7 million.\\nAston Martin Victor\\n\\n \\n \\n \\n \\n \\n \\n \\n \\n \\n \\n \\n\\nPrice: $3.0 Million\\nThe folks at Aston Martin know a thing or two about exclusive vehicles, and the Victor might be the most exclusive project for the British brand to date. Based on the One-77 platform, the Victor uses parts from several donor Astons including the track project Vulcan and the upcoming Valkyrie. And talking about limited production \\u2013 the Victor is one-of-one and rumored to cost nearly $3 million.\\nHennessey Venom F5 Roadster\\n\\n \\n \\n \\n \\n \\n \\n \\n \\n \\n \\n \\n\\n$3.0 Million\\nThe same Hennessey Venom F5 hypercar we all know and love, but with less roof. The F5 Roadster has the same twin-turbocharged 6.6-liter V8 as the coupe, producing the same 1,817 horsepower and 1,193 pound-feet of torque. Hennessey estimates a top speed of over 300 miles per hour, but if you want one, it will cost you at least $3.0 million.\\nKoenigsegg Jesko\\n\\n \\n \\n \\n \\n \\n \\n \\n \\n \\n \\n \\n\\nPrice: $3.0 Million\\nThe Koenigsegg Jesko, apart from being the fastest car the company has made to date, is also the most expensive. At $3.0 million out of the box, the handsome hypercar has 1,600-horsepower courtesy of the brand's ubiquitous twin-turbocharged 5.0-liter V8 engine. Opt for the Absolut model, and the Jesko, in theory, will be able to hit 300 miles per hour.\\nAston Martin Valkyrie\\n\\n \\n \\n \\n \\n \\n \\n \\n \\n \\n \\n \\n\\nPrice: $3.2 Million\\nThe upcoming Aston Martin hybrid hypercar hasn\\u2019t even hit the market yet, but already the $3.2 million Valkyrie has sold out. For what it\\u2019s worth, Aston Martin hasn\\u2019t officially released pricing. Estimates suggest the hypercar could go for anywhere between $2.6 and $3.9 million \\u2013 but $3.2 million seems to be the magic number. Whatever the case, this machine is impressive. Its Cosworth-sourced 6.5-liter V12 produces 1,160 horsepower (865 kilowatts) and 664 pound-feet (900 Newton-meters) of torque, meaning its top speed should be well over 200 miles per hour (321 kilometers per hour). The company will build just 150 examples of the standard Valkyrie, with a limited 25-run AMR model arriving later.\\nW Motors Lykan Hypersport\\n\\n \\n \\n \\n \\n \\n \\n \\n \\n \\n \\n \\n\\nPrice: $3.4 Million\\nDubai-based W Motors shocked the world with its edgy Lykan Hypersport supercar in 2013. With titanium LED headlights housing 420 15-carat diamonds and a holographic display in the center console, it's no surprise it was the third most expensive car ever when new. It falls to number six on our list here, but it's still a wild hypercar with a powerful heart; the twin-turbocharged 3.7-liter six-cylinder engine underhood produces 780 horsepower (581 kilowatts) and 708 (960 Newton-meters) of torque.\\nMcLaren Solus\\n\\n \\n \\n \\n \\n \\n \\n \\n \\n \\n \\n \\n\\n$3.5 Million\\nOne seat, 829 horsepower, and a top speed of over 200 miles per hour. The new McLaren Solus is about as close as you can get to a Formula 1 car from the factory, powered by a naturally aspirated 5.2-liter V10 engine with a 0-62 mile-per-hour time of just 2.5 seconds. Estimates suggest a McLaren Solus will set you back about $3.5 million.\\nPagani Huayra Roadster BC\\n\\n \\n \\n \\n \\n \\n \\n \\n \\n \\n \\n \\n\\nPrice: $3.5 Million\\nFollowing Pagani\\u2019s past playbook, a roadster version of the ferocious Huayra BC was inevitable. Last year, the company made it official by showing off the Huayra Roadster BC, a topless monster with 800 horsepower (597 kilowatts) and 774 lb-ft of torque (1049 Newton-meters). Somewhat surprisingly, Pagani gave the roadster 50 more horsepower than its coupe sibling, by cranking up its AMG-sourced twin-turbocharged 6.0-liter V12. In addition to the joy of hearing the glorious engine note without a roof in the way, owners should take comfort in knowing that their car is ultra-rare. Pagani is limiting production to just 40 units, each with a sticker price of $3.5 million.\\nBugatti Chiron Pur Sport\\n\\n \\n \\n \\n \\n \\n \\n \\n \\n \\n \\n \\n\\nPrice: $3.6 Million\\nAnother showstopper from the Geneva Motor Show that never was, the Bugatti Chiron Pur Sport is a special edition Chiron with a focus on aerodynamics, weight reduction, and power distribution. It\\u2019s the same 8.0-liter quad-turbo W16 engine underneath the skin but it\\u2019s now mated to a recalibrated automatic gearbox. While the peak output remains unchanged at 1,500 horsepower (1,103 kilowatts), the rpm redline has been set 200 rpm higher, up to 6,900 rpm. The Pur Sport also features slightly revised bodywork, with a bigger rear wing and more aerodynamic front fascia. Beginning production in late 2020, the Bugatti starts at $3.6 million.\\nLamborghini Sian\\n\\n \\n \\n \\n \\n \\n \\n \\n \\n \\n \\n \\n\\nPrice: $3.6 million\\nIn several ways, the Sian represents a bridge to Lamborghini\\u2019s future. Though it\\u2019s based on the Aventador SVJ, this wild-looking Lambo is the brand\\u2019s first production electrified offering. In addition to the SVJ-sourced 6.5-liter V12, the Sian uses a 48-volt mild-hybrid system. Total system output is 819 horsepower (611 kilowatts), which also makes it the most powerful Lamborghini ever. As confirmed by the 63 stuck on either side of the Sian\\u2019s wing, Lamborghini will produce just 63 units. And each will cost far more than the Aventador SVJ, carrying a price of $3.6 million.\\nKoenigsegg CC850\\n\\n \\n \\n \\n \\n \\n \\n \\n \\n \\n \\n \\n\\nPrice: $3.7 Million\\nThe Koenigsegg CC850 was a surprise to be sure, but a welcomed one. Borrowing the twin-turbocharged 5.0-liter V8 from the Jesko, it notches that output up to 1,385 horsepower and 1,022 pound-feet of torque, with a so-called \\u201cTWMPAFMPC\\u201d transmission that shifts (pun intended) between manual and automatic functions. Of course, all that performance technology will cost you; the CC850 starts at $3.7 million.\\nBugatti Chiron Super Sport 300+\\n\\n \\n \\n \\n \\n \\n \\n \\n \\n \\n \\n \\n\\nPrice: $3.9 Million\\nEarlier this year, Bugatti captured the collective attention of the automotive world by announcing that it broke the 300 miles per hour barrier with a modified version of the Chiron. The Super Sport 300 + is a road-going version of that car, meant to celebrate the occasion. Limited to just 30 units, the Super Sport 300+ is a beautiful version of the Chiron, with flowing, slippery bodywork and a sweet stripe motif. Despite having hit 304.8 mph on the track with a production vehicle, Bugatti does limit its Chiron 300+ to 273 mph in top speed mode.\\nLamborghini Veneno\\n\\n \\n \\n \\n \\n \\n \\n \\n \\n \\n \\n \\n\\nPrice: $4.5 Million\\nLamborghini built just 14 examples of the Aventador-based Veneno between 2014 and 2015. Each one cost around $4.5 million, depending on how it was spec'd, and was available in both convertible and coupe configurations. Underhood Lamborghini fitted a more-powerful iteration of the Aventador's 6.5-liter V12, now producing 740 horsepower (552 kilowatts) and 509 pound-feet (609 Newton-meters) of torque, which gave it the ability to sprint to 60 miles per hour (96 kilometers per hour) in a blistering 2.9 seconds. To date, it\\u2019s the most expensive new Lamborghini ever.\\nBugatti Bolide\\n\\n \\n \\n \\n \\n \\n \\n \\n \\n \\n \\n \\n\\nPrice: $4.7 Million\\nProduced in extremely limited numbers atop the body of a Chiron, it's no wonder Bugatti's one-of-40 Bolide track car is this pricey. At $4.7 million, the 1,824-horsepower hypercar has more power than the Chiron Super Sport 300+, and more extreme bodywork that allow it to lap tracks like the Nurburgring in record time (in theory). Bugatti says the Bolide would be able to conquer the \\u2018Ring in record time.\\nBugatti Mistral\\n\\n \\n \\n \\n \\n \\n \\n \\n \\n \\n \\n \\n\\nPrice: $5.0 Million\\nThe Bugatti Mistral sends the iconic W16 engine off in style. With 1,577 horsepower and no roof, the Mistral takes the best bits of the Chiron and borrows elements from the Bolide and Divo to create a truly unique roadster. Of course, Bugatti plans to build just 99 examples of the Mistral at the cost of around $5.0 million in the US \\u2013 and all of them are already accounted for.\\nPagani Huayra Imola\\n\\n \\n \\n \\n \\n \\n \\n \\n \\n \\n \\n \\n\\nPrice: $5.4 Million\\nEven though the new Utopia marks the next big step for Pagani, the Huayra Imola packs nearly as much power with a twin-turbocharged 6.0-liter V12 engine producing 827 horsepower and 811 pound-feet of torque. The Huayra Imola is estimated to cost around $5.4 million new, which would make it the second most expensive Pagani of all time.\\nBugatti Divo\\n\\n \\n \\n \\n \\n \\n \\n \\n \\n \\n \\n \\n\\nPrice: $5.8 Million\\nAmong Bugatti\\u2019s recently debuted vehicles, the Divo is a staff favorite. Though it shares much in common with its cheaper (!) sibling the Chiron, the Divo has a lot going for it to justify the extra money. By adding lighter wheels, a carbon fiber intercooler and removing some sound deadening, Bugatti made the Divo 77 pounds lighter than the Chiron. Though power is unchanged from the Chiron\\u2019s 1,500 ponies (1,119 kilowatts), The Divo features a different aerodynamic setup, which makes it 8 seconds quicker around the Nardo test track. Finally, the moment you\\u2019ve been waiting for: Bugatti is making 40 examples of the car, each costing $5.8 million.\\nSP Automotive Chaos\\n\\n \\n \\n \\n \\n \\n \\n \\n \\n \\n \\n \\n\\nPrice: $6.4 Million\\nSP Automotive (short for Spyros Panopoulos) is a new name in the world of hypercars, but the brand's 2,000-horsepower, $6.4-million, aptly named Chaos has already made an impact. With a twin-turbocharged 4.0-liter V10, the base SP Automotive Chaos is one of the most expensive cars on this list \\u2013 beating out many Lambos and Bugattis \\u2013 but there's an even pricier version of this car that costs an eye-watering $14.4 million. That version reportedly packs 3,000 hp.\\nPagani Codalunga\\n\\n \\n \\n \\n \\n \\n \\n \\n \\n \\n \\n \\n\\nPrice: $7.4 Million\\nThe long list of pricey (new) Paganis ends with the Codualunga. Inspired by 1960s Italian coachbuilding, the stunning exterior and steampunk-esque interior \\u2013 while equally stunning \\u2013 are only part of what makes this Pagani so pricey. Under the hood is a twin-turbocharged 6.0-liter V12 producing 829 horsepower and 809 pound-feet of torque, paired to a seven-speed sequential transmission for a real race-car\\u2013like feel. The cost for this one-of-five Pagani is $7.4 million.\\nMercedes-Maybach Exelero\\n\\n \\n \\n \\n \\n \\n \\n \\n \\n \\n \\n \\n\\nPrice: $8.0 Million\\nLike many others before it, the Mercedes-Benz Maybach Exelero is a one-off. Commissioned by Fulda, a German subsidiary of Goodyear, to test its new tires, the Exlero debuted in 2004. Mercedes built the Exelero on the bones of a Maybach, and gave it the same twin-turbo V12 engine producing 690 horsepower (510 kilowatts) and 752 pound-feet (1,020 Newton-meters) of torque. Top speed is listed at 218 miles per hour (350 kilometers per hour) and adjusted for inflation, the Exelero would cost more than $10 million in today's money.\\nBugatti Centodieci\\n\\n \\n \\n \\n \\n \\n \\n \\n \\n \\n \\n \\n\\nPrice: $9.0 Million\\nBugatti debuted the Centodieci at last year\\u2019s Pebble Beach car week, showing off yet another ultra-rare, super-expensive model to the world. Limited to just 10 \\u2013 dieci \\u2013 units, the car is a modern throwback to the Bugatti EB110. At the same time, it\\u2019s meant to celebrate Bugatti\\u2019s momentous 110-year anniversary. Its unique styling cues won\\u2019t make everyone fall in love, but at least you won\\u2019t have to worry about seeing another one on the road. Carrying a price just shy of $9 million, the Centodiece is one of the most exclusive cars ever made.\\nBugatti Chiron Profil\\u00e9e\\n\\n \\n \\n \\n \\n \\n \\n \\n \\n \\n \\n \\n\\nPrice: $10.8 Million\\nWhile it may not look that different from a normal Chiron, the Profil\\u00e9e is quite literally one-of-a-kind. Bugatti built it initially as a test for a limited run of Profil\\u00e9e models, but this Chiron ended up being the only example. Boasting the same 1,476-horsepower quad-turbocharged W16 engine ubiquitous throughout the Chiron range, the Profil\\u00e9e has unique bodywork and a custom spoiler that helps separate it from the rest of the range.\\nRolls-Royce Sweptail\\n\\n \\n \\n \\n \\n \\n \\n \\n \\n \\n \\n \\n\\nPrice: $12.8 Million\\nRolls-Royce, expectedly, takes two of the top three spots on this list, with the stunning Sweptail one-off from 2017 coming in at number three. With a monumental price tag of $13.0 million, it was, at the time of its debut, the most expensive new car ever. It's been outpriced since then, but the 453-horsepower luxury car is still a jaw-dropper.\\nBugatti La Voiture Noire\\n\\n \\n \\n \\n \\n \\n \\n \\n \\n \\n \\n \\n\\nPrice: $13.4 Million\\nWith a price tag of $13.4 million, the one-off Bugatti La Voiture Noire is officially the most expensive new Bugatti ever made. And understandably so. A modern interpretation of Jean Bugatti's personal Type 57 SC Atlantic, the La Voiture Noire uses the same quad-turbocharged 8.0-liter W16 engine as the Chiron, producing 1,479 horsepower. It has six \\u2013 that's right, six exhaust tips, radical new wheels, an aggressive, bespoke fascia, and a gigantic light-up badge in the rear that spells out the name of the brand. Of course, this one-of-one Bugatti already has a home.\\nRolls-Royce Boat Tail*\\n\\n \\n \\n \\n \\n \\n \\n \\n \\n \\n \\n \\n\\nPrice: $28.0 Million (est.)\\nRolls-Royce is back in the business of coachbuilding with the gorgeous new Boat Tail. A successor to the stunning Sweptail from 2017 \\u2013 which itself cost a reported $12.8 million \\u2013 the Boat Tail has a unique two-tone exterior, custom high-end finishes inside, and even a \\\"hosting suite\\\" complete with a champagne fridge and built-in sun umbrella. Although Rolls-Royce doesn\\u2019t officially announce pricing for one-off builds such as this, rumor has it that the Boat Tail cost a whopping $28.0 million new.\\n\\nFAQs\\n\\nWhat Is The Most Expensive Car In The World?\\nThe most expensive car in the world \\u2013\\u00a0officially \\u2013\\u00a0is the Bugatti La Voiture Noire. With a price tag of $18.7 million after taxes, the one-off Bugatti La Voiture Noire is officially the priciest new car ever.\\n\\n\\nWhat Is The Most Expensive Car Ever Sold?\\nThe most expensive car ever sold is a 1962 Ferrari 250 GTO that sold at an RM Sotheby\\u2019s auction for $48.4 million in 2018. Prior to that, a separate 250 GTO sold at a Bonham\\u2019s auction in 2014 for $38.1 million.\\n\\n\\nWhat Is The Most Valuable Car Brand?\\n\\nAs of 2022, Tesla is still the world\\u2019s most valuable car brand with a valuation of $694 billion. Toyota, at second, has a valuation of $216 billion but outsells Tesla by a significant margin globally.\\n\\n\\n\\nMost Expensive Cars In The World\\n\\nDrako GTE - $1.2 Million\\nDeTomaso P72: $1.3 Million\\nFerrari LaFerrari - $1.4 Million\\nPagani Huayra - $1.4 Million\\nCzinger 21C - $1.7 Million\\nFerrari Monza - $1.7 Million\\nGordon Murray T.33 - $1.7 Million\\nKoenigsegg Gemera - $1.7 Million\\nMcLaren Elva - $1.7 Million\\nZenvo\\u00a0TSR-S - $1.7 Million\\nHennessey Venom F5 - $1.8 Million\\nBentley Bacalar - $1.9 Million\\nHispano Suiza Carmen Boulogne: $1.9 Million\\nBentley Mulliner Batur: $2.0 Million\\nDeus Vayanne: $2.0 Million\\nSSC Tuatara - $2.0 Million*\\nLotus Evija - $2.1 Million\\nAston Martin Vulcan - $2.3 Million\\nDelage D12: $2.3 Million\\nMcLaren Speedtail - $2.3 Million\\nRimac Nevera - $2.4 Million\\nPagani Utopia: $2.5 Million\\nPininfarina Battista - $2.5 Million\\nFerrari FXX K Evo - $2.6 Million\\nGordon Murray T.50 - $2.6 Million\\nLamborghini Countach - $2.6 Million\\nMercedes-AMG Project One - $2.7 Million\\nAston Martin Victor - $3.0 Million\\nHennessey Venom F5 Roadster: $3.0 Million\\nKoenigsegg Jesko - $3.0 Million\\nAston Martin Valkyrie - $3.2 Million\\nW Motors Lykan Hypersport - $3.4 Million\\nMcLaren Solus: $3.5 Million\\nPagani Huayra Roadster BC - $3.5 Million\\nBugatti Chiron Pur Sport - $3.6 Million\\nLamborghini Sian - $3.6 million\\nKoenigsegg CC850: $3.7 Million\\nBugatti Chiron Super Sport 300+ - $3.9 Million\\nLamborghini Veneno - $4.5 Million\\nBugatti Bolide - $4.7 Million\\nBugatti Mistral: $5.0 Million\\nPagani Huayra Imola: $5.4 Million\\nBugatti Divo - $5.8 Million\\nSP Automotive Chaos - $6.4 Million\\nPagani Codalunga: $7.4 Million\\nMercedes-Maybach Exelero - $8.0 Million\\nBugatti Centodieci - $9.0 Million\\nRolls-Royce Sweptail - $12.8 Million\\nBugatti La Voiture Noire - $13.4 Million\\nRolls-Royce Boat Tail - $28.0 Million*\\n\",\"about\":\"Valkyrie\",\"mainEntityOfPage\":{\"@type\":\"WebPage\",\"url\":\"https:\\/\\/www.motor1.com\\/features\\/308149\\/most-expensive-new-cars-ever\\/\"},\"wordCount\":\"4781\"} </script> <script type=\"application/ld+json\"> {\"@context\":\"https:\\/\\/schema.org\",\"@type\":\"FAQPage\",\"mainEntity\":[{\"@type\":\"Question\",\"name\":\"What Is The Most Expensive Car In The World?\",\"acceptedAnswer\":{\"@type\":\"Answer\",\"text\":\"The most expensive car in the world \\u2013\\u00a0officially \\u2013\\u00a0is the Bugatti La Voiture Noire. With a price tag of $18.7 million after taxes, the one-off Bugatti La Voiture Noire is officially the priciest new car ever.\"}},{\"@type\":\"Question\",\"name\":\"What Is The Most Expensive Car Ever Sold?\",\"acceptedAnswer\":{\"@type\":\"Answer\",\"text\":\"The most expensive car ever sold is a 1962 Ferrari 250 GTO that sold at an RM Sotheby\\u2019s auction for $48.4 million in 2018. Prior to that, a separate 250 GTO sold at a Bonham\\u2019s auction in 2014 for $38.1 million.\"}},{\"@type\":\"Question\",\"name\":\"What Is The Most Valuable Car Brand?\",\"acceptedAnswer\":{\"@type\":\"Answer\",\"text\":\"\\n<p>As of 2022, Tesla is still the world\\u2019s most valuable car brand with a valuation of $694 billion. Toyota, at second, has a valuation of $216 billion but outsells Tesla by a significant margin globally.<\\/p>\\n\"}}]} </script> <script type=\"application/ld+json\"> {\"@context\":\"https:\\/\\/schema.org\\/\",\"@type\":\"WebPage\",\"name\":\"50 Most Expensive Cars In The World\",\"speakable\":{\"@type\":\"SpeakableSpecification\",\"xpath\":[\"\\/html\\/head\\/title\",\"\\/html\\/head\\/meta[@name='speakable-description']\\/@content\"]},\"url\":\"https:\\/\\/www.motor1.com\\/features\\/308149\\/most-expensive-new-cars-ever\\/\"} </script> <script type=\"application/ld+json\"> {\"@context\":\"https:\\/\\/schema.org\",\"@type\":\"BreadcrumbList\",\"itemListElement\":[{\"@type\":\"ListItem\",\"position\":1,\"name\":\"Home\",\"item\":\"https:\\/\\/www.motor1.com\\/\"},{\"@type\":\"ListItem\",\"position\":2,\"name\":\"Features\",\"item\":\"https:\\/\\/www.motor1.com\\/features\\/\"}]} </script> <link as=\"image\" fetchpriority=\"high\" href=\"https://cdn.motor1.com/images/mgl/mMxknA/s3/most-expensive-cars-in-the-world.webp\" imagesizes=\"(max-width: 1024px) 100vw, 1024px\" imagesrcset=\" https://cdn.motor1.com/images/mgl/mMxknA/s5/most-expensive-cars-in-the-world.webp 213w, https://cdn.motor1.com/images/mgl/mMxknA/s6/most-expensive-cars-in-the-world.webp 445w, https://cdn.motor1.com/images/mgl/mMxknA/s4/most-expensive-cars-in-the-world.webp 889w, https://cdn.motor1.com/images/mgl/mMxknA/s3/most-expensive-cars-in-the-world.webp 1280w, https://cdn.motor1.com/images/mgl/mMxknA/s2/most-expensive-cars-in-the-world.webp 1440w, https://cdn.motor1.com/images/mgl/mMxknA/s1/most-expensive-cars-in-the-world.webp 1920w \" rel=\"preload\"/> <script> window.polymerLocale = 'en-US'; window.polymerLocalePath = 'https://cdn.motor1.com/kp/static4ui/prod_v2_eks_new_58/polymer2/locales1680172854/en-US.json'; var jsVars = {\"services\":{\"brealtime\":{\"load\":0,\"id\":\"12851701\"}},\"ads\":{\"dfp\":{\"id\":\"6122441\"}},\"ui\":{\"auto_infinite_scroll\":true}}; </script> <link href=\"/rss/news/all/\" rel=\"alternate\" title=\"Latest news\" type=\"application/rss+xml\"/> <link href=\"/rss/videos/all/\" rel=\"alternate\" title=\"Latest videos\" type=\"application/rss+xml\"/> <link href=\"https://www.motor1.com/rss/google/\" rel=\"alternate\" type=\"application/rss+xml\"/> <link href=\"https://www.motor1.com/rss/google/features/\" rel=\"alternate\" type=\"application/rss+xml\"/> <script> function listenMediaPrefersColorChangeGlobal(){ if (window.prefersDarkScheme.matches) { window.htmlElement.dataset.colorScheme = 'dark'; } else { window.htmlElement.dataset.colorScheme = 'light'; } } window.suggestedColorScheme = localStorage.getItem('colorScheme'); window.htmlElement = document.querySelector('html'); window.prefersDarkScheme = window.matchMedia('(prefers-color-scheme: dark)'); if (!window.suggestedColorScheme || window.suggestedColorScheme == 'auto') { localStorage.setItem('colorScheme', 'auto'); if (window.prefersDarkScheme.matches) { window.htmlElement.dataset.colorScheme = 'dark'; } else { window.htmlElement.dataset.colorScheme = 'light'; } window.prefersDarkScheme.addEventListener('change', listenMediaPrefersColorChangeGlobal); } else { window.htmlElement.dataset.colorScheme = window.suggestedColorScheme; } </script> <script> let bundleRange = ` <link rel=\"stylesheet\" type=\"text/css\" href=\"https://cdn.motor1.com/kp/static4ui/prod_v2_eks_new_58/design/dist/css/0_904d996bd5898dc5262d.css\"><link rel=\"stylesheet\" type=\"text/css\" href=\"https://cdn.motor1.com/kp/static4ui/prod_v2_eks_new_58/design/dist/css/1_904d996bd5898dc5262d.css\"><link rel=\"stylesheet\" type=\"text/css\" href=\"https://cdn.motor1.com/kp/static4ui/prod_v2_eks_new_58/design/dist/css/3_904d996bd5898dc5262d.css\"><link rel=\"stylesheet\" type=\"text/css\" href=\"https://cdn.motor1.com/kp/static4ui/prod_v2_eks_new_58/design/dist/css/4_904d996bd5898dc5262d.css\"><link rel=\"stylesheet\" type=\"text/css\" href=\"https://cdn.motor1.com/kp/static4ui/prod_v2_eks_new_58/design/dist/css/6_904d996bd5898dc5262d.css\"><link rel=\"stylesheet\" type=\"text/css\" href=\"https://cdn.motor1.com/kp/static4ui/prod_v2_eks_new_58/design/dist/css/8_904d996bd5898dc5262d.css\"><link rel=\"stylesheet\" type=\"text/css\" href=\"https://cdn.motor1.com/kp/static4ui/prod_v2_eks_new_58/design/dist/css/7_904d996bd5898dc5262d.css\"><link rel=\"stylesheet\" type=\"text/css\" href=\"https://cdn.motor1.com/kp/static4ui/prod_v2_eks_new_58/design/dist/css/12_904d996bd5898dc5262d.css\"><link rel=\"stylesheet\" type=\"text/css\" href=\"https://cdn.motor1.com/kp/static4ui/prod_v2_eks_new_58/design/dist/css/13_904d996bd5898dc5262d.css\"><link rel=\"stylesheet\" type=\"text/css\" href=\"https://cdn.motor1.com/kp/static4ui/prod_v2_eks_new_58/design/dist/css/15_904d996bd5898dc5262d.css\"><link rel=\"stylesheet\" type=\"text/css\" href=\"https://cdn.motor1.com/kp/static4ui/prod_v2_eks_new_58/design/dist/css/14_904d996bd5898dc5262d.css\"><link rel=\"stylesheet\" type=\"text/css\" href=\"https://cdn.motor1.com/kp/static4ui/prod_v2_eks_new_58/design/dist/css/20_904d996bd5898dc5262d.css\"><link rel=\"stylesheet\" type=\"text/css\" href=\"https://cdn.motor1.com/kp/static4ui/prod_v2_eks_new_58/design/dist/css/25_904d996bd5898dc5262d.css\"> `; document.addEventListener('DOMContentLoaded', (event) => { $('head').append(bundleRange); }); </script> <script> window.isAuthorized = 0 </script> </head> <body class=\"nojs not-touch m1-skin-layout bgWhite lightHeader hangingHeader no-lazyload-banner\" data-edtn=\"us\" data-rtl=\"false\" data-spotim-id=\"\" data-track-url=\"\"> <div class=\"hiddenBlock\"> <div class=\"m1_OOP\"></div></div> <div class=\"root\" data-role=\"page\" id=\"page_index_articles_detail\"> <div id=\"layout_header_spacer\"></div> <div class=\"m1-header-main\"> <div class=\"m1-header-main-box\"> <div class=\"m1-header-main-box-wrapper\"> <div class=\"box-item-left\"> <div class=\"m1-hamburger-button\" data-button=\"\" data-clear=\"2\" data-close-delay=\"0.5\" data-delay=\"0.01\" data-hide-scroll=\"m1-left-side-box\" data-id=\"mainMenuToggle\" data-multi=\"\" data-value=\"mainMenu\" onclick=\"\" tabindex=\"0\"> <span></span> <span></span> <span></span> </div> </div> <div class=\"wrapper-box-item-center\"> <div class=\"box-item-center\"> <a class=\"m1-header-logo\" href=\"/\" title=\"Home\"> <svg fill=\"none\" height=\"40\" viewbox=\"0 0 200 40\" width=\"200\" xmlns=\"http://www.w3.org/2000/svg\"> <path d=\"M161.523 19.904C160.354 18.752 158.797 18.128 157.142 18.128C155.487 18.128 153.929 18.752 152.761 19.904C151.593 21.056 150.96 22.592 150.96 24.224C150.96 25.856 151.593 27.392 152.761 28.544C153.929 29.696 155.487 30.32 157.142 30.32C158.797 30.32 160.354 29.696 161.523 28.544L159.065 26.12C158.554 26.624 157.872 26.912 157.142 26.912C156.412 26.912 155.73 26.624 155.219 26.12C154.173 25.088 154.173 23.384 155.219 22.352C155.73 21.848 156.412 21.56 157.142 21.56C157.872 21.56 158.554 21.848 159.065 22.352L161.523 19.904Z\" fill=\"white\"></path> <path d=\"M168.532 18.104C165.125 18.104 162.35 20.84 162.35 24.2C162.35 27.56 165.125 30.296 168.532 30.296C171.939 30.296 174.713 27.56 174.713 24.2C174.689 20.84 171.939 18.104 168.532 18.104ZM168.532 26.864C167.047 26.864 165.83 25.664 165.83 24.2C165.83 22.736 167.047 21.536 168.532 21.536C170.016 21.536 171.233 22.736 171.233 24.2C171.233 25.664 170.016 26.864 168.532 26.864Z\" fill=\"white\"></path> <path d=\"M188.464 18.104C187.15 18.104 185.957 18.584 185.032 19.4C184.132 18.608 182.915 18.104 181.601 18.104C178.753 18.104 176.441 20.384 176.441 23.192V30.152H179.897V23.192C179.897 22.28 180.652 21.536 181.577 21.536C182.501 21.536 183.256 22.28 183.256 23.192V30.152H186.712V23.192C186.712 22.28 187.466 21.536 188.391 21.536C189.316 21.536 190.07 22.28 190.07 23.192V30.152H193.526V23.192C193.624 20.384 191.312 18.104 188.464 18.104Z\" fill=\"white\"></path> <path d=\"M67.9699 11.168H63.9542V6.08002H58.454V30.08H63.9542V16.616H67.9699V11.168Z\" fill=\"white\"></path> <path d=\"M45.8228 10.952C40.42 10.952 36.0149 15.296 36.0149 20.624C36.0149 25.952 40.42 30.296 45.8228 30.296C51.2257 30.296 55.6308 25.952 55.6308 20.624C55.6308 15.296 51.2257 10.952 45.8228 10.952ZM45.8228 24.872C43.4621 24.872 41.5151 22.976 41.5151 20.624C41.5151 18.296 43.4378 16.376 45.8228 16.376C48.1836 16.376 50.1306 18.272 50.1306 20.624C50.1306 22.952 48.2079 24.872 45.8228 24.872Z\" fill=\"white\"></path> <path d=\"M79.5788 10.952C74.1759 10.952 69.7709 15.296 69.7709 20.624C69.7709 25.952 74.1759 30.296 79.5788 30.296C84.9817 30.296 89.3868 25.952 89.3868 20.624C89.3868 15.296 84.9817 10.952 79.5788 10.952ZM79.5788 24.872C77.2181 24.872 75.2711 22.976 75.2711 20.624C75.2711 18.296 77.1938 16.376 79.5788 16.376C81.9396 16.376 83.8865 18.272 83.8865 20.624C83.8865 22.952 81.9639 24.872 79.5788 24.872Z\" fill=\"white\"></path> <path d=\"M25.0145 10.952C22.9215 10.952 21.0231 11.72 19.5872 12.992C18.1513 11.72 16.253 10.952 14.16 10.952C9.63327 10.952 5.98267 14.576 5.98267 19.016V30.08H11.4829V19.016C11.4829 17.552 12.6754 16.376 14.16 16.376C15.6446 16.376 16.8371 17.552 16.8371 19.016V30.08H22.3374V19.016C22.3374 17.552 23.5299 16.376 25.0145 16.376C26.4991 16.376 27.6916 17.552 27.6916 19.016V30.08H33.1918V19.016C33.2162 14.552 29.5412 10.952 25.0145 10.952Z\" fill=\"white\"></path> <path d=\"M103.965 11.216V11.168H102.212C100.777 11.168 97.126 11.432 94.5706 13.832C93.013 15.296 92.2098 17.048 92.2098 19.352V30.08H97.7344V21.512C97.7831 19.28 98.9269 16.904 101.385 16.712C101.58 16.688 101.872 16.688 102.164 16.664C102.505 14.768 103.113 12.92 103.965 11.216Z\" fill=\"white\"></path> <path d=\"M145.752 24.152C144.998 23.12 143.829 22.568 142.637 22.568C142.564 22.568 142.467 22.592 142.393 22.592C141.712 22.64 141.006 22.856 140.398 23.288C138.889 24.368 138.402 26.336 139.181 27.944C139.278 28.16 139.4 28.352 139.546 28.544C140.203 29.432 141.177 29.96 142.199 30.08C142.345 30.104 142.491 30.104 142.661 30.104C143.44 30.104 144.219 29.864 144.9 29.384C146.58 28.184 146.969 25.856 145.752 24.152Z\" fill=\"white\"></path> <path d=\"M137.745 31.472C137.672 31.4 137.599 31.304 137.526 31.232C134.581 34.136 130.517 35.936 126.039 35.936C117.131 35.912 109.903 28.736 109.928 19.952C109.928 15.704 111.631 11.696 114.698 8.69598C117.131 6.31998 120.198 4.78398 123.532 4.25598C124.384 4.11198 125.26 4.06398 126.161 4.06398C130.468 4.08798 134.533 5.74398 137.575 8.76798C140.471 11.648 142.126 15.44 142.272 19.496C143.562 19.4 144.852 19.64 145.995 20.168C145.995 20.144 145.995 20.096 145.995 20.072C146.02 14.84 143.951 9.91998 140.228 6.19998C136.48 2.47998 131.515 0.439981 126.209 0.415981C120.904 0.391981 115.914 2.43198 112.142 6.10398C108.37 9.79998 106.301 14.696 106.277 19.928C106.253 30.728 115.136 39.536 126.088 39.584C127.183 39.584 128.229 39.512 129.276 39.344C133.778 38.648 137.794 36.416 140.763 33.248C139.595 32.888 138.573 32.288 137.745 31.472Z\" fill=\"#007EFF\"></path> <path d=\"M123.897 9.19997L119.735 10.88L120.149 11.888L122.461 10.952V30.32H129.689V6.82397L123.897 9.19997Z\" fill=\"white\"></path> </svg> </a> </div> </div> <div class=\"box-item-center-wrapper-align\"> <ul class=\"m1-navigation-main print-hide\"> <li class=\"grand top left mobile dropdown\"> <a href=\"/news/\"> News </a> </li> <li class=\"grand top left mobile dropdown\"> <a href=\"/reviews/\"> Reviews </a> </li> <li class=\"grand left top mobile dropdown\"> <a href=\"/features/\"> Features </a> </li> <li class=\"left dropdown inner-scroll\"> <a href=\"/makes/\"> new cars </a> </li> <li class=\"left\"> <a href=\"/\"> </a> </li> <li class=\"left\"> <a href=\"/auto-shows/\"> Auto Shows </a> </li> <li class=\"left only-us\"> <a href=\"https://www.motor1.com/products-services/\"> Product &amp; service reviews </a> </li> <li class=\"left\"> <a href=\"/body-styles/\"> Body styles </a> </li> <li class=\"left\"> <a href=\"/car-reviews/\"> Star Ratings </a> </li> <li class=\"podcast ico left\"> <a href=\"/features/category/podcast/\"> Podcast </a> </li> <li class=\"photos ico left\"> <a href=\"/photos/\" rel=\"nofollow\"> Photos </a> </li> <li class=\"videos ico left\"> <a href=\"/videos/\"> Videos </a> </li> </ul> <div class=\"m1-navigation-main-part-right\"> <div class=\"m1-search-form-button-wrapper\"> <button aria-label=\"search\" class=\"m1-search-form-button-animate icon-search-svg m1-mobile-search\" data-button=\"\" data-clear=\"1\" data-id=\"toggleBox\" data-multi=\"\" data-value=\"searchBox\" onclick=\"\" tabindex=\"0\" type=\"submit\"> <svg fill=\"none\" height=\"32\" viewbox=\"0 0 32 32\" width=\"32\" xmlns=\"http://www.w3.org/2000/svg\"> <g clip-path=\"url(#clip0_4434_0)\"> <path d=\"M32 29.6L21.792 19.392C23.392 17.312 24.192 14.784 24.192 12.096C24.192 8.896 22.912 5.792 20.704 3.488C18.4 1.312 15.296 0 12.096 0C8.896 0 5.792 1.312 3.488 3.488C1.312 5.792 0 8.896 0 12.096C0 15.296 1.312 18.4 3.488 20.704C5.792 23.008 8.8 24.192 12.096 24.192C14.816 24.192 17.312 23.296 19.392 21.792L29.6 32L32 29.6V29.6ZM5.888 18.304C4.192 16.608 3.296 14.496 3.296 12.096C3.296 9.792 4.192 7.584 5.888 5.888C7.616 4.192 9.696 3.296 12.096 3.296C14.4 3.296 16.608 4.192 18.304 5.888C20 7.584 20.896 9.696 20.896 12.096C20.896 14.4 20 16.608 18.304 18.304C16.608 20 14.496 20.896 12.096 20.896C9.792 20.8 7.616 19.904 5.888 18.304V18.304Z\"></path> </g> <defs> <clippath id=\"clip0_4434_0\"> <rect height=\"32\" width=\"32\"></rect> </clippath> </defs> </svg> </button> <div class=\"m1-search-panel\"> <form action=\"/search/\" class=\"m1-search-form\" data-native=\"0\" id=\"header_search_form\" method=\"GET\" novalidate=\"novalidate\"> <input aria-label=\"Search\" autocomplete=\"off\" class=\"m1-search-panel-input m1-search-form-text\" id=\"search_input\" name=\"q\" placeholder=\"Search\" type=\"text\" value=\"\"/> <button aria-label=\"search\" class=\"m1-search-panel-button m1-search-form-button-animate icon-search-svg\" type=\"submit\"> <svg fill=\"none\" height=\"32\" viewbox=\"0 0 32 32\" width=\"32\" xmlns=\"http://www.w3.org/2000/svg\"> <g clip-path=\"url(#clip0_4434_1)\"> <path d=\"M32 29.6L21.792 19.392C23.392 17.312 24.192 14.784 24.192 12.096C24.192 8.896 22.912 5.792 20.704 3.488C18.4 1.312 15.296 0 12.096 0C8.896 0 5.792 1.312 3.488 3.488C1.312 5.792 0 8.896 0 12.096C0 15.296 1.312 18.4 3.488 20.704C5.792 23.008 8.8 24.192 12.096 24.192C14.816 24.192 17.312 23.296 19.392 21.792L29.6 32L32 29.6V29.6ZM5.888 18.304C4.192 16.608 3.296 14.496 3.296 12.096C3.296 9.792 4.192 7.584 5.888 5.888C7.616 4.192 9.696 3.296 12.096 3.296C14.4 3.296 16.608 4.192 18.304 5.888C20 7.584 20.896 9.696 20.896 12.096C20.896 14.4 20 16.608 18.304 18.304C16.608 20 14.496 20.896 12.096 20.896C9.792 20.8 7.616 19.904 5.888 18.304V18.304Z\"></path> </g> <defs> <clippath id=\"clip0_4434_1\"> <rect height=\"32\" width=\"32\"></rect> </clippath> </defs> </svg> </button> <button aria-label=\"search\" class=\"m1-search-panel-button m1-drawer-close-button\" data-button=\"\" data-clear=\"1\" data-id=\"toggleBox\" data-multi=\"\" data-toggle=\"1\" data-value=\"searchBox\" onclick=\"\" tabindex=\"0\"> </button> </form> </div> </div> </div> </div> <div class=\"box-item-right\"> <div class=\"m1-editions-switcher-m\" data-button=\"\" data-clear=\"2\" data-close-delay=\"0.5\" data-delay=\"0.01\" data-hide-scroll=\"m1-scrollbar\" data-id=\"toggleBox\" data-multi=\"\" data-value=\"editionsMenu\" onclick=\"\" tabindex=\"0\"> <span class=\"edf edf-230\"></span> <span class=\"ico-switcher\"> <svg> <use xlink:href=\"/design/dist/critical/icons/sprite-common-2-376d1d9f2575fd036f5b6d263acfad1d.svg#arrow\"></use> </svg> </span> </div> <div class=\"m1-editions-switcher\" data-button=\"\" data-clear=\"2\" data-close-delay=\"0.5\" data-delay=\"0.01\" data-hide-scroll=\"m1-scrollbar\" data-id=\"toggleBox\" data-multi=\"\" data-value=\"editionsMenu\" onclick=\"\" tabindex=\"0\"> <span class=\"edf edf-230\"></span> <span class=\"title\">USA / Global</span> <span class=\"ico-switcher\"> <svg> <use xlink:href=\"/design/dist/critical/icons/sprite-common-2-376d1d9f2575fd036f5b6d263acfad1d.svg#arrow\"></use> </svg> </span> </div> </div> </div> </div> </div> <div class=\"m1-header-ad top-banner-placeholder\"> <div class=\"m1_Leaderboard\"></div> <div class=\"m1_MobileLeaderboard\"></div> </div> <div class=\"pageAdSkin msnt-skin\" id=\"page_skin_top\"> <div class=\"adSizer\"><img alt=\"\" aria-hidden=\"true\" src=\"data:image/gif;base64,R0lGODlhAQABAIAAAP///wAAACH5BAEAAAAALAAAAAABAAEAAAICRAEAOw==\"/></div> <a aria-hiden=\"true\" class=\"pageAdSkinUrl\" role=\"button\"> <span class=\"sr-only_hide\">page ad skin</span> </a> </div> <div class=\"pre-center breadcrumbs-area\"> <nav aria-label=\"breadcrumb navigation\" class=\"breadcrumbs\" role=\"navigation\" slot=\"breadcrumbs\"> <a href=\"/\">Home</a> <span class=\"sep\"> <svg fill=\"none\" height=\"32\" viewbox=\"0 0 19 32\" width=\"19\" xmlns=\"http://www.w3.org/2000/svg\"> <path d=\"M0 29.3712L15.8736 13.4471L18.5529 15.9242L2.5782 32L0 29.3712V29.3712ZM0 2.52765L2.52765 0L18.3507 16.1264L15.8736 18.4518L0 2.52765V2.52765Z\"></path> </svg> </span><a href=\"/features/\">Features</a> </nav> <h1 class=\"m1-article-title\">50 Most Expensive Cars In The World</h1> <h2 class=\"preview\"> From Aston Martin to Zenvo, these are the most expensive supercars and hypercars ever made. </h2> </div> <div class=\"kpre-center\"> <div class=\"articleHeader\"> <div class=\"box-center\"> <div class=\"originalImage scrollTieBox trinity-skip-it\"> <picture> <source sizes=\"(max-width: 1024px) 100vw, 1024px\" srcset=\" https://cdn.motor1.com/images/mgl/mMxknA/s5/most-expensive-cars-in-the-world.webp 213w, https://cdn.motor1.com/images/mgl/mMxknA/s6/most-expensive-cars-in-the-world.webp 445w, https://cdn.motor1.com/images/mgl/mMxknA/s4/most-expensive-cars-in-the-world.webp 889w, https://cdn.motor1.com/images/mgl/mMxknA/s3/most-expensive-cars-in-the-world.webp 1280w, https://cdn.motor1.com/images/mgl/mMxknA/s2/most-expensive-cars-in-the-world.webp 1440w, https://cdn.motor1.com/images/mgl/mMxknA/s1/most-expensive-cars-in-the-world.webp 1920w \" type=\"image/webp\"> <source sizes=\"(max-width: 1024px) 100vw, 1024px\" srcset=\" https://cdn.motor1.com/images/mgl/mMxknA/s5/most-expensive-cars-in-the-world.jpg 213w, https://cdn.motor1.com/images/mgl/mMxknA/s6/most-expensive-cars-in-the-world.jpg 445w, https://cdn.motor1.com/images/mgl/mMxknA/s4/most-expensive-cars-in-the-world.jpg 889w, https://cdn.motor1.com/images/mgl/mMxknA/s3/most-expensive-cars-in-the-world.jpg 1280w, https://cdn.motor1.com/images/mgl/mMxknA/s2/most-expensive-cars-in-the-world.jpg 1440w, https://cdn.motor1.com/images/mgl/mMxknA/s1/most-expensive-cars-in-the-world.jpg 1920w \" type=\"image/jpeg\"> <img alt=\"Most Expensive Cars In The World\" height=\"9\" loading=\"eager\" src=\"https://cdn.motor1.com/images/mgl/mMxknA/s3/most-expensive-cars-in-the-world.jpg\" width=\"16\"/> </source></source></picture> </div> </div> </div> </div> <div class=\"pre-center padding b-padding-skin pre-center-feature\" id=\"post_box\"> <div data-bubbles=\"keyword\" data-name=\"id\" data-url=\"/news/store-keywords/\"></div> <div class=\"content-area\" id=\"article_box\"> <div class=\"content-area-box\"> <div class=\"postTopInfo\"> <div class=\"postMeta-Top\"> <div class=\"postDate postDateUpdated\"><span class=\"date\" data-time=\"1675685596\"></span> <span class=\"date-data date-update-data\">Updated: Feb 06, 2023</span><span class=\"small\"> at</span> <span class=\"time-data\">12:13pm ET</span></div> <div class=\"disqus-comment-count_wrapper\"> <a class=\"commentsNumber disqus-comment-count\" data-disqus-url=\"//motor1dotcom.disqus.com/count-data.json?url=https://www.motor1.com/features/308149/most-expensive-new-cars-ever/\" href=\"/features/308149/most-expensive-new-cars-ever/#comments\"></a> </div> </div> <div class=\"postAuthorBox withAvatar\" xmlns=\"http://www.w3.org/1999/xhtml\"> <div class=\"author-wrap\"> <div class=\"postAuthorThumb\"> <a class=\"userRThumb\" href=\"/info/team/jeff-perez/\"> <picture class=\"lazyload\"> <source data-srcset=\"https://cdn.motor1.com/images/atr/XBk/s3/jeff-perez2.webp\" type=\"image/webp\"> <source data-srcset=\"https://cdn.motor1.com/images/atr/XBk/s3/jeff-perez2.jpg\" type=\"image/jpeg\"> <img alt=\"Jeff Perez\" height=\"1\" loading=\"lazy\" src=\"https://cdn-3.motorsport.com/static/images/sizers/1x1_2.gif\" width=\"1\"/> </source></source></picture> </a> </div> <div class=\"postAuthorInfo\"> <div class=\"postAuthor\"> <span class=\"name\"> <span class=\"label\">By</span>: <a class=\"author\" content=\"Jeff Perez\" href=\"/info/team/jeff-perez/\">Jeff Perez</a> </span> </div> </div> </div> <div aria-label=\"author social\" class=\"author-socials\" role=\"navigation\"> </div> </div> <div class=\"clear\"></div> </div> <div class=\"postContent content-wrapper\"> <div class=\"postBody description e-content\"> <p>When it comes to high-end hypercars and super-fast supercars, a few companies should come to mind first: Bugatti, Ferrari, Koenigsegg, Rimac, and Pagani, among others. These manufacturers have cemented themselves as the top dogs in the supercar and hypercar space, extending to their wealthiest clientele the fastest, rarest, prettiest – and in this case – most expensive cars on the planet.</p><div class=\"m1_MobileMPU\"></div> <p>But in order to find out which of these unattainable-to-most vehicles is the priciest, we've scoured the invoice sheets and uncovered 50 cars all worth $1 million or more. The group includes hybrid <a data-inline-widget=\"internal-links\" data-params=\"%7B%22alias%22%3A%22ferrari%22%7D\" data-type-id=\"2\" href=\"https://www.motor1.com/ferrari/\">Ferrari</a> convertibles, an <a data-inline-widget=\"internal-links\" data-params=\"%7B%22article_edition_id%22%3A%22521783%22%2C%22section%22%3A%221%22%2C%22alias%22%3A%22ssc-north-america-admits-tuatara-speed%22%7D\" data-type-id=\"0\" href=\"https://www.motor1.com/news/521783/ssc-north-america-admits-tuatara-speed/\">American speed king</a>, a few <a data-inline-widget=\"internal-links\" data-params=\"%7B%22article_edition_id%22%3A%22607072%22%2C%22section%22%3A%222%22%2C%22alias%22%3A%222023-rimac-nevera-first-drive%22%7D\" data-type-id=\"0\" href=\"https://www.motor1.com/reviews/607072/2023-rimac-nevera-first-drive/\">electric Hypercars</a>, and two a one-of-a-kind <a data-inline-widget=\"internal-links\" data-params=\"%7B%22alias%22%3A%22rolls-royce%22%7D\" data-type-id=\"2\" href=\"https://www.motor1.com/rolls-royce/\">Rolls-Royce</a> cars built for royalty.</p> <p>We should note, though: The prices listed here are the price of the vehicles when new. So we’re not counting auction cars like the Ferrari 250 GTO, or overpriced secondhand sales. But don’t worry, there’s still hundreds of millions worth of cars here to whet your appetite.</p><blockquote class=\"ferrari_ads-link-wrap\"> <a class=\"ferrari_ads-link\" href=\"https://www.ferrarichat.com/forum/?utm_source=Motor1%20article&amp;utm_medium=Quote&amp;utm_campaign=3rd%20paragraph\" target=\"_blank\"> Join owners and enthusiasts discussing this topic at FerrariChat.com! </a> </blockquote> <section class=\"relatedContent-new trinity-skip-it\" contenteditable=\"false\" data-params=\"%7B%22type_id%22%3A0%2C%22title_id%22%3A%22%22%2C%22items%22%3A%5B%7B%22article_edition_id%22%3A%22631073%22%2C%22title%22%3A%2220%20Cheapest%20Cars%2C%20Trucks%2C%20And%20SUVs%20In%20The%20US%20For%202023%22%2C%22alias%22%3A%22cheapest-cars-trucks-suvs-2023%22%2C%22section%22%3A%223%22%2C%22is_video%22%3A%220%22%2C%22images%22%3A%7B%22s5%22%3A%22https%3A%2F%2Fcdn.motor1.com%2Fimages%2Fmgl%2F3WQNn6%2Fs5%2Fcheapest-cars-in-the-us-2023.jpg%22%7D%7D%2C%7B%22article_edition_id%22%3A%22629701%22%2C%22title%22%3A%2215%20Best%20Selling%20Trucks%20Of%202022%22%2C%22alias%22%3A%22best-selling-trucks-2022%22%2C%22section%22%3A%223%22%2C%22is_video%22%3A%220%22%2C%22images%22%3A%7B%22s5%22%3A%22https%3A%2F%2Fcdn.motor1.com%2Fimages%2Fmgl%2F3WQbpR%2Fs5%2Fbest-selling-trucks-of-2022.jpg%22%7D%7D%5D%7D\" data-widget=\"related-content\" data-widget-size=\"content\" draggable=\"true\"> <p class=\"trending-content_header\">Other Lists:</p> <div class=\"wrapper-related-item\"> <div class=\"related-item\"><a href=\"https://www.motor1.com/features/631073/cheapest-cars-trucks-suvs-2023/\"> <span class=\"related-item-img lazyload\"> <picture> <source data-srcset=\"https://cdn.motor1.com/images/mgl/3WQNn6/s6/cheapest-cars-in-the-us-2023.webp 1x, https://cdn.motor1.com/images/mgl/3WQNn6/s6/cheapest-cars-in-the-us-2023.webp 2x, https://cdn.motor1.com/images/mgl/3WQNn6/s4/cheapest-cars-in-the-us-2023.webp 3x\" media=\"(min-width: 1024px)\" type=\"image/webp\"> <source data-srcset=\"https://cdn.motor1.com/images/mgl/3WQNn6/s6/cheapest-cars-in-the-us-2023.jpg 1x, https://cdn.motor1.com/images/mgl/3WQNn6/s6/cheapest-cars-in-the-us-2023.jpg 2x, https://cdn.motor1.com/images/mgl/3WQNn6/s4/cheapest-cars-in-the-us-2023.jpg 3x\" media=\"(min-width: 1024px)\" type=\"image/jpeg\"> <source data-srcset=\"https://cdn.motor1.com/images/mgl/3WQNn6/s5/cheapest-cars-in-the-us-2023.webp 1x, https://cdn.motor1.com/images/mgl/3WQNn6/s6/cheapest-cars-in-the-us-2023.webp 2x, https://cdn.motor1.com/images/mgl/3WQNn6/s4/cheapest-cars-in-the-us-2023.webp 3x\" media=\"(max-width: 1023px)\" type=\"image/webp\"> <source data-srcset=\"https://cdn.motor1.com/images/mgl/3WQNn6/s5/cheapest-cars-in-the-us-2023.jpg 1x, https://cdn.motor1.com/images/mgl/3WQNn6/s6/cheapest-cars-in-the-us-2023.jpg 2x, https://cdn.motor1.com/images/mgl/3WQNn6/s4/cheapest-cars-in-the-us-2023.jpg 3x\" media=\"(max-width: 1023px)\" type=\"image/jpeg\"> <img alt=\"cheapest cars trucks suvs 2023\" height=\"9\" loading=\"lazy\" pinger-seen=\"true\" src=\"https://cdn.motor1.com/images/static/16x9-tr.png\" width=\"16\"/> </source></source></source></source></picture></span> <span class=\"title-related-item\">20 Cheapest Cars, Trucks, And SUVs In The US For 2023</span> </a></div> <div class=\"related-item\"><a href=\"https://www.motor1.com/features/629701/best-selling-trucks-2022/\"> <span class=\"related-item-img lazyload\"> <picture> <source data-srcset=\"https://cdn.motor1.com/images/mgl/3WQbpR/s6/best-selling-trucks-of-2022.webp 1x, https://cdn.motor1.com/images/mgl/3WQbpR/s6/best-selling-trucks-of-2022.webp 2x, https://cdn.motor1.com/images/mgl/3WQbpR/s4/best-selling-trucks-of-2022.webp 3x\" media=\"(min-width: 1024px)\" type=\"image/webp\"> <source data-srcset=\"https://cdn.motor1.com/images/mgl/3WQbpR/s6/best-selling-trucks-of-2022.jpg 1x, https://cdn.motor1.com/images/mgl/3WQbpR/s6/best-selling-trucks-of-2022.jpg 2x, https://cdn.motor1.com/images/mgl/3WQbpR/s4/best-selling-trucks-of-2022.jpg 3x\" media=\"(min-width: 1024px)\" type=\"image/jpeg\"> <source data-srcset=\"https://cdn.motor1.com/images/mgl/3WQbpR/s5/best-selling-trucks-of-2022.webp 1x, https://cdn.motor1.com/images/mgl/3WQbpR/s6/best-selling-trucks-of-2022.webp 2x, https://cdn.motor1.com/images/mgl/3WQbpR/s4/best-selling-trucks-of-2022.webp 3x\" media=\"(max-width: 1023px)\" type=\"image/webp\"> <source data-srcset=\"https://cdn.motor1.com/images/mgl/3WQbpR/s5/best-selling-trucks-of-2022.jpg 1x, https://cdn.motor1.com/images/mgl/3WQbpR/s6/best-selling-trucks-of-2022.jpg 2x, https://cdn.motor1.com/images/mgl/3WQbpR/s4/best-selling-trucks-of-2022.jpg 3x\" media=\"(max-width: 1023px)\" type=\"image/jpeg\"> <img alt=\"best selling trucks 2022\" height=\"9\" loading=\"lazy\" pinger-seen=\"true\" src=\"https://cdn.motor1.com/images/static/16x9-tr.png\" width=\"16\"/> </source></source></source></source></picture></span> <span class=\"title-related-item\">15 Best Selling Trucks Of 2022</span> </a></div> </div> </section> <h3 class=\"subheader\">De Tomaso P72</h3> <section class=\"trinity-skip-it\" contenteditable=\"false\" data-border=\"\" data-id=\"6666833\" data-widget=\"image\" draggable=\"true\"> <span class=\"svg-search\"> <svg> <use xlink:href=\"/design/dist/critical/icons/sprite-common-2-376d1d9f2575fd036f5b6d263acfad1d.svg#search\"></use> </svg> </span> <picture class=\"lazyload\"> <source data-srcset=\" https://cdn.motor1.com/images/mgl/4007M1/s5/de-tomaso-p72-baby-blue-lake-como.webp 213w, https://cdn.motor1.com/images/mgl/4007M1/s6/de-tomaso-p72-baby-blue-lake-como.webp 445w, https://cdn.motor1.com/images/mgl/4007M1/s4/de-tomaso-p72-baby-blue-lake-como.webp 889w, https://cdn.motor1.com/images/mgl/4007M1/s3/de-tomaso-p72-baby-blue-lake-como.webp 1280w, https://cdn.motor1.com/images/mgl/4007M1/s2/de-tomaso-p72-baby-blue-lake-como.webp 1440w, https://cdn.motor1.com/images/mgl/4007M1/s1/de-tomaso-p72-baby-blue-lake-como.webp 1920w \" sizes=\"(max-width: 767px) calc(100vw - 30px), (max-width: 1023px) calc(100vw - 50px), 649px\" type=\"image/webp\"> <source data-srcset=\" https://cdn.motor1.com/images/mgl/4007M1/s5/de-tomaso-p72-baby-blue-lake-como.jpg 213w, https://cdn.motor1.com/images/mgl/4007M1/s6/de-tomaso-p72-baby-blue-lake-como.jpg 445w, https://cdn.motor1.com/images/mgl/4007M1/s4/de-tomaso-p72-baby-blue-lake-como.jpg 889w, https://cdn.motor1.com/images/mgl/4007M1/s3/de-tomaso-p72-baby-blue-lake-como.jpg 1280w, https://cdn.motor1.com/images/mgl/4007M1/s2/de-tomaso-p72-baby-blue-lake-como.jpg 1440w, https://cdn.motor1.com/images/mgl/4007M1/s1/de-tomaso-p72-baby-blue-lake-como.jpg 1920w \" sizes=\"(max-width: 767px) calc(100vw - 30px), (max-width: 1023px) calc(100vw - 50px), 649px\" type=\"image/jpeg\"> <img alt=\"De Tomaso P72 Baby Blue Lake Como\" height=\"9\" loading=\"lazy\" src=\"https://cdn.motor1.com/images/static/16x9-tr.png\" width=\"16\"/> </source></source></picture> </section> <p><strong>Price: $1.3 Million</strong></p> <p>The <a data-inline-widget=\"internal-links\" data-params=\"%7B%22article_edition_id%22%3A%22588606%22%2C%22section%22%3A%221%22%2C%22alias%22%3A%22de-tomaso-p72-blue-lake-como%22%7D\" data-type-id=\"0\" href=\"https://www.motor1.com/news/588606/de-tomaso-p72-blue-lake-como/\">De Tomaso P72</a> is basically the definition of beautiful. The shapely supercar debuted at the 2019 Goodwood Festival Of Speed with a supercharged Ford V8 boasting 700 horsepower. The P72 marked the return of the DeTomaso brand after nearly 30 years on hiatus, and if you want one, it will cost you at least $1.3 million.</p><div class=\"m1_Native\"></div> <h3 class=\"subheader\"><a data-inline-widget=\"internal-links\" data-params=\"%7B%22make_alias%22%3A%22ferrari%22%2C%22alias%22%3A%22laferrari%22%7D\" data-type-id=\"1\" href=\"https://www.motor1.com/ferrari/laferrari/\">Ferrari LaFerrari</a></h3> <section class=\"trinity-skip-it\" contenteditable=\"false\" data-border=\"\" data-id=\"5612460\" data-widget=\"image\" draggable=\"true\"> <span class=\"svg-search\"> <svg> <use xlink:href=\"/design/dist/critical/icons/sprite-common-2-376d1d9f2575fd036f5b6d263acfad1d.svg#search\"></use> </svg> </span> <picture class=\"lazyload\"> <source data-srcset=\" https://cdn.motor1.com/images/mgl/2PgYn/s5/ferrari-laferrari.webp 213w, https://cdn.motor1.com/images/mgl/2PgYn/s6/ferrari-laferrari.webp 445w, https://cdn.motor1.com/images/mgl/2PgYn/s4/ferrari-laferrari.webp 889w, https://cdn.motor1.com/images/mgl/2PgYn/s3/ferrari-laferrari.webp 1280w, https://cdn.motor1.com/images/mgl/2PgYn/s2/ferrari-laferrari.webp 1440w, https://cdn.motor1.com/images/mgl/2PgYn/s1/ferrari-laferrari.webp 1920w \" sizes=\"(max-width: 767px) calc(100vw - 30px), (max-width: 1023px) calc(100vw - 50px), 649px\" type=\"image/webp\"> <source data-srcset=\" https://cdn.motor1.com/images/mgl/2PgYn/s5/ferrari-laferrari.jpg 213w, https://cdn.motor1.com/images/mgl/2PgYn/s6/ferrari-laferrari.jpg 445w, https://cdn.motor1.com/images/mgl/2PgYn/s4/ferrari-laferrari.jpg 889w, https://cdn.motor1.com/images/mgl/2PgYn/s3/ferrari-laferrari.jpg 1280w, https://cdn.motor1.com/images/mgl/2PgYn/s2/ferrari-laferrari.jpg 1440w, https://cdn.motor1.com/images/mgl/2PgYn/s1/ferrari-laferrari.jpg 1920w \" sizes=\"(max-width: 767px) calc(100vw - 30px), (max-width: 1023px) calc(100vw - 50px), 649px\" type=\"image/jpeg\"> <img alt=\"Ferrari LaFerrari\" height=\"9\" loading=\"lazy\" src=\"https://cdn.motor1.com/images/static/16x9-tr.png\" width=\"16\"/> </source></source></picture> </section> <p><strong>Price: $1.4 Million</strong></p> <p>At $1.4 million new, the Ferrari LaFerrari is actually one of the most affordable supercars on this list. It’s a bargain compared to the most expensive vehicle here. Debuting in 2013 with 950 hybrid horses (708 kilowatts) and a top speed of around 220 miles per hour (354 kilometers per hour), this is still Ferrari’s fastest and most powerful production model to date. The company built just 499 examples of the coupe between 2013 and 2016.</p><div class=\"m1_MobileMPU\"></div> <h3 class=\"subheader\"><a data-inline-widget=\"internal-links\" data-params=\"%7B%22make_alias%22%3A%22pagani%22%2C%22alias%22%3A%22huayra%22%7D\" data-type-id=\"1\" href=\"https://www.motor1.com/pagani/huayra/\">Pagani Huayra</a></h3> <section class=\"trinity-skip-it\" contenteditable=\"false\" data-border=\"\" data-id=\"5612466\" data-widget=\"image\" draggable=\"true\"> <span class=\"svg-search\"> <svg> <use xlink:href=\"/design/dist/critical/icons/sprite-common-2-376d1d9f2575fd036f5b6d263acfad1d.svg#search\"></use> </svg> </span> <picture class=\"lazyload\"> <source data-srcset=\" https://cdn.motor1.com/images/mgl/39ygL/s5/pagani-huayra.webp 213w, https://cdn.motor1.com/images/mgl/39ygL/s6/pagani-huayra.webp 445w, https://cdn.motor1.com/images/mgl/39ygL/s4/pagani-huayra.webp 889w, https://cdn.motor1.com/images/mgl/39ygL/s3/pagani-huayra.webp 1280w, https://cdn.motor1.com/images/mgl/39ygL/s2/pagani-huayra.webp 1440w, https://cdn.motor1.com/images/mgl/39ygL/s1/pagani-huayra.webp 1920w \" sizes=\"(max-width: 767px) calc(100vw - 30px), (max-width: 1023px) calc(100vw - 50px), 649px\" type=\"image/webp\"> <source data-srcset=\" https://cdn.motor1.com/images/mgl/39ygL/s5/pagani-huayra.jpg 213w, https://cdn.motor1.com/images/mgl/39ygL/s6/pagani-huayra.jpg 445w, https://cdn.motor1.com/images/mgl/39ygL/s4/pagani-huayra.jpg 889w, https://cdn.motor1.com/images/mgl/39ygL/s3/pagani-huayra.jpg 1280w, https://cdn.motor1.com/images/mgl/39ygL/s2/pagani-huayra.jpg 1440w, https://cdn.motor1.com/images/mgl/39ygL/s1/pagani-huayra.jpg 1920w \" sizes=\"(max-width: 767px) calc(100vw - 30px), (max-width: 1023px) calc(100vw - 50px), 649px\" type=\"image/jpeg\"> <img alt=\"Pagani Huayra\" height=\"9\" loading=\"lazy\" src=\"https://cdn.motor1.com/images/static/16x9-tr.png\" width=\"16\"/> </source></source></picture> </section> <p><strong>Price: $1.4 Million</strong></p> <p>Inarguably one of the prettiest cars on this list, the Pagani Huayra cost a cool $1.4 million when new. Like the LaFerrari, Pagani built the Huayra in extremely limited numbers. The company hand-constructed just 100 units of the coupe between 2012 and 2018, with another 20 versions of the BC model (which makes our list further down) between 2017 and 2019. Powering each and every example was a Mercedes-AMG V12 capable of 720 horsepower (537 kilowatts).<strong><br/></strong></p><div class=\"m1_Native\"></div> <h3 class=\"subheader\">McLaren Elva</h3> <section class=\"trinity-skip-it\" contenteditable=\"false\" data-border=\"\" data-id=\"4504605\" data-widget=\"image\" draggable=\"true\"> <span class=\"svg-search\"> <svg> <use xlink:href=\"/design/dist/critical/icons/sprite-common-2-376d1d9f2575fd036f5b6d263acfad1d.svg#search\"></use> </svg> </span> <picture class=\"lazyload\"> <source data-srcset=\" https://cdn.motor1.com/images/mgl/XPWO2/s5/mclaren-elva.webp 213w, https://cdn.motor1.com/images/mgl/XPWO2/s6/mclaren-elva.webp 445w, https://cdn.motor1.com/images/mgl/XPWO2/s4/mclaren-elva.webp 889w, https://cdn.motor1.com/images/mgl/XPWO2/s3/mclaren-elva.webp 1280w, https://cdn.motor1.com/images/mgl/XPWO2/s2/mclaren-elva.webp 1440w, https://cdn.motor1.com/images/mgl/XPWO2/s1/mclaren-elva.webp 1920w \" sizes=\"(max-width: 767px) calc(100vw - 30px), (max-width: 1023px) calc(100vw - 50px), 649px\" type=\"image/webp\"> <source data-srcset=\" https://cdn.motor1.com/images/mgl/XPWO2/s5/mclaren-elva.jpg 213w, https://cdn.motor1.com/images/mgl/XPWO2/s6/mclaren-elva.jpg 445w, https://cdn.motor1.com/images/mgl/XPWO2/s4/mclaren-elva.jpg 889w, https://cdn.motor1.com/images/mgl/XPWO2/s3/mclaren-elva.jpg 1280w, https://cdn.motor1.com/images/mgl/XPWO2/s2/mclaren-elva.jpg 1440w, https://cdn.motor1.com/images/mgl/XPWO2/s1/mclaren-elva.jpg 1920w \" sizes=\"(max-width: 767px) calc(100vw - 30px), (max-width: 1023px) calc(100vw - 50px), 649px\" type=\"image/jpeg\"> <img alt=\"McLaren Elva\" height=\"9\" loading=\"lazy\" src=\"https://cdn.motor1.com/images/static/16x9-tr.png\" width=\"16\"/> </source></source></picture> </section> <p><strong>Price: $1.7 Million</strong></p> <p>The <a data-inline-widget=\"internal-links\" data-params=\"%7B%22article_edition_id%22%3A%22381916%22%2C%22section%22%3A%221%22%2C%22alias%22%3A%22mclaren-elva-debut-price-performance-info%22%7D\" data-type-id=\"0\" href=\"https://www.motor1.com/news/381916/mclaren-elva-debut-price-performance-info/\">McLaren Elva</a> is one of the latest additions to the British supercar maker’s storied legacy. Even without a proper windshield (though, no option) or roof to rely on, the Elva produces 804 horsepower and 590 pound-feet of torque from its twin-turbocharged 4.0-liter V8. Originally McLaren announced just 399 units, but later the company dropped that to an even more scarce 249 examples. Either way, most of you will never get your hands on one – the Elva costs $1.7 million.</p> <h3 class=\"subheader\"><a data-inline-widget=\"internal-links\" data-params=\"%7B%22article_edition_id%22%3A%22541913%22%2C%22section%22%3A%221%22%2C%22alias%22%3A%22czinger-21c-circuit-america-record%22%7D\" data-type-id=\"0\" href=\"https://www.motor1.com/news/541913/czinger-21c-circuit-america-record/\">Czinger 21C</a></h3> <section class=\"trinity-skip-it\" contenteditable=\"false\" data-border=\"\" data-id=\"6588677\" data-widget=\"image\" draggable=\"true\"> <span class=\"svg-search\"> <svg> <use xlink:href=\"/design/dist/critical/icons/sprite-common-2-376d1d9f2575fd036f5b6d263acfad1d.svg#search\"></use> </svg> </span> <picture class=\"lazyload\"> <source data-srcset=\" https://cdn.motor1.com/images/mgl/qkkgyG/s5/czinger-21c.webp 213w, https://cdn.motor1.com/images/mgl/qkkgyG/s6/czinger-21c.webp 445w, https://cdn.motor1.com/images/mgl/qkkgyG/s4/czinger-21c.webp 889w, https://cdn.motor1.com/images/mgl/qkkgyG/s3/czinger-21c.webp 1280w, https://cdn.motor1.com/images/mgl/qkkgyG/s2/czinger-21c.webp 1440w, https://cdn.motor1.com/images/mgl/qkkgyG/s1/czinger-21c.webp 1920w \" sizes=\"(max-width: 767px) calc(100vw - 30px), (max-width: 1023px) calc(100vw - 50px), 649px\" type=\"image/webp\"> <source data-srcset=\" https://cdn.motor1.com/images/mgl/qkkgyG/s5/czinger-21c.jpg 213w, https://cdn.motor1.com/images/mgl/qkkgyG/s6/czinger-21c.jpg 445w, https://cdn.motor1.com/images/mgl/qkkgyG/s4/czinger-21c.jpg 889w, https://cdn.motor1.com/images/mgl/qkkgyG/s3/czinger-21c.jpg 1280w, https://cdn.motor1.com/images/mgl/qkkgyG/s2/czinger-21c.jpg 1440w, https://cdn.motor1.com/images/mgl/qkkgyG/s1/czinger-21c.jpg 1920w \" sizes=\"(max-width: 767px) calc(100vw - 30px), (max-width: 1023px) calc(100vw - 50px), 649px\" type=\"image/jpeg\"> <img alt=\"Czinger 21C\" height=\"9\" loading=\"lazy\" src=\"https://cdn.motor1.com/images/static/16x9-tr.png\" width=\"16\"/> </source></source></picture> </section> <p><strong>Price: $1.7 Million</strong></p> <p>You might not know the name Czinger yet, but this California-based boutique automaker is responsible for the $1.7 million 21C supercar. With 1,250 horsepower on tap thanks to a 2.9-liter twin-turbocharged V8, the 21C can rocket to 60 miles per hour in 1.9 seconds and a top speed of around 281 miles per hour.</p><div class=\"m1_MobileMPU\"></div> <h3 class=\"subheader\">Ferrari Monza</h3> <section class=\"trinity-skip-it\" contenteditable=\"false\" data-border=\"\" data-id=\"3287252\" data-widget=\"image\" draggable=\"true\"> <span class=\"svg-search\"> <svg> <use xlink:href=\"/design/dist/critical/icons/sprite-common-2-376d1d9f2575fd036f5b6d263acfad1d.svg#search\"></use> </svg> </span> <picture class=\"lazyload\"> <source data-srcset=\" https://cdn.motor1.com/images/mgl/7ypK7/s5/ferrari-monza-sp1.webp 213w, https://cdn.motor1.com/images/mgl/7ypK7/s6/ferrari-monza-sp1.webp 445w, https://cdn.motor1.com/images/mgl/7ypK7/s4/ferrari-monza-sp1.webp 889w, https://cdn.motor1.com/images/mgl/7ypK7/s3/ferrari-monza-sp1.webp 1280w, https://cdn.motor1.com/images/mgl/7ypK7/s2/ferrari-monza-sp1.webp 1440w, https://cdn.motor1.com/images/mgl/7ypK7/s1/ferrari-monza-sp1.webp 1920w \" sizes=\"(max-width: 767px) calc(100vw - 30px), (max-width: 1023px) calc(100vw - 50px), 649px\" type=\"image/webp\"> <source data-srcset=\" https://cdn.motor1.com/images/mgl/7ypK7/s5/ferrari-monza-sp1.jpg 213w, https://cdn.motor1.com/images/mgl/7ypK7/s6/ferrari-monza-sp1.jpg 445w, https://cdn.motor1.com/images/mgl/7ypK7/s4/ferrari-monza-sp1.jpg 889w, https://cdn.motor1.com/images/mgl/7ypK7/s3/ferrari-monza-sp1.jpg 1280w, https://cdn.motor1.com/images/mgl/7ypK7/s2/ferrari-monza-sp1.jpg 1440w, https://cdn.motor1.com/images/mgl/7ypK7/s1/ferrari-monza-sp1.jpg 1920w \" sizes=\"(max-width: 767px) calc(100vw - 30px), (max-width: 1023px) calc(100vw - 50px), 649px\" type=\"image/jpeg\"> <img alt=\"Ferrari Monza SP1\" height=\"9\" loading=\"lazy\" src=\"https://cdn.motor1.com/images/static/16x9-tr.png\" width=\"16\"/> </source></source></picture> </section> <p><strong>Price: $1.7 Million</strong></p> <p>Much like the roof-less McLaren Elva, the Ferrari Monza SP1 and SP2 are all about al fresco motoring. As the name implies, the SP1 is the single-seater option while the SP2 has just enough room for you to bring along a friend. Both cars come powered by the same naturally aspirated 6.5-liter V12 engine capable of 809 horsepower and 530 pound-feet. Unfortunately for US buyers, neither of these models are street legal in the States. But f you have the funds to afford the car’s $1.75 million price tag, getting onto a track probably won’t be an issue anyway.</p> <h3 class=\"subheader\">Gordon Murray T.33</h3> <section class=\"trinity-skip-it\" contenteditable=\"false\" data-border=\"\" data-id=\"6443598\" data-widget=\"image\" draggable=\"true\"> <span class=\"svg-search\"> <svg> <use xlink:href=\"/design/dist/critical/icons/sprite-common-2-376d1d9f2575fd036f5b6d263acfad1d.svg#search\"></use> </svg> </span> <picture class=\"lazyload\"> <source data-srcset=\" https://cdn.motor1.com/images/mgl/Vz837L/s5/gordon-murray-t.33.webp 213w, https://cdn.motor1.com/images/mgl/Vz837L/s6/gordon-murray-t.33.webp 445w, https://cdn.motor1.com/images/mgl/Vz837L/s4/gordon-murray-t.33.webp 889w, https://cdn.motor1.com/images/mgl/Vz837L/s3/gordon-murray-t.33.webp 1280w, https://cdn.motor1.com/images/mgl/Vz837L/s2/gordon-murray-t.33.webp 1440w, https://cdn.motor1.com/images/mgl/Vz837L/s1/gordon-murray-t.33.webp 1920w \" sizes=\"(max-width: 767px) calc(100vw - 30px), (max-width: 1023px) calc(100vw - 50px), 649px\" type=\"image/webp\"> <source data-srcset=\" https://cdn.motor1.com/images/mgl/Vz837L/s5/gordon-murray-t.33.jpg 213w, https://cdn.motor1.com/images/mgl/Vz837L/s6/gordon-murray-t.33.jpg 445w, https://cdn.motor1.com/images/mgl/Vz837L/s4/gordon-murray-t.33.jpg 889w, https://cdn.motor1.com/images/mgl/Vz837L/s3/gordon-murray-t.33.jpg 1280w, https://cdn.motor1.com/images/mgl/Vz837L/s2/gordon-murray-t.33.jpg 1440w, https://cdn.motor1.com/images/mgl/Vz837L/s1/gordon-murray-t.33.jpg 1920w \" sizes=\"(max-width: 767px) calc(100vw - 30px), (max-width: 1023px) calc(100vw - 50px), 649px\" type=\"image/jpeg\"> <img alt=\"Gordon Murray T.33\" height=\"9\" loading=\"lazy\" src=\"https://cdn.motor1.com/images/static/16x9-tr.png\" width=\"16\"/> </source></source></picture> </section> <p><strong>Price: $1.7 Million</strong></p> <p>The second and slightly more affordable supercar in the new Gordon Murray lineup is the <a data-inline-widget=\"internal-links\" data-params=\"%7B%22article_edition_id%22%3A%22565467%22%2C%22section%22%3A%221%22%2C%22alias%22%3A%22gordon-murray-t33-sold-out%22%7D\" data-type-id=\"0\" href=\"https://www.motor1.com/news/565467/gordon-murray-t33-sold-out/\">T.33</a>. With 607 horsepower courtesy of a naturally aspirated 3.9-liter V12, the T.33 revs to a ridiculous 10,500 RPM. With a price tag of around $1.7 million at current conversion rates, Gordon Murray automotive promises to sell this car globally, in both right- and left-hand-drive configurations. Too bad it's already sold out.</p> <h3 class=\"subheader\"><a data-inline-widget=\"internal-links\" data-params=\"%7B%22make_alias%22%3A%22koenigsegg%22%2C%22alias%22%3A%22gemera%22%7D\" data-type-id=\"1\" href=\"https://www.motor1.com/koenigsegg/gemera/\">Koenigsegg Gemera</a></h3> <section class=\"trinity-skip-it\" contenteditable=\"false\" data-border=\"\" data-id=\"6588678\" data-widget=\"image\" draggable=\"true\"> <span class=\"svg-search\"> <svg> <use xlink:href=\"/design/dist/critical/icons/sprite-common-2-376d1d9f2575fd036f5b6d263acfad1d.svg#search\"></use> </svg> </span> <picture class=\"lazyload\"> <source data-srcset=\" https://cdn.motor1.com/images/mgl/NGGZon/s5/koenigsegg-gemera.webp 213w, https://cdn.motor1.com/images/mgl/NGGZon/s6/koenigsegg-gemera.webp 445w, https://cdn.motor1.com/images/mgl/NGGZon/s4/koenigsegg-gemera.webp 889w, https://cdn.motor1.com/images/mgl/NGGZon/s3/koenigsegg-gemera.webp 1280w, https://cdn.motor1.com/images/mgl/NGGZon/s2/koenigsegg-gemera.webp 1440w, https://cdn.motor1.com/images/mgl/NGGZon/s1/koenigsegg-gemera.webp 1920w \" sizes=\"(max-width: 767px) calc(100vw - 30px), (max-width: 1023px) calc(100vw - 50px), 649px\" type=\"image/webp\"> <source data-srcset=\" https://cdn.motor1.com/images/mgl/NGGZon/s5/koenigsegg-gemera.jpg 213w, https://cdn.motor1.com/images/mgl/NGGZon/s6/koenigsegg-gemera.jpg 445w, https://cdn.motor1.com/images/mgl/NGGZon/s4/koenigsegg-gemera.jpg 889w, https://cdn.motor1.com/images/mgl/NGGZon/s3/koenigsegg-gemera.jpg 1280w, https://cdn.motor1.com/images/mgl/NGGZon/s2/koenigsegg-gemera.jpg 1440w, https://cdn.motor1.com/images/mgl/NGGZon/s1/koenigsegg-gemera.jpg 1920w \" sizes=\"(max-width: 767px) calc(100vw - 30px), (max-width: 1023px) calc(100vw - 50px), 649px\" type=\"image/jpeg\"> <img alt=\"Koenigsegg Gemera\" height=\"9\" loading=\"lazy\" src=\"https://cdn.motor1.com/images/static/16x9-tr.png\" width=\"16\"/> </source></source></picture> </section> <p><strong>Price: $1.7 Million</strong></p> <p>One of two <a data-inline-widget=\"internal-links\" data-params=\"%7B%22alias%22%3A%22koenigsegg%22%7D\" data-type-id=\"2\" href=\"https://www.motor1.com/koenigsegg/\">Koenigsegg</a> models on this list, the Gemera is actually the Swedish supercar maker’s first four-seater. But that doesn’t mean it’s some family car. With a twin-turbocharged 2.0-liter engine under the hood and three electric motors, the Gemera has 1,700 horsepower and will hit 60 in just 1.9 seconds. The company only plans to build 300 of them, each one costing at least $1.7 million.</p><div class=\"m1_MobileMPU\"></div> <h3 class=\"subheader\">Zenvo TSR-S</h3> <section class=\"trinity-skip-it\" contenteditable=\"false\" data-border=\"\" data-id=\"6588679\" data-widget=\"image\" draggable=\"true\"> <span class=\"svg-search\"> <svg> <use xlink:href=\"/design/dist/critical/icons/sprite-common-2-376d1d9f2575fd036f5b6d263acfad1d.svg#search\"></use> </svg> </span> <picture class=\"lazyload\"> <source data-srcset=\" https://cdn.motor1.com/images/mgl/QeeWgN/s5/zenvo-tsr-s.webp 213w, https://cdn.motor1.com/images/mgl/QeeWgN/s6/zenvo-tsr-s.webp 445w, https://cdn.motor1.com/images/mgl/QeeWgN/s4/zenvo-tsr-s.webp 889w, https://cdn.motor1.com/images/mgl/QeeWgN/s3/zenvo-tsr-s.webp 1280w, https://cdn.motor1.com/images/mgl/QeeWgN/s2/zenvo-tsr-s.webp 1440w, https://cdn.motor1.com/images/mgl/QeeWgN/s1/zenvo-tsr-s.webp 1920w \" sizes=\"(max-width: 767px) calc(100vw - 30px), (max-width: 1023px) calc(100vw - 50px), 649px\" type=\"image/webp\"> <source data-srcset=\" https://cdn.motor1.com/images/mgl/QeeWgN/s5/zenvo-tsr-s.jpg 213w, https://cdn.motor1.com/images/mgl/QeeWgN/s6/zenvo-tsr-s.jpg 445w, https://cdn.motor1.com/images/mgl/QeeWgN/s4/zenvo-tsr-s.jpg 889w, https://cdn.motor1.com/images/mgl/QeeWgN/s3/zenvo-tsr-s.jpg 1280w, https://cdn.motor1.com/images/mgl/QeeWgN/s2/zenvo-tsr-s.jpg 1440w, https://cdn.motor1.com/images/mgl/QeeWgN/s1/zenvo-tsr-s.jpg 1920w \" sizes=\"(max-width: 767px) calc(100vw - 30px), (max-width: 1023px) calc(100vw - 50px), 649px\" type=\"image/jpeg\"> <img alt=\"Zenvo TSR-S\" height=\"9\" loading=\"lazy\" src=\"https://cdn.motor1.com/images/static/16x9-tr.png\" width=\"16\"/> </source></source></picture> </section> <p><strong>Price: $1.7 Million</strong></p> <p>Hailing from Denmark, the Zenvo TSR-S debuted in 2018 at the Geneva Motor Show as the most extreme option in the supercar startup’s repertoire. Boasting a twin-charged 5.8-liter V8 engine, the TSR-S produces 1,177 horsepower and will hit 62 miles per hour in just 2.8 seconds. Expect to pay at least $1.7 million to get your hands on this powerful and limited supercar.</p> <h3 class=\"subheader\"><a data-inline-widget=\"internal-links\" data-params=\"%7B%22make_alias%22%3A%22hennessey%22%2C%22alias%22%3A%22venom-f5%22%7D\" data-type-id=\"1\" href=\"https://www.motor1.com/hennessey/venom-f5/\">Hennessey Venom F5</a></h3> <section class=\"trinity-skip-it\" contenteditable=\"false\" data-border=\"\" data-id=\"6588675\" data-widget=\"image\" draggable=\"true\"> <span class=\"svg-search\"> <svg> <use xlink:href=\"/design/dist/critical/icons/sprite-common-2-376d1d9f2575fd036f5b6d263acfad1d.svg#search\"></use> </svg> </span> <picture class=\"lazyload\"> <source data-srcset=\" https://cdn.motor1.com/images/mgl/eooYnN/s5/hennessey-venom-f5.webp 213w, https://cdn.motor1.com/images/mgl/eooYnN/s6/hennessey-venom-f5.webp 445w, https://cdn.motor1.com/images/mgl/eooYnN/s4/hennessey-venom-f5.webp 889w, https://cdn.motor1.com/images/mgl/eooYnN/s3/hennessey-venom-f5.webp 1280w, https://cdn.motor1.com/images/mgl/eooYnN/s2/hennessey-venom-f5.webp 1440w, https://cdn.motor1.com/images/mgl/eooYnN/s1/hennessey-venom-f5.webp 1920w \" sizes=\"(max-width: 767px) calc(100vw - 30px), (max-width: 1023px) calc(100vw - 50px), 649px\" type=\"image/webp\"> <source data-srcset=\" https://cdn.motor1.com/images/mgl/eooYnN/s5/hennessey-venom-f5.jpg 213w, https://cdn.motor1.com/images/mgl/eooYnN/s6/hennessey-venom-f5.jpg 445w, https://cdn.motor1.com/images/mgl/eooYnN/s4/hennessey-venom-f5.jpg 889w, https://cdn.motor1.com/images/mgl/eooYnN/s3/hennessey-venom-f5.jpg 1280w, https://cdn.motor1.com/images/mgl/eooYnN/s2/hennessey-venom-f5.jpg 1440w, https://cdn.motor1.com/images/mgl/eooYnN/s1/hennessey-venom-f5.jpg 1920w \" sizes=\"(max-width: 767px) calc(100vw - 30px), (max-width: 1023px) calc(100vw - 50px), 649px\" type=\"image/jpeg\"> <img alt=\"Hennessey Venom F5\" height=\"9\" loading=\"lazy\" src=\"https://cdn.motor1.com/images/static/16x9-tr.png\" width=\"16\"/> </source></source></picture> </section> <p><strong>Price: $1.8 Million</strong></p> <p>The Hennessey Venom GT was a record-breaker, topping out at 265.7 miles per hour in a world record run. But the new <a data-inline-widget=\"internal-links\" data-params=\"%7B%22article_edition_id%22%3A%22575545%22%2C%22section%22%3A%221%22%2C%22alias%22%3A%22hennessey-venom-f5-271-mph%22%7D\" data-type-id=\"0\" href=\"https://www.motor1.com/news/575545/hennessey-venom-f5-271-mph/\">F5</a> plans to beat its predecessor with an estimated top speed of 311 mph, and with that comes a higher price, too. The Venom F5 starts at $1.8 million, according to the company, which makes it just a bit pricier than its $1.2-million predecessor.</p> <h3 class=\"subheader\">Bentley Bacalar</h3> <section class=\"trinity-skip-it\" contenteditable=\"false\" data-border=\"\" data-id=\"4804186\" data-widget=\"image\" draggable=\"true\"> <span class=\"svg-search\"> <svg> <use xlink:href=\"/design/dist/critical/icons/sprite-common-2-376d1d9f2575fd036f5b6d263acfad1d.svg#search\"></use> </svg> </span> <picture class=\"lazyload\"> <source data-srcset=\" https://cdn.motor1.com/images/mgl/JPGqE/s5/bentley-bacalar.webp 213w, https://cdn.motor1.com/images/mgl/JPGqE/s6/bentley-bacalar.webp 445w, https://cdn.motor1.com/images/mgl/JPGqE/s4/bentley-bacalar.webp 889w, https://cdn.motor1.com/images/mgl/JPGqE/s3/bentley-bacalar.webp 1280w, https://cdn.motor1.com/images/mgl/JPGqE/s2/bentley-bacalar.webp 1440w, https://cdn.motor1.com/images/mgl/JPGqE/s1/bentley-bacalar.webp 1920w \" sizes=\"(max-width: 767px) calc(100vw - 30px), (max-width: 1023px) calc(100vw - 50px), 649px\" type=\"image/webp\"> <source data-srcset=\" https://cdn.motor1.com/images/mgl/JPGqE/s5/bentley-bacalar.jpg 213w, https://cdn.motor1.com/images/mgl/JPGqE/s6/bentley-bacalar.jpg 445w, https://cdn.motor1.com/images/mgl/JPGqE/s4/bentley-bacalar.jpg 889w, https://cdn.motor1.com/images/mgl/JPGqE/s3/bentley-bacalar.jpg 1280w, https://cdn.motor1.com/images/mgl/JPGqE/s2/bentley-bacalar.jpg 1440w, https://cdn.motor1.com/images/mgl/JPGqE/s1/bentley-bacalar.jpg 1920w \" sizes=\"(max-width: 767px) calc(100vw - 30px), (max-width: 1023px) calc(100vw - 50px), 649px\" type=\"image/jpeg\"> <img alt=\"Bentley Bacalar\" height=\"9\" loading=\"lazy\" src=\"https://cdn.motor1.com/images/static/16x9-tr.png\" width=\"16\"/> </source></source></picture> </section> <p><strong>Price: $1.9 Million</strong></p> <p>With just 12 total units produced, the <a data-inline-widget=\"internal-links\" data-params=\"%7B%22article_edition_id%22%3A%22499804%22%2C%22section%22%3A%222%22%2C%22alias%22%3A%222021-bentley-bacalar-first-drive%22%7D\" data-type-id=\"0\" href=\"https://www.motor1.com/reviews/499804/2021-bentley-bacalar-first-drive/\">Bentley Bacalar</a> makes some of the \"limited\" cars on this list look plentiful by comparison. Although the car’s opulent design may be the first thing to grab your attention, the Bacalar is no slouch in terms of performance either. With Bentley’s signature turbocharged 6.0-liter W12 turbocharged engine, this car delivers 650 horsepower and 664 pound-feet. If you have a spare $1.9 million lying around and are considering buying one, you’re already too late – Bentley says that every example is now in customer hands.</p><div class=\"m1_MobileMPU\"></div> <h3 class=\"subheader\">Hispano Suiza Carmen Boulogne</h3> <section class=\"trinity-skip-it\" contenteditable=\"false\" data-border=\"\" data-id=\"6509960\" data-widget=\"image\" draggable=\"true\"> <span class=\"svg-search\"> <svg> <use xlink:href=\"/design/dist/critical/icons/sprite-common-2-376d1d9f2575fd036f5b6d263acfad1d.svg#search\"></use> </svg> </span> <picture class=\"lazyload\"> <source data-srcset=\" https://cdn.motor1.com/images/mgl/G3y8V8/s5/hispano-suiza-carmen-boulogne-official-photos-front-angled.webp 213w, https://cdn.motor1.com/images/mgl/G3y8V8/s6/hispano-suiza-carmen-boulogne-official-photos-front-angled.webp 445w, https://cdn.motor1.com/images/mgl/G3y8V8/s4/hispano-suiza-carmen-boulogne-official-photos-front-angled.webp 889w, https://cdn.motor1.com/images/mgl/G3y8V8/s3/hispano-suiza-carmen-boulogne-official-photos-front-angled.webp 1280w, https://cdn.motor1.com/images/mgl/G3y8V8/s2/hispano-suiza-carmen-boulogne-official-photos-front-angled.webp 1440w, https://cdn.motor1.com/images/mgl/G3y8V8/s1/hispano-suiza-carmen-boulogne-official-photos-front-angled.webp 1920w \" sizes=\"(max-width: 767px) calc(100vw - 30px), (max-width: 1023px) calc(100vw - 50px), 649px\" type=\"image/webp\"> <source data-srcset=\" https://cdn.motor1.com/images/mgl/G3y8V8/s5/hispano-suiza-carmen-boulogne-official-photos-front-angled.jpg 213w, https://cdn.motor1.com/images/mgl/G3y8V8/s6/hispano-suiza-carmen-boulogne-official-photos-front-angled.jpg 445w, https://cdn.motor1.com/images/mgl/G3y8V8/s4/hispano-suiza-carmen-boulogne-official-photos-front-angled.jpg 889w, https://cdn.motor1.com/images/mgl/G3y8V8/s3/hispano-suiza-carmen-boulogne-official-photos-front-angled.jpg 1280w, https://cdn.motor1.com/images/mgl/G3y8V8/s2/hispano-suiza-carmen-boulogne-official-photos-front-angled.jpg 1440w, https://cdn.motor1.com/images/mgl/G3y8V8/s1/hispano-suiza-carmen-boulogne-official-photos-front-angled.jpg 1920w \" sizes=\"(max-width: 767px) calc(100vw - 30px), (max-width: 1023px) calc(100vw - 50px), 649px\" type=\"image/jpeg\"> <img alt=\"Hispano-Suiza Carmen Boulogne Official Photos Front Angled\" height=\"9\" loading=\"lazy\" src=\"https://cdn.motor1.com/images/static/16x9-tr.png\" width=\"16\"/> </source></source></picture> </section> <p><strong>Price: $1.9 Million</strong></p> <p>To call the Hispano Suiza Carmen Boulogne beautiful would be... a stretch. But this interesting-looking supercar made its US debut at this year's Amelia Island Concours d'Elegance boasting a 1,114-horsepower electric powertrain and a 0-60 time of 2.6 seconds. The Boulogne version pictured here – the lighter and more powerful of the two – costs close to $1.9 million.</p> <h3 class=\"subheader\">Bentley Mulliner Batur</h3> <section class=\"trinity-skip-it\" contenteditable=\"false\" data-border=\"\" data-id=\"6809331\" data-widget=\"image\" draggable=\"true\"> <span class=\"svg-search\"> <svg> <use xlink:href=\"/design/dist/critical/icons/sprite-common-2-376d1d9f2575fd036f5b6d263acfad1d.svg#search\"></use> </svg> </span> <picture class=\"lazyload\"> <source data-srcset=\" https://cdn.motor1.com/images/mgl/G33JZA/s5/bentley-mulliner-batur.webp 213w, https://cdn.motor1.com/images/mgl/G33JZA/s6/bentley-mulliner-batur.webp 445w, https://cdn.motor1.com/images/mgl/G33JZA/s4/bentley-mulliner-batur.webp 889w, https://cdn.motor1.com/images/mgl/G33JZA/s3/bentley-mulliner-batur.webp 1280w, https://cdn.motor1.com/images/mgl/G33JZA/s2/bentley-mulliner-batur.webp 1440w, https://cdn.motor1.com/images/mgl/G33JZA/s1/bentley-mulliner-batur.webp 1920w \" sizes=\"(max-width: 767px) calc(100vw - 30px), (max-width: 1023px) calc(100vw - 50px), 649px\" type=\"image/webp\"> <source data-srcset=\" https://cdn.motor1.com/images/mgl/G33JZA/s5/bentley-mulliner-batur.jpg 213w, https://cdn.motor1.com/images/mgl/G33JZA/s6/bentley-mulliner-batur.jpg 445w, https://cdn.motor1.com/images/mgl/G33JZA/s4/bentley-mulliner-batur.jpg 889w, https://cdn.motor1.com/images/mgl/G33JZA/s3/bentley-mulliner-batur.jpg 1280w, https://cdn.motor1.com/images/mgl/G33JZA/s2/bentley-mulliner-batur.jpg 1440w, https://cdn.motor1.com/images/mgl/G33JZA/s1/bentley-mulliner-batur.jpg 1920w \" sizes=\"(max-width: 767px) calc(100vw - 30px), (max-width: 1023px) calc(100vw - 50px), 649px\" type=\"image/jpeg\"> <img alt=\"Bentley Mulliner Batur\" height=\"9\" loading=\"lazy\" src=\"https://cdn.motor1.com/images/static/16x9-tr.png\" width=\"16\"/> </source></source></picture> </section> <p><strong>Price: $2.0 Million</strong></p> <p>The electric onslaught is coming. Bentley says it will be a fully electric automaker by 2030. But before the luxury brand transitions to battery power fully, the Mulliner Batur helps send the iconic W12 engine off in style. With 710 horsepower from that twin-turbocharged engine, the Batur is the most powerful Bentley ever. And since it's limited to just 18 examples globally, the Batur costs a whopping $2.0 million.</p> <h3 class=\"subheader\">Deus Vayanne</h3> <section class=\"trinity-skip-it\" contenteditable=\"false\" data-border=\"\" data-id=\"6583646\" data-widget=\"image\" draggable=\"true\"> <span class=\"svg-search\"> <svg> <use xlink:href=\"/design/dist/critical/icons/sprite-common-2-376d1d9f2575fd036f5b6d263acfad1d.svg#search\"></use> </svg> </span> <picture class=\"lazyload\"> <source data-srcset=\" https://cdn.motor1.com/images/mgl/wloegL/s5/deus-vayanne-electric-supercar.webp 213w, https://cdn.motor1.com/images/mgl/wloegL/s6/deus-vayanne-electric-supercar.webp 445w, https://cdn.motor1.com/images/mgl/wloegL/s4/deus-vayanne-electric-supercar.webp 889w, https://cdn.motor1.com/images/mgl/wloegL/s3/deus-vayanne-electric-supercar.webp 1280w, https://cdn.motor1.com/images/mgl/wloegL/s2/deus-vayanne-electric-supercar.webp 1440w, https://cdn.motor1.com/images/mgl/wloegL/s1/deus-vayanne-electric-supercar.webp 1920w \" sizes=\"(max-width: 767px) calc(100vw - 30px), (max-width: 1023px) calc(100vw - 50px), 649px\" type=\"image/webp\"> <source data-srcset=\" https://cdn.motor1.com/images/mgl/wloegL/s5/deus-vayanne-electric-supercar.jpg 213w, https://cdn.motor1.com/images/mgl/wloegL/s6/deus-vayanne-electric-supercar.jpg 445w, https://cdn.motor1.com/images/mgl/wloegL/s4/deus-vayanne-electric-supercar.jpg 889w, https://cdn.motor1.com/images/mgl/wloegL/s3/deus-vayanne-electric-supercar.jpg 1280w, https://cdn.motor1.com/images/mgl/wloegL/s2/deus-vayanne-electric-supercar.jpg 1440w, https://cdn.motor1.com/images/mgl/wloegL/s1/deus-vayanne-electric-supercar.jpg 1920w \" sizes=\"(max-width: 767px) calc(100vw - 30px), (max-width: 1023px) calc(100vw - 50px), 649px\" type=\"image/jpeg\"> <img alt=\"Deus Vayanne Electric Supercar \" height=\"9\" loading=\"lazy\" src=\"https://cdn.motor1.com/images/static/16x9-tr.png\" width=\"16\"/> </source></source></picture> </section> <p><strong>Price: $2.0 Million</strong></p> <p>The Deus Vayanne may not be a household name (yet), but the all-electric hypercar debuted earlier this year with 2,200 horsepower, a 0-60 time of just under 2.0 seconds, and an estimated top speed of 248 miles per hour. Deus plans to build 99 examples of the Vayanne, with the first few examples scheduled to go on sale in 2025.</p><div class=\"m1_MobileMPU\"></div> <h3 class=\"subheader\">SSC Tuatara</h3> <section class=\"trinity-skip-it\" contenteditable=\"false\" data-border=\"\" data-id=\"6588676\" data-widget=\"image\" draggable=\"true\"> <span class=\"svg-search\"> <svg> <use xlink:href=\"/design/dist/critical/icons/sprite-common-2-376d1d9f2575fd036f5b6d263acfad1d.svg#search\"></use> </svg> </span> <picture class=\"lazyload\"> <source data-srcset=\" https://cdn.motor1.com/images/mgl/nAAXz1/s5/ssc-tuatara.webp 213w, https://cdn.motor1.com/images/mgl/nAAXz1/s6/ssc-tuatara.webp 445w, https://cdn.motor1.com/images/mgl/nAAXz1/s4/ssc-tuatara.webp 889w, https://cdn.motor1.com/images/mgl/nAAXz1/s3/ssc-tuatara.webp 1280w, https://cdn.motor1.com/images/mgl/nAAXz1/s2/ssc-tuatara.webp 1440w, https://cdn.motor1.com/images/mgl/nAAXz1/s1/ssc-tuatara.webp 1920w \" sizes=\"(max-width: 767px) calc(100vw - 30px), (max-width: 1023px) calc(100vw - 50px), 649px\" type=\"image/webp\"> <source data-srcset=\" https://cdn.motor1.com/images/mgl/nAAXz1/s5/ssc-tuatara.jpg 213w, https://cdn.motor1.com/images/mgl/nAAXz1/s6/ssc-tuatara.jpg 445w, https://cdn.motor1.com/images/mgl/nAAXz1/s4/ssc-tuatara.jpg 889w, https://cdn.motor1.com/images/mgl/nAAXz1/s3/ssc-tuatara.jpg 1280w, https://cdn.motor1.com/images/mgl/nAAXz1/s2/ssc-tuatara.jpg 1440w, https://cdn.motor1.com/images/mgl/nAAXz1/s1/ssc-tuatara.jpg 1920w \" sizes=\"(max-width: 767px) calc(100vw - 30px), (max-width: 1023px) calc(100vw - 50px), 649px\" type=\"image/jpeg\"> <img alt=\"SSC Tuatara\" height=\"9\" loading=\"lazy\" src=\"https://cdn.motor1.com/images/static/16x9-tr.png\" width=\"16\"/> </source></source></picture> </section> <p><strong>Price: $2.0 Million*</strong></p> <p>Although initially cloaked in controversy, SSC did manage to hit 282.9 miles per hour with its Tuatara hypercar, breaking a world record. But not only is the <a data-inline-widget=\"internal-links\" data-params=\"%7B%22article_edition_id%22%3A%22510070%22%2C%22section%22%3A%221%22%2C%22alias%22%3A%22ssc-tuatara-striker-aggressor-announced%22%7D\" data-type-id=\"0\" href=\"https://www.motor1.com/news/510070/ssc-tuatara-striker-aggressor-announced/\">Tuatara</a> one of the fastest vehicles on the planet, it’s also one of the priciest. The cost for all that speed is estimated to be around $2.0 million for the base Tuatara, limited to just 100 units worldwide.</p> <h3 class=\"subheader\">Lotus Evija</h3> <section class=\"trinity-skip-it\" contenteditable=\"false\" data-border=\"\" data-id=\"6588674\" data-widget=\"image\" draggable=\"true\"> <span class=\"svg-search\"> <svg> <use xlink:href=\"/design/dist/critical/icons/sprite-common-2-376d1d9f2575fd036f5b6d263acfad1d.svg#search\"></use> </svg> </span> <picture class=\"lazyload\"> <source data-srcset=\" https://cdn.motor1.com/images/mgl/L33Yom/s5/lotus-evija.webp 213w, https://cdn.motor1.com/images/mgl/L33Yom/s6/lotus-evija.webp 445w, https://cdn.motor1.com/images/mgl/L33Yom/s4/lotus-evija.webp 889w, https://cdn.motor1.com/images/mgl/L33Yom/s3/lotus-evija.webp 1280w, https://cdn.motor1.com/images/mgl/L33Yom/s2/lotus-evija.webp 1440w, https://cdn.motor1.com/images/mgl/L33Yom/s1/lotus-evija.webp 1920w \" sizes=\"(max-width: 767px) calc(100vw - 30px), (max-width: 1023px) calc(100vw - 50px), 649px\" type=\"image/webp\"> <source data-srcset=\" https://cdn.motor1.com/images/mgl/L33Yom/s5/lotus-evija.jpg 213w, https://cdn.motor1.com/images/mgl/L33Yom/s6/lotus-evija.jpg 445w, https://cdn.motor1.com/images/mgl/L33Yom/s4/lotus-evija.jpg 889w, https://cdn.motor1.com/images/mgl/L33Yom/s3/lotus-evija.jpg 1280w, https://cdn.motor1.com/images/mgl/L33Yom/s2/lotus-evija.jpg 1440w, https://cdn.motor1.com/images/mgl/L33Yom/s1/lotus-evija.jpg 1920w \" sizes=\"(max-width: 767px) calc(100vw - 30px), (max-width: 1023px) calc(100vw - 50px), 649px\" type=\"image/jpeg\"> <img alt=\"Lotus Evija\" height=\"9\" loading=\"lazy\" src=\"https://cdn.motor1.com/images/static/16x9-tr.png\" width=\"16\"/> </source></source></picture> </section> <p><strong>Price: $2.1 Million</strong></p> <p>With a new <a data-inline-widget=\"internal-links\" data-params=\"%7B%22make_alias%22%3A%22lotus%22%2C%22alias%22%3A%22emira%22%7D\" data-type-id=\"1\" href=\"https://www.motor1.com/lotus/emira/\">Emira</a> sports car and an <a data-inline-widget=\"internal-links\" data-params=\"%7B%22make_alias%22%3A%22lotus%22%2C%22alias%22%3A%22elerte%22%7D\" data-type-id=\"1\" href=\"https://www.motor1.com/lotus/elerte/\">Eletre</a> electric SUV, Lotus is on the brink of a comeback. The automaker plans to roll out a number of new products within the next few years, with part of that strategy including the range-topping <a data-inline-widget=\"internal-links\" data-params=\"%7B%22article_edition_id%22%3A%22493450%22%2C%22section%22%3A%221%22%2C%22alias%22%3A%22lotus-evija-motor-noise-debut%22%7D\" data-type-id=\"0\" href=\"https://www.motor1.com/news/493450/lotus-evija-motor-noise-debut/\">Evija</a>. This supercar comes in at a cool $2.1 million and produces nearly 2,000 horsepower via four electric motors. Lotus plans to build just 130 road-going examples of the Evija.</p> <h3 class=\"subheader\"><a data-inline-widget=\"internal-links\" data-params=\"%7B%22make_alias%22%3A%22aston-martin%22%2C%22alias%22%3A%22vulcan%22%7D\" data-type-id=\"1\" href=\"https://www.motor1.com/aston-martin/vulcan/\">Aston Martin Vulcan</a></h3> <section class=\"trinity-skip-it\" contenteditable=\"false\" data-border=\"\" data-id=\"6588672\" data-widget=\"image\" draggable=\"true\"> <span class=\"svg-search\"> <svg> <use xlink:href=\"/design/dist/critical/icons/sprite-common-2-376d1d9f2575fd036f5b6d263acfad1d.svg#search\"></use> </svg> </span> <picture class=\"lazyload\"> <source data-srcset=\" https://cdn.motor1.com/images/mgl/JOO8y6/s5/aston-martin-vulcan.webp 213w, https://cdn.motor1.com/images/mgl/JOO8y6/s6/aston-martin-vulcan.webp 445w, https://cdn.motor1.com/images/mgl/JOO8y6/s4/aston-martin-vulcan.webp 889w, https://cdn.motor1.com/images/mgl/JOO8y6/s3/aston-martin-vulcan.webp 1280w, https://cdn.motor1.com/images/mgl/JOO8y6/s2/aston-martin-vulcan.webp 1440w, https://cdn.motor1.com/images/mgl/JOO8y6/s1/aston-martin-vulcan.webp 1920w \" sizes=\"(max-width: 767px) calc(100vw - 30px), (max-width: 1023px) calc(100vw - 50px), 649px\" type=\"image/webp\"> <source data-srcset=\" https://cdn.motor1.com/images/mgl/JOO8y6/s5/aston-martin-vulcan.jpg 213w, https://cdn.motor1.com/images/mgl/JOO8y6/s6/aston-martin-vulcan.jpg 445w, https://cdn.motor1.com/images/mgl/JOO8y6/s4/aston-martin-vulcan.jpg 889w, https://cdn.motor1.com/images/mgl/JOO8y6/s3/aston-martin-vulcan.jpg 1280w, https://cdn.motor1.com/images/mgl/JOO8y6/s2/aston-martin-vulcan.jpg 1440w, https://cdn.motor1.com/images/mgl/JOO8y6/s1/aston-martin-vulcan.jpg 1920w \" sizes=\"(max-width: 767px) calc(100vw - 30px), (max-width: 1023px) calc(100vw - 50px), 649px\" type=\"image/jpeg\"> <img alt=\"Aston Martin Vulcan\" height=\"9\" loading=\"lazy\" src=\"https://cdn.motor1.com/images/static/16x9-tr.png\" width=\"16\"/> </source></source></picture> </section> <p><strong>Price: $2.3 Million</strong></p> <p>As with a few other cars on this list, the Aston Martin Vulcan was a track-only special. The British supercar made its world debut in 2015, powered by a naturally aspirated 7.0-liter V12 that produced 820 horsepower, and limited to just 24 examples worldwide. An even more track-focused AMR Pro model followed, but even the base Vulcan was a pricey commodity, costing about $2.4-million from the factory.</p><div class=\"m1_MobileMPU\"></div> <h3 class=\"subheader\">Delage D12</h3> <section class=\"trinity-skip-it\" contenteditable=\"false\" data-border=\"\" data-id=\"6853127\" data-widget=\"image\" draggable=\"true\"> <span class=\"svg-search\"> <svg> <use xlink:href=\"/design/dist/critical/icons/sprite-common-2-376d1d9f2575fd036f5b6d263acfad1d.svg#search\"></use> </svg> </span> <picture class=\"lazyload\"> <source data-srcset=\" https://cdn.motor1.com/images/mgl/7ZZnbA/s5/delage-d12-speedster.webp 213w, https://cdn.motor1.com/images/mgl/7ZZnbA/s6/delage-d12-speedster.webp 445w, https://cdn.motor1.com/images/mgl/7ZZnbA/s4/delage-d12-speedster.webp 889w, https://cdn.motor1.com/images/mgl/7ZZnbA/s3/delage-d12-speedster.webp 1280w, https://cdn.motor1.com/images/mgl/7ZZnbA/s2/delage-d12-speedster.webp 1440w, https://cdn.motor1.com/images/mgl/7ZZnbA/s1/delage-d12-speedster.webp 1920w \" sizes=\"(max-width: 767px) calc(100vw - 30px), (max-width: 1023px) calc(100vw - 50px), 649px\" type=\"image/webp\"> <source data-srcset=\" https://cdn.motor1.com/images/mgl/7ZZnbA/s5/delage-d12-speedster.jpg 213w, https://cdn.motor1.com/images/mgl/7ZZnbA/s6/delage-d12-speedster.jpg 445w, https://cdn.motor1.com/images/mgl/7ZZnbA/s4/delage-d12-speedster.jpg 889w, https://cdn.motor1.com/images/mgl/7ZZnbA/s3/delage-d12-speedster.jpg 1280w, https://cdn.motor1.com/images/mgl/7ZZnbA/s2/delage-d12-speedster.jpg 1440w, https://cdn.motor1.com/images/mgl/7ZZnbA/s1/delage-d12-speedster.jpg 1920w \" sizes=\"(max-width: 767px) calc(100vw - 30px), (max-width: 1023px) calc(100vw - 50px), 649px\" type=\"image/jpeg\"> <img alt=\"Delage D12 Speedster\" height=\"9\" loading=\"lazy\" src=\"https://cdn.motor1.com/images/static/16x9-tr.png\" width=\"16\"/> </source></source></picture> </section> <p><strong>Price: $2.3 Million</strong></p> <p>You may have heard of <a data-inline-widget=\"internal-links\" data-params=\"%7B%22article_edition_id%22%3A%22589945%22%2C%22section%22%3A%223%22%2C%22alias%22%3A%22delage-hypercar-brand-challenging-bugatti-interview%22%7D\" data-type-id=\"0\" href=\"https://www.motor1.com/features/589945/delage-hypercar-brand-challenging-bugatti-interview/\">Delage</a> before. In the early 1900s, this French automaker was competing on the track with Bugatti and Ferrari. Now Delage is back and with a beautiful new hypercar dubbed the D12. Powered by a 7.6-liter V12 engine, the new D12 produces upwards of 1,010 horsepower and costs a cool $2.3 million.</p> <h3 class=\"subheader\"><a data-inline-widget=\"internal-links\" data-params=\"%7B%22make_alias%22%3A%22mclaren%22%2C%22alias%22%3A%22speedtail%22%7D\" data-type-id=\"1\" href=\"https://www.motor1.com/mclaren/speedtail/\">McLaren Speedtail</a></h3> <section class=\"trinity-skip-it\" contenteditable=\"false\" data-border=\"\" data-id=\"6588669\" data-widget=\"image\" draggable=\"true\"> <span class=\"svg-search\"> <svg> <use xlink:href=\"/design/dist/critical/icons/sprite-common-2-376d1d9f2575fd036f5b6d263acfad1d.svg#search\"></use> </svg> </span> <picture class=\"lazyload\"> <source data-srcset=\" https://cdn.motor1.com/images/mgl/y22gyl/s5/mclaren-speedtail.webp 213w, https://cdn.motor1.com/images/mgl/y22gyl/s6/mclaren-speedtail.webp 445w, https://cdn.motor1.com/images/mgl/y22gyl/s4/mclaren-speedtail.webp 889w, https://cdn.motor1.com/images/mgl/y22gyl/s3/mclaren-speedtail.webp 1280w, https://cdn.motor1.com/images/mgl/y22gyl/s2/mclaren-speedtail.webp 1440w, https://cdn.motor1.com/images/mgl/y22gyl/s1/mclaren-speedtail.webp 1920w \" sizes=\"(max-width: 767px) calc(100vw - 30px), (max-width: 1023px) calc(100vw - 50px), 649px\" type=\"image/webp\"> <source data-srcset=\" https://cdn.motor1.com/images/mgl/y22gyl/s5/mclaren-speedtail.jpg 213w, https://cdn.motor1.com/images/mgl/y22gyl/s6/mclaren-speedtail.jpg 445w, https://cdn.motor1.com/images/mgl/y22gyl/s4/mclaren-speedtail.jpg 889w, https://cdn.motor1.com/images/mgl/y22gyl/s3/mclaren-speedtail.jpg 1280w, https://cdn.motor1.com/images/mgl/y22gyl/s2/mclaren-speedtail.jpg 1440w, https://cdn.motor1.com/images/mgl/y22gyl/s1/mclaren-speedtail.jpg 1920w \" sizes=\"(max-width: 767px) calc(100vw - 30px), (max-width: 1023px) calc(100vw - 50px), 649px\" type=\"image/jpeg\"> <img alt=\"McLaren Speedtail\" height=\"9\" loading=\"lazy\" src=\"https://cdn.motor1.com/images/static/16x9-tr.png\" width=\"16\"/> </source></source></picture> </section> <p><strong>Price: $2.3 Million</strong></p> <p>What would you pay for the fastest production <a data-inline-widget=\"internal-links\" data-params=\"%7B%22alias%22%3A%22mclaren%22%7D\" data-type-id=\"2\" href=\"https://www.motor1.com/mclaren/\">McLaren</a> ever? Well, at least $2.3 million. With 1,035 horsepower courtesy of a gasoline-electric hybrid V8 powertrain, the Speedtail tops out at 250 miles per hour and is able to reach 186 mph in just 12.8 seconds – 2.7 seconds faster than the P1. Unfortunately, if you didn't get your hands on one new in 2020, you'll have to shell out serious cash on the used market. McLaren only built 106 examples.</p> <h3 class=\"subheader\"><a data-inline-widget=\"internal-links\" data-params=\"%7B%22make_alias%22%3A%22rimac%22%2C%22alias%22%3A%22nevera%22%7D\" data-type-id=\"1\" href=\"https://www.motor1.com/rimac/nevera/\">Rimac Nevera</a></h3> <section class=\"trinity-skip-it\" contenteditable=\"false\" data-border=\"\" data-id=\"6588671\" data-widget=\"image\" draggable=\"true\"> <span class=\"svg-search\"> <svg> <use xlink:href=\"/design/dist/critical/icons/sprite-common-2-376d1d9f2575fd036f5b6d263acfad1d.svg#search\"></use> </svg> </span> <picture class=\"lazyload\"> <source data-srcset=\" https://cdn.motor1.com/images/mgl/g440ng/s5/rimac-nevera.webp 213w, https://cdn.motor1.com/images/mgl/g440ng/s6/rimac-nevera.webp 445w, https://cdn.motor1.com/images/mgl/g440ng/s4/rimac-nevera.webp 889w, https://cdn.motor1.com/images/mgl/g440ng/s3/rimac-nevera.webp 1280w, https://cdn.motor1.com/images/mgl/g440ng/s2/rimac-nevera.webp 1440w, https://cdn.motor1.com/images/mgl/g440ng/s1/rimac-nevera.webp 1920w \" sizes=\"(max-width: 767px) calc(100vw - 30px), (max-width: 1023px) calc(100vw - 50px), 649px\" type=\"image/webp\"> <source data-srcset=\" https://cdn.motor1.com/images/mgl/g440ng/s5/rimac-nevera.jpg 213w, https://cdn.motor1.com/images/mgl/g440ng/s6/rimac-nevera.jpg 445w, https://cdn.motor1.com/images/mgl/g440ng/s4/rimac-nevera.jpg 889w, https://cdn.motor1.com/images/mgl/g440ng/s3/rimac-nevera.jpg 1280w, https://cdn.motor1.com/images/mgl/g440ng/s2/rimac-nevera.jpg 1440w, https://cdn.motor1.com/images/mgl/g440ng/s1/rimac-nevera.jpg 1920w \" sizes=\"(max-width: 767px) calc(100vw - 30px), (max-width: 1023px) calc(100vw - 50px), 649px\" type=\"image/jpeg\"> <img alt=\"Rimac Nevera\" height=\"9\" loading=\"lazy\" src=\"https://cdn.motor1.com/images/static/16x9-tr.png\" width=\"16\"/> </source></source></picture> </section> <p><strong>Price: $2.4 Million</strong></p> <p>The Rimac Nevera takes the title of most expensive EV with its $2.4 million price tag – but only by a few hundred thousand dollars over the next priciest electric supercar. Packing 1,914 horsepower and 1,740 pound-feet of torque, the Nevera can hit 60 in under 2.0 seconds and will continue on to a top speed of 258 miles per hour. Those lucky enough to order one should see it in their driveway before the end of 2022.</p><div class=\"m1_MobileMPU\"></div> <h3 class=\"subheader\">Pagani Utopia</h3> <section class=\"trinity-skip-it\" contenteditable=\"false\" data-border=\"\" data-id=\"6842011\" data-widget=\"image\" draggable=\"true\"> <span class=\"svg-search\"> <svg> <use xlink:href=\"/design/dist/critical/icons/sprite-common-2-376d1d9f2575fd036f5b6d263acfad1d.svg#search\"></use> </svg> </span> <picture class=\"lazyload\"> <source data-srcset=\" https://cdn.motor1.com/images/mgl/Kbbjnb/s5/pagani_utopia_02.webp 213w, https://cdn.motor1.com/images/mgl/Kbbjnb/s6/pagani_utopia_02.webp 445w, https://cdn.motor1.com/images/mgl/Kbbjnb/s4/pagani_utopia_02.webp 889w, https://cdn.motor1.com/images/mgl/Kbbjnb/s3/pagani_utopia_02.webp 1280w, https://cdn.motor1.com/images/mgl/Kbbjnb/s2/pagani_utopia_02.webp 1440w, https://cdn.motor1.com/images/mgl/Kbbjnb/s1/pagani_utopia_02.webp 1920w \" sizes=\"(max-width: 767px) calc(100vw - 30px), (max-width: 1023px) calc(100vw - 50px), 649px\" type=\"image/webp\"> <source data-srcset=\" https://cdn.motor1.com/images/mgl/Kbbjnb/s5/pagani_utopia_02.jpg 213w, https://cdn.motor1.com/images/mgl/Kbbjnb/s6/pagani_utopia_02.jpg 445w, https://cdn.motor1.com/images/mgl/Kbbjnb/s4/pagani_utopia_02.jpg 889w, https://cdn.motor1.com/images/mgl/Kbbjnb/s3/pagani_utopia_02.jpg 1280w, https://cdn.motor1.com/images/mgl/Kbbjnb/s2/pagani_utopia_02.jpg 1440w, https://cdn.motor1.com/images/mgl/Kbbjnb/s1/pagani_utopia_02.jpg 1920w \" sizes=\"(max-width: 767px) calc(100vw - 30px), (max-width: 1023px) calc(100vw - 50px), 649px\" type=\"image/jpeg\"> <img alt=\"Pagani_Utopia_02\" height=\"9\" loading=\"lazy\" src=\"https://cdn.motor1.com/images/static/16x9-tr.png\" width=\"16\"/> </source></source></picture> </section> <p><strong>Price: $2.5 Million</strong></p> <p>First came the Zonda, then the Huayra, and now the Pagani Utopia. With 852 horsepower and an available seven-speed manual gearbox, the Utopia is the most powerful road-going Pagani ever produced and it’s limited to just 99 examples worldwide. The cost for one is a cool $2.5 million.</p> <h3 class=\"subheader\"><a data-inline-widget=\"internal-links\" data-params=\"%7B%22make_alias%22%3A%22automobili-pininfarina%22%2C%22alias%22%3A%22battista%22%7D\" data-type-id=\"1\" href=\"https://www.motor1.com/automobili-pininfarina/battista/\">Pininfarina Battista</a></h3> <section class=\"trinity-skip-it\" contenteditable=\"false\" data-border=\"\" data-id=\"3829771\" data-widget=\"image\" draggable=\"true\"> <span class=\"svg-search\"> <svg> <use xlink:href=\"/design/dist/critical/icons/sprite-common-2-376d1d9f2575fd036f5b6d263acfad1d.svg#search\"></use> </svg> </span> <picture class=\"lazyload\"> <source data-srcset=\" https://cdn.motor1.com/images/mgl/pv2vv/s5/pininfarina-battista.webp 213w, https://cdn.motor1.com/images/mgl/pv2vv/s6/pininfarina-battista.webp 445w, https://cdn.motor1.com/images/mgl/pv2vv/s4/pininfarina-battista.webp 889w, https://cdn.motor1.com/images/mgl/pv2vv/s3/pininfarina-battista.webp 1280w, https://cdn.motor1.com/images/mgl/pv2vv/s2/pininfarina-battista.webp 1440w, https://cdn.motor1.com/images/mgl/pv2vv/s1/pininfarina-battista.webp 1920w \" sizes=\"(max-width: 767px) calc(100vw - 30px), (max-width: 1023px) calc(100vw - 50px), 649px\" type=\"image/webp\"> <source data-srcset=\" https://cdn.motor1.com/images/mgl/pv2vv/s5/pininfarina-battista.jpg 213w, https://cdn.motor1.com/images/mgl/pv2vv/s6/pininfarina-battista.jpg 445w, https://cdn.motor1.com/images/mgl/pv2vv/s4/pininfarina-battista.jpg 889w, https://cdn.motor1.com/images/mgl/pv2vv/s3/pininfarina-battista.jpg 1280w, https://cdn.motor1.com/images/mgl/pv2vv/s2/pininfarina-battista.jpg 1440w, https://cdn.motor1.com/images/mgl/pv2vv/s1/pininfarina-battista.jpg 1920w \" sizes=\"(max-width: 767px) calc(100vw - 30px), (max-width: 1023px) calc(100vw - 50px), 649px\" type=\"image/jpeg\"> <img alt=\"Pininfarina Battista\" height=\"9\" loading=\"lazy\" src=\"https://cdn.motor1.com/images/static/16x9-tr.png\" width=\"16\"/> </source></source></picture> </section> <p><strong>Price: $2.5 Million</strong></p> <p>Aptly named after the company’s founder, Battista Farina, the <a data-inline-widget=\"internal-links\" data-params=\"%7B%22article_edition_id%22%3A%22457790%22%2C%22section%22%3A%221%22%2C%22alias%22%3A%22pininfarina-battista-completes-high-speed-testing%22%7D\" data-type-id=\"0\" href=\"https://www.motor1.com/news/457790/pininfarina-battista-completes-high-speed-testing/\">Pininfarina Battista</a> delivers the kind of performance (and price!) to make its namesake proud. Revealed at the 2019 Geneva Motor Show, the Battista is completely electric, putting out 1,827 horsepower. If a normal supercar’s 0 to 60 time sounds too leisurely for you, the company says that the Battista will take you there in under 2.0 seconds. Pininfarina plans on building 150 examples of the Battista, costing $2.5 million each.</p> <h3 class=\"subheader\">Ferrari FXX K Evo</h3> <section class=\"trinity-skip-it\" contenteditable=\"false\" data-border=\"\" data-id=\"6588668\" data-widget=\"image\" draggable=\"true\"> <span class=\"svg-search\"> <svg> <use xlink:href=\"/design/dist/critical/icons/sprite-common-2-376d1d9f2575fd036f5b6d263acfad1d.svg#search\"></use> </svg> </span> <picture class=\"lazyload\"> <source data-srcset=\" https://cdn.motor1.com/images/mgl/8AAn7v/s5/ferrari-laferrari-fxx-k.webp 213w, https://cdn.motor1.com/images/mgl/8AAn7v/s6/ferrari-laferrari-fxx-k.webp 445w, https://cdn.motor1.com/images/mgl/8AAn7v/s4/ferrari-laferrari-fxx-k.webp 889w, https://cdn.motor1.com/images/mgl/8AAn7v/s3/ferrari-laferrari-fxx-k.webp 1280w, https://cdn.motor1.com/images/mgl/8AAn7v/s2/ferrari-laferrari-fxx-k.webp 1440w, https://cdn.motor1.com/images/mgl/8AAn7v/s1/ferrari-laferrari-fxx-k.webp 1920w \" sizes=\"(max-width: 767px) calc(100vw - 30px), (max-width: 1023px) calc(100vw - 50px), 649px\" type=\"image/webp\"> <source data-srcset=\" https://cdn.motor1.com/images/mgl/8AAn7v/s5/ferrari-laferrari-fxx-k.jpg 213w, https://cdn.motor1.com/images/mgl/8AAn7v/s6/ferrari-laferrari-fxx-k.jpg 445w, https://cdn.motor1.com/images/mgl/8AAn7v/s4/ferrari-laferrari-fxx-k.jpg 889w, https://cdn.motor1.com/images/mgl/8AAn7v/s3/ferrari-laferrari-fxx-k.jpg 1280w, https://cdn.motor1.com/images/mgl/8AAn7v/s2/ferrari-laferrari-fxx-k.jpg 1440w, https://cdn.motor1.com/images/mgl/8AAn7v/s1/ferrari-laferrari-fxx-k.jpg 1920w \" sizes=\"(max-width: 767px) calc(100vw - 30px), (max-width: 1023px) calc(100vw - 50px), 649px\" type=\"image/jpeg\"> <img alt=\"Ferrari LaFerrari FXX K\" height=\"9\" loading=\"lazy\" src=\"https://cdn.motor1.com/images/static/16x9-tr.png\" width=\"16\"/> </source></source></picture> </section> <p><strong>Price: $2.6 Million</strong></p> <p>Sure, you could buy a normal LaFerrari (which also makes the list further down), but why settle for a supercar so mundane when you can take home this track-only version instead? Granted, the Ferrari FXX K Evo came out in 2017, and it's well past the point of being sold out. But when it was new, this 1,036-horsepower Ferrari tore up the track with its naturally aspirated V12 and aggressive aerodynamics.</p><div class=\"m1_MobileMPU\"></div> <h3 class=\"subheader\">Gordon Murray T.50</h3> <section class=\"trinity-skip-it\" contenteditable=\"false\" data-border=\"\" data-id=\"6588670\" data-widget=\"image\" draggable=\"true\"> <span class=\"svg-search\"> <svg> <use xlink:href=\"/design/dist/critical/icons/sprite-common-2-376d1d9f2575fd036f5b6d263acfad1d.svg#search\"></use> </svg> </span> <picture class=\"lazyload\"> <source data-srcset=\" https://cdn.motor1.com/images/mgl/3WW1pY/s5/gordon-murray-t.50.webp 213w, https://cdn.motor1.com/images/mgl/3WW1pY/s6/gordon-murray-t.50.webp 445w, https://cdn.motor1.com/images/mgl/3WW1pY/s4/gordon-murray-t.50.webp 889w, https://cdn.motor1.com/images/mgl/3WW1pY/s3/gordon-murray-t.50.webp 1280w, https://cdn.motor1.com/images/mgl/3WW1pY/s2/gordon-murray-t.50.webp 1440w, https://cdn.motor1.com/images/mgl/3WW1pY/s1/gordon-murray-t.50.webp 1920w \" sizes=\"(max-width: 767px) calc(100vw - 30px), (max-width: 1023px) calc(100vw - 50px), 649px\" type=\"image/webp\"> <source data-srcset=\" https://cdn.motor1.com/images/mgl/3WW1pY/s5/gordon-murray-t.50.jpg 213w, https://cdn.motor1.com/images/mgl/3WW1pY/s6/gordon-murray-t.50.jpg 445w, https://cdn.motor1.com/images/mgl/3WW1pY/s4/gordon-murray-t.50.jpg 889w, https://cdn.motor1.com/images/mgl/3WW1pY/s3/gordon-murray-t.50.jpg 1280w, https://cdn.motor1.com/images/mgl/3WW1pY/s2/gordon-murray-t.50.jpg 1440w, https://cdn.motor1.com/images/mgl/3WW1pY/s1/gordon-murray-t.50.jpg 1920w \" sizes=\"(max-width: 767px) calc(100vw - 30px), (max-width: 1023px) calc(100vw - 50px), 649px\" type=\"image/jpeg\"> <img alt=\"Gordon Murray T.50\" height=\"9\" loading=\"lazy\" src=\"https://cdn.motor1.com/images/static/16x9-tr.png\" width=\"16\"/> </source></source></picture> </section> <p><strong>Price: $2.6 Million</strong></p> <p>If the name Gordon Murray sounds familiar, it’s because he's the man behind the design of the iconic McLaren F1. These days, Mr. Murray has his own supercar venture, and the handsome <a data-inline-widget=\"internal-links\" data-params=\"%7B%22article_edition_id%22%3A%22580058%22%2C%22section%22%3A%221%22%2C%22alias%22%3A%22gordon-murray-t50-lapping-goodwood-video%22%7D\" data-type-id=\"0\" href=\"https://www.motor1.com/news/580058/gordon-murray-t50-lapping-goodwood-video/\">T.50</a> is the crown jewel of the lineup. At $2.6 million, the T.50 packs a naturally aspirated 4.0-liter V12 that makes 654 horsepower. The car itself weighs a mere 2,174 pounds, and at 392 pounds, the T.50 has the lightest V12 on the road today.</p> <h3 class=\"subheader\"><a data-inline-widget=\"internal-links\" data-params=\"%7B%22make_alias%22%3A%22lamborghini%22%2C%22alias%22%3A%22countach-lpi-800-4%22%7D\" data-type-id=\"1\" href=\"https://www.motor1.com/lamborghini/countach-lpi-800-4/\">Lamborghini Countach</a></h3> <section class=\"trinity-skip-it\" contenteditable=\"false\" data-border=\"\" data-id=\"6588667\" data-widget=\"image\" draggable=\"true\"> <span class=\"svg-search\"> <svg> <use xlink:href=\"/design/dist/critical/icons/sprite-common-2-376d1d9f2575fd036f5b6d263acfad1d.svg#search\"></use> </svg> </span> <picture class=\"lazyload\"> <source data-srcset=\" https://cdn.motor1.com/images/mgl/ojj1ny/s5/lamborghini-countach.webp 213w, https://cdn.motor1.com/images/mgl/ojj1ny/s6/lamborghini-countach.webp 445w, https://cdn.motor1.com/images/mgl/ojj1ny/s4/lamborghini-countach.webp 889w, https://cdn.motor1.com/images/mgl/ojj1ny/s3/lamborghini-countach.webp 1280w, https://cdn.motor1.com/images/mgl/ojj1ny/s2/lamborghini-countach.webp 1440w, https://cdn.motor1.com/images/mgl/ojj1ny/s1/lamborghini-countach.webp 1920w \" sizes=\"(max-width: 767px) calc(100vw - 30px), (max-width: 1023px) calc(100vw - 50px), 649px\" type=\"image/webp\"> <source data-srcset=\" https://cdn.motor1.com/images/mgl/ojj1ny/s5/lamborghini-countach.jpg 213w, https://cdn.motor1.com/images/mgl/ojj1ny/s6/lamborghini-countach.jpg 445w, https://cdn.motor1.com/images/mgl/ojj1ny/s4/lamborghini-countach.jpg 889w, https://cdn.motor1.com/images/mgl/ojj1ny/s3/lamborghini-countach.jpg 1280w, https://cdn.motor1.com/images/mgl/ojj1ny/s2/lamborghini-countach.jpg 1440w, https://cdn.motor1.com/images/mgl/ojj1ny/s1/lamborghini-countach.jpg 1920w \" sizes=\"(max-width: 767px) calc(100vw - 30px), (max-width: 1023px) calc(100vw - 50px), 649px\" type=\"image/jpeg\"> <img alt=\"Lamborghini Countach\" height=\"9\" loading=\"lazy\" src=\"https://cdn.motor1.com/images/static/16x9-tr.png\" width=\"16\"/> </source></source></picture> </section> <p><strong>Price: $2.6 Million</strong></p> <p>The name Countach may be iconic, but is it worth $2.6 million? That's what Lamborghini hopes you will spend on its new Aventador-based model. Debuting in August of 2021, the Countach LPI 800-4 has a 6.5-liter V12 with a light hybrid assist that gives it a whopping 803 horsepower, allowing for a 60 time of 2.8 seconds and a top speed of more than 220 miles per hour.</p> <h3 class=\"subheader\"><a data-inline-widget=\"internal-links\" data-params=\"%7B%22make_alias%22%3A%22mercedes-amg%22%2C%22alias%22%3A%22project-one%22%7D\" data-type-id=\"1\" href=\"https://www.motor1.com/mercedes-amg/project-one/\">Mercedes-AMG Project One</a></h3> <section class=\"trinity-skip-it\" contenteditable=\"false\" data-border=\"\" data-id=\"5612463\" data-widget=\"image\" draggable=\"true\"> <span class=\"svg-search\"> <svg> <use xlink:href=\"/design/dist/critical/icons/sprite-common-2-376d1d9f2575fd036f5b6d263acfad1d.svg#search\"></use> </svg> </span> <picture class=\"lazyload\"> <source data-srcset=\" https://cdn.motor1.com/images/mgl/x67Gw/s5/mercedes-amg-project-one.webp 213w, https://cdn.motor1.com/images/mgl/x67Gw/s6/mercedes-amg-project-one.webp 445w, https://cdn.motor1.com/images/mgl/x67Gw/s4/mercedes-amg-project-one.webp 889w, https://cdn.motor1.com/images/mgl/x67Gw/s3/mercedes-amg-project-one.webp 1280w, https://cdn.motor1.com/images/mgl/x67Gw/s2/mercedes-amg-project-one.webp 1440w, https://cdn.motor1.com/images/mgl/x67Gw/s1/mercedes-amg-project-one.webp 1920w \" sizes=\"(max-width: 767px) calc(100vw - 30px), (max-width: 1023px) calc(100vw - 50px), 649px\" type=\"image/webp\"> <source data-srcset=\" https://cdn.motor1.com/images/mgl/x67Gw/s5/mercedes-amg-project-one.jpg 213w, https://cdn.motor1.com/images/mgl/x67Gw/s6/mercedes-amg-project-one.jpg 445w, https://cdn.motor1.com/images/mgl/x67Gw/s4/mercedes-amg-project-one.jpg 889w, https://cdn.motor1.com/images/mgl/x67Gw/s3/mercedes-amg-project-one.jpg 1280w, https://cdn.motor1.com/images/mgl/x67Gw/s2/mercedes-amg-project-one.jpg 1440w, https://cdn.motor1.com/images/mgl/x67Gw/s1/mercedes-amg-project-one.jpg 1920w \" sizes=\"(max-width: 767px) calc(100vw - 30px), (max-width: 1023px) calc(100vw - 50px), 649px\" type=\"image/jpeg\"> <img alt=\"Mercedes-AMG Project One\" height=\"9\" loading=\"lazy\" src=\"https://cdn.motor1.com/images/static/16x9-tr.png\" width=\"16\"/> </source></source></picture> </section> <p><strong>Price: $2.7 Million</strong></p> <p><a data-inline-widget=\"internal-links\" data-params=\"%7B%22alias%22%3A%22mercedes-benz%22%7D\" data-type-id=\"2\" href=\"https://www.motor1.com/mercedes-benz/\">Mercedes</a> has promised a production version of the <a data-inline-widget=\"internal-links\" data-params=\"%7B%22make_alias%22%3A%22mercedes-amg%22%2C%22alias%22%3A%22project-one%22%7D\" data-type-id=\"1\" href=\"https://www.motor1.com/mercedes-amg/project-one/\">Project One</a> hypercar for quite a while now. The first official announcement was in March of 2017 before the first concept debuted later that same year. But after nearly five years of teasing, it appears as if the Project One will finally hit public roads. And when it does, the hybrid hypercar will have over 1,200 horsepower (895 kilowatts) and a price tag of $2.7 million.</p><div class=\"m1_MobileMPU\"></div> <h3 class=\"subheader\">Aston Martin Victor</h3> <section class=\"trinity-skip-it\" contenteditable=\"false\" data-border=\"\" data-id=\"5848600\" data-widget=\"image\" draggable=\"true\"> <span class=\"svg-search\"> <svg> <use xlink:href=\"/design/dist/critical/icons/sprite-common-2-376d1d9f2575fd036f5b6d263acfad1d.svg#search\"></use> </svg> </span> <picture class=\"lazyload\"> <source data-srcset=\" https://cdn.motor1.com/images/mgl/WmLWo/s5/aston-martin-victor-static.webp 213w, https://cdn.motor1.com/images/mgl/WmLWo/s6/aston-martin-victor-static.webp 445w, https://cdn.motor1.com/images/mgl/WmLWo/s4/aston-martin-victor-static.webp 889w, https://cdn.motor1.com/images/mgl/WmLWo/s3/aston-martin-victor-static.webp 1280w, https://cdn.motor1.com/images/mgl/WmLWo/s2/aston-martin-victor-static.webp 1440w, https://cdn.motor1.com/images/mgl/WmLWo/s1/aston-martin-victor-static.webp 1920w \" sizes=\"(max-width: 767px) calc(100vw - 30px), (max-width: 1023px) calc(100vw - 50px), 649px\" type=\"image/webp\"> <source data-srcset=\" https://cdn.motor1.com/images/mgl/WmLWo/s5/aston-martin-victor-static.jpg 213w, https://cdn.motor1.com/images/mgl/WmLWo/s6/aston-martin-victor-static.jpg 445w, https://cdn.motor1.com/images/mgl/WmLWo/s4/aston-martin-victor-static.jpg 889w, https://cdn.motor1.com/images/mgl/WmLWo/s3/aston-martin-victor-static.jpg 1280w, https://cdn.motor1.com/images/mgl/WmLWo/s2/aston-martin-victor-static.jpg 1440w, https://cdn.motor1.com/images/mgl/WmLWo/s1/aston-martin-victor-static.jpg 1920w \" sizes=\"(max-width: 767px) calc(100vw - 30px), (max-width: 1023px) calc(100vw - 50px), 649px\" type=\"image/jpeg\"> <img alt=\"Aston Martin Victor static\" height=\"9\" loading=\"lazy\" src=\"https://cdn.motor1.com/images/static/16x9-tr.png\" width=\"16\"/> </source></source></picture> </section> <p><strong>Price: $3.0 Million</strong></p> <p>The folks at <a data-inline-widget=\"internal-links\" data-params=\"%7B%22alias%22%3A%22aston-martin%22%7D\" data-type-id=\"2\" href=\"https://www.motor1.com/aston-martin/\">Aston Martin</a> know a thing or two about exclusive vehicles, and the <a data-inline-widget=\"internal-links\" data-params=\"%7B%22article_edition_id%22%3A%22509630%22%2C%22section%22%3A%222%22%2C%22alias%22%3A%22aston-martin-victor-track-drive%22%7D\" data-type-id=\"0\" href=\"https://www.motor1.com/reviews/509630/aston-martin-victor-track-drive/\">Victor</a> might be the most exclusive project for the British brand to date. Based on the One-77 platform, the Victor uses parts from several donor Astons including the track project Vulcan and the upcoming Valkyrie. And talking about limited production – the Victor is one-of-one and rumored to cost nearly $3 million.</p> <h3 class=\"subheader\">Hennessey Venom F5 Roadster</h3> <section class=\"trinity-skip-it\" contenteditable=\"false\" data-border=\"\" data-id=\"6805851\" data-widget=\"image\" draggable=\"true\"> <span class=\"svg-search\"> <svg> <use xlink:href=\"/design/dist/critical/icons/sprite-common-2-376d1d9f2575fd036f5b6d263acfad1d.svg#search\"></use> </svg> </span> <picture class=\"lazyload\"> <source data-srcset=\" https://cdn.motor1.com/images/mgl/ojjz2L/s5/hennessey-venom-f5-roadster-debut.webp 213w, https://cdn.motor1.com/images/mgl/ojjz2L/s6/hennessey-venom-f5-roadster-debut.webp 445w, https://cdn.motor1.com/images/mgl/ojjz2L/s4/hennessey-venom-f5-roadster-debut.webp 889w, https://cdn.motor1.com/images/mgl/ojjz2L/s3/hennessey-venom-f5-roadster-debut.webp 1280w, https://cdn.motor1.com/images/mgl/ojjz2L/s2/hennessey-venom-f5-roadster-debut.webp 1440w, https://cdn.motor1.com/images/mgl/ojjz2L/s1/hennessey-venom-f5-roadster-debut.webp 1920w \" sizes=\"(max-width: 767px) calc(100vw - 30px), (max-width: 1023px) calc(100vw - 50px), 649px\" type=\"image/webp\"> <source data-srcset=\" https://cdn.motor1.com/images/mgl/ojjz2L/s5/hennessey-venom-f5-roadster-debut.jpg 213w, https://cdn.motor1.com/images/mgl/ojjz2L/s6/hennessey-venom-f5-roadster-debut.jpg 445w, https://cdn.motor1.com/images/mgl/ojjz2L/s4/hennessey-venom-f5-roadster-debut.jpg 889w, https://cdn.motor1.com/images/mgl/ojjz2L/s3/hennessey-venom-f5-roadster-debut.jpg 1280w, https://cdn.motor1.com/images/mgl/ojjz2L/s2/hennessey-venom-f5-roadster-debut.jpg 1440w, https://cdn.motor1.com/images/mgl/ojjz2L/s1/hennessey-venom-f5-roadster-debut.jpg 1920w \" sizes=\"(max-width: 767px) calc(100vw - 30px), (max-width: 1023px) calc(100vw - 50px), 649px\" type=\"image/jpeg\"> <img alt=\"Hennessey Venom F5 Roadster Debut\" height=\"9\" loading=\"lazy\" src=\"https://cdn.motor1.com/images/static/16x9-tr.png\" width=\"16\"/> </source></source></picture> </section> <p><strong>$3.0 Million</strong></p> <p>The same <a data-inline-widget=\"internal-links\" data-params=\"%7B%22article_edition_id%22%3A%22605166%22%2C%22section%22%3A%221%22%2C%22alias%22%3A%22hennessey-venom-f5-roadster-debut-top-speed-over-300-mph%22%7D\" data-type-id=\"0\" href=\"https://www.motor1.com/news/605166/hennessey-venom-f5-roadster-debut-top-speed-over-300-mph/\">Hennessey</a> Venom F5 hypercar we all know and love, but with less roof. The F5 Roadster has the same twin-turbocharged 6.6-liter V8 as the coupe, producing the same 1,817 horsepower and 1,193 pound-feet of torque. Hennessey estimates a top speed of over 300 miles per hour, but if you want one, it will cost you at least $3.0 million.</p> <h3 class=\"subheader\"><a data-inline-widget=\"internal-links\" data-params=\"%7B%22make_alias%22%3A%22koenigsegg%22%2C%22alias%22%3A%22jesko%22%7D\" data-type-id=\"1\" href=\"https://www.motor1.com/koenigsegg/jesko/\">Koenigsegg Jesko</a></h3> <section class=\"trinity-skip-it\" contenteditable=\"false\" data-border=\"\" data-id=\"6588666\" data-widget=\"image\" draggable=\"true\"> <span class=\"svg-search\"> <svg> <use xlink:href=\"/design/dist/critical/icons/sprite-common-2-376d1d9f2575fd036f5b6d263acfad1d.svg#search\"></use> </svg> </span> <picture class=\"lazyload\"> <source data-srcset=\" https://cdn.motor1.com/images/mgl/xqqgXp/s5/koenigsegg-jesko.webp 213w, https://cdn.motor1.com/images/mgl/xqqgXp/s6/koenigsegg-jesko.webp 445w, https://cdn.motor1.com/images/mgl/xqqgXp/s4/koenigsegg-jesko.webp 889w, https://cdn.motor1.com/images/mgl/xqqgXp/s3/koenigsegg-jesko.webp 1280w, https://cdn.motor1.com/images/mgl/xqqgXp/s2/koenigsegg-jesko.webp 1440w, https://cdn.motor1.com/images/mgl/xqqgXp/s1/koenigsegg-jesko.webp 1920w \" sizes=\"(max-width: 767px) calc(100vw - 30px), (max-width: 1023px) calc(100vw - 50px), 649px\" type=\"image/webp\"> <source data-srcset=\" https://cdn.motor1.com/images/mgl/xqqgXp/s5/koenigsegg-jesko.jpg 213w, https://cdn.motor1.com/images/mgl/xqqgXp/s6/koenigsegg-jesko.jpg 445w, https://cdn.motor1.com/images/mgl/xqqgXp/s4/koenigsegg-jesko.jpg 889w, https://cdn.motor1.com/images/mgl/xqqgXp/s3/koenigsegg-jesko.jpg 1280w, https://cdn.motor1.com/images/mgl/xqqgXp/s2/koenigsegg-jesko.jpg 1440w, https://cdn.motor1.com/images/mgl/xqqgXp/s1/koenigsegg-jesko.jpg 1920w \" sizes=\"(max-width: 767px) calc(100vw - 30px), (max-width: 1023px) calc(100vw - 50px), 649px\" type=\"image/jpeg\"> <img alt=\"Koenigsegg Jesko\" height=\"9\" loading=\"lazy\" src=\"https://cdn.motor1.com/images/static/16x9-tr.png\" width=\"16\"/> </source></source></picture> </section> <p><strong>Price: $3.0 Million</strong></p> <p>The Koenigsegg Jesko, apart from being the fastest car the company has made to date, is also the most expensive. At $3.0 million out of the box, the handsome hypercar has 1,600-horsepower courtesy of the brand's ubiquitous twin-turbocharged 5.0-liter V8 engine. Opt for the <a data-inline-widget=\"internal-links\" data-params=\"%7B%22article_edition_id%22%3A%22408890%22%2C%22section%22%3A%221%22%2C%22alias%22%3A%22koenigsegg-gemera-jesko-track-image%22%7D\" data-type-id=\"0\" href=\"https://www.motor1.com/news/408890/koenigsegg-gemera-jesko-track-image/\">Absolut</a> model, and the Jesko, in theory, will be able to hit 300 miles per hour.</p><div class=\"m1_MobileMPU\"></div> <h3 class=\"subheader\"><a data-inline-widget=\"internal-links\" data-params=\"%7B%22make_alias%22%3A%22aston-martin%22%2C%22alias%22%3A%22valkyrie%22%7D\" data-type-id=\"1\" href=\"https://www.motor1.com/aston-martin/valkyrie/\">Aston Martin Valkyrie</a></h3> <section class=\"trinity-skip-it\" contenteditable=\"false\" data-border=\"\" data-id=\"3829439\" data-widget=\"image\" draggable=\"true\"> <span class=\"svg-search\"> <svg> <use xlink:href=\"/design/dist/critical/icons/sprite-common-2-376d1d9f2575fd036f5b6d263acfad1d.svg#search\"></use> </svg> </span> <picture class=\"lazyload\"> <source data-srcset=\" https://cdn.motor1.com/images/mgl/3OkQ1/s5/aston-martin-valkyrie.webp 213w, https://cdn.motor1.com/images/mgl/3OkQ1/s6/aston-martin-valkyrie.webp 445w, https://cdn.motor1.com/images/mgl/3OkQ1/s4/aston-martin-valkyrie.webp 889w, https://cdn.motor1.com/images/mgl/3OkQ1/s3/aston-martin-valkyrie.webp 1280w, https://cdn.motor1.com/images/mgl/3OkQ1/s2/aston-martin-valkyrie.webp 1440w, https://cdn.motor1.com/images/mgl/3OkQ1/s1/aston-martin-valkyrie.webp 1920w \" sizes=\"(max-width: 767px) calc(100vw - 30px), (max-width: 1023px) calc(100vw - 50px), 649px\" type=\"image/webp\"> <source data-srcset=\" https://cdn.motor1.com/images/mgl/3OkQ1/s5/aston-martin-valkyrie.jpg 213w, https://cdn.motor1.com/images/mgl/3OkQ1/s6/aston-martin-valkyrie.jpg 445w, https://cdn.motor1.com/images/mgl/3OkQ1/s4/aston-martin-valkyrie.jpg 889w, https://cdn.motor1.com/images/mgl/3OkQ1/s3/aston-martin-valkyrie.jpg 1280w, https://cdn.motor1.com/images/mgl/3OkQ1/s2/aston-martin-valkyrie.jpg 1440w, https://cdn.motor1.com/images/mgl/3OkQ1/s1/aston-martin-valkyrie.jpg 1920w \" sizes=\"(max-width: 767px) calc(100vw - 30px), (max-width: 1023px) calc(100vw - 50px), 649px\" type=\"image/jpeg\"> <img alt=\"15. Aston Martin Valkyrie\" height=\"9\" loading=\"lazy\" src=\"https://cdn.motor1.com/images/static/16x9-tr.png\" width=\"16\"/> </source></source></picture> </section> <p><strong>Price: $3.2 Million</strong></p> <p>The upcoming <a data-inline-widget=\"internal-links\" data-params=\"%7B%22alias%22%3A%22aston-martin%22%7D\" data-type-id=\"2\" href=\"https://www.motor1.com/aston-martin/\">Aston Martin</a> hybrid hypercar hasn’t even hit the market yet, but already the $3.2 million Valkyrie has sold out. For what it’s worth, Aston Martin hasn’t officially released pricing. Estimates suggest the hypercar could go for anywhere between $2.6 and $3.9 million – but $3.2 million seems to be the magic number. Whatever the case, this machine is impressive. Its Cosworth-sourced 6.5-liter V12 produces 1,160 horsepower (865 kilowatts) and 664 pound-feet (900 Newton-meters) of torque, meaning its top speed should be well over 200 miles per hour (321 kilometers per hour). The company will build just 150 examples of the standard Valkyrie, with a limited 25-run AMR model arriving later.</p> <h3 class=\"subheader\">W Motors Lykan Hypersport</h3> <section class=\"trinity-skip-it\" contenteditable=\"false\" data-border=\"\" data-id=\"3829448\" data-widget=\"image\" draggable=\"true\"> <span class=\"svg-search\"> <svg> <use xlink:href=\"/design/dist/critical/icons/sprite-common-2-376d1d9f2575fd036f5b6d263acfad1d.svg#search\"></use> </svg> </span> <picture class=\"lazyload\"> <source data-srcset=\" https://cdn.motor1.com/images/mgl/qjmoq/s5/w-motors-lykan-hypersport.webp 213w, https://cdn.motor1.com/images/mgl/qjmoq/s6/w-motors-lykan-hypersport.webp 445w, https://cdn.motor1.com/images/mgl/qjmoq/s4/w-motors-lykan-hypersport.webp 889w, https://cdn.motor1.com/images/mgl/qjmoq/s3/w-motors-lykan-hypersport.webp 1280w, https://cdn.motor1.com/images/mgl/qjmoq/s2/w-motors-lykan-hypersport.webp 1440w, https://cdn.motor1.com/images/mgl/qjmoq/s1/w-motors-lykan-hypersport.webp 1920w \" sizes=\"(max-width: 767px) calc(100vw - 30px), (max-width: 1023px) calc(100vw - 50px), 649px\" type=\"image/webp\"> <source data-srcset=\" https://cdn.motor1.com/images/mgl/qjmoq/s5/w-motors-lykan-hypersport.jpg 213w, https://cdn.motor1.com/images/mgl/qjmoq/s6/w-motors-lykan-hypersport.jpg 445w, https://cdn.motor1.com/images/mgl/qjmoq/s4/w-motors-lykan-hypersport.jpg 889w, https://cdn.motor1.com/images/mgl/qjmoq/s3/w-motors-lykan-hypersport.jpg 1280w, https://cdn.motor1.com/images/mgl/qjmoq/s2/w-motors-lykan-hypersport.jpg 1440w, https://cdn.motor1.com/images/mgl/qjmoq/s1/w-motors-lykan-hypersport.jpg 1920w \" sizes=\"(max-width: 767px) calc(100vw - 30px), (max-width: 1023px) calc(100vw - 50px), 649px\" type=\"image/jpeg\"> <img alt=\"12. W Motors Lykan Hypersport\" height=\"9\" loading=\"lazy\" src=\"https://cdn.motor1.com/images/static/16x9-tr.png\" width=\"16\"/> </source></source></picture> </section> <p><strong>Price: $3.4 Million</strong></p> <p>Dubai-based W Motors shocked the world with its edgy <a href=\"https://www.wmotors.ae/lykan-hypersport.html\" rel=\"noopener\" target=\"_blank\">Lykan Hypersport</a> supercar in 2013. With titanium LED headlights housing 420 15-carat diamonds and a holographic display in the center console, it's no surprise it was the third most expensive car ever when new. It falls to number six on our list here, but it's still a wild hypercar with a powerful heart; the twin-turbocharged 3.7-liter six-cylinder engine underhood produces 780 horsepower (581 kilowatts) and 708 (960 Newton-meters) of torque.</p> <h3 class=\"subheader\">McLaren Solus</h3> <section class=\"trinity-skip-it\" contenteditable=\"false\" data-border=\"\" data-id=\"6808311\" data-widget=\"image\" draggable=\"true\"> <span class=\"svg-search\"> <svg> <use xlink:href=\"/design/dist/critical/icons/sprite-common-2-376d1d9f2575fd036f5b6d263acfad1d.svg#search\"></use> </svg> </span> <picture class=\"lazyload\"> <source data-srcset=\" https://cdn.motor1.com/images/mgl/MkkzNN/s5/mclaren-solus.webp 213w, https://cdn.motor1.com/images/mgl/MkkzNN/s6/mclaren-solus.webp 445w, https://cdn.motor1.com/images/mgl/MkkzNN/s4/mclaren-solus.webp 889w, https://cdn.motor1.com/images/mgl/MkkzNN/s3/mclaren-solus.webp 1280w, https://cdn.motor1.com/images/mgl/MkkzNN/s2/mclaren-solus.webp 1440w, https://cdn.motor1.com/images/mgl/MkkzNN/s1/mclaren-solus.webp 1920w \" sizes=\"(max-width: 767px) calc(100vw - 30px), (max-width: 1023px) calc(100vw - 50px), 649px\" type=\"image/webp\"> <source data-srcset=\" https://cdn.motor1.com/images/mgl/MkkzNN/s5/mclaren-solus.jpg 213w, https://cdn.motor1.com/images/mgl/MkkzNN/s6/mclaren-solus.jpg 445w, https://cdn.motor1.com/images/mgl/MkkzNN/s4/mclaren-solus.jpg 889w, https://cdn.motor1.com/images/mgl/MkkzNN/s3/mclaren-solus.jpg 1280w, https://cdn.motor1.com/images/mgl/MkkzNN/s2/mclaren-solus.jpg 1440w, https://cdn.motor1.com/images/mgl/MkkzNN/s1/mclaren-solus.jpg 1920w \" sizes=\"(max-width: 767px) calc(100vw - 30px), (max-width: 1023px) calc(100vw - 50px), 649px\" type=\"image/jpeg\"> <img alt=\"McLaren Solus\" height=\"9\" loading=\"lazy\" src=\"https://cdn.motor1.com/images/static/16x9-tr.png\" width=\"16\"/> </source></source></picture> </section> <p><strong>$3.5 Million</strong></p> <p>One seat, 829 horsepower, and a top speed of over 200 miles per hour. The new <a data-inline-widget=\"internal-links\" data-params=\"%7B%22article_edition_id%22%3A%22605475%22%2C%22section%22%3A%221%22%2C%22alias%22%3A%22mclaren-solus-track-car-debut%22%7D\" data-type-id=\"0\" href=\"https://www.motor1.com/news/605475/mclaren-solus-track-car-debut/\">McLaren Solus</a> is about as close as you can get to a Formula 1 car from the factory, powered by a naturally aspirated 5.2-liter V10 engine with a 0-62 mile-per-hour time of just 2.5 seconds. Estimates suggest a McLaren Solus will set you back about $3.5 million.</p><div class=\"m1_MobileMPU\"></div> <h3 class=\"subheader\">Pagani Huayra Roadster BC</h3> <section class=\"trinity-skip-it\" contenteditable=\"false\" data-border=\"\" data-id=\"4849193\" data-widget=\"image\" draggable=\"true\"> <span class=\"svg-search\"> <svg> <use xlink:href=\"/design/dist/critical/icons/sprite-common-2-376d1d9f2575fd036f5b6d263acfad1d.svg#search\"></use> </svg> </span> <picture class=\"lazyload\"> <source data-srcset=\" https://cdn.motor1.com/images/mgl/EMlmB/s5/most-expensive-cars.webp 213w, https://cdn.motor1.com/images/mgl/EMlmB/s6/most-expensive-cars.webp 445w, https://cdn.motor1.com/images/mgl/EMlmB/s4/most-expensive-cars.webp 889w, https://cdn.motor1.com/images/mgl/EMlmB/s3/most-expensive-cars.webp 1280w, https://cdn.motor1.com/images/mgl/EMlmB/s2/most-expensive-cars.webp 1440w, https://cdn.motor1.com/images/mgl/EMlmB/s1/most-expensive-cars.webp 1920w \" sizes=\"(max-width: 767px) calc(100vw - 30px), (max-width: 1023px) calc(100vw - 50px), 649px\" type=\"image/webp\"> <source data-srcset=\" https://cdn.motor1.com/images/mgl/EMlmB/s5/most-expensive-cars.jpg 213w, https://cdn.motor1.com/images/mgl/EMlmB/s6/most-expensive-cars.jpg 445w, https://cdn.motor1.com/images/mgl/EMlmB/s4/most-expensive-cars.jpg 889w, https://cdn.motor1.com/images/mgl/EMlmB/s3/most-expensive-cars.jpg 1280w, https://cdn.motor1.com/images/mgl/EMlmB/s2/most-expensive-cars.jpg 1440w, https://cdn.motor1.com/images/mgl/EMlmB/s1/most-expensive-cars.jpg 1920w \" sizes=\"(max-width: 767px) calc(100vw - 30px), (max-width: 1023px) calc(100vw - 50px), 649px\" type=\"image/jpeg\"> <img alt=\"11. Pagani Huayra Roadster BC\" height=\"9\" loading=\"lazy\" src=\"https://cdn.motor1.com/images/static/16x9-tr.png\" width=\"16\"/> </source></source></picture> </section> <p><strong>Price: $3.5 Million</strong></p> <p>Following Pagani’s past playbook, a roadster version of the ferocious Huayra BC was inevitable. Last year, the company made it official by showing off the <a data-inline-widget=\"internal-links\" data-params=\"%7B%22article_edition_id%22%3A%22362698%22%2C%22section%22%3A%221%22%2C%22alias%22%3A%22pagani-huayra-roadster-bc-debut%22%7D\" data-type-id=\"0\" href=\"https://www.motor1.com/news/362698/pagani-huayra-roadster-bc-debut/\">Huayra Roadster BC</a>, a topless monster with 800 horsepower (597 kilowatts) and 774 lb-ft of torque (1049 Newton-meters). Somewhat surprisingly, Pagani gave the roadster 50 more horsepower than its coupe sibling, by cranking up its AMG-sourced twin-turbocharged 6.0-liter V12. In addition to the joy of hearing the glorious engine note without a roof in the way, owners should take comfort in knowing that their car is ultra-rare. Pagani is limiting production to just 40 units, each with a sticker price of $3.5 million.</p> <h3 class=\"subheader\">Bugatti Chiron Pur Sport</h3> <section class=\"trinity-skip-it\" contenteditable=\"false\" data-border=\"\" data-id=\"5935099\" data-widget=\"image\" draggable=\"true\"> <span class=\"svg-search\"> <svg> <use xlink:href=\"/design/dist/critical/icons/sprite-common-2-376d1d9f2575fd036f5b6d263acfad1d.svg#search\"></use> </svg> </span> <picture class=\"lazyload\"> <source data-srcset=\" https://cdn.motor1.com/images/mgl/q4z9v/s5/bugatti-chiron-pur-sport.webp 213w, https://cdn.motor1.com/images/mgl/q4z9v/s6/bugatti-chiron-pur-sport.webp 445w, https://cdn.motor1.com/images/mgl/q4z9v/s4/bugatti-chiron-pur-sport.webp 889w, https://cdn.motor1.com/images/mgl/q4z9v/s3/bugatti-chiron-pur-sport.webp 1280w, https://cdn.motor1.com/images/mgl/q4z9v/s2/bugatti-chiron-pur-sport.webp 1440w, https://cdn.motor1.com/images/mgl/q4z9v/s1/bugatti-chiron-pur-sport.webp 1920w \" sizes=\"(max-width: 767px) calc(100vw - 30px), (max-width: 1023px) calc(100vw - 50px), 649px\" type=\"image/webp\"> <source data-srcset=\" https://cdn.motor1.com/images/mgl/q4z9v/s5/bugatti-chiron-pur-sport.jpg 213w, https://cdn.motor1.com/images/mgl/q4z9v/s6/bugatti-chiron-pur-sport.jpg 445w, https://cdn.motor1.com/images/mgl/q4z9v/s4/bugatti-chiron-pur-sport.jpg 889w, https://cdn.motor1.com/images/mgl/q4z9v/s3/bugatti-chiron-pur-sport.jpg 1280w, https://cdn.motor1.com/images/mgl/q4z9v/s2/bugatti-chiron-pur-sport.jpg 1440w, https://cdn.motor1.com/images/mgl/q4z9v/s1/bugatti-chiron-pur-sport.jpg 1920w \" sizes=\"(max-width: 767px) calc(100vw - 30px), (max-width: 1023px) calc(100vw - 50px), 649px\" type=\"image/jpeg\"> <img alt=\"Bugatti Chiron Pur Sport\" height=\"9\" loading=\"lazy\" src=\"https://cdn.motor1.com/images/static/16x9-tr.png\" width=\"16\"/> </source></source></picture> </section> <p><strong>Price: $3.6 Million</strong></p> <p>Another showstopper from the Geneva Motor Show that never was, the Bugatti Chiron Pur Sport is a special edition Chiron with a focus on aerodynamics, weight reduction, and power distribution. It’s the same 8.0-liter quad-turbo W16 engine underneath the skin but it’s now mated to a recalibrated automatic gearbox. While the peak output remains unchanged at 1,500 horsepower (1,103 kilowatts), the rpm redline has been set 200 rpm higher, up to 6,900 rpm. The Pur Sport also features slightly revised bodywork, with a bigger rear wing and more aerodynamic front fascia. Beginning production in late 2020, the Bugatti starts at $3.6 million.</p> <h3 class=\"subheader\">Lamborghini Sian</h3> <section class=\"trinity-skip-it\" contenteditable=\"false\" data-border=\"\" data-id=\"4849194\" data-widget=\"image\" draggable=\"true\"> <span class=\"svg-search\"> <svg> <use xlink:href=\"/design/dist/critical/icons/sprite-common-2-376d1d9f2575fd036f5b6d263acfad1d.svg#search\"></use> </svg> </span> <picture class=\"lazyload\"> <source data-srcset=\" https://cdn.motor1.com/images/mgl/6MlYb/s5/most-expensive-cars.webp 213w, https://cdn.motor1.com/images/mgl/6MlYb/s6/most-expensive-cars.webp 445w, https://cdn.motor1.com/images/mgl/6MlYb/s4/most-expensive-cars.webp 889w, https://cdn.motor1.com/images/mgl/6MlYb/s3/most-expensive-cars.webp 1280w, https://cdn.motor1.com/images/mgl/6MlYb/s2/most-expensive-cars.webp 1440w, https://cdn.motor1.com/images/mgl/6MlYb/s1/most-expensive-cars.webp 1920w \" sizes=\"(max-width: 767px) calc(100vw - 30px), (max-width: 1023px) calc(100vw - 50px), 649px\" type=\"image/webp\"> <source data-srcset=\" https://cdn.motor1.com/images/mgl/6MlYb/s5/most-expensive-cars.jpg 213w, https://cdn.motor1.com/images/mgl/6MlYb/s6/most-expensive-cars.jpg 445w, https://cdn.motor1.com/images/mgl/6MlYb/s4/most-expensive-cars.jpg 889w, https://cdn.motor1.com/images/mgl/6MlYb/s3/most-expensive-cars.jpg 1280w, https://cdn.motor1.com/images/mgl/6MlYb/s2/most-expensive-cars.jpg 1440w, https://cdn.motor1.com/images/mgl/6MlYb/s1/most-expensive-cars.jpg 1920w \" sizes=\"(max-width: 767px) calc(100vw - 30px), (max-width: 1023px) calc(100vw - 50px), 649px\" type=\"image/jpeg\"> <img alt=\"10. Lamborghini Sian\" height=\"9\" loading=\"lazy\" src=\"https://cdn.motor1.com/images/static/16x9-tr.png\" width=\"16\"/> </source></source></picture> </section> <p><strong>Price: $3.6 million</strong></p> <p>In several ways, the Sian represents a bridge to Lamborghini’s future. Though it’s based on the Aventador SVJ, this wild-looking Lambo is the brand’s first production electrified offering. In addition to the SVJ-sourced 6.5-liter V12, the Sian uses a 48-volt mild-hybrid system. Total system output is 819 horsepower (611 kilowatts), which also makes it the most powerful Lamborghini ever. As confirmed by the 63 stuck on either side of the Sian’s wing, Lamborghini will produce just 63 units. And each will cost far more than the Aventador SVJ, carrying a price of $3.6 million.</p><div class=\"m1_MobileMPU\"></div> <h3 class=\"subheader\">Koenigsegg CC850</h3> <section class=\"trinity-skip-it\" contenteditable=\"false\" data-border=\"\" data-id=\"6808235\" data-widget=\"image\" draggable=\"true\"> <span class=\"svg-search\"> <svg> <use xlink:href=\"/design/dist/critical/icons/sprite-common-2-376d1d9f2575fd036f5b6d263acfad1d.svg#search\"></use> </svg> </span> <picture class=\"lazyload\"> <source data-srcset=\" https://cdn.motor1.com/images/mgl/koorvN/s5/koenigsegg-cc850.webp 213w, https://cdn.motor1.com/images/mgl/koorvN/s6/koenigsegg-cc850.webp 445w, https://cdn.motor1.com/images/mgl/koorvN/s4/koenigsegg-cc850.webp 889w, https://cdn.motor1.com/images/mgl/koorvN/s3/koenigsegg-cc850.webp 1280w, https://cdn.motor1.com/images/mgl/koorvN/s2/koenigsegg-cc850.webp 1440w, https://cdn.motor1.com/images/mgl/koorvN/s1/koenigsegg-cc850.webp 1920w \" sizes=\"(max-width: 767px) calc(100vw - 30px), (max-width: 1023px) calc(100vw - 50px), 649px\" type=\"image/webp\"> <source data-srcset=\" https://cdn.motor1.com/images/mgl/koorvN/s5/koenigsegg-cc850.jpg 213w, https://cdn.motor1.com/images/mgl/koorvN/s6/koenigsegg-cc850.jpg 445w, https://cdn.motor1.com/images/mgl/koorvN/s4/koenigsegg-cc850.jpg 889w, https://cdn.motor1.com/images/mgl/koorvN/s3/koenigsegg-cc850.jpg 1280w, https://cdn.motor1.com/images/mgl/koorvN/s2/koenigsegg-cc850.jpg 1440w, https://cdn.motor1.com/images/mgl/koorvN/s1/koenigsegg-cc850.jpg 1920w \" sizes=\"(max-width: 767px) calc(100vw - 30px), (max-width: 1023px) calc(100vw - 50px), 649px\" type=\"image/jpeg\"> <img alt=\"Koenigsegg CC850\" height=\"9\" loading=\"lazy\" src=\"https://cdn.motor1.com/images/static/16x9-tr.png\" width=\"16\"/> </source></source></picture> </section> <p><strong>Price: $3.7 Million</strong></p> <p>The <a data-inline-widget=\"internal-links\" data-params=\"%7B%22article_edition_id%22%3A%22605437%22%2C%22section%22%3A%221%22%2C%22alias%22%3A%22koenigsegg-cc850-debuts-1385-hp-manual-transmission%22%7D\" data-type-id=\"0\" href=\"https://www.motor1.com/news/605437/koenigsegg-cc850-debuts-1385-hp-manual-transmission/\">Koenigsegg CC850</a> was a surprise to be sure, but a welcomed one. Borrowing the twin-turbocharged 5.0-liter V8 from the Jesko, it notches that output up to 1,385 horsepower and 1,022 pound-feet of torque, with a so-called “TWMPAFMPC” transmission that shifts (pun intended) between manual and automatic functions. Of course, all that performance technology will cost you; the CC850 starts at $3.7 million.</p> <h3 class=\"subheader\">Bugatti Chiron Super Sport 300+</h3> <section class=\"trinity-skip-it\" contenteditable=\"false\" data-border=\"\" data-id=\"4849190\" data-widget=\"image\" draggable=\"true\"> <span class=\"svg-search\"> <svg> <use xlink:href=\"/design/dist/critical/icons/sprite-common-2-376d1d9f2575fd036f5b6d263acfad1d.svg#search\"></use> </svg> </span> <picture class=\"lazyload\"> <source data-srcset=\" https://cdn.motor1.com/images/mgl/NklL9/s5/most-expensive-cars.webp 213w, https://cdn.motor1.com/images/mgl/NklL9/s6/most-expensive-cars.webp 445w, https://cdn.motor1.com/images/mgl/NklL9/s4/most-expensive-cars.webp 889w, https://cdn.motor1.com/images/mgl/NklL9/s3/most-expensive-cars.webp 1280w, https://cdn.motor1.com/images/mgl/NklL9/s2/most-expensive-cars.webp 1440w, https://cdn.motor1.com/images/mgl/NklL9/s1/most-expensive-cars.webp 1920w \" sizes=\"(max-width: 767px) calc(100vw - 30px), (max-width: 1023px) calc(100vw - 50px), 649px\" type=\"image/webp\"> <source data-srcset=\" https://cdn.motor1.com/images/mgl/NklL9/s5/most-expensive-cars.jpg 213w, https://cdn.motor1.com/images/mgl/NklL9/s6/most-expensive-cars.jpg 445w, https://cdn.motor1.com/images/mgl/NklL9/s4/most-expensive-cars.jpg 889w, https://cdn.motor1.com/images/mgl/NklL9/s3/most-expensive-cars.jpg 1280w, https://cdn.motor1.com/images/mgl/NklL9/s2/most-expensive-cars.jpg 1440w, https://cdn.motor1.com/images/mgl/NklL9/s1/most-expensive-cars.jpg 1920w \" sizes=\"(max-width: 767px) calc(100vw - 30px), (max-width: 1023px) calc(100vw - 50px), 649px\" type=\"image/jpeg\"> <img alt=\"9. Bugatti Chiron Super Sport 300 +\" height=\"9\" loading=\"lazy\" src=\"https://cdn.motor1.com/images/static/16x9-tr.png\" width=\"16\"/> </source></source></picture> </section> <p><strong>Price: $3.9 Million</strong></p> <p>Earlier this year, Bugatti captured the collective attention of the automotive world by announcing that it broke the 300 miles per hour barrier with a modified version of the Chiron. The Super Sport 300 + is a road-going version of that car, meant to celebrate the occasion. Limited to just 30 units, the <a data-inline-widget=\"internal-links\" data-params=\"%7B%22article_edition_id%22%3A%22440850%22%2C%22section%22%3A%221%22%2C%22alias%22%3A%22300-mph-bugatti-chiron-super-sport%22%7D\" data-type-id=\"0\" href=\"https://www.motor1.com/news/440850/300-mph-bugatti-chiron-super-sport/\">Super Sport 300+</a> is a beautiful version of the Chiron, with flowing, slippery bodywork and a sweet stripe motif. Despite having hit 304.8 mph on the track with a production vehicle, Bugatti does limit its Chiron 300+ to 273 mph in top speed mode.</p> <h3 class=\"subheader\">Lamborghini Veneno</h3> <section class=\"trinity-skip-it\" contenteditable=\"false\" data-border=\"\" data-id=\"3829445\" data-widget=\"image\" draggable=\"true\"> <span class=\"svg-search\"> <svg> <use xlink:href=\"/design/dist/critical/icons/sprite-common-2-376d1d9f2575fd036f5b6d263acfad1d.svg#search\"></use> </svg> </span> <picture class=\"lazyload\"> <source data-srcset=\" https://cdn.motor1.com/images/mgl/LE40j/s5/lamborghini-veneno.webp 213w, https://cdn.motor1.com/images/mgl/LE40j/s6/lamborghini-veneno.webp 445w, https://cdn.motor1.com/images/mgl/LE40j/s4/lamborghini-veneno.webp 889w, https://cdn.motor1.com/images/mgl/LE40j/s3/lamborghini-veneno.webp 1280w, https://cdn.motor1.com/images/mgl/LE40j/s2/lamborghini-veneno.webp 1440w, https://cdn.motor1.com/images/mgl/LE40j/s1/lamborghini-veneno.webp 1920w \" sizes=\"(max-width: 767px) calc(100vw - 30px), (max-width: 1023px) calc(100vw - 50px), 649px\" type=\"image/webp\"> <source data-srcset=\" https://cdn.motor1.com/images/mgl/LE40j/s5/lamborghini-veneno.jpg 213w, https://cdn.motor1.com/images/mgl/LE40j/s6/lamborghini-veneno.jpg 445w, https://cdn.motor1.com/images/mgl/LE40j/s4/lamborghini-veneno.jpg 889w, https://cdn.motor1.com/images/mgl/LE40j/s3/lamborghini-veneno.jpg 1280w, https://cdn.motor1.com/images/mgl/LE40j/s2/lamborghini-veneno.jpg 1440w, https://cdn.motor1.com/images/mgl/LE40j/s1/lamborghini-veneno.jpg 1920w \" sizes=\"(max-width: 767px) calc(100vw - 30px), (max-width: 1023px) calc(100vw - 50px), 649px\" type=\"image/jpeg\"> <img alt=\"8. Lamborghini Veneno\" height=\"9\" loading=\"lazy\" src=\"https://cdn.motor1.com/images/static/16x9-tr.png\" width=\"16\"/> </source></source></picture> </section> <p><strong>Price: $4.5 Million</strong></p> <p>Lamborghini built just 14 examples of the Aventador-based <a data-inline-widget=\"internal-links\" data-params=\"%7B%22article_edition_id%22%3A%22373828%22%2C%22section%22%3A%221%22%2C%22alias%22%3A%22most-expensive-lamborghini-auctioned-veneno%22%7D\" data-type-id=\"0\" href=\"https://www.motor1.com/news/373828/most-expensive-lamborghini-auctioned-veneno/\">Veneno</a> between 2014 and 2015. Each one cost around $4.5 million, depending on how it was spec'd, and was available in both convertible and coupe configurations. Underhood Lamborghini fitted a more-powerful iteration of the Aventador's 6.5-liter V12, now producing 740 horsepower (552 kilowatts) and 509 pound-feet (609 Newton-meters) of torque, which gave it the ability to sprint to 60 miles per hour (96 kilometers per hour) in a blistering 2.9 seconds. To date, it’s the most expensive new Lamborghini ever.</p><div class=\"m1_MobileMPU\"></div> <h3 class=\"subheader\">Bugatti Bolide</h3> <section class=\"trinity-skip-it\" contenteditable=\"false\" data-border=\"\" data-id=\"6588664\" data-widget=\"image\" draggable=\"true\"> <span class=\"svg-search\"> <svg> <use xlink:href=\"/design/dist/critical/icons/sprite-common-2-376d1d9f2575fd036f5b6d263acfad1d.svg#search\"></use> </svg> </span> <picture class=\"lazyload\"> <source data-srcset=\" https://cdn.motor1.com/images/mgl/2NNOJp/s5/bugatti-bolide.webp 213w, https://cdn.motor1.com/images/mgl/2NNOJp/s6/bugatti-bolide.webp 445w, https://cdn.motor1.com/images/mgl/2NNOJp/s4/bugatti-bolide.webp 889w, https://cdn.motor1.com/images/mgl/2NNOJp/s3/bugatti-bolide.webp 1280w, https://cdn.motor1.com/images/mgl/2NNOJp/s2/bugatti-bolide.webp 1440w, https://cdn.motor1.com/images/mgl/2NNOJp/s1/bugatti-bolide.webp 1920w \" sizes=\"(max-width: 767px) calc(100vw - 30px), (max-width: 1023px) calc(100vw - 50px), 649px\" type=\"image/webp\"> <source data-srcset=\" https://cdn.motor1.com/images/mgl/2NNOJp/s5/bugatti-bolide.jpg 213w, https://cdn.motor1.com/images/mgl/2NNOJp/s6/bugatti-bolide.jpg 445w, https://cdn.motor1.com/images/mgl/2NNOJp/s4/bugatti-bolide.jpg 889w, https://cdn.motor1.com/images/mgl/2NNOJp/s3/bugatti-bolide.jpg 1280w, https://cdn.motor1.com/images/mgl/2NNOJp/s2/bugatti-bolide.jpg 1440w, https://cdn.motor1.com/images/mgl/2NNOJp/s1/bugatti-bolide.jpg 1920w \" sizes=\"(max-width: 767px) calc(100vw - 30px), (max-width: 1023px) calc(100vw - 50px), 649px\" type=\"image/jpeg\"> <img alt=\"Bugatti Bolide\" height=\"9\" loading=\"lazy\" src=\"https://cdn.motor1.com/images/static/16x9-tr.png\" width=\"16\"/> </source></source></picture> </section> <p><strong>Price: $4.7 Million</strong></p> <p>Produced in extremely limited numbers atop the body of a Chiron, it's no wonder Bugatti's one-of-40 <a data-inline-widget=\"internal-links\" data-params=\"%7B%22article_edition_id%22%3A%22538302%22%2C%22section%22%3A%221%22%2C%22alias%22%3A%22bugatti-bolide-most-beautiful-hypercar%22%7D\" data-type-id=\"0\" href=\"https://www.motor1.com/news/538302/bugatti-bolide-most-beautiful-hypercar/\">Bolide</a> track car is this pricey. At $4.7 million, the 1,824-horsepower hypercar has more power than the Chiron Super Sport 300+, and more extreme bodywork that allow it to lap tracks like the Nurburgring in record time (in theory). Bugatti says the Bolide would be able to conquer the ‘Ring in record time.</p> <h3 class=\"subheader\"><a data-inline-widget=\"internal-links\" data-params=\"%7B%22article_edition_id%22%3A%22605301%22%2C%22section%22%3A%221%22%2C%22alias%22%3A%22bugatti-mistral-roadster-reveal-specs%22%7D\" data-type-id=\"0\" href=\"https://www.motor1.com/news/605301/bugatti-mistral-roadster-reveal-specs/\">Bugatti Mistral</a></h3> <section class=\"trinity-skip-it\" contenteditable=\"false\" data-border=\"\" data-id=\"6806737\" data-widget=\"image\" draggable=\"true\"> <span class=\"svg-search\"> <svg> <use xlink:href=\"/design/dist/critical/icons/sprite-common-2-376d1d9f2575fd036f5b6d263acfad1d.svg#search\"></use> </svg> </span> <picture class=\"lazyload\"> <source data-srcset=\" https://cdn.motor1.com/images/mgl/BXXw8A/s5/2024-bugatti-mistral.webp 213w, https://cdn.motor1.com/images/mgl/BXXw8A/s6/2024-bugatti-mistral.webp 445w, https://cdn.motor1.com/images/mgl/BXXw8A/s4/2024-bugatti-mistral.webp 889w, https://cdn.motor1.com/images/mgl/BXXw8A/s3/2024-bugatti-mistral.webp 1280w, https://cdn.motor1.com/images/mgl/BXXw8A/s2/2024-bugatti-mistral.webp 1440w, https://cdn.motor1.com/images/mgl/BXXw8A/s1/2024-bugatti-mistral.webp 1920w \" sizes=\"(max-width: 767px) calc(100vw - 30px), (max-width: 1023px) calc(100vw - 50px), 649px\" type=\"image/webp\"> <source data-srcset=\" https://cdn.motor1.com/images/mgl/BXXw8A/s5/2024-bugatti-mistral.jpg 213w, https://cdn.motor1.com/images/mgl/BXXw8A/s6/2024-bugatti-mistral.jpg 445w, https://cdn.motor1.com/images/mgl/BXXw8A/s4/2024-bugatti-mistral.jpg 889w, https://cdn.motor1.com/images/mgl/BXXw8A/s3/2024-bugatti-mistral.jpg 1280w, https://cdn.motor1.com/images/mgl/BXXw8A/s2/2024-bugatti-mistral.jpg 1440w, https://cdn.motor1.com/images/mgl/BXXw8A/s1/2024-bugatti-mistral.jpg 1920w \" sizes=\"(max-width: 767px) calc(100vw - 30px), (max-width: 1023px) calc(100vw - 50px), 649px\" type=\"image/jpeg\"> <img alt=\"2024 Bugatti Mistral\" height=\"9\" loading=\"lazy\" src=\"https://cdn.motor1.com/images/static/16x9-tr.png\" width=\"16\"/> </source></source></picture> </section> <p><strong>Price: $5.0 Million</strong></p> <p>The Bugatti Mistral sends the iconic W16 engine off in style. With 1,577 horsepower and no roof, the Mistral takes the best bits of the Chiron and borrows elements from the Bolide and Divo to create a truly unique roadster. Of course, Bugatti plans to build just 99 examples of the Mistral at the cost of around $5.0 million in the US – and all of them are already accounted for.</p> <h3 class=\"subheader\">Pagani Huayra Imola</h3> <section class=\"trinity-skip-it\" contenteditable=\"false\" data-border=\"\" data-id=\"4849195\" data-widget=\"image\" draggable=\"true\"> <span class=\"svg-search\"> <svg> <use xlink:href=\"/design/dist/critical/icons/sprite-common-2-376d1d9f2575fd036f5b6d263acfad1d.svg#search\"></use> </svg> </span> <picture class=\"lazyload\"> <source data-srcset=\" https://cdn.motor1.com/images/mgl/YoXVe/s5/most-expensive-cars.webp 213w, https://cdn.motor1.com/images/mgl/YoXVe/s6/most-expensive-cars.webp 445w, https://cdn.motor1.com/images/mgl/YoXVe/s4/most-expensive-cars.webp 889w, https://cdn.motor1.com/images/mgl/YoXVe/s3/most-expensive-cars.webp 1280w, https://cdn.motor1.com/images/mgl/YoXVe/s2/most-expensive-cars.webp 1440w, https://cdn.motor1.com/images/mgl/YoXVe/s1/most-expensive-cars.webp 1920w \" sizes=\"(max-width: 767px) calc(100vw - 30px), (max-width: 1023px) calc(100vw - 50px), 649px\" type=\"image/webp\"> <source data-srcset=\" https://cdn.motor1.com/images/mgl/YoXVe/s5/most-expensive-cars.jpg 213w, https://cdn.motor1.com/images/mgl/YoXVe/s6/most-expensive-cars.jpg 445w, https://cdn.motor1.com/images/mgl/YoXVe/s4/most-expensive-cars.jpg 889w, https://cdn.motor1.com/images/mgl/YoXVe/s3/most-expensive-cars.jpg 1280w, https://cdn.motor1.com/images/mgl/YoXVe/s2/most-expensive-cars.jpg 1440w, https://cdn.motor1.com/images/mgl/YoXVe/s1/most-expensive-cars.jpg 1920w \" sizes=\"(max-width: 767px) calc(100vw - 30px), (max-width: 1023px) calc(100vw - 50px), 649px\" type=\"image/jpeg\"> <img alt=\"6. Pagani Huayra Imola\" height=\"9\" loading=\"lazy\" src=\"https://cdn.motor1.com/images/static/16x9-tr.png\" width=\"16\"/> </source></source></picture> </section> <p><strong>Price: $5.4 Million</strong></p> <p>Even though the new Utopia marks the next big step for Pagani, the Huayra Imola packs nearly as much power with a twin-turbocharged 6.0-liter V12 engine producing 827 horsepower and 811 pound-feet of torque. The Huayra Imola is estimated to cost around $5.4 million new, which would make it the second most expensive Pagani of all time.</p><div class=\"m1_MobileMPU\"></div> <h3 class=\"subheader\"><a data-inline-widget=\"internal-links\" data-params=\"%7B%22make_alias%22%3A%22bugatti%22%2C%22alias%22%3A%22divo%22%7D\" data-type-id=\"1\" href=\"https://www.motor1.com/bugatti/divo/\">Bugatti Divo</a></h3> <section class=\"trinity-skip-it\" contenteditable=\"false\" data-border=\"\" data-id=\"4849192\" data-widget=\"image\" draggable=\"true\"> <span class=\"svg-search\"> <svg> <use xlink:href=\"/design/dist/critical/icons/sprite-common-2-376d1d9f2575fd036f5b6d263acfad1d.svg#search\"></use> </svg> </span> <picture class=\"lazyload\"> <source data-srcset=\" https://cdn.motor1.com/images/mgl/rBzVX/s5/most-expensive-cars.webp 213w, https://cdn.motor1.com/images/mgl/rBzVX/s6/most-expensive-cars.webp 445w, https://cdn.motor1.com/images/mgl/rBzVX/s4/most-expensive-cars.webp 889w, https://cdn.motor1.com/images/mgl/rBzVX/s3/most-expensive-cars.webp 1280w, https://cdn.motor1.com/images/mgl/rBzVX/s2/most-expensive-cars.webp 1440w, https://cdn.motor1.com/images/mgl/rBzVX/s1/most-expensive-cars.webp 1920w \" sizes=\"(max-width: 767px) calc(100vw - 30px), (max-width: 1023px) calc(100vw - 50px), 649px\" type=\"image/webp\"> <source data-srcset=\" https://cdn.motor1.com/images/mgl/rBzVX/s5/most-expensive-cars.jpg 213w, https://cdn.motor1.com/images/mgl/rBzVX/s6/most-expensive-cars.jpg 445w, https://cdn.motor1.com/images/mgl/rBzVX/s4/most-expensive-cars.jpg 889w, https://cdn.motor1.com/images/mgl/rBzVX/s3/most-expensive-cars.jpg 1280w, https://cdn.motor1.com/images/mgl/rBzVX/s2/most-expensive-cars.jpg 1440w, https://cdn.motor1.com/images/mgl/rBzVX/s1/most-expensive-cars.jpg 1920w \" sizes=\"(max-width: 767px) calc(100vw - 30px), (max-width: 1023px) calc(100vw - 50px), 649px\" type=\"image/jpeg\"> <img alt=\"5. Bugatti Divo\" height=\"9\" loading=\"lazy\" src=\"https://cdn.motor1.com/images/static/16x9-tr.png\" width=\"16\"/> </source></source></picture> </section> <p><strong>Price: $5.8 Million</strong></p> <p>Among Bugatti’s recently debuted vehicles, the Divo is a staff favorite. Though it shares much in common with its cheaper (!) sibling the Chiron, the Divo has a lot going for it to justify the extra money. By adding lighter wheels, a carbon fiber intercooler and removing some sound deadening, Bugatti made the Divo 77 pounds lighter than the Chiron. Though power is unchanged from the Chiron’s 1,500 ponies (1,119 kilowatts), The Divo features a different aerodynamic setup, which makes it 8 seconds quicker around the Nardo test track. Finally, the moment you’ve been waiting for: Bugatti is making 40 examples of the car, each costing $5.8 million.</p> <h3 class=\"subheader\">SP Automotive Chaos</h3> <section class=\"trinity-skip-it\" contenteditable=\"false\" data-border=\"\" data-id=\"6588663\" data-widget=\"image\" draggable=\"true\"> <span class=\"svg-search\"> <svg> <use xlink:href=\"/design/dist/critical/icons/sprite-common-2-376d1d9f2575fd036f5b6d263acfad1d.svg#search\"></use> </svg> </span> <picture class=\"lazyload\"> <source data-srcset=\" https://cdn.motor1.com/images/mgl/AkkBw2/s5/sp-automotive-chaos.webp 213w, https://cdn.motor1.com/images/mgl/AkkBw2/s6/sp-automotive-chaos.webp 445w, https://cdn.motor1.com/images/mgl/AkkBw2/s4/sp-automotive-chaos.webp 889w, https://cdn.motor1.com/images/mgl/AkkBw2/s3/sp-automotive-chaos.webp 1280w, https://cdn.motor1.com/images/mgl/AkkBw2/s2/sp-automotive-chaos.webp 1440w, https://cdn.motor1.com/images/mgl/AkkBw2/s1/sp-automotive-chaos.webp 1920w \" sizes=\"(max-width: 767px) calc(100vw - 30px), (max-width: 1023px) calc(100vw - 50px), 649px\" type=\"image/webp\"> <source data-srcset=\" https://cdn.motor1.com/images/mgl/AkkBw2/s5/sp-automotive-chaos.jpg 213w, https://cdn.motor1.com/images/mgl/AkkBw2/s6/sp-automotive-chaos.jpg 445w, https://cdn.motor1.com/images/mgl/AkkBw2/s4/sp-automotive-chaos.jpg 889w, https://cdn.motor1.com/images/mgl/AkkBw2/s3/sp-automotive-chaos.jpg 1280w, https://cdn.motor1.com/images/mgl/AkkBw2/s2/sp-automotive-chaos.jpg 1440w, https://cdn.motor1.com/images/mgl/AkkBw2/s1/sp-automotive-chaos.jpg 1920w \" sizes=\"(max-width: 767px) calc(100vw - 30px), (max-width: 1023px) calc(100vw - 50px), 649px\" type=\"image/jpeg\"> <img alt=\"SP Automotive Chaos\" height=\"9\" loading=\"lazy\" src=\"https://cdn.motor1.com/images/static/16x9-tr.png\" width=\"16\"/> </source></source></picture> </section> <p><strong>Price: $6.4 Million</strong></p> <p><a data-inline-widget=\"internal-links\" data-params=\"%7B%22article_edition_id%22%3A%22546382%22%2C%22section%22%3A%221%22%2C%22alias%22%3A%22sp-automotive-chaos-ultracar%22%7D\" data-type-id=\"0\" href=\"https://www.motor1.com/news/546382/sp-automotive-chaos-ultracar/\">SP Automotive</a> (short for Spyros Panopoulos) is a new name in the world of hypercars, but the brand's 2,000-horsepower, $6.4-million, aptly named Chaos has already made an impact. With a twin-turbocharged 4.0-liter V10, the base SP Automotive Chaos is one of the most expensive cars on this list – beating out many Lambos and Bugattis – but there's an even pricier version of this car that costs an eye-watering $14.4 million. That version reportedly packs 3,000 hp.</p> <h3 class=\"subheader\">Pagani Codalunga</h3> <section class=\"trinity-skip-it\" contenteditable=\"false\" data-border=\"\" data-id=\"6703523\" data-widget=\"image\" draggable=\"true\"> <span class=\"svg-search\"> <svg> <use xlink:href=\"/design/dist/critical/icons/sprite-common-2-376d1d9f2575fd036f5b6d263acfad1d.svg#search\"></use> </svg> </span> <picture class=\"lazyload\"> <source data-srcset=\" https://cdn.motor1.com/images/mgl/nAAN0y/s5/pagani-huayra-codalunga.webp 213w, https://cdn.motor1.com/images/mgl/nAAN0y/s6/pagani-huayra-codalunga.webp 445w, https://cdn.motor1.com/images/mgl/nAAN0y/s4/pagani-huayra-codalunga.webp 889w, https://cdn.motor1.com/images/mgl/nAAN0y/s3/pagani-huayra-codalunga.webp 1280w, https://cdn.motor1.com/images/mgl/nAAN0y/s2/pagani-huayra-codalunga.webp 1440w, https://cdn.motor1.com/images/mgl/nAAN0y/s1/pagani-huayra-codalunga.webp 1920w \" sizes=\"(max-width: 767px) calc(100vw - 30px), (max-width: 1023px) calc(100vw - 50px), 649px\" type=\"image/webp\"> <source data-srcset=\" https://cdn.motor1.com/images/mgl/nAAN0y/s5/pagani-huayra-codalunga.jpg 213w, https://cdn.motor1.com/images/mgl/nAAN0y/s6/pagani-huayra-codalunga.jpg 445w, https://cdn.motor1.com/images/mgl/nAAN0y/s4/pagani-huayra-codalunga.jpg 889w, https://cdn.motor1.com/images/mgl/nAAN0y/s3/pagani-huayra-codalunga.jpg 1280w, https://cdn.motor1.com/images/mgl/nAAN0y/s2/pagani-huayra-codalunga.jpg 1440w, https://cdn.motor1.com/images/mgl/nAAN0y/s1/pagani-huayra-codalunga.jpg 1920w \" sizes=\"(max-width: 767px) calc(100vw - 30px), (max-width: 1023px) calc(100vw - 50px), 649px\" type=\"image/jpeg\"> <img alt=\"Pagani Huayra Codalunga\" height=\"9\" loading=\"lazy\" src=\"https://cdn.motor1.com/images/static/16x9-tr.png\" width=\"16\"/> </source></source></picture> </section> <p><strong>Price: $7.4 Million</strong></p> <p>The long list of pricey (new) Paganis ends with the Codualunga. Inspired by 1960s Italian coachbuilding, the stunning exterior and steampunk-esque interior – while equally stunning – are only part of what makes this Pagani so pricey. Under the hood is a twin-turbocharged 6.0-liter V12 producing 829 horsepower and 809 pound-feet of torque, paired to a seven-speed sequential transmission for a real race-car–like feel. The cost for this one-of-five Pagani is $7.4 million.</p><div class=\"m1_MobileMPU\"></div> <h3 class=\"subheader\">Mercedes-Maybach Exelero</h3> <section class=\"trinity-skip-it\" contenteditable=\"false\" data-border=\"\" data-id=\"3829446\" data-widget=\"image\" draggable=\"true\"> <span class=\"svg-search\"> <svg> <use xlink:href=\"/design/dist/critical/icons/sprite-common-2-376d1d9f2575fd036f5b6d263acfad1d.svg#search\"></use> </svg> </span> <picture class=\"lazyload\"> <source data-srcset=\" https://cdn.motor1.com/images/mgl/nEKy6/s5/mercedes-maybach-exelero.webp 213w, https://cdn.motor1.com/images/mgl/nEKy6/s6/mercedes-maybach-exelero.webp 445w, https://cdn.motor1.com/images/mgl/nEKy6/s4/mercedes-maybach-exelero.webp 889w, https://cdn.motor1.com/images/mgl/nEKy6/s3/mercedes-maybach-exelero.webp 1280w, https://cdn.motor1.com/images/mgl/nEKy6/s2/mercedes-maybach-exelero.webp 1440w, https://cdn.motor1.com/images/mgl/nEKy6/s1/mercedes-maybach-exelero.webp 1920w \" sizes=\"(max-width: 767px) calc(100vw - 30px), (max-width: 1023px) calc(100vw - 50px), 649px\" type=\"image/webp\"> <source data-srcset=\" https://cdn.motor1.com/images/mgl/nEKy6/s5/mercedes-maybach-exelero.jpg 213w, https://cdn.motor1.com/images/mgl/nEKy6/s6/mercedes-maybach-exelero.jpg 445w, https://cdn.motor1.com/images/mgl/nEKy6/s4/mercedes-maybach-exelero.jpg 889w, https://cdn.motor1.com/images/mgl/nEKy6/s3/mercedes-maybach-exelero.jpg 1280w, https://cdn.motor1.com/images/mgl/nEKy6/s2/mercedes-maybach-exelero.jpg 1440w, https://cdn.motor1.com/images/mgl/nEKy6/s1/mercedes-maybach-exelero.jpg 1920w \" sizes=\"(max-width: 767px) calc(100vw - 30px), (max-width: 1023px) calc(100vw - 50px), 649px\" type=\"image/jpeg\"> <img alt=\"4. Mercedes-Maybach Exelero\" height=\"9\" loading=\"lazy\" src=\"https://cdn.motor1.com/images/static/16x9-tr.png\" width=\"16\"/> </source></source></picture> </section> <p><strong>Price: $8.0 Million</strong></p> <p>Like many others before it, the Mercedes-Benz Maybach Exelero is a one-off. Commissioned by Fulda, a German subsidiary of Goodyear, to test its new tires, the Exlero debuted in 2004. Mercedes built the Exelero on the bones of a Maybach, and gave it the same twin-turbo V12 engine producing 690 horsepower (510 kilowatts) and 752 pound-feet (1,020 Newton-meters) of torque. Top speed is listed at 218 miles per hour (350 kilometers per hour) and adjusted for inflation, the Exelero would cost more than $10 million in today's money.</p> <h3 class=\"subheader\">Bugatti Centodieci</h3> <section class=\"trinity-skip-it\" contenteditable=\"false\" data-border=\"\" data-id=\"4849189\" data-widget=\"image\" draggable=\"true\"> <span class=\"svg-search\"> <svg> <use xlink:href=\"/design/dist/critical/icons/sprite-common-2-376d1d9f2575fd036f5b6d263acfad1d.svg#search\"></use> </svg> </span> <picture class=\"lazyload\"> <source data-srcset=\" https://cdn.motor1.com/images/mgl/q9EVR/s5/most-expensive-cars.webp 213w, https://cdn.motor1.com/images/mgl/q9EVR/s6/most-expensive-cars.webp 445w, https://cdn.motor1.com/images/mgl/q9EVR/s4/most-expensive-cars.webp 889w, https://cdn.motor1.com/images/mgl/q9EVR/s3/most-expensive-cars.webp 1280w, https://cdn.motor1.com/images/mgl/q9EVR/s2/most-expensive-cars.webp 1440w, https://cdn.motor1.com/images/mgl/q9EVR/s1/most-expensive-cars.webp 1920w \" sizes=\"(max-width: 767px) calc(100vw - 30px), (max-width: 1023px) calc(100vw - 50px), 649px\" type=\"image/webp\"> <source data-srcset=\" https://cdn.motor1.com/images/mgl/q9EVR/s5/most-expensive-cars.jpg 213w, https://cdn.motor1.com/images/mgl/q9EVR/s6/most-expensive-cars.jpg 445w, https://cdn.motor1.com/images/mgl/q9EVR/s4/most-expensive-cars.jpg 889w, https://cdn.motor1.com/images/mgl/q9EVR/s3/most-expensive-cars.jpg 1280w, https://cdn.motor1.com/images/mgl/q9EVR/s2/most-expensive-cars.jpg 1440w, https://cdn.motor1.com/images/mgl/q9EVR/s1/most-expensive-cars.jpg 1920w \" sizes=\"(max-width: 767px) calc(100vw - 30px), (max-width: 1023px) calc(100vw - 50px), 649px\" type=\"image/jpeg\"> <img alt=\"3. Bugatti Centodieci\" height=\"9\" loading=\"lazy\" src=\"https://cdn.motor1.com/images/static/16x9-tr.png\" width=\"16\"/> </source></source></picture> </section> <p><strong>Price: $9.0 Million</strong></p> <p>Bugatti debuted the Centodieci at last year’s Pebble Beach car week, showing off yet another ultra-rare, super-expensive model to the world. Limited to just 10 – dieci – units, the car is a modern throwback to the Bugatti EB110. At the same time, it’s meant to celebrate Bugatti’s momentous 110-year anniversary. Its unique styling cues won’t make everyone fall in love, but at least you won’t have to worry about seeing another one on the road. Carrying a price just shy of $9 million, the Centodiece is one of the most exclusive cars ever made.</p> <h3 class=\"subheader\">Bugatti Chiron Profilée</h3> <section class=\"trinity-skip-it\" contenteditable=\"false\" data-border=\"\" data-id=\"7129251\" data-widget=\"image\" draggable=\"true\"> <span class=\"svg-search\"> <svg> <use xlink:href=\"/design/dist/critical/icons/sprite-common-2-376d1d9f2575fd036f5b6d263acfad1d.svg#search\"></use> </svg> </span> <picture class=\"lazyload\"> <source data-srcset=\" https://cdn.motor1.com/images/mgl/g4Jr74/s5/bugatti-chiron-profilee.webp 213w, https://cdn.motor1.com/images/mgl/g4Jr74/s6/bugatti-chiron-profilee.webp 445w, https://cdn.motor1.com/images/mgl/g4Jr74/s4/bugatti-chiron-profilee.webp 889w, https://cdn.motor1.com/images/mgl/g4Jr74/s3/bugatti-chiron-profilee.webp 1280w, https://cdn.motor1.com/images/mgl/g4Jr74/s2/bugatti-chiron-profilee.webp 1440w, https://cdn.motor1.com/images/mgl/g4Jr74/s1/bugatti-chiron-profilee.webp 1920w \" sizes=\"(max-width: 767px) calc(100vw - 30px), (max-width: 1023px) calc(100vw - 50px), 649px\" type=\"image/webp\"> <source data-srcset=\" https://cdn.motor1.com/images/mgl/g4Jr74/s5/bugatti-chiron-profilee.jpg 213w, https://cdn.motor1.com/images/mgl/g4Jr74/s6/bugatti-chiron-profilee.jpg 445w, https://cdn.motor1.com/images/mgl/g4Jr74/s4/bugatti-chiron-profilee.jpg 889w, https://cdn.motor1.com/images/mgl/g4Jr74/s3/bugatti-chiron-profilee.jpg 1280w, https://cdn.motor1.com/images/mgl/g4Jr74/s2/bugatti-chiron-profilee.jpg 1440w, https://cdn.motor1.com/images/mgl/g4Jr74/s1/bugatti-chiron-profilee.jpg 1920w \" sizes=\"(max-width: 767px) calc(100vw - 30px), (max-width: 1023px) calc(100vw - 50px), 649px\" type=\"image/jpeg\"> <img alt=\"Bugatti Chiron Profilee\" height=\"9\" loading=\"lazy\" src=\"https://cdn.motor1.com/images/static/16x9-tr.png\" width=\"16\"/> </source></source></picture> </section> <p><strong>Price: $10.8 Million</strong></p> <p>While it may not look that different from a normal Chiron, the <a data-inline-widget=\"internal-links\" data-params=\"%7B%22article_edition_id%22%3A%22650354%22%2C%22section%22%3A%221%22%2C%22alias%22%3A%22bugatti-chiron-profilee-sells-auction%22%7D\" data-type-id=\"0\" href=\"https://www.motor1.com/news/650354/bugatti-chiron-profilee-sells-auction/\">Profilée</a> is quite literally one-of-a-kind. Bugatti built it initially as a test for a limited run of Profilée models, but this Chiron ended up being the only example. Boasting the same 1,476-horsepower quad-turbocharged W16 engine ubiquitous throughout the Chiron range, the Profilée has unique bodywork and a custom spoiler that helps separate it from the rest of the range.</p><div class=\"m1_MobileMPU\"></div> <h3 class=\"subheader\">Rolls-Royce Sweptail</h3> <section class=\"trinity-skip-it\" contenteditable=\"false\" data-border=\"\" data-id=\"6588665\" data-widget=\"image\" draggable=\"true\"> <span class=\"svg-search\"> <svg> <use xlink:href=\"/design/dist/critical/icons/sprite-common-2-376d1d9f2575fd036f5b6d263acfad1d.svg#search\"></use> </svg> </span> <picture class=\"lazyload\"> <source data-srcset=\" https://cdn.motor1.com/images/mgl/mMMA4P/s5/rolls-royce-sweptail.webp 213w, https://cdn.motor1.com/images/mgl/mMMA4P/s6/rolls-royce-sweptail.webp 445w, https://cdn.motor1.com/images/mgl/mMMA4P/s4/rolls-royce-sweptail.webp 889w, https://cdn.motor1.com/images/mgl/mMMA4P/s3/rolls-royce-sweptail.webp 1280w, https://cdn.motor1.com/images/mgl/mMMA4P/s2/rolls-royce-sweptail.webp 1440w, https://cdn.motor1.com/images/mgl/mMMA4P/s1/rolls-royce-sweptail.webp 1920w \" sizes=\"(max-width: 767px) calc(100vw - 30px), (max-width: 1023px) calc(100vw - 50px), 649px\" type=\"image/webp\"> <source data-srcset=\" https://cdn.motor1.com/images/mgl/mMMA4P/s5/rolls-royce-sweptail.jpg 213w, https://cdn.motor1.com/images/mgl/mMMA4P/s6/rolls-royce-sweptail.jpg 445w, https://cdn.motor1.com/images/mgl/mMMA4P/s4/rolls-royce-sweptail.jpg 889w, https://cdn.motor1.com/images/mgl/mMMA4P/s3/rolls-royce-sweptail.jpg 1280w, https://cdn.motor1.com/images/mgl/mMMA4P/s2/rolls-royce-sweptail.jpg 1440w, https://cdn.motor1.com/images/mgl/mMMA4P/s1/rolls-royce-sweptail.jpg 1920w \" sizes=\"(max-width: 767px) calc(100vw - 30px), (max-width: 1023px) calc(100vw - 50px), 649px\" type=\"image/jpeg\"> <img alt=\"Rolls-Royce Sweptail\" height=\"9\" loading=\"lazy\" src=\"https://cdn.motor1.com/images/static/16x9-tr.png\" width=\"16\"/> </source></source></picture> </section> <p><strong>Price: $12.8 Million</strong></p> <p>Rolls-Royce, expectedly, takes two of the top three spots on this list, with the stunning Sweptail one-off from 2017 coming in at number three. With a monumental price tag of $13.0 million, it was, at the time of its debut, the most expensive new car ever. It's been outpriced since then, but the 453-horsepower luxury car is still a jaw-dropper.</p> <h3 class=\"subheader\">Bugatti La Voiture Noire</h3> <section class=\"trinity-skip-it\" contenteditable=\"false\" data-border=\"\" data-id=\"3829441\" data-widget=\"image\" draggable=\"true\"> <span class=\"svg-search\"> <svg> <use xlink:href=\"/design/dist/critical/icons/sprite-common-2-376d1d9f2575fd036f5b6d263acfad1d.svg#search\"></use> </svg> </span> <picture class=\"lazyload\"> <source data-srcset=\" https://cdn.motor1.com/images/mgl/oz2j0/s5/bugatti-la-voiture-noire.webp 213w, https://cdn.motor1.com/images/mgl/oz2j0/s6/bugatti-la-voiture-noire.webp 445w, https://cdn.motor1.com/images/mgl/oz2j0/s4/bugatti-la-voiture-noire.webp 889w, https://cdn.motor1.com/images/mgl/oz2j0/s3/bugatti-la-voiture-noire.webp 1280w, https://cdn.motor1.com/images/mgl/oz2j0/s2/bugatti-la-voiture-noire.webp 1440w, https://cdn.motor1.com/images/mgl/oz2j0/s1/bugatti-la-voiture-noire.webp 1920w \" sizes=\"(max-width: 767px) calc(100vw - 30px), (max-width: 1023px) calc(100vw - 50px), 649px\" type=\"image/webp\"> <source data-srcset=\" https://cdn.motor1.com/images/mgl/oz2j0/s5/bugatti-la-voiture-noire.jpg 213w, https://cdn.motor1.com/images/mgl/oz2j0/s6/bugatti-la-voiture-noire.jpg 445w, https://cdn.motor1.com/images/mgl/oz2j0/s4/bugatti-la-voiture-noire.jpg 889w, https://cdn.motor1.com/images/mgl/oz2j0/s3/bugatti-la-voiture-noire.jpg 1280w, https://cdn.motor1.com/images/mgl/oz2j0/s2/bugatti-la-voiture-noire.jpg 1440w, https://cdn.motor1.com/images/mgl/oz2j0/s1/bugatti-la-voiture-noire.jpg 1920w \" sizes=\"(max-width: 767px) calc(100vw - 30px), (max-width: 1023px) calc(100vw - 50px), 649px\" type=\"image/jpeg\"> <img alt=\"1. Bugatti La Voiture Noire\" height=\"9\" loading=\"lazy\" src=\"https://cdn.motor1.com/images/static/16x9-tr.png\" width=\"16\"/> </source></source></picture> </section> <p><strong>Price: $13.4 Million</strong></p> <p>With a price tag of $13.4 million, the one-off Bugatti La Voiture Noire is officially the most expensive new Bugatti ever made. And understandably so. A modern interpretation of Jean Bugatti's personal Type 57 SC Atlantic, the La Voiture Noire uses the same quad-turbocharged 8.0-liter W16 engine as the Chiron, producing 1,479 horsepower. It has six – that's right, six exhaust tips, radical new wheels, an aggressive, bespoke fascia, and a gigantic light-up badge in the rear that spells out the name of the brand. Of course, this one-of-one Bugatti already has a home.</p> <h3 class=\"subheader\">Rolls-Royce Boat Tail*</h3> <section class=\"trinity-skip-it\" contenteditable=\"false\" data-border=\"\" data-id=\"5851762\" data-widget=\"image\" draggable=\"true\"> <span class=\"svg-search\"> <svg> <use xlink:href=\"/design/dist/critical/icons/sprite-common-2-376d1d9f2575fd036f5b6d263acfad1d.svg#search\"></use> </svg> </span> <picture class=\"lazyload\"> <source data-srcset=\" https://cdn.motor1.com/images/mgl/beR6n/s5/rolls-royce-boat-tail.webp 213w, https://cdn.motor1.com/images/mgl/beR6n/s6/rolls-royce-boat-tail.webp 445w, https://cdn.motor1.com/images/mgl/beR6n/s4/rolls-royce-boat-tail.webp 889w, https://cdn.motor1.com/images/mgl/beR6n/s3/rolls-royce-boat-tail.webp 1280w, https://cdn.motor1.com/images/mgl/beR6n/s2/rolls-royce-boat-tail.webp 1440w, https://cdn.motor1.com/images/mgl/beR6n/s1/rolls-royce-boat-tail.webp 1920w \" sizes=\"(max-width: 767px) calc(100vw - 30px), (max-width: 1023px) calc(100vw - 50px), 649px\" type=\"image/webp\"> <source data-srcset=\" https://cdn.motor1.com/images/mgl/beR6n/s5/rolls-royce-boat-tail.jpg 213w, https://cdn.motor1.com/images/mgl/beR6n/s6/rolls-royce-boat-tail.jpg 445w, https://cdn.motor1.com/images/mgl/beR6n/s4/rolls-royce-boat-tail.jpg 889w, https://cdn.motor1.com/images/mgl/beR6n/s3/rolls-royce-boat-tail.jpg 1280w, https://cdn.motor1.com/images/mgl/beR6n/s2/rolls-royce-boat-tail.jpg 1440w, https://cdn.motor1.com/images/mgl/beR6n/s1/rolls-royce-boat-tail.jpg 1920w \" sizes=\"(max-width: 767px) calc(100vw - 30px), (max-width: 1023px) calc(100vw - 50px), 649px\" type=\"image/jpeg\"> <img alt=\"Rolls-Royce Boat Tail\" height=\"9\" loading=\"lazy\" src=\"https://cdn.motor1.com/images/static/16x9-tr.png\" width=\"16\"/> </source></source></picture> </section> <p><strong>Price: $28.0 Million (est.)</strong></p> <p><a data-inline-widget=\"internal-links\" data-params=\"%7B%22alias%22%3A%22rolls-royce%22%7D\" data-type-id=\"2\" href=\"https://www.motor1.com/rolls-royce/\">Rolls-Royce</a> is back in the business of coachbuilding with the gorgeous new <a data-inline-widget=\"internal-links\" data-params=\"%7B%22article_edition_id%22%3A%22512772%22%2C%22section%22%3A%221%22%2C%22alias%22%3A%22rolls-royce-boat-tail-watches%22%7D\" data-type-id=\"0\" href=\"https://www.motor1.com/news/512772/rolls-royce-boat-tail-watches/\">Boat Tail</a>. A successor to the stunning Sweptail from 2017 – which itself cost a reported $12.8 million – the Boat Tail has a unique two-tone exterior, custom high-end finishes inside, and even a \"hosting suite\" complete with a champagne fridge and built-in sun umbrella. Although Rolls-Royce doesn’t officially announce pricing for one-off builds such as this, rumor has it that the Boat Tail cost a whopping $28.0 million new.</p> <section class=\"widget_faq trinity-skip-it\" contenteditable=\"false\" data-noinit=\"1\" data-widget=\"widget_faq\" draggable=\"true\"> <h3 class=\"widget_faq_headline\">FAQs</h3> <div class=\"widget_faq_wrapper\"> <p class=\"widget_faq_question active\">What Is The Most Expensive Car In The World?</p> <div class=\"widget_faq_answer\">The most expensive car in the world – officially – is the Bugatti La Voiture Noire. With a price tag of $18.7 million after taxes, the one-off Bugatti La Voiture Noire is officially the priciest new car ever.</div> </div> <div class=\"widget_faq_wrapper\"> <p class=\"widget_faq_question active\">What Is The Most Expensive Car Ever Sold?</p> <div class=\"widget_faq_answer\">The most expensive car ever sold is a 1962 Ferrari 250 GTO that sold at an RM Sotheby’s auction for $48.4 million in 2018. Prior to that, a separate 250 GTO sold at a Bonham’s auction in 2014 for $38.1 million.</div> </div> <div class=\"widget_faq_wrapper\"> <p class=\"widget_faq_question active\">What Is The Most Valuable Car Brand?</p> <div class=\"widget_faq_answer\"> <p>As of 2022, Tesla is still the world’s most valuable car brand with a valuation of $694 billion. Toyota, at second, has a valuation of $216 billion but outsells Tesla by a significant margin globally.</p> </div> </div> </section><div class=\"m1_MobileMPU\"></div> <h3 class=\"subheader\">Most Expensive Cars In The World</h3> <ul> <li>Drako GTE - $1.2 Million</li> <li>DeTomaso P72: $1.3 Million</li> <li>Ferrari LaFerrari - $1.4 Million</li> <li>Pagani Huayra - $1.4 Million</li> <li>Czinger 21C - $1.7 Million</li> <li>Ferrari Monza - $1.7 Million</li> <li>Gordon Murray T.33 - $1.7 Million</li> <li>Koenigsegg Gemera - $1.7 Million</li> <li>McLaren Elva - $1.7 Million</li> <li>Zenvo TSR-S - $1.7 Million</li> <li>Hennessey Venom F5 - $1.8 Million</li> <li>Bentley Bacalar - $1.9 Million</li> <li>Hispano Suiza Carmen Boulogne: $1.9 Million</li> <li>Bentley Mulliner Batur: $2.0 Million</li> <li>Deus Vayanne: $2.0 Million</li> <li>SSC Tuatara - $2.0 Million*</li> <li>Lotus Evija - $2.1 Million</li> <li>Aston Martin Vulcan - $2.3 Million</li> <li>Delage D12: $2.3 Million</li> <li>McLaren Speedtail - $2.3 Million</li> <li>Rimac Nevera - $2.4 Million</li> <li>Pagani Utopia: $2.5 Million</li> <li>Pininfarina Battista - $2.5 Million</li> <li>Ferrari FXX K Evo - $2.6 Million</li> <li>Gordon Murray T.50 - $2.6 Million</li> <li>Lamborghini Countach - $2.6 Million</li> <li>Mercedes-AMG Project One - $2.7 Million</li> <li>Aston Martin Victor - $3.0 Million</li> <li>Hennessey Venom F5 Roadster: $3.0 Million</li> <li>Koenigsegg Jesko - $3.0 Million</li> <li>Aston Martin Valkyrie - $3.2 Million</li> <li>W Motors Lykan Hypersport - $3.4 Million</li> <li>McLaren Solus: $3.5 Million</li> <li>Pagani Huayra Roadster BC - $3.5 Million</li> <li>Bugatti Chiron Pur Sport - $3.6 Million</li> <li>Lamborghini Sian - $3.6 million</li> <li>Koenigsegg CC850: $3.7 Million</li> <li>Bugatti Chiron Super Sport 300+ - $3.9 Million</li> <li>Lamborghini Veneno - $4.5 Million</li> <li>Bugatti Bolide - $4.7 Million</li> <li>Bugatti Mistral: $5.0 Million</li> <li>Pagani Huayra Imola: $5.4 Million</li> <li>Bugatti Divo - $5.8 Million</li> <li>SP Automotive Chaos - $6.4 Million</li> <li>Pagani Codalunga: $7.4 Million</li> <li>Mercedes-Maybach Exelero - $8.0 Million</li> <li>Bugatti Centodieci - $9.0 Million</li> <li>Rolls-Royce Sweptail - $12.8 Million</li> <li>Bugatti La Voiture Noire - $13.4 Million</li> <li>Rolls-Royce Boat Tail - $28.0 Million*</li> </ul> </div> <!-- new gallery place, attached gallery --> <!-- Author info bottom --> <div class=\"clear\"></div> <div class=\"parent-shareBox parent-shareBox-bottom\"> <div class=\"big-shareBox shareBox share-box-dropdown to-down\" slot=\"share-box\"><div class=\"share-box-wrapper\"><span aria-label=\"expand share list\" class=\"shareBox-separator\" data-button=\"\" data-id=\"toggleBox\" data-static=\"\" data-value=\"share-list-1680696897\" onclick=\"\" role=\"button\" tabindex=\"0\"> <span class=\"active\"><span class=\"icon-plus\">+</span></span><span class=\"passive\"><span class=\"icon-plus\">+</span></span></span><a aria-label=\"share\" class=\"share-button share-button-gallery\" href=\"https://www.motor1.com/features/308149/most-expensive-new-cars-ever/\" rel=\"nofollow noopener\"> <span class=\"share-empty\"> <svg class=\"social-share-icon\"> <use xlink:href=\"/design/dist/critical/icons/sprite-common-0-35714019ce57963bbb7d4bc1ede791ca.svg#share-empty\"></use> </svg> </span> </a><div class=\"share-list\" data-button-target=\"share-list-1680696897\"><ul><li class=\"facebook\"><a aria-label=\"Facebook share\" data-button=\"\" data-extra-params=\"id:'308149',type_id:'1'\" data-height=\"600\" data-id=\"share\" data-name=\"network_id\" data-share-network=\"Facebook\" data-share-url=\"https://www.motor1.com/features/308149/most-expensive-new-cars-ever/\" data-url=\"/connect/share/\" data-value=\"1\" data-width=\"600\" href=\"https://www.facebook.com/sharer/sharer.php?u=https%3A%2F%2Fwww.motor1.com%2Ffeatures%2F308149%2Fmost-expensive-new-cars-ever%2F\" rel=\"nofollow noopener\" target=\"_blank\"> <span class=\"social-bg facebook\"> <svg class=\"social-share-icon\"> <use xlink:href=\"/design/dist/critical/icons/sprite-common-2-376d1d9f2575fd036f5b6d263acfad1d.svg#facebook\"></use> </svg> </span> <span class=\"name\">Share on Facebook </span></a></li><li class=\"twitter\"><a aria-label=\"Twitter share\" data-button=\"\" data-extra-params=\"id:'308149',type_id:'1'\" data-height=\"450\" data-id=\"share\" data-name=\"network_id\" data-share-network=\"Twitter\" data-share-url=\"https://www.motor1.com/features/308149/most-expensive-new-cars-ever/\" data-url=\"/connect/share/\" data-value=\"2\" data-width=\"600\" href=\"https://twitter.com/intent/tweet?url=https%3A%2F%2Fwww.motor1.com%2Ffeatures%2F308149%2Fmost-expensive-new-cars-ever%2F&amp;text=50+Most+Expensive+Cars+In+The+World&amp;via=motor1com\" rel=\"nofollow noopener\" target=\"_blank\"> <span class=\"social-bg twitter\"> <svg class=\"social-share-icon\"> <use xlink:href=\"/design/dist/critical/icons/sprite-common-2-376d1d9f2575fd036f5b6d263acfad1d.svg#twitter\"></use> </svg> </span> <span class=\"name\">Share on Twitter </span></a></li><li class=\"linkedin\"><a aria-label=\"LinkedIn share\" data-button=\"\" data-extra-params=\"id:'308149',type_id:'1'\" data-height=\"600\" data-id=\"share\" data-name=\"network_id\" data-share-network=\"LinkedIn\" data-share-url=\"https://www.motor1.com/features/308149/most-expensive-new-cars-ever/\" data-url=\"/connect/share/\" data-value=\"3\" data-width=\"600\" href=\"https://www.linkedin.com/cws/share?url=https%3A%2F%2Fwww.motor1.com%2Ffeatures%2F308149%2Fmost-expensive-new-cars-ever%2F\" rel=\"nofollow noopener\" target=\"_blank\"> <span class=\"social-bg linkedin\"> <svg class=\"social-share-icon\"> <use xlink:href=\"/design/dist/critical/icons/sprite-common-2-376d1d9f2575fd036f5b6d263acfad1d.svg#linkedin\"></use> </svg> </span> <span class=\"name\">Share on LinkedIn </span></a></li><li class=\"flipboard\"><a aria-label=\"Flipboard share\" data-button=\"\" data-extra-params=\"id:'308149',type_id:'1'\" data-height=\"600\" data-id=\"share\" data-name=\"network_id\" data-share-network=\"Flipboard\" data-share-url=\"https://www.motor1.com/features/308149/most-expensive-new-cars-ever/\" data-url=\"/connect/share/\" data-value=\"7\" data-width=\"600\" href=\"https://share.flipboard.com/bookmarklet/popout?url=https%3A%2F%2Fwww.motor1.com%2Ffeatures%2F308149%2Fmost-expensive-new-cars-ever%2F&amp;title=50+Most+Expensive+Cars+In+The+World&amp;v=2\" rel=\"nofollow noopener\" target=\"_blank\"> <span class=\"social-bg flipboard\"> <svg class=\"social-share-icon\"> <use xlink:href=\"/design/dist/critical/icons/sprite-common-2-376d1d9f2575fd036f5b6d263acfad1d.svg#flipboard\"></use> </svg> </span> <span class=\"name\">Share on Flipboard </span></a></li><li class=\"pinterest\"><a aria-label=\"Pinterest share\" data-button=\"\" data-extra-params=\"id:'308149',type_id:'1'\" data-height=\"550\" data-id=\"share\" data-name=\"network_id\" data-share-network=\"Pinterest\" data-share-url=\"https://www.motor1.com/features/308149/most-expensive-new-cars-ever/\" data-url=\"/connect/share/\" data-value=\"4\" data-width=\"700\" href=\"https://www.pinterest.com/pin/create/button/?url=https%3A%2F%2Fwww.motor1.com%2Ffeatures%2F308149%2Fmost-expensive-new-cars-ever%2F&amp;media=https%3A%2F%2Fcdn.motor1.com%2Fimages%2Fmgl%2FmMxknA%2Fs3%2Fmost-expensive-cars-in-the-world.jpg\" rel=\"nofollow noopener\" target=\"_blank\"> <span class=\"social-bg pinterest\"> <svg class=\"social-share-icon\"> <use xlink:href=\"/design/dist/critical/icons/sprite-common-2-376d1d9f2575fd036f5b6d263acfad1d.svg#pinterest\"></use> </svg> </span> <span class=\"name\">Pin It </span></a></li><li class=\"reddit\"><a aria-label=\"Reddit share\" data-button=\"\" data-extra-params=\"id:'308149',type_id:'1'\" data-height=\"600\" data-id=\"share\" data-name=\"network_id\" data-share-network=\"Reddit\" data-share-url=\"https://www.motor1.com/features/308149/most-expensive-new-cars-ever/\" data-url=\"/connect/share/\" data-value=\"6\" data-width=\"900\" href=\"https://www.reddit.com/submit?url=https%3A%2F%2Fwww.motor1.com%2Ffeatures%2F308149%2Fmost-expensive-new-cars-ever%2F\" rel=\"nofollow noopener\" target=\"_blank\"> <span class=\"social-bg reddit\"> <svg class=\"social-share-icon\"> <use xlink:href=\"/design/dist/critical/icons/sprite-common-2-376d1d9f2575fd036f5b6d263acfad1d.svg#reddit\"></use> </svg> </span> <span class=\"name\">Share on Reddit </span></a></li><li class=\"whatsapp\"><a aria-label=\"WhatsApp share\" data-button=\"\" data-extra-params=\"id:'308149',type_id:'1'\" data-height=\"600\" data-id=\"share\" data-name=\"network_id\" data-share-network=\"WhatsApp\" data-share-url=\"https://www.motor1.com/features/308149/most-expensive-new-cars-ever/\" data-url=\"/connect/share/\" data-value=\"6\" data-width=\"600\" href=\"https://api.whatsapp.com/send?text=https%3A%2F%2Fwww.motor1.com%2Ffeatures%2F308149%2Fmost-expensive-new-cars-ever%2F\" rel=\"nofollow noopener\" target=\"_blank\"> <span class=\"social-bg whatsapp\"> <svg class=\"social-share-icon\"> <use xlink:href=\"/design/dist/critical/icons/sprite-common-2-376d1d9f2575fd036f5b6d263acfad1d.svg#whatsapp\"></use> </svg> </span> <span class=\"name\">Share on WhatsApp </span></a></li><li class=\"mailto\"><a data-button=\"\" data-extra-params=\"id:'308149',type_id:'1'\" data-height=\"400\" data-id=\"mailTo\" data-share-url=\"https://www.motor1.com/features/308149/most-expensive-new-cars-ever/\" data-width=\"600\" href=\"mailto:?body=Hey%2C%20I%20thought%20you%E2%80%99d%20like%20to%20see%20this%20article%20on%20Motor1.com.%20Enjoy%21%0A%0A50%20Most%20Expensive%20Cars%20In%20The%20World%0A%0Ahttps%3A%2F%2Fwww.motor1.com%2Ffeatures%2F308149%2Fmost-expensive-new-cars-ever%2F&amp;subject=50%20Most%20Expensive%20Cars%20In%20The%20World\" rel=\"nofollow noopener\" target=\"_blank\"> <span class=\"social-bg mailto\"> <svg class=\"social-share-icon\"> <use xlink:href=\"/design/dist/critical/icons/sprite-common-2-376d1d9f2575fd036f5b6d263acfad1d.svg#mailto\"></use> </svg> </span> <span class=\"name\">Send to email </span></a></li></ul></div></div></div> </div> <div class=\"tip-us-email-container\"> <div class=\"tip-us-email\"> <span>Got a tip for us? Email:</span> <a href=\"mailto: tips@motor1.com?subject=most-expensive-new-cars-ever\"> tips@motor1.com </a> </div> </div> <div> <div class=\"comments-container no-apb\" id=\"comments\"> <a class=\"commentsNumber show-disqus\" data-disqus-url=\"//motor1dotcom.disqus.com/count-data.json?url=https://www.motor1.com/features/308149/most-expensive-new-cars-ever/\" data-visible=\"true\" href=\"#\" id=\"show-disqus\">Comment!</a> <div class=\"disqus-wrapper\" data-cid=\"article-308149\" data-title=\"50 Most Expensive Cars In The World\" data-url=\"/features/308149/most-expensive-new-cars-ever/\" id=\"disqus_thread\"> </div> </div> </div> </div> </div> <div class=\"sidebar\" id=\"post_sidebar\"> <div class=\"m1_largeMPU\"></div> <div class=\"trending-content\"> <div class=\"content-header\"> <p class=\"trending-content_header\">Trending</p> </div> <div class=\"trending-content_item\" id=\"trending-660789\"> <a aria-label=\"2024 Jeep Wrangler Debuts Smaller Grille, Bigger Touchscreen In New York\" class=\"trending-content_thumb thumb zoom\" href=\"/news/660789/2024-jeep-wrangler-debuts-smaller-grille-bigger-touchscreen-new-york/\" role=\"button\"> <picture class=\"lazyload\"> <source data-srcset=\"https://cdn.motor1.com/images/mgl/W8nOmr/s6/2024-jeep-wrangler.webp 1x, https://cdn.motor1.com/images/mgl/W8nOmr/s4/2024-jeep-wrangler.webp 2x, https://cdn.motor1.com/images/mgl/W8nOmr/s4/2024-jeep-wrangler.webp 3x\" type=\"image/webp\"> <source data-srcset=\"https://cdn.motor1.com/images/mgl/W8nOmr/s6/2024-jeep-wrangler.jpg 1x, https://cdn.motor1.com/images/mgl/W8nOmr/s4/2024-jeep-wrangler.jpg 2x, https://cdn.motor1.com/images/mgl/W8nOmr/s4/2024-jeep-wrangler.jpg 3x\" type=\"image/jpeg\"> <img alt=\"2024 Jeep Wrangler Debuts Smaller Grille, Bigger Touchscreen In New York\" height=\"9\" loading=\"lazy\" src=\"https://cdn.motor1.com/images/static/16x9-tr.png\" width=\"16\"/> </source></source></picture> </a> <a aria-label=\"2024 Jeep Wrangler Debuts Smaller Grille, Bigger Touchscreen In New York\" class=\"trending-content_link\" href=\"/news/660789/2024-jeep-wrangler-debuts-smaller-grille-bigger-touchscreen-new-york/\">2024 Jeep Wrangler Debuts Smaller Grille, Bigger Touchscreen In New York</a> </div> <div class=\"trending-content_item\" id=\"trending-660771\"> <a aria-label=\"2024 Subaru Crosstrek Wilderness Debuts With Added Clearance, Unique Style\" class=\"trending-content_thumb thumb zoom\" href=\"/news/660771/2024-subaru-crosstrek-wilderness-debut/\" role=\"button\"> <picture class=\"lazyload\"> <source data-srcset=\"https://cdn.motor1.com/images/mgl/7ZPO3p/s6/2024-subaru-crosstrek-wilderness.webp 1x, https://cdn.motor1.com/images/mgl/7ZPO3p/s4/2024-subaru-crosstrek-wilderness.webp 2x, https://cdn.motor1.com/images/mgl/7ZPO3p/s4/2024-subaru-crosstrek-wilderness.webp 3x\" type=\"image/webp\"> <source data-srcset=\"https://cdn.motor1.com/images/mgl/7ZPO3p/s6/2024-subaru-crosstrek-wilderness.jpg 1x, https://cdn.motor1.com/images/mgl/7ZPO3p/s4/2024-subaru-crosstrek-wilderness.jpg 2x, https://cdn.motor1.com/images/mgl/7ZPO3p/s4/2024-subaru-crosstrek-wilderness.jpg 3x\" type=\"image/jpeg\"> <img alt=\"2024 Subaru Crosstrek Wilderness Debuts With Added Clearance, Unique Style\" height=\"9\" loading=\"lazy\" src=\"https://cdn.motor1.com/images/static/16x9-tr.png\" width=\"16\"/> </source></source></picture> </a> <a aria-label=\"2024 Subaru Crosstrek Wilderness Debuts With Added Clearance, Unique Style\" class=\"trending-content_link\" href=\"/news/660771/2024-subaru-crosstrek-wilderness-debut/\">2024 Subaru Crosstrek Wilderness Debuts With Added Clearance, Unique Style</a> </div> <div class=\"trending-content_item\" id=\"trending-660755\"> <a aria-label=\"2023 Mercedes-Benz EQE SUV First Drive Review: Mostly In The Middle\" class=\"trending-content_thumb thumb zoom\" href=\"/reviews/660755/2023-mercedes-benz-eqe-suv-first-drive/\" role=\"button\"> <picture class=\"lazyload\"> <source data-srcset=\"https://cdn.motor1.com/images/mgl/40L2lJ/s6/2023-mercedes-benz-eqe-suv.webp 1x, https://cdn.motor1.com/images/mgl/40L2lJ/s4/2023-mercedes-benz-eqe-suv.webp 2x, https://cdn.motor1.com/images/mgl/40L2lJ/s4/2023-mercedes-benz-eqe-suv.webp 3x\" type=\"image/webp\"> <source data-srcset=\"https://cdn.motor1.com/images/mgl/40L2lJ/s6/2023-mercedes-benz-eqe-suv.jpg 1x, https://cdn.motor1.com/images/mgl/40L2lJ/s4/2023-mercedes-benz-eqe-suv.jpg 2x, https://cdn.motor1.com/images/mgl/40L2lJ/s4/2023-mercedes-benz-eqe-suv.jpg 3x\" type=\"image/jpeg\"> <img alt=\"2023 Mercedes-Benz EQE SUV First Drive Review: Mostly In The Middle\" height=\"9\" loading=\"lazy\" src=\"https://cdn.motor1.com/images/static/16x9-tr.png\" width=\"16\"/> </source></source></picture> </a> <a aria-label=\"2023 Mercedes-Benz EQE SUV First Drive Review: Mostly In The Middle\" class=\"trending-content_link\" href=\"/reviews/660755/2023-mercedes-benz-eqe-suv-first-drive/\">2023 Mercedes-Benz EQE SUV First Drive Review: Mostly In The Middle</a> </div> <div class=\"trending-content_item\" id=\"trending-660742\"> <a aria-label=\"2025 Ram 1500 REV Reveals 654-HP Output, Up To 500 Miles Of Range\" class=\"trending-content_thumb thumb zoom\" href=\"/news/660742/2025-ram-1500-rev-range-and-specs/\" role=\"button\"> <picture class=\"lazyload\"> <source data-srcset=\"https://cdn.motor1.com/images/mgl/Ak21J2/s6/2024-ram-1500-rev-exterior-front-three-quarter-view.webp 1x, https://cdn.motor1.com/images/mgl/Ak21J2/s4/2024-ram-1500-rev-exterior-front-three-quarter-view.webp 2x, https://cdn.motor1.com/images/mgl/Ak21J2/s4/2024-ram-1500-rev-exterior-front-three-quarter-view.webp 3x\" type=\"image/webp\"> <source data-srcset=\"https://cdn.motor1.com/images/mgl/Ak21J2/s6/2024-ram-1500-rev-exterior-front-three-quarter-view.jpg 1x, https://cdn.motor1.com/images/mgl/Ak21J2/s4/2024-ram-1500-rev-exterior-front-three-quarter-view.jpg 2x, https://cdn.motor1.com/images/mgl/Ak21J2/s4/2024-ram-1500-rev-exterior-front-three-quarter-view.jpg 3x\" type=\"image/jpeg\"> <img alt=\"2025 Ram 1500 REV Reveals 654-HP Output, Up To 500 Miles Of Range\" height=\"9\" loading=\"lazy\" src=\"https://cdn.motor1.com/images/static/16x9-tr.png\" width=\"16\"/> </source></source></picture> </a> <a aria-label=\"2025 Ram 1500 REV Reveals 654-HP Output, Up To 500 Miles Of Range\" class=\"trending-content_link\" href=\"/news/660742/2025-ram-1500-rev-range-and-specs/\">2025 Ram 1500 REV Reveals 654-HP Output, Up To 500 Miles Of Range</a> </div> </div> <div class=\"m1-find-vehicle-eu small collapsed hidden-nt_m\"> <div class=\"m1-find-vehicle-wrapper\"> <span class=\"icon-arrow-big m1-find-vehicle-us_toggle-button hide-d\"></span> <p class=\"title find_vehicle_title\">Find a vehicle</p> <span class=\"icon-arrow-big m1-find-vehicle-us_toggle-button hide-d\"></span> </div> <div class=\"m1-find-vehicle-eu-wrapper nt-hide-d\"> <section> <form data-cse-type=\"motor1\" data-drivek-url=\"\"> <select class=\"cars_form_make\" data-placeholder=\"Select a Make\" data-ready=\"false\" data-url=\"/makes/list/\" name=\"make\"></select> <select class=\"cars_form_model\" data-placeholder=\"Select a Model\" data-url=\"/submodels/list/\" disabled=\"\" name=\"model\"></select> <input class=\"cars_form_submit\" disabled=\"\" type=\"submit\" value=\"Search\"/> </form> </section> </div> </div> <div class=\"adv-should-fixed\"> <div class=\"m1_largeMPU\"></div> </div> <div class=\"latest__articles--desktop\"> <div class=\"latest__articles\"> <div class=\"content-header\"> <p class=\"most-recent__content-header\">latest articles</p> </div> <ul class=\"latest__articles-list\"> <li class=\"latest__articles-list-item\" data-most-recent-id=\"661064\"> <span class=\"date\" data-time=\"1680759858\">5:44am</span> <span class=\"latest__articles-list-item-title\"> <a class=\"latest__articles-list-item-link\" href=\"/news/661064/2023-mitsubishi-delica-mini-reveal/\"> Mitsubishi Delica Mini Debuts As AWD Rugged Kei Car With 52 Horsepower </a> </span> </li> <li class=\"latest__articles-list-item\" data-most-recent-id=\"661040\"> <span class=\"date\" data-time=\"1680757502\">5:05am</span> <span class=\"latest__articles-list-item-title\"> <a class=\"latest__articles-list-item-link\" href=\"/news/661040/new-dacia-duster-rendered/\"> Next-Gen Dacia Duster Already Rendered Accurately After The First Spy Shots </a> </span> </li> <li class=\"latest__articles-list-item\" data-most-recent-id=\"661036\"> <span class=\"date\" data-time=\"1680756281\">4:44am</span> <span class=\"latest__articles-list-item-title\"> <a class=\"latest__articles-list-item-link\" href=\"/news/661036/2024-mazda3-reveal-japan/\"> 2024 Mazda3 Revealed In Japan With Bigger Screen And Other Updates </a> </span> </li> <li class=\"latest__articles-list-item\" data-most-recent-id=\"661037\"> <span class=\"date\" data-time=\"1680754869\">4:21am</span> <span class=\"latest__articles-list-item-title\"> <a class=\"latest__articles-list-item-link\" href=\"/news/661037/2023-ford-e-transit-courier/\"> 2023 Ford E-Transit Courier Debuts In Europe With 100-kW Motor </a> </span> </li> <li class=\"latest__articles-list-item\" data-most-recent-id=\"661015\"> <span class=\"date\" data-time=\"1680752619\">3:43am</span> <span class=\"latest__articles-list-item-title\"> <a class=\"latest__articles-list-item-link\" href=\"/news/661015/charles-leclerc-watch-thieves-video/\"> See Charles Leclerc In His Ferrari 488 Pista On The Night Thieves Stole His Watch </a> </span> </li> <li class=\"latest__articles-list-item\" data-most-recent-id=\"661012\"> <span class=\"date\" data-time=\"1680748364\">2:32am</span> <span class=\"latest__articles-list-item-title\"> <a class=\"latest__articles-list-item-link\" href=\"/news/661012/amg-one-monza-lap-record/\"> Mercedes-AMG One Is Now The Fastest Production Car At Monza </a> </span> </li> <li class=\"latest__articles-list-item\" data-most-recent-id=\"661009\"> <span class=\"date\" data-time=\"1680747166\">2:12am</span> <span class=\"latest__articles-list-item-title\"> <a class=\"latest__articles-list-item-link\" href=\"/news/661009/texas-florida-distracted-drivers-study/\"> Texas, Florida Have Highest Number Of Fatal Crashes From Distracted Driving: Study </a> </span> </li> <li class=\"latest__articles-list-item\" data-most-recent-id=\"661005\"> <span class=\"date\" data-time=\"1680729234\">9:13pm</span> <span class=\"latest__articles-list-item-title\"> <a class=\"latest__articles-list-item-link\" href=\"/news/661005/classic-corvette-crash-ground-harder-owners-hopes-dreams/\"> See Classic Corvette Crash To Ground With Owner's Hopes And Dreams </a> </span> </li> </ul> </div> </div> </div> <div class=\"clear\"></div> <div class=\"content-area-box\"> <!-- new outbrain setup --> <div class=\"outbrain_service\" style=\"min-height: 1px;\"> <div class=\"OUTBRAIN\" data-src=\"\" data-widget-id=\"AR_28\"> </div> </div> </div> <div class=\"clear\"></div> </div> </div> <div class=\"container_3rd_party pre-center padding print-hide\" data-edtn=\"us\" id=\"container_3rd_party_service\"> <div class=\"content-area hidden-lg\"> <div class=\"content-area-box\"> </div> <div class=\"sidebar\"> <div class=\"mobile-adv\"> <div class=\"m1_largeMPU\"></div> </div> <div class=\"lazy-load-adv\"> <div class=\"m1_largeMPU\"></div> </div> </div> <div class=\"clear\"></div> </div> </div> <div class=\"cpre-center print-hide\"> </div> <div class=\"pre-center padding print-hide about-us-block\"> <div class=\"content-area\"> <div class=\"content-area-box\"> <div class=\"latest__articles--mobile\"> <div class=\"latest__articles\"> <div class=\"content-header\"> <p class=\"most-recent__content-header\">latest articles</p> </div> <ul class=\"latest__articles-list\"> <li class=\"latest__articles-list-item\" data-most-recent-id=\"661064\"> <span class=\"date\" data-time=\"1680759858\">5:44am</span> <span class=\"latest__articles-list-item-title\"> <a class=\"latest__articles-list-item-link\" href=\"/news/661064/2023-mitsubishi-delica-mini-reveal/\"> Mitsubishi Delica Mini Debuts As AWD Rugged Kei Car With 52 Horsepower </a> </span> </li> <li class=\"latest__articles-list-item\" data-most-recent-id=\"661040\"> <span class=\"date\" data-time=\"1680757502\">5:05am</span> <span class=\"latest__articles-list-item-title\"> <a class=\"latest__articles-list-item-link\" href=\"/news/661040/new-dacia-duster-rendered/\"> Next-Gen Dacia Duster Already Rendered Accurately After The First Spy Shots </a> </span> </li> <li class=\"latest__articles-list-item\" data-most-recent-id=\"661036\"> <span class=\"date\" data-time=\"1680756281\">4:44am</span> <span class=\"latest__articles-list-item-title\"> <a class=\"latest__articles-list-item-link\" href=\"/news/661036/2024-mazda3-reveal-japan/\"> 2024 Mazda3 Revealed In Japan With Bigger Screen And Other Updates </a> </span> </li> <li class=\"latest__articles-list-item\" data-most-recent-id=\"661037\"> <span class=\"date\" data-time=\"1680754869\">4:21am</span> <span class=\"latest__articles-list-item-title\"> <a class=\"latest__articles-list-item-link\" href=\"/news/661037/2023-ford-e-transit-courier/\"> 2023 Ford E-Transit Courier Debuts In Europe With 100-kW Motor </a> </span> </li> <li class=\"latest__articles-list-item\" data-most-recent-id=\"661015\"> <span class=\"date\" data-time=\"1680752619\">3:43am</span> <span class=\"latest__articles-list-item-title\"> <a class=\"latest__articles-list-item-link\" href=\"/news/661015/charles-leclerc-watch-thieves-video/\"> See Charles Leclerc In His Ferrari 488 Pista On The Night Thieves Stole His Watch </a> </span> </li> <li class=\"latest__articles-list-item\" data-most-recent-id=\"661012\"> <span class=\"date\" data-time=\"1680748364\">2:32am</span> <span class=\"latest__articles-list-item-title\"> <a class=\"latest__articles-list-item-link\" href=\"/news/661012/amg-one-monza-lap-record/\"> Mercedes-AMG One Is Now The Fastest Production Car At Monza </a> </span> </li> <li class=\"latest__articles-list-item\" data-most-recent-id=\"661009\"> <span class=\"date\" data-time=\"1680747166\">2:12am</span> <span class=\"latest__articles-list-item-title\"> <a class=\"latest__articles-list-item-link\" href=\"/news/661009/texas-florida-distracted-drivers-study/\"> Texas, Florida Have Highest Number Of Fatal Crashes From Distracted Driving: Study </a> </span> </li> <li class=\"latest__articles-list-item\" data-most-recent-id=\"661005\"> <span class=\"date\" data-time=\"1680729234\">9:13pm</span> <span class=\"latest__articles-list-item-title\"> <a class=\"latest__articles-list-item-link\" href=\"/news/661005/classic-corvette-crash-ground-harder-owners-hopes-dreams/\"> See Classic Corvette Crash To Ground With Owner's Hopes And Dreams </a> </span> </li> </ul> </div> </div> <div class=\"bottom-ad mobile-skyscraper-box\"> <div class=\"m1_largeMPU\"></div> </div> <div class=\"bottom-heading__wrapper\"> <p class=\"text-uppercase bottom-heading\">About this article</p> </div> <table class=\"additionalInfo\"> <tr> <td>Make/Model</td> <td> <div class=\"list\"> <a href=\"/aston-martin/valkyrie/\">Aston Martin Valkyrie</a> <a href=\"/mercedes-benz/one/\">Mercedes-Benz AMG One</a> <a href=\"/koenigsegg/jesko/\">Koenigsegg Jesko</a> <a href=\"/pagani/huayra/\">Pagani Huayra</a> <a href=\"/pagani/huayra-roadster/\">Pagani Huayra Roadster</a> <a href=\"/bugatti/divo/\">Bugatti Divo</a> <a href=\"/bugatti/chiron/\">Bugatti Chiron</a> <a href=\"/mclaren/speedtail/\">McLaren Speedtail</a> <a href=\"/mercedes-amg/project-one/\">Mercedes-AMG Project One</a> <a href=\"/hennessey/venom-f5/\">Hennessey Venom F5</a> </div> </td> </tr> <tr> <td>Category</td> <td><div class=\"list\"> <a href=\"/features/category/lists/\">Lists</a> </div></td> </tr> </table> </div> <div class=\"sidebar\"> </div> <div class=\"clear\"></div> </div> </div> <div class=\"print-hide\" id=\"stop_share_box\"></div> </div> <div class=\"m1-left-side\"> <div class=\"m1-drawer left-to-right disabled\" data-button-target=\"mainMenu\"> <div class=\"m1-drawer-close-button dark active\" data-button=\"\" data-clear=\"2\" data-close-delay=\"0.5\" data-hide-scroll=\"m1-left-side-box\" data-id=\"mainMenuToggle\" data-multi=\"\" data-toggle=\"1\" data-value=\"mainMenu\" onclick=\"\" tabindex=\"0\"></div> <div class=\"m1-left-side-top\"> <div class=\"m1-user-side-label\"> <span class=\"label flex-parent two-line\"> <a class=\"login\" href=\"/connect/msnt/\">Sign In</a> <span class=\"hide_mobile\">or</span> <a class=\"register\" href=\"/connect/msnt/?is_registration=1\">Sign Up</a> </span> <span class=\"hide_mobile userpic icon-user\"></span> </div> </div> <div class=\"m1-left-side-box\"> <ul class=\"m1-navigation-main print-hide\"> <li class=\"m1-navigation-main__animated-block grand top left mobile dropdown\"> <a href=\"/news/\"> News </a> <button aria-label=\"dropdown button\" class=\"dropdown-toggle\"></button> </li> <li class=\"dropdown-wrapper\"> <ul class=\"dropdown-content\"> <li> <a href=\"/news/category/spy-photos/\">Spy Shots</a> </li> <li> <a href=\"/news/category/concept-car/\">Concept Cars</a> </li> <li> <a href=\"/news/category/supercars/\">Supercars</a> </li> <li> <a href=\"/news/category/aftermaket-tuning/\">Aftermarket / Tuning</a> </li> <li> <a href=\"/news/category/autonomous-cars/\">Autonomous Vehicles</a> </li> <li> <a href=\"/news/category/awards/\">Awards</a> </li> <li> <a href=\"/news/category/breaking/\">Breaking</a> </li> </ul> </li> <!-- makes here--> <li class=\"m1-navigation-main__animated-block grand top left mobile dropdown\"> <a href=\"/reviews/\"> Reviews </a> <button aria-label=\"dropdown button\" class=\"dropdown-toggle\"></button> </li> <li class=\"dropdown-wrapper\"> <ul class=\"dropdown-content\"> <li> <a href=\"/reviews/category/car-reviews/\">New Car Reviews</a> </li> <li> <a href=\"/reviews/category/first-drives/\">First Drives</a> </li> <li> <a href=\"/reviews/category/pros-cons/\">Pros and Cons</a> </li> <li> <a href=\"/reviews/category/comparisons/\">Comparisons</a> </li> <li> <a href=\"/reviews/category/driving-notes/\">Driving Notes</a> </li> <li> <a href=\"/reviews/category/why-buy/\">Why Buy?</a> </li> </ul> </li> <!-- makes here--> <li class=\"m1-navigation-main__animated-block grand left top mobile dropdown\"> <a href=\"/features/\"> Features </a> <button aria-label=\"dropdown button\" class=\"dropdown-toggle\"></button> </li> <li class=\"dropdown-wrapper\"> <ul class=\"dropdown-content\"> <li> <a href=\"/features/category/lists/\">Lists</a> </li> <li> <a href=\"/features/category/podcast/\">Podcast</a> </li> <li> <a href=\"/features/category/automotive-history/\">Automotive History</a> </li> <li> <a href=\"/features/category/car-buying/\">Car Buying</a> </li> <li> <a href=\"/features/category/features/\">Features</a> </li> <li> <a href=\"/features/category/opinion/\">Opinion</a> </li> </ul> </li> <!-- makes here--> <li class=\"m1-navigation-main__animated-block left dropdown inner-scroll\"> <a href=\"/makes/\"> new cars </a> <button aria-label=\"dropdown button\" class=\"dropdown-toggle\"></button> </li> <li class=\"dropdown-wrapper\"> <ul class=\"dropdown-content\"> <li> <a href=\"/acura/\">Acura</a> </li> <li> <a href=\"/alfa-romeo/\">Alfa Romeo</a> </li> <li> <a href=\"/aston-martin/\">Aston Martin</a> </li> <li> <a href=\"/audi/\">Audi</a> </li> <li> <a href=\"/bentley/\">Bentley</a> </li> <li> <a href=\"/bmw/\">BMW</a> </li> <li> <a href=\"/bugatti/\">Bugatti</a> </li> <li> <a href=\"/buick/\">Buick</a> </li> <li> <a href=\"/cadillac/\">Cadillac</a> </li> <li> <a href=\"/chevrolet/\">Chevrolet</a> </li> <li> <a href=\"/chrysler/\">Chrysler</a> </li> <li> <a href=\"/dodge/\">Dodge</a> </li> <li> <a href=\"/ferrari/\">Ferrari</a> </li> <li> <a href=\"/fiat/\">Fiat</a> </li> <li> <a href=\"/fisker/\">Fisker</a> </li> <li> <a href=\"/ford/\">Ford</a> </li> <li> <a href=\"/genesis/\">Genesis</a> </li> <li> <a href=\"/gmc/\">GMC</a> </li> <li> <a href=\"/hennessey/\">Hennessey</a> </li> <li> <a href=\"/honda/\">Honda</a> </li> <li> <a href=\"/hyundai/\">Hyundai</a> </li> <li> <a href=\"/infiniti/\">Infiniti</a> </li> <li> <a href=\"/jaguar/\">Jaguar</a> </li> <li> <a href=\"/jeep/\">Jeep</a> </li> <li> <a href=\"/karma/\">Karma</a> </li> <li> <a href=\"/kia/\">Kia</a> </li> <li> <a href=\"/koenigsegg/\">Koenigsegg</a> </li> <li> <a href=\"/lamborghini/\">Lamborghini</a> </li> <li> <a href=\"/land-rover/\">Land Rover</a> </li> <li> <a href=\"/lexus/\">Lexus</a> </li> <li> <a href=\"/lincoln/\">Lincoln</a> </li> <li> <a href=\"/lotus/\">Lotus</a> </li> <li> <a href=\"/lucid/\">Lucid</a> </li> <li> <a href=\"/maserati/\">Maserati</a> </li> <li> <a href=\"/mazda/\">Mazda</a> </li> <li> <a href=\"/mclaren/\">McLaren</a> </li> <li> <a href=\"/mercedes-benz/\">Mercedes-Benz</a> </li> <li> <a href=\"/mini/\">Mini</a> </li> <li> <a href=\"/mitsubishi/\">Mitsubishi</a> </li> <li> <a href=\"/nissan/\">Nissan</a> </li> <li> <a href=\"/pagani/\">Pagani</a> </li> <li> <a href=\"/polestar/\">Polestar</a> </li> <li> <a href=\"/porsche/\">Porsche</a> </li> <li> <a href=\"/ram/\">Ram</a> </li> <li> <a href=\"/renault/\">Renault</a> </li> <li> <a href=\"/rimac/\">Rimac</a> </li> <li> <a href=\"/rivian/\">Rivian</a> </li> <li> <a href=\"/rolls-royce/\">Rolls-Royce</a> </li> <li> <a href=\"/skoda/\">Skoda</a> </li> <li> <a href=\"/subaru/\">Subaru</a> </li> <li> <a href=\"/tesla/\">Tesla</a> </li> <li> <a href=\"/toyota/\">Toyota</a> </li> <li> <a href=\"/volkswagen/\">Volkswagen</a> </li> <li> <a href=\"/volvo/\">Volvo</a> </li> </ul> </li> <!-- makes here--> <li class=\"m1-navigation-main__animated-block left\"> <a href=\"/auto-shows/\"> Auto Shows </a> </li> <li class=\"m1-navigation-main__animated-block left\"> <a href=\"/body-styles/\"> Body styles </a> </li> <li class=\"m1-navigation-main__animated-block left\"> <a href=\"/car-reviews/\"> Star Ratings </a> </li> <li class=\"m1-navigation-main__animated-block podcast ico left\"> <a href=\"/features/category/podcast/\"> Podcast </a> </li> <li class=\"m1-navigation-main__animated-block photos ico left\"> <a href=\"/photos/\" rel=\"nofollow\"> Photos </a> </li> <li class=\"m1-navigation-main__animated-block videos ico left\"> <a href=\"/videos/\"> Videos </a> </li> </ul> <div class=\"m1-menus-box\"> <nav class=\"m1-navigation-main__animated-block m1-extra-menus-box\"> <a class=\"m1-side-logo\" href=\"/\"> <span class=\"sr-only_hide\">Logotype</span> <svg fill=\"none\" height=\"40\" viewbox=\"0 0 200 40\" width=\"200\" xmlns=\"http://www.w3.org/2000/svg\"> <path d=\"M161.523 19.904C160.354 18.752 158.797 18.128 157.142 18.128C155.487 18.128 153.929 18.752 152.761 19.904C151.593 21.056 150.96 22.592 150.96 24.224C150.96 25.856 151.593 27.392 152.761 28.544C153.929 29.696 155.487 30.32 157.142 30.32C158.797 30.32 160.354 29.696 161.523 28.544L159.065 26.12C158.554 26.624 157.872 26.912 157.142 26.912C156.412 26.912 155.73 26.624 155.219 26.12C154.173 25.088 154.173 23.384 155.219 22.352C155.73 21.848 156.412 21.56 157.142 21.56C157.872 21.56 158.554 21.848 159.065 22.352L161.523 19.904Z\" fill=\"white\"></path> <path d=\"M168.532 18.104C165.125 18.104 162.35 20.84 162.35 24.2C162.35 27.56 165.125 30.296 168.532 30.296C171.939 30.296 174.713 27.56 174.713 24.2C174.689 20.84 171.939 18.104 168.532 18.104ZM168.532 26.864C167.047 26.864 165.83 25.664 165.83 24.2C165.83 22.736 167.047 21.536 168.532 21.536C170.016 21.536 171.233 22.736 171.233 24.2C171.233 25.664 170.016 26.864 168.532 26.864Z\" fill=\"white\"></path> <path d=\"M188.464 18.104C187.15 18.104 185.957 18.584 185.032 19.4C184.132 18.608 182.915 18.104 181.601 18.104C178.753 18.104 176.441 20.384 176.441 23.192V30.152H179.897V23.192C179.897 22.28 180.652 21.536 181.577 21.536C182.501 21.536 183.256 22.28 183.256 23.192V30.152H186.712V23.192C186.712 22.28 187.466 21.536 188.391 21.536C189.316 21.536 190.07 22.28 190.07 23.192V30.152H193.526V23.192C193.624 20.384 191.312 18.104 188.464 18.104Z\" fill=\"white\"></path> <path d=\"M67.9699 11.168H63.9542V6.08002H58.454V30.08H63.9542V16.616H67.9699V11.168Z\" fill=\"white\"></path> <path d=\"M45.8228 10.952C40.42 10.952 36.0149 15.296 36.0149 20.624C36.0149 25.952 40.42 30.296 45.8228 30.296C51.2257 30.296 55.6308 25.952 55.6308 20.624C55.6308 15.296 51.2257 10.952 45.8228 10.952ZM45.8228 24.872C43.4621 24.872 41.5151 22.976 41.5151 20.624C41.5151 18.296 43.4378 16.376 45.8228 16.376C48.1836 16.376 50.1306 18.272 50.1306 20.624C50.1306 22.952 48.2079 24.872 45.8228 24.872Z\" fill=\"white\"></path> <path d=\"M79.5788 10.952C74.1759 10.952 69.7709 15.296 69.7709 20.624C69.7709 25.952 74.1759 30.296 79.5788 30.296C84.9817 30.296 89.3868 25.952 89.3868 20.624C89.3868 15.296 84.9817 10.952 79.5788 10.952ZM79.5788 24.872C77.2181 24.872 75.2711 22.976 75.2711 20.624C75.2711 18.296 77.1938 16.376 79.5788 16.376C81.9396 16.376 83.8865 18.272 83.8865 20.624C83.8865 22.952 81.9639 24.872 79.5788 24.872Z\" fill=\"white\"></path> <path d=\"M25.0145 10.952C22.9215 10.952 21.0231 11.72 19.5872 12.992C18.1513 11.72 16.253 10.952 14.16 10.952C9.63327 10.952 5.98267 14.576 5.98267 19.016V30.08H11.4829V19.016C11.4829 17.552 12.6754 16.376 14.16 16.376C15.6446 16.376 16.8371 17.552 16.8371 19.016V30.08H22.3374V19.016C22.3374 17.552 23.5299 16.376 25.0145 16.376C26.4991 16.376 27.6916 17.552 27.6916 19.016V30.08H33.1918V19.016C33.2162 14.552 29.5412 10.952 25.0145 10.952Z\" fill=\"white\"></path> <path d=\"M103.965 11.216V11.168H102.212C100.777 11.168 97.126 11.432 94.5706 13.832C93.013 15.296 92.2098 17.048 92.2098 19.352V30.08H97.7344V21.512C97.7831 19.28 98.9269 16.904 101.385 16.712C101.58 16.688 101.872 16.688 102.164 16.664C102.505 14.768 103.113 12.92 103.965 11.216Z\" fill=\"white\"></path> <path d=\"M145.752 24.152C144.998 23.12 143.829 22.568 142.637 22.568C142.564 22.568 142.467 22.592 142.393 22.592C141.712 22.64 141.006 22.856 140.398 23.288C138.889 24.368 138.402 26.336 139.181 27.944C139.278 28.16 139.4 28.352 139.546 28.544C140.203 29.432 141.177 29.96 142.199 30.08C142.345 30.104 142.491 30.104 142.661 30.104C143.44 30.104 144.219 29.864 144.9 29.384C146.58 28.184 146.969 25.856 145.752 24.152Z\" fill=\"white\"></path> <path d=\"M137.745 31.472C137.672 31.4 137.599 31.304 137.526 31.232C134.581 34.136 130.517 35.936 126.039 35.936C117.131 35.912 109.903 28.736 109.928 19.952C109.928 15.704 111.631 11.696 114.698 8.69598C117.131 6.31998 120.198 4.78398 123.532 4.25598C124.384 4.11198 125.26 4.06398 126.161 4.06398C130.468 4.08798 134.533 5.74398 137.575 8.76798C140.471 11.648 142.126 15.44 142.272 19.496C143.562 19.4 144.852 19.64 145.995 20.168C145.995 20.144 145.995 20.096 145.995 20.072C146.02 14.84 143.951 9.91998 140.228 6.19998C136.48 2.47998 131.515 0.439981 126.209 0.415981C120.904 0.391981 115.914 2.43198 112.142 6.10398C108.37 9.79998 106.301 14.696 106.277 19.928C106.253 30.728 115.136 39.536 126.088 39.584C127.183 39.584 128.229 39.512 129.276 39.344C133.778 38.648 137.794 36.416 140.763 33.248C139.595 32.888 138.573 32.288 137.745 31.472Z\" fill=\"#007EFF\"></path> <path d=\"M123.897 9.19997L119.735 10.88L120.149 11.888L122.461 10.952V30.32H129.689V6.82397L123.897 9.19997Z\" fill=\"white\"></path> </svg> </a> <div class=\"part-of\">part of</div> <a class=\"m1-motorsport-side-logo\" href=\"https://www.motorsportnetwork.com/#about-us\" rel=\"nofollow noopener\" target=\"_blank\"> <span class=\"sr-only_hide\">Logotype</span> <svg enable-background=\"new 0 0 208.111 56.275\" version=\"1.1\" viewbox=\"0 0 208.111 56.275\" x=\"0px\" xml:space=\"preserve\" xmlns=\"http://www.w3.org/2000/svg\" xmlns:xlink=\"http://www.w3.org/1999/xlink\" y=\"0px\"> <path d=\"M205.733,39.287H2.378C1.064,39.287,0,40.353,0,41.665v12.232 c0,1.314,1.064,2.378,2.378,2.378h203.355c1.313,0,2.378-1.064,2.378-2.378V41.665C208.111,40.353,207.046,39.287,205.733,39.287z\" id=\"logo_network_bar\"></path> <g fill=\"#ff0000\"> <path d=\"M132.5,44.7h-2.7v2.9h2.7c1.2,0,1.6-0.8,1.6-1.5C134,45.5,133.6,44.7,132.5,44.7z\" id=\"test1\"></path> <path d=\"M118.4,44.4c-0.9,0-1.7,0.3-2.2,0.9c-0.6,0.6-1,1.6-0.9,2.6c0,1.6,0.9,3.3,3.2,3.3c2.3,0,3.1-1.7,3.1-3.3 c0-1-0.3-2-0.9-2.6C120,44.7,119.3,44.4,118.4,44.4z\"></path> <path d=\"M205.7,39.3H2.4c-1.3,0-2.4,1.1-2.4,2.4v12.2c0,1.3,1.1,2.4,2.4,2.4h203.4c1.3,0,2.4-1.1,2.4-2.4V41.7 C208.1,40.4,207,39.3,205.7,39.3z M67.6,53h-1.2v0.3L66.1,53l-5-6.5V53h-2.3V42.5h1.8l4.7,6v-6h2.3V53z M79.7,44.7H74v2h5.5v2.1H74 v1.9h5.7V53h-7.9V42.5h7.9V44.7z M92.5,44.6h-3.2V53H87v-8.4h-3.2v-2.1h8.7V44.6z M107.2,53h-1.9l-1.3-3.3l-0.9-2.7l-0.9,2.7 L101,53h-1.9l0-0.1l-3.8-10.4h2.5l0,0.1l2.2,6.8l2.3-6.9h1.5l2.4,6.9l2.2-6.9h2.5L107.2,53z M118.4,53.2c-3.7,0-5.4-2.7-5.4-5.4 c0-2.7,1.7-5.5,5.4-5.5c1.5,0,2.9,0.5,3.8,1.5c1,1,1.6,2.5,1.5,4C123.7,50.5,122.1,53.2,118.4,53.2z M134.3,53l-3-3.4h-1.6V53h-2.3 V42.5h0.2c0.8,0,1.6,0,2.4,0c0.8,0,1.6,0,2.4,0c2.6,0,3.8,1.8,3.8,3.5c0,1.7-0.9,2.9-2.4,3.3l3.3,3.7H134.3z M146.5,53l-4-4.2V53 h-2.3V42.5h2.3v4l3.6-4h2.6v0.3l-4.4,4.8l5.2,5.4H146.5z\"></path> </g> <g fill=\"#ffffff\"> <polygon points=\"144.344,47.62 148.785,42.835 148.785,42.534 146.156,42.534 142.553,46.542 142.553,42.534 140.29,42.534 140.29,53.028 142.553,53.028 142.553,48.8 146.549,53.028 149.505,53.028\"></polygon> <path d=\"M136.31,46.077c0-1.692-1.197-3.52-3.826-3.536c-0.805,0-1.608-0.004-2.413-0.007 c-0.805-0.004-1.609-0.008-2.414-0.008h-0.175v10.509h2.261v-3.391h1.586l2.958,3.391h2.857l-3.25-3.668 C135.434,48.946,136.31,47.761,136.31,46.077z M132.484,47.571h-2.74v-2.897h2.74c1.153,0,1.563,0.78,1.563,1.447 C134.046,46.79,133.637,47.571,132.484,47.571z\"></path> <path d=\"M118.378,42.316c-3.705,0-5.392,2.863-5.392,5.524c0,2.691,1.667,5.406,5.392,5.406 c3.673,0,5.349-2.722,5.379-5.421c0.016-1.543-0.548-3.007-1.547-4.017C121.243,42.832,119.918,42.316,118.378,42.316z M118.378,51.144c-2.267,0-3.118-1.695-3.159-3.281c-0.026-1.015,0.313-1.96,0.929-2.592c0.56-0.575,1.31-0.866,2.229-0.866 c0.911,0,1.653,0.285,2.206,0.847c0.613,0.624,0.955,1.572,0.938,2.6C121.493,49.443,120.652,51.144,118.378,51.144z\"></path> <polygon points=\"106.268,49.472 103.864,42.534 102.369,42.534 100.033,49.472 97.804,42.654 97.765,42.534 95.242,42.534 99.054,52.914 99.096,53.028 100.961,53.028 102.24,49.75 103.135,47.018 104.042,49.729 105.347,53.028 107.211,53.028 110.988,42.534 108.469,42.534\"></polygon> <polygon points=\"83.776,44.622 86.994,44.622 86.994,53.029 89.255,53.029 89.255,44.622 92.473,44.622 92.473,42.533 83.776,42.533\"></polygon> <polygon points=\"71.729,53.028 79.672,53.028 79.672,50.794 73.978,50.794 73.978,48.854 79.469,48.854 79.469,46.723 73.978,46.723 73.978,44.738 79.672,44.738 79.672,42.534 71.729,42.534\"></polygon> <polygon points=\"65.362,48.496 60.651,42.534 58.84,42.534 58.84,53.028 61.103,53.028 61.103,46.522 66.123,52.975 66.436,53.363 66.436,53.028 67.625,53.028 67.625,42.519 65.362,42.519\"></polygon> </g> <g fill=\"#ffffff\"> <polygon points=\"208.111,5.433 203.93,5.433 203.93,0 198.155,0 198.155,25.494 203.93,25.494 203.93,11.22 208.111,11.22\"></polygon> <path d=\"M193.818,5.433h-1.839c-1.516,0-5.336,0.275-8.003,2.825c-1.619,1.549-2.475,3.656-2.475,6.093v11.142h5.775 v-9.083c0.052-2.381,1.256-4.879,3.829-5.106c0.705-0.067,2.712-0.076,2.712-0.076V5.433z\"></path> <path d=\"M166.894,5.194c-5.663,0-10.269,4.607-10.269,10.269s4.607,10.269,10.269,10.269s10.269-4.607,10.269-10.269 S172.557,5.194,166.894,5.194z M166.894,19.965c-2.482,0-4.502-2.02-4.502-4.502s2.02-4.502,4.502-4.502 c2.482,0,4.501,2.02,4.501,4.502S169.376,19.965,166.894,19.965z\"></path> <path d=\"M142.018,25.713c5.663,0,10.269-4.607,10.269-10.269s-4.607-10.269-10.269-10.269s-10.269,4.607-10.269,10.27 v17.408h5.769v-8.166l0.379,0.167C139.187,25.424,140.574,25.713,142.018,25.713z M137.518,15.354 c0.052-2.436,2.071-4.412,4.501-4.412c2.482,0,4.502,2.02,4.502,4.502s-2.02,4.501-4.502,4.501c-2.461,0-4.48-1.998-4.5-4.455 L137.518,15.354z\"></path> <path d=\"M113.932,24.795l-3.04-1.372l2.561-4.675l2.296,1.222c1.709,0.929,4.752,1.038,5.046-0.553 c0.146-0.782-0.367-1.299-1.039-1.485l-3.86-1.114c-2.779-0.815-3.858-3.375-3.229-6.156c1.079-4.861,6.719-6.417,11.357-4.936 l2.932,0.927l-2.267,4.267l-1-0.482c-2.076-1.001-4.861-0.629-4.676,1.038c0.15,1.113,1.415,1.188,1.594,1.225l2.861,0.669 c3.855,0.89,4.376,4.524,3.67,7.267C126.024,25.128,118.828,27.02,113.932,24.795z\"></path> <path d=\"M108.149,5.433h-1.839c-1.516,0-5.336,0.275-8.003,2.825c-1.619,1.549-2.475,3.418-2.475,5.855v11.381h5.775v-9.083 c0.052-2.381,1.256-4.879,3.829-5.106c0.705-0.067,2.712-0.076,2.712-0.076V5.433z\"></path> <path d=\"M81.225,5.194c-5.663,0-10.269,4.607-10.269,10.269s4.607,10.269,10.269,10.269s10.27-4.607,10.27-10.269 S86.888,5.194,81.225,5.194z M81.225,19.965c-2.482,0-4.501-2.02-4.501-4.502s2.019-4.502,4.501-4.502 c2.482,0,4.502,2.02,4.502,4.502S83.707,19.965,81.225,19.965z\"></path> <polygon points=\"67.666,5.433 63.485,5.433 63.485,0.029 57.709,0.029 57.709,25.494 63.485,25.494 63.485,11.22 67.666,11.22\"></polygon> <path d=\"M43.102,5.194c-5.663,0-10.269,4.607-10.269,10.269s4.607,10.269,10.269,10.269s10.269-4.607,10.269-10.269 S48.765,5.194,43.102,5.194z M43.102,19.965c-2.482,0-4.501-2.02-4.501-4.502s2.019-4.502,4.501-4.502 c2.482,0,4.502,2.02,4.502,4.502S45.584,19.965,43.102,19.965z\"></path> <path d=\"M19.931,5.194c-2.184,0-4.171,0.824-5.683,2.17c-1.513-1.346-3.5-2.17-5.683-2.17C3.834,5.194,0,9.028,0,13.758 v11.736h5.761V13.758c0-1.548,1.255-2.803,2.803-2.803s2.803,1.255,2.803,2.803v11.736h5.761l0-11.736 c0-1.548,1.255-2.803,2.803-2.803c1.548,0,2.803,1.255,2.803,2.803v11.736h5.761V13.758C28.495,9.028,24.661,5.194,19.931,5.194z\"></path> </g> </svg> </a> <div class=\"left-side-white-line\"></div> <div class=\"m1-editions-switcher-mobile\"> <a class=\"m1-editions-switcher\" data-button=\"\" data-clear=\"2\" data-close-delay=\"0.5\" data-delay=\"0.01\" data-hide-scroll=\"m1-scrollbar\" data-id=\"toggleBox\" data-multi=\"\" data-value=\"editionsMenu\" href=\"/info/\" onclick=\"\" tabindex=\"0\"> <span class=\"title\">Edition:</span> <span class=\"edf edf-230\"></span> <span class=\"ico-switcher\"> <svg> <use xlink:href=\"/design/dist/critical/icons/sprite-common-2-376d1d9f2575fd036f5b6d263acfad1d.svg#arrow\"></use> </svg> </span> </a> </div> <ul class=\"m1-social-menu\"> <li class=\"facebook\"> <a class=\"facebook-redirect-link\" href=\"https://www.facebook.com/motor1com\" rel=\"nofollow noopener\" target=\"_blank\"> <span class=\"sr-only_hide\">Facebook link </span> <svg class=\"social-media-icon\"> <use xlink:href=\"/design/dist/critical/icons/sprite-common-2-376d1d9f2575fd036f5b6d263acfad1d.svg#facebook\"></use> </svg> </a> </li> <li class=\"twitter\"> <a class=\"twitter-redirect-link\" href=\"https://twitter.com/motor1com\" rel=\"nofollow noopener\" target=\"_blank\"> <span class=\"sr-only_hide\">Twitter link </span> <svg class=\"social-media-icon\"> <use xlink:href=\"/design/dist/critical/icons/sprite-common-2-376d1d9f2575fd036f5b6d263acfad1d.svg#twitter\"></use> </svg> </a> </li> <li class=\"linkedin\" data-order=\"4\"> <a class=\"linkedin-redirect-link\" href=\"https://www.linkedin.com/company/11274075/\" rel=\"nofollow noopener\" target=\"_blank\"> <span class=\"sr-only_hide\">Linkedin link </span> <svg class=\"social-media-icon\"> <use xlink:href=\"/design/dist/critical/icons/sprite-common-2-376d1d9f2575fd036f5b6d263acfad1d.svg#linkedin\"></use> </svg> </a> </li> <li class=\"flipboard\"> <a class=\"flipboard-redirect-link\" href=\"https://flipboard.com/@Motor1com\" rel=\"nofollow noopener\" target=\"_blank\"> <span class=\"sr-only_hide\">Flipboard link </span> <svg class=\"social-media-icon\"> <use xlink:href=\"/design/dist/critical/icons/sprite-common-2-376d1d9f2575fd036f5b6d263acfad1d.svg#flipboard\"></use> </svg> </a> </li> <li class=\"pinterest\"> <a class=\"pinterest-redirect-link\" href=\"https://www.pinterest.com/motor1com/\" rel=\"nofollow noopener\" target=\"_blank\"> <span class=\"sr-only_hide\">social media link </span> <svg class=\"social-media-icon\"> <use xlink:href=\"/design/dist/critical/icons/sprite-common-2-376d1d9f2575fd036f5b6d263acfad1d.svg#pinterest\"></use> </svg> </a> </li> <li class=\"gnews\"> <a class=\"gnews-redirect-link\" href=\"https://news.google.com/publications/CAAqBwgKMPLIlAsw0ZCqAw\" rel=\"nofollow noopener\" target=\"_blank\"> <span class=\"sr-only_hide\">Google News link </span> <svg class=\"social-media-icon\"> <use xlink:href=\"/design/dist/critical/icons/sprite-common-2-376d1d9f2575fd036f5b6d263acfad1d.svg#gnews\"></use> </svg> </a> </li> <li class=\"instagram\"> <a class=\"instagram-redirect-link\" href=\"https://www.instagram.com/motor1com/\" rel=\"nofollow noopener\" target=\"_blank\"> <span class=\"sr-only_hide\">Instagram link </span> <svg class=\"social-media-icon\"> <use xlink:href=\"/design/dist/critical/icons/sprite-common-2-376d1d9f2575fd036f5b6d263acfad1d.svg#instagram\"></use> </svg> </a> </li> <li class=\"youtube\"> <a class=\"youtube-redirect-link\" href=\"https://www.youtube.com/@motor1?sub_confirmation=1\" rel=\"nofollow noopener\" target=\"_blank\"> <span class=\"sr-only_hide\">Youtube link </span> <svg class=\"social-media-icon\"> <use xlink:href=\"/design/dist/critical/icons/sprite-common-2-376d1d9f2575fd036f5b6d263acfad1d.svg#youtube\"></use> </svg> </a> </li> <li class=\"rss\"> <a class=\"rss-redirect-link\" href=\"/rss/\"> <span class=\"sr-only_hide\">RSS link </span> <svg class=\"social-media-icon\"> <use xlink:href=\"/design/dist/critical/icons/sprite-common-2-376d1d9f2575fd036f5b6d263acfad1d.svg#rss\"></use> </svg> </a> </li> <li class=\"tiktok\" data-order=\"4\"> <a class=\"tiktok-redirect-link\" href=\"https://www.tiktok.com/@motor1.com\" rel=\"nofollow noopener\" target=\"_blank\"> <span class=\"sr-only_hide\">TikTok link </span> <svg class=\"social-media-icon\"> <use xlink:href=\"/design/dist/critical/icons/sprite-common-2-376d1d9f2575fd036f5b6d263acfad1d.svg#tiktok\"></use> </svg> </a> </li> </ul> <ul class=\"m1-info-menu\"> <li><a href=\"/info/\">About Us</a></li> <li><a href=\"https://www.motor1.com/newsletter/\" target=\"_blank\">Newsletter</a></li> <li><a href=\"/info/advertising/\">Advertising</a></li> <li><a href=\"/info/feedback/tip-us/\">Tip us</a></li> <li><a href=\"/info/contact/\">Contact</a></li> <li><a href=\"https://info.wrightsmedia.com/motorone-licensing-permissions\" target=\"_blank\">LICENSING</a></li> <li class=\"one-trust\"> <!-- OneTrust Cookies Settings button start --> <button class=\"ot-sdk-show-settings\" id=\"ot-sdk-btn\">Cookie Settings</button> <!-- OneTrust Cookies Settings button end --> </li> <li><a href=\"/info/cookie-policy/\">Cookie policy</a></li> <li><a href=\"https://accounts.motorsportnetwork.com/legal/privacy-policy\" target=\"_blank\">Privacy policy</a></li> </ul> </nav> <div class=\"m1-navigation-main__animated-block m1-colorscheme-switcher show\"> <div class=\"radio-switcher radio-switcher_color\"> <button id=\"darkcolorscheme\"> Dark </button> <div class=\"icon\"> <svg class=\"lightmode\" fill=\"none\" height=\"16\" viewbox=\"0 0 16 16\" width=\"16\" xmlns=\"http://www.w3.org/2000/svg\"> <path d=\"M10.8358 5.16384C10.1163 4.44427 9.1004 3.97867 7.99988 3.97867C6.89936 3.97867 5.8835 4.42311 5.16393 5.16384C4.44436 5.88341 3.97876 6.89927 3.97876 7.99979C3.97876 9.1003 4.44436 10.1162 5.16393 10.8357C5.8835 11.5553 6.89936 12.0209 7.99988 12.0209C9.1004 12.0209 10.1163 11.5765 10.8358 10.8357C11.5554 10.1162 12.021 9.1003 12.021 7.99979C12.021 6.89927 11.5766 5.88341 10.8358 5.16384ZM10.0739 10.0738C9.54484 10.6029 8.8041 10.9204 7.99988 10.9204C7.19566 10.9204 6.45492 10.6029 5.92583 10.0738C5.39673 9.54474 5.07928 8.80401 5.07928 7.99979C5.07928 7.19556 5.39673 6.45483 5.92583 5.92574C6.45492 5.39664 7.19566 5.07919 7.99988 5.07919C8.8041 5.07919 9.54484 5.39664 10.0739 5.92574C10.603 6.45483 10.9205 7.19556 10.9205 7.99979C10.9205 8.80401 10.603 9.54474 10.0739 10.0738Z\" fill=\"black\"></path> <path d=\"M15.4496 7.44992H13.82C13.5237 7.44992 13.2698 7.70389 13.2698 8.00018C13.2698 8.29647 13.5237 8.55044 13.82 8.55044H15.4496C15.7459 8.55044 15.9999 8.29647 15.9999 8.00018C15.9999 7.70389 15.7459 7.44992 15.4496 7.44992Z\" fill=\"black\"></path> <path d=\"M7.99972 13.2698C7.70343 13.2698 7.44946 13.5237 7.44946 13.82V15.4496C7.44946 15.7459 7.70343 15.9999 7.99972 15.9999C8.29601 15.9999 8.54998 15.7459 8.54998 15.4496V13.82C8.54998 13.5237 8.29601 13.2698 7.99972 13.2698Z\" fill=\"black\"></path> <path d=\"M13.6506 12.8888L12.4865 11.7248C12.2961 11.5132 11.9363 11.5132 11.7246 11.7248C11.513 11.9364 11.513 12.2751 11.7246 12.4867L12.8887 13.6507C13.1003 13.8623 13.4389 13.8623 13.6506 13.6507C13.8622 13.4391 13.8622 13.1004 13.6506 12.8888Z\" fill=\"black\"></path> <path d=\"M7.99972 0C7.70343 0 7.44946 0.253965 7.44946 0.550258V2.17987C7.44946 2.47616 7.70343 2.73013 7.99972 2.73013C8.29601 2.73013 8.54998 2.47616 8.54998 2.17987V0.550258C8.54998 0.253965 8.29601 0 7.99972 0Z\" fill=\"black\"></path> <path d=\"M13.6715 2.34934C13.4599 2.1377 13.1213 2.1377 12.9097 2.34934L11.7456 3.51335C11.534 3.72499 11.534 4.06361 11.7456 4.27525C11.9361 4.48688 12.2959 4.48688 12.5075 4.27525L13.6715 3.11124C13.8832 2.8996 13.8832 2.56098 13.6715 2.34934Z\" fill=\"black\"></path> <path d=\"M2.17987 7.44992H0.550258C0.253965 7.44992 0 7.70389 0 8.00018C0 8.29647 0.232802 8.55044 0.550258 8.55044H2.17987C2.47616 8.55044 2.73013 8.29647 2.73013 8.00018C2.73013 7.70389 2.47616 7.44992 2.17987 7.44992Z\" fill=\"black\"></path> <path d=\"M4.25382 11.7248C4.06335 11.5132 3.70356 11.5132 3.49193 11.7248L2.32792 12.8888C2.11628 13.1004 2.11628 13.4391 2.32792 13.6507C2.53956 13.8623 2.87818 13.8623 3.08981 13.6507L4.25382 12.4867C4.46546 12.2751 4.46546 11.9364 4.25382 11.7248Z\" fill=\"black\"></path> <path d=\"M4.25382 3.51335L3.08981 2.34934C2.87818 2.1377 2.53956 2.1377 2.32792 2.34934C2.11628 2.56098 2.11628 2.8996 2.32792 3.11124L3.49193 4.27525C3.70356 4.48688 4.04218 4.48688 4.25382 4.27525C4.46546 4.06361 4.46546 3.72499 4.25382 3.51335Z\" fill=\"black\"></path> </svg> <svg class=\"darkmode\" fill=\"none\" height=\"16\" viewbox=\"0 0 17 16\" width=\"17\" xmlns=\"http://www.w3.org/2000/svg\"> <path d=\"M15.6765 9.10563C15.5123 9.06459 15.3482 9.10563 15.2046 9.20822C14.6711 9.65964 14.0555 10.029 13.3784 10.2752C12.7423 10.5214 12.0446 10.6446 11.306 10.6446C9.64391 10.6446 8.12551 9.96742 7.03801 8.87992C5.9505 7.79241 5.27337 6.27401 5.27337 4.61197C5.27337 3.91433 5.39649 3.2372 5.60168 2.62163C5.82739 1.96503 6.15569 1.36998 6.58659 0.857004C6.77126 0.631295 6.73022 0.302991 6.50451 0.118321C6.36088 0.0157259 6.19673 -0.0253121 6.03258 0.0157259C4.28846 0.487662 2.77006 1.53413 1.68256 2.92942C0.636088 4.30419 0 6.00726 0 7.87449C0 10.1111 0.902835 12.1424 2.3802 13.6198C3.85757 15.0972 5.88894 16 8.12551 16C10.0133 16 11.7574 15.3434 13.1527 14.2559C14.5685 13.1479 15.5944 11.5679 16.0253 9.76223C16.1279 9.45445 15.9638 9.16718 15.6765 9.10563ZM12.5371 13.3941C11.347 14.338 9.82858 14.9125 8.16655 14.9125C6.21725 14.9125 4.45262 14.1123 3.18044 12.8401C1.90826 11.5679 1.10802 9.80327 1.10802 7.85397C1.10802 6.23297 1.64152 4.75561 2.56487 3.56551C3.20096 2.74475 4.0012 2.06762 4.92455 1.59569C4.82196 1.82139 4.71936 2.0471 4.63729 2.29333C4.37054 3.03201 4.24743 3.81173 4.24743 4.63249C4.24743 6.58179 5.04767 8.36695 6.31984 9.63912C7.59202 10.9113 9.37717 11.7115 11.3265 11.7115C12.1883 11.7115 13.009 11.5679 13.7682 11.2806C14.035 11.178 14.3017 11.0754 14.5479 10.9523C14.0555 11.8962 13.3784 12.7375 12.5371 13.3941Z\" fill=\"white\"></path> </svg> </div> <button id=\"lightcolorscheme\"> Light </button> </div> <div class=\"radio-switcher radio-switcher_auto\"> <button id=\"autocolorscheme\">Auto</button> </div> </div> <div class=\"m1-navigation-main__animated-block m1-msn-menus-box\"> <ul class=\"m1-msn-menu\"> <li><a href=\"https://www.motorsport.com/\" rel=\"nofollow noopener\" target=\"_blank\">Motorsport.com</a></li> <li><a href=\"https://motorsport.tv/\" rel=\"nofollow noopener\" target=\"_blank\">Motorsport.tv</a></li> <li><a href=\"https://insideevs.com\" rel=\"nofollow noopener\" target=\"_blank\">Insideevs.com</a></li> <li><a href=\"https://www.rideapart.com/\" rel=\"nofollow noopener\" target=\"_blank\">Rideapart.com</a></li> <li><a href=\"https://blog.dupontregistry.com/\" rel=\"nofollow noopener\" target=\"_blank\">Dupontregistry.com</a></li> <li><a href=\"https://www.myev.com/\" rel=\"nofollow noopener\" target=\"_blank\">Myev.com</a></li> </ul> </div> <div class=\"m1-navigation-main__animated-block m1-footer\"> <!-- &copy; --> <!-- <a target=\"_blank\" rel=\"nofollow noopener\" class=\"m1-msn-name\" href=\"https://www.motorsportnetwork.com/company/about\"> --> <!-- </a> --> <div class=\"design-by\">Some stock vehicle imagery licensed from EVOX images</div> </div> </div> </div> </div> <div class=\"m1-drawer-overlay\"></div> </div> <div class=\"m1-right-side\"> <div class=\"m1-drawer right-to-left disabled\" data-button-target=\"editionsMenu\"> <div class=\"m1-drawer-close-button active\" data-button=\"\" data-clear=\"2\" data-close-delay=\"0.5\" data-hide-scroll=\"m1-scrollbar\" data-id=\"toggleBox\" data-multi=\"\" data-toggle=\"1\" data-value=\"editionsMenu\" onclick=\"\" tabindex=\"0\"></div> <div class=\"m1-editions-switcher active\" data-button=\"\" data-clear=\"2\" data-close-delay=\"0.5\" data-delay=\"0.01\" data-hide-scroll=\"m1-scrollbar\" data-id=\"toggleBox\" data-multi=\"\" data-toggle=\"1\" data-value=\"editionsMenu\" onclick=\"\" tabindex=\"0\"> <span class=\"edf edf-230\"></span> <span class=\"title\">USA / Global</span> </div> <div class=\"m1-editions-label\">Our International Editions</div> <div class=\"m1-editions-box m1-scrollbar\"> <ul class=\"m1-editions-list\"> <li class=\"current\"> <a href=\"https://www.motor1.com\"> <span class=\"flags\"> <span class=\"edf edf-230\"></span> </span> <span class=\"label\"> Edition: USA / Global </span> </a> </li> <li> <a href=\"https://fr.motor1.com\"> <span class=\"flags\"> <span class=\"edf edf-72\"></span> <span class=\"edf edf-21\"></span> <span class=\"edf edf-211\"></span> <span class=\"edf edf-145\"></span> <span class=\"edf edf-128\"></span> </span> <span class=\"label\"> Édition: France </span> </a> </li> <li> <a href=\"https://it.motor1.com\"> <span class=\"flags\"> <span class=\"edf edf-106\"></span> </span> <span class=\"label\"> Edizione: Italia </span> </a> </li> <li> <a href=\"https://de.motor1.com\"> <span class=\"flags\"> <span class=\"edf edf-80\"></span> <span class=\"edf edf-14\"></span> <span class=\"edf edf-211\"></span> </span> <span class=\"label\"> Ausgabe: Deutschland </span> </a> </li> <li> <a href=\"https://ru.motor1.com\"> <span class=\"flags\"> <span class=\"edf edf-182\"></span> <span class=\"edf edf-20\"></span> <span class=\"edf edf-227\"></span> <span class=\"edf edf-112\"></span> </span> <span class=\"label\"> Версия: Россия </span> </a> </li> <li> <a href=\"https://motor1.uol.com.br\"> <span class=\"flags\"> <span class=\"edf edf-30\"></span> <span class=\"edf edf-177\"></span> </span> <span class=\"label\"> Edição: Brasil </span> </a> </li> <li> <a href=\"https://uk.motor1.com\"> <span class=\"flags\"> <span class=\"edf edf-229\"></span> <span class=\"edf edf-104\"></span> </span> <span class=\"label\"> Edition: UK </span> </a> </li> <li> <a href=\"https://me.motor1.com\"> <span class=\"flags\"> <span class=\"edf edf-190\"></span> <span class=\"edf edf-228\"></span> <span class=\"edf edf-17\"></span> <span class=\"edf edf-179\"></span> <span class=\"edf edf-122\"></span> </span> <span class=\"label\"> النسخة: الشرق الأوسط </span> </a> </li> <li> <a href=\"https://tr.motor1.com\"> <span class=\"flags\"> <span class=\"edf edf-222\"></span> </span> <span class=\"label\"> EDİSYON: TÜRKİYE </span> </a> </li> <li> <a href=\"https://es.motor1.com\"> <span class=\"flags\"> <span class=\"edf edf-132\"></span> </span> <span class=\"label\"> Edición: España </span> </a> </li> <li> <a href=\"https://hu.motor1.com\"> <span class=\"flags\"> <span class=\"edf edf-97\"></span> </span> <span class=\"label\"> Edition: Magyarország </span> </a> </li> <li> <a href=\"https://ar.motor1.com\"> <span class=\"flags\"> <span class=\"edf edf-10\"></span> </span> <span class=\"label\"> Edition: Argentina </span> </a> </li> <li> <a href=\"https://id.motor1.com\"> <span class=\"flags\"> <span class=\"edf edf-101\"></span> </span> <span class=\"label\"> Edition: Indonesia </span> </a> </li> <li> </li> </ul> </div> </div> <div class=\"m1-drawer-overlay\"></div> </div> <m1-check-availability-response-dialog edition=\"us\" oem-url=\"/buy/new/lead/\" user-data='{\"email\":\"\",\"zip\":\"8000\",\"phone\":\"\",\"firstName\":\"\",\"lastName\":\"\"}' vin-url=\"/buy/used/lead/\"></m1-check-availability-response-dialog> <div id=\"share_box_content_wrapper\"> <div class=\"big-shareBox shareBox share-box-dropdown to-down\" slot=\"share-box\"><div class=\"share-box-wrapper\"><span aria-label=\"expand share list\" class=\"shareBox-separator\" data-button=\"\" data-id=\"toggleBox\" data-static=\"\" data-value=\"share-list-1680697292\" onclick=\"\" role=\"button\" tabindex=\"0\"> <span class=\"active\"><span class=\"icon-plus\">+</span></span><span class=\"passive\"><span class=\"icon-plus\">+</span></span></span><a aria-label=\"share\" class=\"share-button share-button-gallery\" href=\"https://www.motor1.com/features/308149/most-expensive-new-cars-ever/\" rel=\"nofollow noopener\"> <span class=\"share-empty\"> <svg class=\"social-share-icon\"> <use xlink:href=\"/design/dist/critical/icons/sprite-common-0-35714019ce57963bbb7d4bc1ede791ca.svg#share-empty\"></use> </svg> </span> </a><div class=\"share-list\" data-button-target=\"share-list-1680697292\"><ul><li class=\"facebook\"><a aria-label=\"Facebook share\" data-button=\"\" data-extra-params=\"id:'308149',type_id:'1'\" data-height=\"600\" data-id=\"share\" data-name=\"network_id\" data-share-network=\"Facebook\" data-share-url=\"https://www.motor1.com/features/308149/most-expensive-new-cars-ever/\" data-url=\"/connect/share/\" data-value=\"1\" data-width=\"600\" href=\"https://www.facebook.com/sharer/sharer.php?u=https%3A%2F%2Fwww.motor1.com%2Ffeatures%2F308149%2Fmost-expensive-new-cars-ever%2F\" rel=\"nofollow noopener\" target=\"_blank\"> <span class=\"social-bg facebook\"> <svg class=\"social-share-icon\"> <use xlink:href=\"/design/dist/critical/icons/sprite-common-2-376d1d9f2575fd036f5b6d263acfad1d.svg#facebook\"></use> </svg> </span> <span class=\"name\">Share on Facebook </span></a></li><li class=\"twitter\"><a aria-label=\"Twitter share\" data-button=\"\" data-extra-params=\"id:'308149',type_id:'1'\" data-height=\"450\" data-id=\"share\" data-name=\"network_id\" data-share-network=\"Twitter\" data-share-url=\"https://www.motor1.com/features/308149/most-expensive-new-cars-ever/\" data-url=\"/connect/share/\" data-value=\"2\" data-width=\"600\" href=\"https://twitter.com/intent/tweet?url=https%3A%2F%2Fwww.motor1.com%2Ffeatures%2F308149%2Fmost-expensive-new-cars-ever%2F&amp;text=50+Most+Expensive+Cars+In+The+World&amp;via=motor1com\" rel=\"nofollow noopener\" target=\"_blank\"> <span class=\"social-bg twitter\"> <svg class=\"social-share-icon\"> <use xlink:href=\"/design/dist/critical/icons/sprite-common-2-376d1d9f2575fd036f5b6d263acfad1d.svg#twitter\"></use> </svg> </span> <span class=\"name\">Share on Twitter </span></a></li><li class=\"linkedin\"><a aria-label=\"LinkedIn share\" data-button=\"\" data-extra-params=\"id:'308149',type_id:'1'\" data-height=\"600\" data-id=\"share\" data-name=\"network_id\" data-share-network=\"LinkedIn\" data-share-url=\"https://www.motor1.com/features/308149/most-expensive-new-cars-ever/\" data-url=\"/connect/share/\" data-value=\"3\" data-width=\"600\" href=\"https://www.linkedin.com/cws/share?url=https%3A%2F%2Fwww.motor1.com%2Ffeatures%2F308149%2Fmost-expensive-new-cars-ever%2F\" rel=\"nofollow noopener\" target=\"_blank\"> <span class=\"social-bg linkedin\"> <svg class=\"social-share-icon\"> <use xlink:href=\"/design/dist/critical/icons/sprite-common-2-376d1d9f2575fd036f5b6d263acfad1d.svg#linkedin\"></use> </svg> </span> <span class=\"name\">Share on LinkedIn </span></a></li><li class=\"flipboard\"><a aria-label=\"Flipboard share\" data-button=\"\" data-extra-params=\"id:'308149',type_id:'1'\" data-height=\"600\" data-id=\"share\" data-name=\"network_id\" data-share-network=\"Flipboard\" data-share-url=\"https://www.motor1.com/features/308149/most-expensive-new-cars-ever/\" data-url=\"/connect/share/\" data-value=\"7\" data-width=\"600\" href=\"https://share.flipboard.com/bookmarklet/popout?url=https%3A%2F%2Fwww.motor1.com%2Ffeatures%2F308149%2Fmost-expensive-new-cars-ever%2F&amp;title=50+Most+Expensive+Cars+In+The+World&amp;v=2\" rel=\"nofollow noopener\" target=\"_blank\"> <span class=\"social-bg flipboard\"> <svg class=\"social-share-icon\"> <use xlink:href=\"/design/dist/critical/icons/sprite-common-2-376d1d9f2575fd036f5b6d263acfad1d.svg#flipboard\"></use> </svg> </span> <span class=\"name\">Share on Flipboard </span></a></li><li class=\"pinterest\"><a aria-label=\"Pinterest share\" data-button=\"\" data-extra-params=\"id:'308149',type_id:'1'\" data-height=\"550\" data-id=\"share\" data-name=\"network_id\" data-share-network=\"Pinterest\" data-share-url=\"https://www.motor1.com/features/308149/most-expensive-new-cars-ever/\" data-url=\"/connect/share/\" data-value=\"4\" data-width=\"700\" href=\"https://www.pinterest.com/pin/create/button/?url=https%3A%2F%2Fwww.motor1.com%2Ffeatures%2F308149%2Fmost-expensive-new-cars-ever%2F&amp;media=https%3A%2F%2Fcdn.motor1.com%2Fimages%2Fmgl%2FmMxknA%2Fs3%2Fmost-expensive-cars-in-the-world.jpg\" rel=\"nofollow noopener\" target=\"_blank\"> <span class=\"social-bg pinterest\"> <svg class=\"social-share-icon\"> <use xlink:href=\"/design/dist/critical/icons/sprite-common-2-376d1d9f2575fd036f5b6d263acfad1d.svg#pinterest\"></use> </svg> </span> <span class=\"name\">Pin It </span></a></li><li class=\"reddit\"><a aria-label=\"Reddit share\" data-button=\"\" data-extra-params=\"id:'308149',type_id:'1'\" data-height=\"600\" data-id=\"share\" data-name=\"network_id\" data-share-network=\"Reddit\" data-share-url=\"https://www.motor1.com/features/308149/most-expensive-new-cars-ever/\" data-url=\"/connect/share/\" data-value=\"6\" data-width=\"900\" href=\"https://www.reddit.com/submit?url=https%3A%2F%2Fwww.motor1.com%2Ffeatures%2F308149%2Fmost-expensive-new-cars-ever%2F\" rel=\"nofollow noopener\" target=\"_blank\"> <span class=\"social-bg reddit\"> <svg class=\"social-share-icon\"> <use xlink:href=\"/design/dist/critical/icons/sprite-common-2-376d1d9f2575fd036f5b6d263acfad1d.svg#reddit\"></use> </svg> </span> <span class=\"name\">Share on Reddit </span></a></li><li class=\"whatsapp\"><a aria-label=\"WhatsApp share\" data-button=\"\" data-extra-params=\"id:'308149',type_id:'1'\" data-height=\"600\" data-id=\"share\" data-name=\"network_id\" data-share-network=\"WhatsApp\" data-share-url=\"https://www.motor1.com/features/308149/most-expensive-new-cars-ever/\" data-url=\"/connect/share/\" data-value=\"6\" data-width=\"600\" href=\"https://api.whatsapp.com/send?text=https%3A%2F%2Fwww.motor1.com%2Ffeatures%2F308149%2Fmost-expensive-new-cars-ever%2F\" rel=\"nofollow noopener\" target=\"_blank\"> <span class=\"social-bg whatsapp\"> <svg class=\"social-share-icon\"> <use xlink:href=\"/design/dist/critical/icons/sprite-common-2-376d1d9f2575fd036f5b6d263acfad1d.svg#whatsapp\"></use> </svg> </span> <span class=\"name\">Share on WhatsApp </span></a></li><li class=\"mailto\"><a data-button=\"\" data-extra-params=\"id:'308149',type_id:'1'\" data-height=\"400\" data-id=\"mailTo\" data-share-url=\"https://www.motor1.com/features/308149/most-expensive-new-cars-ever/\" data-width=\"600\" href=\"mailto:?body=Hey%2C%20I%20thought%20you%E2%80%99d%20like%20to%20see%20this%20article%20on%20Motor1.com.%20Enjoy%21%0A%0A50%20Most%20Expensive%20Cars%20In%20The%20World%0A%0Ahttps%3A%2F%2Fwww.motor1.com%2Ffeatures%2F308149%2Fmost-expensive-new-cars-ever%2F&amp;subject=50%20Most%20Expensive%20Cars%20In%20The%20World\" rel=\"nofollow noopener\" target=\"_blank\"> <span class=\"social-bg mailto\"> <svg class=\"social-share-icon\"> <use xlink:href=\"/design/dist/critical/icons/sprite-common-2-376d1d9f2575fd036f5b6d263acfad1d.svg#mailto\"></use> </svg> </span> <span class=\"name\">Send to email </span></a></li></ul></div></div></div> </div> <!--<div class=\"adminInfoBoxx\"></div>--> <div class=\"m1-footer-messages\"></div> <script> window.gadsId = false; </script> <script> // var m1FooterMessages = []; // m1FooterMessages.push({ // message: \"\", // name: \"cookie_accept\" // }); </script> <script> var m1FooterMessages = []; </script> <script defer=\"\" src=\"https://cdn.motor1.com/kp/static4ui/prod_v2_eks_new_58/design/build/jslangs/en_US_b07cb25e6e8f792c04f934f477487fa7.js\" type=\"text/javascript\"></script> <script defer=\"\" src=\"https://cdn.motor1.com/kp/static4ui/prod_v2_eks_new_58/design/dist/js/1_3ade9263ab8426dc27b1.js\" type=\"text/javascript\"></script><script defer=\"\" src=\"https://cdn.motor1.com/kp/static4ui/prod_v2_eks_new_58/design/dist/js/7_3ade9263ab8426dc27b1.js\" type=\"text/javascript\"></script><script defer=\"\" src=\"https://cdn.motor1.com/kp/static4ui/prod_v2_eks_new_58/design/dist/js/0_3ade9263ab8426dc27b1.js\" type=\"text/javascript\"></script><script defer=\"\" src=\"https://cdn.motor1.com/kp/static4ui/prod_v2_eks_new_58/design/dist/js/2_3ade9263ab8426dc27b1.js\" type=\"text/javascript\"></script><script defer=\"\" src=\"https://cdn.motor1.com/kp/static4ui/prod_v2_eks_new_58/design/dist/js/3_3ade9263ab8426dc27b1.js\" type=\"text/javascript\"></script><script defer=\"\" src=\"https://cdn.motor1.com/kp/static4ui/prod_v2_eks_new_58/design/dist/js/4_3ade9263ab8426dc27b1.js\" type=\"text/javascript\"></script><script defer=\"\" src=\"https://cdn.motor1.com/kp/static4ui/prod_v2_eks_new_58/design/dist/js/6_3ade9263ab8426dc27b1.js\" type=\"text/javascript\"></script><script defer=\"\" src=\"https://cdn.motor1.com/kp/static4ui/prod_v2_eks_new_58/design/dist/js/16_3ade9263ab8426dc27b1.js\" type=\"text/javascript\"></script> <script> gtmDataLayer = [{ 'domain': 'motor1.com', 'currentEdition': 'us', 'currentEnv': 'production', 'pageType': 'detail', 'entityType': 'article', 'make': 'Aston Martin', 'model': 'Valkyrie', 'pageId': 'index_articles_detail', 'entityAuthors': [\"Jeff Perez\"], 'pageUrl': 'https://www.motor1.com/features/308149/most-expensive-new-cars-ever/', 'pageUrlCanonical': 'https://www.motor1.com/features/308149/most-expensive-new-cars-ever/', 'pageLanguage': 'en_US', 'entityCategories': [\"Lists\"], 'articleType': 'features', 'entityTitle': '50 Most Expensive Cars In The World', 'pageTitle': 'Most Expensive Cars In The World (2023 Update) | Motor1.com', 'projectNameShort': 'm1', 'articleId': '308149', 'bodyStyles': [\"Coupe\",\"Coupe\",\"Coupe\",\"Coupe\",\"Convertible\",\"Coupe\",\"Coupe\",\"Coupe\",\"Coupe\",null], 'sessionId': 'e684e226a78bb317bb954e0d388792ea', 'msntClientId': '81', 'isAdsEnabled': '1', 'isUserFromUS': '0', 'isVideoWidgetDisabled': '0' }]; </script> <!-- Google Tag Manager --> <script type=\"module\">(function(w,d,s,l){w[l]=w[l]||[];w[l].push({'gtm.start': new Date().getTime(),event:'gtm.js'});var f=d.getElementsByTagName(s)[0], j=d.createElement(s);j.async=true;j.src= 'https://m1tm.motor1.com/mstm.js?id=GTM-WF9DGGT&l=gtmDataLayer';f.parentNode.insertBefore(j,f); })(window,document,'script','gtmDataLayer');</script> </body> </html> "
      ]
     },
     "execution_count": 413,
     "metadata": {},
     "output_type": "execute_result"
    }
   ],
   "source": [
    "soup = BeautifulSoup(data.content)\n",
    "soup"
   ]
  },
  {
   "cell_type": "code",
   "execution_count": 421,
   "id": "90284cdc",
   "metadata": {},
   "outputs": [
    {
     "data": {
      "text/plain": [
       "[<strong>Price: $1.3 Million</strong>,\n",
       " <strong>Price: $1.4 Million</strong>,\n",
       " <strong>Price: $1.4 Million</strong>,\n",
       " <strong><br/></strong>,\n",
       " <strong>Price: $1.7 Million</strong>,\n",
       " <strong>Price: $1.7 Million</strong>,\n",
       " <strong>Price: $1.7 Million</strong>,\n",
       " <strong>Price: $1.7 Million</strong>,\n",
       " <strong>Price: $1.7 Million</strong>,\n",
       " <strong>Price: $1.7 Million</strong>,\n",
       " <strong>Price: $1.8 Million</strong>,\n",
       " <strong>Price: $1.9 Million</strong>,\n",
       " <strong>Price: $1.9 Million</strong>,\n",
       " <strong>Price: $2.0 Million</strong>,\n",
       " <strong>Price: $2.0 Million</strong>,\n",
       " <strong>Price: $2.0 Million*</strong>,\n",
       " <strong>Price: $2.1 Million</strong>,\n",
       " <strong>Price: $2.3 Million</strong>,\n",
       " <strong>Price: $2.3 Million</strong>,\n",
       " <strong>Price: $2.3 Million</strong>,\n",
       " <strong>Price: $2.4 Million</strong>,\n",
       " <strong>Price: $2.5 Million</strong>,\n",
       " <strong>Price: $2.5 Million</strong>,\n",
       " <strong>Price: $2.6 Million</strong>,\n",
       " <strong>Price: $2.6 Million</strong>,\n",
       " <strong>Price: $2.6 Million</strong>,\n",
       " <strong>Price: $2.7 Million</strong>,\n",
       " <strong>Price: $3.0 Million</strong>,\n",
       " <strong>$3.0 Million</strong>,\n",
       " <strong>Price: $3.0 Million</strong>,\n",
       " <strong>Price: $3.2 Million</strong>,\n",
       " <strong>Price: $3.4 Million</strong>,\n",
       " <strong>$3.5 Million</strong>,\n",
       " <strong>Price: $3.5 Million</strong>,\n",
       " <strong>Price: $3.6 Million</strong>,\n",
       " <strong>Price: $3.6 million</strong>,\n",
       " <strong>Price: $3.7 Million</strong>,\n",
       " <strong>Price: $3.9 Million</strong>,\n",
       " <strong>Price: $4.5 Million</strong>,\n",
       " <strong>Price: $4.7 Million</strong>,\n",
       " <strong>Price: $5.0 Million</strong>,\n",
       " <strong>Price: $5.4 Million</strong>,\n",
       " <strong>Price: $5.8 Million</strong>,\n",
       " <strong>Price: $6.4 Million</strong>,\n",
       " <strong>Price: $7.4 Million</strong>,\n",
       " <strong>Price: $8.0 Million</strong>,\n",
       " <strong>Price: $9.0 Million</strong>,\n",
       " <strong>Price: $10.8 Million</strong>,\n",
       " <strong>Price: $12.8 Million</strong>,\n",
       " <strong>Price: $13.4 Million</strong>,\n",
       " <strong>Price: $28.0 Million (est.)</strong>]"
      ]
     },
     "execution_count": 421,
     "metadata": {},
     "output_type": "execute_result"
    }
   ],
   "source": [
    "ft_first = soup.find_all(\"strong\")\n",
    "ft_first"
   ]
  },
  {
   "cell_type": "code",
   "execution_count": 444,
   "id": "b16d1fbc",
   "metadata": {},
   "outputs": [
    {
     "data": {
      "text/plain": [
       "['Price: $1.3 Million',\n",
       " 'Price: $1.4 Million',\n",
       " 'Price: $1.4 Million',\n",
       " '',\n",
       " 'Price: $1.7 Million',\n",
       " 'Price: $1.7 Million',\n",
       " 'Price: $1.7 Million',\n",
       " 'Price: $1.7 Million',\n",
       " 'Price: $1.7 Million',\n",
       " 'Price: $1.7 Million',\n",
       " 'Price: $1.8 Million',\n",
       " 'Price: $1.9 Million',\n",
       " 'Price: $1.9 Million',\n",
       " 'Price: $2.0 Million',\n",
       " 'Price: $2.0 Million',\n",
       " 'Price: $2.0 Million*',\n",
       " 'Price: $2.1 Million',\n",
       " 'Price: $2.3 Million',\n",
       " 'Price: $2.3 Million',\n",
       " 'Price: $2.3 Million',\n",
       " 'Price: $2.4 Million',\n",
       " 'Price: $2.5 Million',\n",
       " 'Price: $2.5 Million',\n",
       " 'Price: $2.6 Million',\n",
       " 'Price: $2.6 Million',\n",
       " 'Price: $2.6 Million',\n",
       " 'Price: $2.7 Million',\n",
       " 'Price: $3.0 Million',\n",
       " '$3.0 Million',\n",
       " 'Price: $3.0 Million',\n",
       " 'Price: $3.2 Million',\n",
       " 'Price: $3.4 Million',\n",
       " '$3.5 Million',\n",
       " 'Price: $3.5 Million',\n",
       " 'Price: $3.6 Million',\n",
       " 'Price: $3.6 million',\n",
       " 'Price: $3.7 Million',\n",
       " 'Price: $3.9 Million',\n",
       " 'Price: $4.5 Million',\n",
       " 'Price: $4.7 Million',\n",
       " 'Price: $5.0 Million',\n",
       " 'Price: $5.4 Million',\n",
       " 'Price: $5.8 Million',\n",
       " 'Price: $6.4 Million',\n",
       " 'Price: $7.4 Million',\n",
       " 'Price: $8.0 Million',\n",
       " 'Price: $9.0 Million',\n",
       " 'Price: $10.8 Million',\n",
       " 'Price: $12.8 Million',\n",
       " 'Price: $13.4 Million',\n",
       " 'Price: $28.0 Million (est.)']"
      ]
     },
     "execution_count": 444,
     "metadata": {},
     "output_type": "execute_result"
    }
   ],
   "source": [
    "Price_c= []\n",
    "for i in soup.find_all(\"strong\"):\n",
    "    Price_c.append(i.text)\n",
    "Price_c"
   ]
  },
  {
   "cell_type": "code",
   "execution_count": 440,
   "id": "7cd6adc5",
   "metadata": {},
   "outputs": [
    {
     "data": {
      "text/plain": [
       "['De Tomaso P72',\n",
       " 'Ferrari LaFerrari',\n",
       " 'Pagani Huayra',\n",
       " 'McLaren Elva',\n",
       " 'Czinger 21C',\n",
       " 'Ferrari Monza',\n",
       " 'Gordon Murray T.33',\n",
       " 'Koenigsegg Gemera',\n",
       " 'Zenvo TSR-S',\n",
       " 'Hennessey Venom F5',\n",
       " 'Bentley Bacalar',\n",
       " 'Hispano Suiza Carmen Boulogne',\n",
       " 'Bentley Mulliner Batur',\n",
       " 'Deus Vayanne',\n",
       " 'SSC Tuatara',\n",
       " 'Lotus Evija',\n",
       " 'Aston Martin Vulcan',\n",
       " 'Delage D12',\n",
       " 'McLaren Speedtail',\n",
       " 'Rimac Nevera',\n",
       " 'Pagani Utopia',\n",
       " 'Pininfarina Battista',\n",
       " 'Ferrari FXX K Evo',\n",
       " 'Gordon Murray T.50',\n",
       " 'Lamborghini Countach',\n",
       " 'Mercedes-AMG Project One',\n",
       " 'Aston Martin Victor',\n",
       " 'Hennessey Venom F5 Roadster',\n",
       " 'Koenigsegg Jesko',\n",
       " 'Aston Martin Valkyrie',\n",
       " 'W Motors Lykan Hypersport',\n",
       " 'McLaren Solus',\n",
       " 'Pagani Huayra Roadster BC',\n",
       " 'Bugatti Chiron Pur Sport',\n",
       " 'Lamborghini Sian',\n",
       " 'Koenigsegg CC850',\n",
       " 'Bugatti Chiron Super Sport 300+',\n",
       " 'Lamborghini Veneno',\n",
       " 'Bugatti Bolide',\n",
       " 'Bugatti Mistral',\n",
       " 'Pagani Huayra Imola',\n",
       " 'Bugatti Divo',\n",
       " 'SP Automotive Chaos',\n",
       " 'Pagani Codalunga',\n",
       " 'Mercedes-Maybach Exelero',\n",
       " 'Bugatti Centodieci',\n",
       " 'Bugatti Chiron Profilée',\n",
       " 'Rolls-Royce Sweptail',\n",
       " 'Bugatti La Voiture Noire',\n",
       " 'Rolls-Royce Boat Tail*',\n",
       " 'Most Expensive Cars In The World']"
      ]
     },
     "execution_count": 440,
     "metadata": {},
     "output_type": "execute_result"
    }
   ],
   "source": [
    "Car_Name= []\n",
    "for i in soup.find_all(\"h3\",class_= \"subheader\"):\n",
    "    Car_Name.append(i.text)\n",
    "Car_Name"
   ]
  },
  {
   "cell_type": "code",
   "execution_count": null,
   "id": "b2dec5dd",
   "metadata": {},
   "outputs": [],
   "source": []
  },
  {
   "cell_type": "code",
   "execution_count": 445,
   "id": "2c80dbc4",
   "metadata": {},
   "outputs": [
    {
     "data": {
      "text/plain": [
       "51"
      ]
     },
     "execution_count": 445,
     "metadata": {},
     "output_type": "execute_result"
    }
   ],
   "source": [
    "len(Price_c)"
   ]
  },
  {
   "cell_type": "code",
   "execution_count": 443,
   "id": "67273937",
   "metadata": {},
   "outputs": [
    {
     "data": {
      "text/plain": [
       "51"
      ]
     },
     "execution_count": 443,
     "metadata": {},
     "output_type": "execute_result"
    }
   ],
   "source": [
    "len(Car_Name)"
   ]
  },
  {
   "cell_type": "code",
   "execution_count": 446,
   "id": "0e0f4c91",
   "metadata": {},
   "outputs": [],
   "source": [
    "df = pd.DataFrame({\"Price_c\":Price_c,\"Car_Name\":Car_Name})"
   ]
  },
  {
   "cell_type": "code",
   "execution_count": 447,
   "id": "56f9d4b8",
   "metadata": {},
   "outputs": [
    {
     "data": {
      "text/html": [
       "<div>\n",
       "<style scoped>\n",
       "    .dataframe tbody tr th:only-of-type {\n",
       "        vertical-align: middle;\n",
       "    }\n",
       "\n",
       "    .dataframe tbody tr th {\n",
       "        vertical-align: top;\n",
       "    }\n",
       "\n",
       "    .dataframe thead th {\n",
       "        text-align: right;\n",
       "    }\n",
       "</style>\n",
       "<table border=\"1\" class=\"dataframe\">\n",
       "  <thead>\n",
       "    <tr style=\"text-align: right;\">\n",
       "      <th></th>\n",
       "      <th>Price_c</th>\n",
       "      <th>Car_Name</th>\n",
       "    </tr>\n",
       "  </thead>\n",
       "  <tbody>\n",
       "    <tr>\n",
       "      <th>0</th>\n",
       "      <td>Price: $1.3 Million</td>\n",
       "      <td>De Tomaso P72</td>\n",
       "    </tr>\n",
       "    <tr>\n",
       "      <th>1</th>\n",
       "      <td>Price: $1.4 Million</td>\n",
       "      <td>Ferrari LaFerrari</td>\n",
       "    </tr>\n",
       "    <tr>\n",
       "      <th>2</th>\n",
       "      <td>Price: $1.4 Million</td>\n",
       "      <td>Pagani Huayra</td>\n",
       "    </tr>\n",
       "    <tr>\n",
       "      <th>3</th>\n",
       "      <td></td>\n",
       "      <td>McLaren Elva</td>\n",
       "    </tr>\n",
       "    <tr>\n",
       "      <th>4</th>\n",
       "      <td>Price: $1.7 Million</td>\n",
       "      <td>Czinger 21C</td>\n",
       "    </tr>\n",
       "    <tr>\n",
       "      <th>5</th>\n",
       "      <td>Price: $1.7 Million</td>\n",
       "      <td>Ferrari Monza</td>\n",
       "    </tr>\n",
       "    <tr>\n",
       "      <th>6</th>\n",
       "      <td>Price: $1.7 Million</td>\n",
       "      <td>Gordon Murray T.33</td>\n",
       "    </tr>\n",
       "    <tr>\n",
       "      <th>7</th>\n",
       "      <td>Price: $1.7 Million</td>\n",
       "      <td>Koenigsegg Gemera</td>\n",
       "    </tr>\n",
       "    <tr>\n",
       "      <th>8</th>\n",
       "      <td>Price: $1.7 Million</td>\n",
       "      <td>Zenvo TSR-S</td>\n",
       "    </tr>\n",
       "    <tr>\n",
       "      <th>9</th>\n",
       "      <td>Price: $1.7 Million</td>\n",
       "      <td>Hennessey Venom F5</td>\n",
       "    </tr>\n",
       "    <tr>\n",
       "      <th>10</th>\n",
       "      <td>Price: $1.8 Million</td>\n",
       "      <td>Bentley Bacalar</td>\n",
       "    </tr>\n",
       "    <tr>\n",
       "      <th>11</th>\n",
       "      <td>Price: $1.9 Million</td>\n",
       "      <td>Hispano Suiza Carmen Boulogne</td>\n",
       "    </tr>\n",
       "    <tr>\n",
       "      <th>12</th>\n",
       "      <td>Price: $1.9 Million</td>\n",
       "      <td>Bentley Mulliner Batur</td>\n",
       "    </tr>\n",
       "    <tr>\n",
       "      <th>13</th>\n",
       "      <td>Price: $2.0 Million</td>\n",
       "      <td>Deus Vayanne</td>\n",
       "    </tr>\n",
       "    <tr>\n",
       "      <th>14</th>\n",
       "      <td>Price: $2.0 Million</td>\n",
       "      <td>SSC Tuatara</td>\n",
       "    </tr>\n",
       "    <tr>\n",
       "      <th>15</th>\n",
       "      <td>Price: $2.0 Million*</td>\n",
       "      <td>Lotus Evija</td>\n",
       "    </tr>\n",
       "    <tr>\n",
       "      <th>16</th>\n",
       "      <td>Price: $2.1 Million</td>\n",
       "      <td>Aston Martin Vulcan</td>\n",
       "    </tr>\n",
       "    <tr>\n",
       "      <th>17</th>\n",
       "      <td>Price: $2.3 Million</td>\n",
       "      <td>Delage D12</td>\n",
       "    </tr>\n",
       "    <tr>\n",
       "      <th>18</th>\n",
       "      <td>Price: $2.3 Million</td>\n",
       "      <td>McLaren Speedtail</td>\n",
       "    </tr>\n",
       "    <tr>\n",
       "      <th>19</th>\n",
       "      <td>Price: $2.3 Million</td>\n",
       "      <td>Rimac Nevera</td>\n",
       "    </tr>\n",
       "    <tr>\n",
       "      <th>20</th>\n",
       "      <td>Price: $2.4 Million</td>\n",
       "      <td>Pagani Utopia</td>\n",
       "    </tr>\n",
       "    <tr>\n",
       "      <th>21</th>\n",
       "      <td>Price: $2.5 Million</td>\n",
       "      <td>Pininfarina Battista</td>\n",
       "    </tr>\n",
       "    <tr>\n",
       "      <th>22</th>\n",
       "      <td>Price: $2.5 Million</td>\n",
       "      <td>Ferrari FXX K Evo</td>\n",
       "    </tr>\n",
       "    <tr>\n",
       "      <th>23</th>\n",
       "      <td>Price: $2.6 Million</td>\n",
       "      <td>Gordon Murray T.50</td>\n",
       "    </tr>\n",
       "    <tr>\n",
       "      <th>24</th>\n",
       "      <td>Price: $2.6 Million</td>\n",
       "      <td>Lamborghini Countach</td>\n",
       "    </tr>\n",
       "    <tr>\n",
       "      <th>25</th>\n",
       "      <td>Price: $2.6 Million</td>\n",
       "      <td>Mercedes-AMG Project One</td>\n",
       "    </tr>\n",
       "    <tr>\n",
       "      <th>26</th>\n",
       "      <td>Price: $2.7 Million</td>\n",
       "      <td>Aston Martin Victor</td>\n",
       "    </tr>\n",
       "    <tr>\n",
       "      <th>27</th>\n",
       "      <td>Price: $3.0 Million</td>\n",
       "      <td>Hennessey Venom F5 Roadster</td>\n",
       "    </tr>\n",
       "    <tr>\n",
       "      <th>28</th>\n",
       "      <td>$3.0 Million</td>\n",
       "      <td>Koenigsegg Jesko</td>\n",
       "    </tr>\n",
       "    <tr>\n",
       "      <th>29</th>\n",
       "      <td>Price: $3.0 Million</td>\n",
       "      <td>Aston Martin Valkyrie</td>\n",
       "    </tr>\n",
       "    <tr>\n",
       "      <th>30</th>\n",
       "      <td>Price: $3.2 Million</td>\n",
       "      <td>W Motors Lykan Hypersport</td>\n",
       "    </tr>\n",
       "    <tr>\n",
       "      <th>31</th>\n",
       "      <td>Price: $3.4 Million</td>\n",
       "      <td>McLaren Solus</td>\n",
       "    </tr>\n",
       "    <tr>\n",
       "      <th>32</th>\n",
       "      <td>$3.5 Million</td>\n",
       "      <td>Pagani Huayra Roadster BC</td>\n",
       "    </tr>\n",
       "    <tr>\n",
       "      <th>33</th>\n",
       "      <td>Price: $3.5 Million</td>\n",
       "      <td>Bugatti Chiron Pur Sport</td>\n",
       "    </tr>\n",
       "    <tr>\n",
       "      <th>34</th>\n",
       "      <td>Price: $3.6 Million</td>\n",
       "      <td>Lamborghini Sian</td>\n",
       "    </tr>\n",
       "    <tr>\n",
       "      <th>35</th>\n",
       "      <td>Price: $3.6 million</td>\n",
       "      <td>Koenigsegg CC850</td>\n",
       "    </tr>\n",
       "    <tr>\n",
       "      <th>36</th>\n",
       "      <td>Price: $3.7 Million</td>\n",
       "      <td>Bugatti Chiron Super Sport 300+</td>\n",
       "    </tr>\n",
       "    <tr>\n",
       "      <th>37</th>\n",
       "      <td>Price: $3.9 Million</td>\n",
       "      <td>Lamborghini Veneno</td>\n",
       "    </tr>\n",
       "    <tr>\n",
       "      <th>38</th>\n",
       "      <td>Price: $4.5 Million</td>\n",
       "      <td>Bugatti Bolide</td>\n",
       "    </tr>\n",
       "    <tr>\n",
       "      <th>39</th>\n",
       "      <td>Price: $4.7 Million</td>\n",
       "      <td>Bugatti Mistral</td>\n",
       "    </tr>\n",
       "    <tr>\n",
       "      <th>40</th>\n",
       "      <td>Price: $5.0 Million</td>\n",
       "      <td>Pagani Huayra Imola</td>\n",
       "    </tr>\n",
       "    <tr>\n",
       "      <th>41</th>\n",
       "      <td>Price: $5.4 Million</td>\n",
       "      <td>Bugatti Divo</td>\n",
       "    </tr>\n",
       "    <tr>\n",
       "      <th>42</th>\n",
       "      <td>Price: $5.8 Million</td>\n",
       "      <td>SP Automotive Chaos</td>\n",
       "    </tr>\n",
       "    <tr>\n",
       "      <th>43</th>\n",
       "      <td>Price: $6.4 Million</td>\n",
       "      <td>Pagani Codalunga</td>\n",
       "    </tr>\n",
       "    <tr>\n",
       "      <th>44</th>\n",
       "      <td>Price: $7.4 Million</td>\n",
       "      <td>Mercedes-Maybach Exelero</td>\n",
       "    </tr>\n",
       "    <tr>\n",
       "      <th>45</th>\n",
       "      <td>Price: $8.0 Million</td>\n",
       "      <td>Bugatti Centodieci</td>\n",
       "    </tr>\n",
       "    <tr>\n",
       "      <th>46</th>\n",
       "      <td>Price: $9.0 Million</td>\n",
       "      <td>Bugatti Chiron Profilée</td>\n",
       "    </tr>\n",
       "    <tr>\n",
       "      <th>47</th>\n",
       "      <td>Price: $10.8 Million</td>\n",
       "      <td>Rolls-Royce Sweptail</td>\n",
       "    </tr>\n",
       "    <tr>\n",
       "      <th>48</th>\n",
       "      <td>Price: $12.8 Million</td>\n",
       "      <td>Bugatti La Voiture Noire</td>\n",
       "    </tr>\n",
       "    <tr>\n",
       "      <th>49</th>\n",
       "      <td>Price: $13.4 Million</td>\n",
       "      <td>Rolls-Royce Boat Tail*</td>\n",
       "    </tr>\n",
       "    <tr>\n",
       "      <th>50</th>\n",
       "      <td>Price: $28.0 Million (est.)</td>\n",
       "      <td>Most Expensive Cars In The World</td>\n",
       "    </tr>\n",
       "  </tbody>\n",
       "</table>\n",
       "</div>"
      ],
      "text/plain": [
       "                        Price_c                          Car_Name\n",
       "0           Price: $1.3 Million                     De Tomaso P72\n",
       "1           Price: $1.4 Million                 Ferrari LaFerrari\n",
       "2           Price: $1.4 Million                     Pagani Huayra\n",
       "3                                                    McLaren Elva\n",
       "4           Price: $1.7 Million                       Czinger 21C\n",
       "5           Price: $1.7 Million                     Ferrari Monza\n",
       "6           Price: $1.7 Million                Gordon Murray T.33\n",
       "7           Price: $1.7 Million                 Koenigsegg Gemera\n",
       "8           Price: $1.7 Million                       Zenvo TSR-S\n",
       "9           Price: $1.7 Million                Hennessey Venom F5\n",
       "10          Price: $1.8 Million                   Bentley Bacalar\n",
       "11          Price: $1.9 Million     Hispano Suiza Carmen Boulogne\n",
       "12          Price: $1.9 Million            Bentley Mulliner Batur\n",
       "13          Price: $2.0 Million                      Deus Vayanne\n",
       "14          Price: $2.0 Million                       SSC Tuatara\n",
       "15         Price: $2.0 Million*                       Lotus Evija\n",
       "16          Price: $2.1 Million               Aston Martin Vulcan\n",
       "17          Price: $2.3 Million                        Delage D12\n",
       "18          Price: $2.3 Million                 McLaren Speedtail\n",
       "19          Price: $2.3 Million                      Rimac Nevera\n",
       "20          Price: $2.4 Million                     Pagani Utopia\n",
       "21          Price: $2.5 Million              Pininfarina Battista\n",
       "22          Price: $2.5 Million                 Ferrari FXX K Evo\n",
       "23          Price: $2.6 Million                Gordon Murray T.50\n",
       "24          Price: $2.6 Million              Lamborghini Countach\n",
       "25          Price: $2.6 Million          Mercedes-AMG Project One\n",
       "26          Price: $2.7 Million               Aston Martin Victor\n",
       "27          Price: $3.0 Million       Hennessey Venom F5 Roadster\n",
       "28                 $3.0 Million                  Koenigsegg Jesko\n",
       "29          Price: $3.0 Million             Aston Martin Valkyrie\n",
       "30          Price: $3.2 Million         W Motors Lykan Hypersport\n",
       "31          Price: $3.4 Million                     McLaren Solus\n",
       "32                 $3.5 Million         Pagani Huayra Roadster BC\n",
       "33          Price: $3.5 Million          Bugatti Chiron Pur Sport\n",
       "34          Price: $3.6 Million                  Lamborghini Sian\n",
       "35          Price: $3.6 million                  Koenigsegg CC850\n",
       "36          Price: $3.7 Million   Bugatti Chiron Super Sport 300+\n",
       "37          Price: $3.9 Million                Lamborghini Veneno\n",
       "38          Price: $4.5 Million                    Bugatti Bolide\n",
       "39          Price: $4.7 Million                   Bugatti Mistral\n",
       "40          Price: $5.0 Million               Pagani Huayra Imola\n",
       "41          Price: $5.4 Million                      Bugatti Divo\n",
       "42          Price: $5.8 Million               SP Automotive Chaos\n",
       "43          Price: $6.4 Million                  Pagani Codalunga\n",
       "44          Price: $7.4 Million          Mercedes-Maybach Exelero\n",
       "45          Price: $8.0 Million                Bugatti Centodieci\n",
       "46          Price: $9.0 Million           Bugatti Chiron Profilée\n",
       "47         Price: $10.8 Million              Rolls-Royce Sweptail\n",
       "48         Price: $12.8 Million          Bugatti La Voiture Noire\n",
       "49         Price: $13.4 Million            Rolls-Royce Boat Tail*\n",
       "50  Price: $28.0 Million (est.)  Most Expensive Cars In The World"
      ]
     },
     "execution_count": 447,
     "metadata": {},
     "output_type": "execute_result"
    }
   ],
   "source": [
    "df"
   ]
  },
  {
   "cell_type": "code",
   "execution_count": null,
   "id": "1cdac5f1",
   "metadata": {},
   "outputs": [],
   "source": []
  }
 ],
 "metadata": {
  "kernelspec": {
   "display_name": "Python 3 (ipykernel)",
   "language": "python",
   "name": "python3"
  },
  "language_info": {
   "codemirror_mode": {
    "name": "ipython",
    "version": 3
   },
   "file_extension": ".py",
   "mimetype": "text/x-python",
   "name": "python",
   "nbconvert_exporter": "python",
   "pygments_lexer": "ipython3",
   "version": "3.9.13"
  }
 },
 "nbformat": 4,
 "nbformat_minor": 5
}
